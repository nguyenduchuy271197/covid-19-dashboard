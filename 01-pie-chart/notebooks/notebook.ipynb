{
 "cells": [
  {
   "cell_type": "code",
   "execution_count": 9,
   "id": "0fbc6e97",
   "metadata": {},
   "outputs": [],
   "source": [
    "import pandas as pd\n",
    "import plotly.express as px "
   ]
  },
  {
   "cell_type": "code",
   "execution_count": 4,
   "id": "c3f4e852",
   "metadata": {},
   "outputs": [],
   "source": [
    "df = pd.read_csv('../data/Urban_Park_Ranger_Animal_Condition_Response.csv')"
   ]
  },
  {
   "cell_type": "code",
   "execution_count": 5,
   "id": "d237d3da",
   "metadata": {},
   "outputs": [
    {
     "data": {
      "text/html": [
       "<div>\n",
       "<style scoped>\n",
       "    .dataframe tbody tr th:only-of-type {\n",
       "        vertical-align: middle;\n",
       "    }\n",
       "\n",
       "    .dataframe tbody tr th {\n",
       "        vertical-align: top;\n",
       "    }\n",
       "\n",
       "    .dataframe thead th {\n",
       "        text-align: right;\n",
       "    }\n",
       "</style>\n",
       "<table border=\"1\" class=\"dataframe\">\n",
       "  <thead>\n",
       "    <tr style=\"text-align: right;\">\n",
       "      <th></th>\n",
       "      <th>Date and Time of initial call</th>\n",
       "      <th>Date and time of Ranger response</th>\n",
       "      <th>Borough</th>\n",
       "      <th>Property</th>\n",
       "      <th>Location</th>\n",
       "      <th>Species Description</th>\n",
       "      <th>Call Source</th>\n",
       "      <th>Species Status</th>\n",
       "      <th>Animal Condition</th>\n",
       "      <th>Duration of Response</th>\n",
       "      <th>...</th>\n",
       "      <th>311SR Number</th>\n",
       "      <th>Final Ranger Action</th>\n",
       "      <th># of Animals</th>\n",
       "      <th>PEP Response</th>\n",
       "      <th>Animal Monitored</th>\n",
       "      <th>Rehabilitator</th>\n",
       "      <th>Hours spent monitoring</th>\n",
       "      <th>Police Response</th>\n",
       "      <th>ESU Response</th>\n",
       "      <th>ACC Intake Number</th>\n",
       "    </tr>\n",
       "  </thead>\n",
       "  <tbody>\n",
       "    <tr>\n",
       "      <th>0</th>\n",
       "      <td>11/9/2018 9:00</td>\n",
       "      <td>11/9/2018 10:15</td>\n",
       "      <td>Brooklyn</td>\n",
       "      <td>Bushwick Inlet</td>\n",
       "      <td>Bushwick Inlet Park</td>\n",
       "      <td>Chinese Silky Chicken</td>\n",
       "      <td>Employee</td>\n",
       "      <td>Exotic</td>\n",
       "      <td>Healthy</td>\n",
       "      <td>1.25</td>\n",
       "      <td>...</td>\n",
       "      <td>1-1-1642034010</td>\n",
       "      <td>Animal Care Center</td>\n",
       "      <td>1.0</td>\n",
       "      <td>False</td>\n",
       "      <td>False</td>\n",
       "      <td>NaN</td>\n",
       "      <td>NaN</td>\n",
       "      <td>False</td>\n",
       "      <td>False</td>\n",
       "      <td>46854</td>\n",
       "    </tr>\n",
       "    <tr>\n",
       "      <th>1</th>\n",
       "      <td>11/30/2018 11:00</td>\n",
       "      <td>11/30/2018 13:45</td>\n",
       "      <td>Manhattan</td>\n",
       "      <td>Inwood Hill Park</td>\n",
       "      <td>M &amp; O HQ District 12</td>\n",
       "      <td>Chicken</td>\n",
       "      <td>Employee</td>\n",
       "      <td>Domestic</td>\n",
       "      <td>Healthy</td>\n",
       "      <td>1.00</td>\n",
       "      <td>...</td>\n",
       "      <td>1-1-1647471950</td>\n",
       "      <td>Animal Care Center</td>\n",
       "      <td>1.0</td>\n",
       "      <td>False</td>\n",
       "      <td>False</td>\n",
       "      <td>NaN</td>\n",
       "      <td>NaN</td>\n",
       "      <td>False</td>\n",
       "      <td>False</td>\n",
       "      <td>48438</td>\n",
       "    </tr>\n",
       "    <tr>\n",
       "      <th>2</th>\n",
       "      <td>11/10/2018 15:00</td>\n",
       "      <td>11/10/2018 15:10</td>\n",
       "      <td>Manhattan</td>\n",
       "      <td>Inwood Hill Park</td>\n",
       "      <td>Dykman Ball Fields</td>\n",
       "      <td>Chicken</td>\n",
       "      <td>Employee</td>\n",
       "      <td>Domestic</td>\n",
       "      <td>Healthy</td>\n",
       "      <td>1.50</td>\n",
       "      <td>...</td>\n",
       "      <td>1-1-1642034151</td>\n",
       "      <td>Animal Care Center</td>\n",
       "      <td>1.0</td>\n",
       "      <td>False</td>\n",
       "      <td>False</td>\n",
       "      <td>NaN</td>\n",
       "      <td>NaN</td>\n",
       "      <td>False</td>\n",
       "      <td>False</td>\n",
       "      <td>46961</td>\n",
       "    </tr>\n",
       "    <tr>\n",
       "      <th>3</th>\n",
       "      <td>9/4/2018 14:30</td>\n",
       "      <td>9/4/2018 15:50</td>\n",
       "      <td>Staten Island</td>\n",
       "      <td>Ocean Breeze Track &amp; Field Athletic Complex</td>\n",
       "      <td>Father Capodanno and Seaview</td>\n",
       "      <td>Rock Dove</td>\n",
       "      <td>Employee</td>\n",
       "      <td>Native</td>\n",
       "      <td>Healthy</td>\n",
       "      <td>2.50</td>\n",
       "      <td>...</td>\n",
       "      <td>1-1-1613258011</td>\n",
       "      <td>Animal Care Center</td>\n",
       "      <td>1.0</td>\n",
       "      <td>True</td>\n",
       "      <td>False</td>\n",
       "      <td>NaN</td>\n",
       "      <td>NaN</td>\n",
       "      <td>False</td>\n",
       "      <td>False</td>\n",
       "      <td>40608</td>\n",
       "    </tr>\n",
       "    <tr>\n",
       "      <th>4</th>\n",
       "      <td>6/9/2019 9:30</td>\n",
       "      <td>6/9/2019 10:00</td>\n",
       "      <td>Brooklyn</td>\n",
       "      <td>Parade Ground</td>\n",
       "      <td>Prospect Park Parade Grounds near Tennis Center</td>\n",
       "      <td>Chicken</td>\n",
       "      <td>Central</td>\n",
       "      <td>Domestic</td>\n",
       "      <td>Healthy</td>\n",
       "      <td>3.00</td>\n",
       "      <td>...</td>\n",
       "      <td>1-1-1730643971</td>\n",
       "      <td>Animal Care Center</td>\n",
       "      <td>1.0</td>\n",
       "      <td>False</td>\n",
       "      <td>False</td>\n",
       "      <td>NaN</td>\n",
       "      <td>NaN</td>\n",
       "      <td>False</td>\n",
       "      <td>False</td>\n",
       "      <td>65352</td>\n",
       "    </tr>\n",
       "  </tbody>\n",
       "</table>\n",
       "<p>5 rows × 22 columns</p>\n",
       "</div>"
      ],
      "text/plain": [
       "  Date and Time of initial call Date and time of Ranger response  \\\n",
       "0                11/9/2018 9:00                  11/9/2018 10:15   \n",
       "1              11/30/2018 11:00                 11/30/2018 13:45   \n",
       "2              11/10/2018 15:00                 11/10/2018 15:10   \n",
       "3                9/4/2018 14:30                   9/4/2018 15:50   \n",
       "4                 6/9/2019 9:30                   6/9/2019 10:00   \n",
       "\n",
       "         Borough                                     Property  \\\n",
       "0       Brooklyn                               Bushwick Inlet   \n",
       "1      Manhattan                             Inwood Hill Park   \n",
       "2      Manhattan                             Inwood Hill Park   \n",
       "3  Staten Island  Ocean Breeze Track & Field Athletic Complex   \n",
       "4       Brooklyn                                Parade Ground   \n",
       "\n",
       "                                          Location    Species Description  \\\n",
       "0                              Bushwick Inlet Park  Chinese Silky Chicken   \n",
       "1                             M & O HQ District 12                Chicken   \n",
       "2                               Dykman Ball Fields                Chicken   \n",
       "3                     Father Capodanno and Seaview              Rock Dove   \n",
       "4  Prospect Park Parade Grounds near Tennis Center                Chicken   \n",
       "\n",
       "  Call Source Species Status Animal Condition  Duration of Response  ...  \\\n",
       "0    Employee         Exotic          Healthy                  1.25  ...   \n",
       "1    Employee       Domestic          Healthy                  1.00  ...   \n",
       "2    Employee       Domestic          Healthy                  1.50  ...   \n",
       "3    Employee         Native          Healthy                  2.50  ...   \n",
       "4     Central       Domestic          Healthy                  3.00  ...   \n",
       "\n",
       "     311SR Number Final Ranger Action # of Animals PEP Response  \\\n",
       "0  1-1-1642034010  Animal Care Center          1.0        False   \n",
       "1  1-1-1647471950  Animal Care Center          1.0        False   \n",
       "2  1-1-1642034151  Animal Care Center          1.0        False   \n",
       "3  1-1-1613258011  Animal Care Center          1.0         True   \n",
       "4  1-1-1730643971  Animal Care Center          1.0        False   \n",
       "\n",
       "   Animal Monitored Rehabilitator  Hours spent monitoring Police Response  \\\n",
       "0             False           NaN                     NaN           False   \n",
       "1             False           NaN                     NaN           False   \n",
       "2             False           NaN                     NaN           False   \n",
       "3             False           NaN                     NaN           False   \n",
       "4             False           NaN                     NaN           False   \n",
       "\n",
       "   ESU Response ACC Intake Number  \n",
       "0         False             46854  \n",
       "1         False             48438  \n",
       "2         False             46961  \n",
       "3         False             40608  \n",
       "4         False             65352  \n",
       "\n",
       "[5 rows x 22 columns]"
      ]
     },
     "execution_count": 5,
     "metadata": {},
     "output_type": "execute_result"
    }
   ],
   "source": [
    "df.head()"
   ]
  },
  {
   "cell_type": "code",
   "execution_count": 8,
   "id": "16284245",
   "metadata": {},
   "outputs": [],
   "source": [
    "options = [\n",
    "    {'label': 'Action Taken by Ranger', 'value': 'Final Ranger Action'},\n",
    "    {'label': 'Age', 'value': 'Age'},\n",
    "    {'label': 'Animal Health', 'value': 'Animal Condition'},\n",
    "    {'label': 'Borough', 'value': 'Borough'},\n",
    "    {'label': 'Species', 'value': 'Animal Class'},\n",
    "    {'label': 'Species Status', 'value': 'Species Status'}\n",
    "]"
   ]
  },
  {
   "cell_type": "code",
   "execution_count": 14,
   "id": "976033cc",
   "metadata": {
    "scrolled": true
   },
   "outputs": [
    {
     "data": {
      "application/vnd.plotly.v1+json": {
       "config": {
        "plotlyServerURL": "https://plot.ly"
       },
       "data": [
        {
         "domain": {
          "x": [
           0,
           1
          ],
          "y": [
           0,
           1
          ]
         },
         "hovertemplate": "Final Ranger Action=%{label}<extra></extra>",
         "labels": [
          "Animal Care Center",
          "Animal Care Center",
          "Animal Care Center",
          "Animal Care Center",
          "Animal Care Center",
          "Animal Care Center",
          "Animal Care Center",
          "Animal Care Center",
          "Animal Care Center",
          "Animal Care Center",
          "Animal Care Center",
          "Animal Care Center",
          "Animal Care Center",
          "Animal Care Center",
          "Animal Care Center",
          "Animal Care Center",
          "Animal Care Center",
          "Animal Care Center",
          "Animal Care Center",
          "Animal Care Center",
          "Animal Care Center",
          "Animal Care Center",
          "Animal Care Center",
          "Animal Care Center",
          "Animal Care Center",
          "Animal Care Center",
          "Animal Care Center",
          "Animal Care Center",
          "Animal Care Center",
          "Animal Care Center",
          "Animal Care Center",
          "Animal Care Center",
          "Animal Care Center",
          "Animal Care Center",
          "Animal Care Center",
          "Animal Care Center",
          "Animal Care Center",
          "Animal Care Center",
          "Animal Care Center",
          "Animal Care Center",
          "Animal Care Center",
          "Animal Care Center",
          "Animal Care Center",
          "Animal Care Center",
          "Animal Care Center",
          "Animal Care Center",
          "Animal Care Center",
          "Animal Care Center",
          "Animal Care Center",
          "Animal Care Center",
          "Animal Care Center",
          "Animal Care Center",
          "Animal Care Center",
          "Animal Care Center",
          "Animal Care Center",
          "Animal Care Center",
          "Animal Care Center",
          "Animal Care Center",
          "Animal Care Center",
          "Animal Care Center",
          "Animal Care Center",
          "Animal Care Center",
          "Animal Care Center",
          "Animal Care Center",
          "Animal Care Center",
          "Animal Care Center",
          "Animal Care Center",
          "Animal Care Center",
          "Animal Care Center",
          "Animal Care Center",
          "Animal Care Center",
          "Animal Care Center",
          "Animal Care Center",
          "Animal Care Center",
          "Animal Care Center",
          "Animal Care Center",
          "Animal Care Center",
          "Animal Care Center",
          "Animal Care Center",
          "Animal Care Center",
          "Animal Care Center",
          "Animal Care Center",
          "Animal Care Center",
          "Animal Care Center",
          "Animal Care Center",
          "Animal Care Center",
          "Animal Care Center",
          "Animal Care Center",
          "Animal Care Center",
          "Animal Care Center",
          "Animal Care Center",
          "Animal Care Center",
          "Animal Care Center",
          "Animal Care Center",
          "Animal Care Center",
          "Animal Care Center",
          "Animal Care Center",
          "Animal Care Center",
          "Animal Care Center",
          "Animal Care Center",
          "Animal Care Center",
          "Animal Care Center",
          "Animal Care Center",
          "Animal Care Center",
          "Animal Care Center",
          "Animal Care Center",
          "Animal Care Center",
          "Animal Care Center",
          "Animal Care Center",
          "Animal Care Center",
          "Animal Care Center",
          "Animal Care Center",
          "Animal Care Center",
          "Animal Care Center",
          "Animal Care Center",
          "Animal Care Center",
          "Animal Care Center",
          "Animal Care Center",
          "Animal Care Center",
          "Animal Care Center",
          "Animal Care Center",
          "Animal Care Center",
          "Animal Care Center",
          "Animal Care Center",
          "Animal Care Center",
          "Animal Care Center",
          "Animal Care Center",
          "Animal Care Center",
          "Animal Care Center",
          "Animal Care Center",
          "Animal Care Center",
          "Animal Care Center",
          "Animal Care Center",
          "Animal Care Center",
          "Animal Care Center",
          "Animal Care Center",
          "Animal Care Center",
          "Animal Care Center",
          "Animal Care Center",
          "Animal Care Center",
          "Animal Care Center",
          "Animal Care Center",
          "Animal Care Center",
          "Animal Care Center",
          "Animal Care Center",
          "Animal Care Center",
          "Animal Care Center",
          "Animal Care Center",
          "Animal Care Center",
          "Animal Care Center",
          "Animal Care Center",
          "Animal Care Center",
          "Animal Care Center",
          "Animal Care Center",
          "Animal Care Center",
          "Animal Care Center",
          "Animal Care Center",
          "Animal Care Center",
          "Animal Care Center",
          "Animal Care Center",
          "Animal Care Center",
          "Animal Care Center",
          "Animal Care Center",
          "Animal Care Center",
          "Animal Care Center",
          "Animal Care Center",
          "Animal Care Center",
          "Animal Care Center",
          "Animal Care Center",
          "Animal Care Center",
          "Animal Care Center",
          "Animal Care Center",
          "Animal Care Center",
          "Animal Care Center",
          "Animal Care Center",
          "Animal Care Center",
          "Animal Care Center",
          "Animal Care Center",
          "Animal Care Center",
          "Animal Care Center",
          "Animal Care Center",
          "Animal Care Center",
          "Animal Care Center",
          "Animal Care Center",
          "Animal Care Center",
          "Animal Care Center",
          "Animal Care Center",
          "Animal Care Center",
          "Animal Care Center",
          "Animal Care Center",
          "Animal Care Center",
          "Animal Care Center",
          "Animal Care Center",
          "Animal Care Center",
          "Animal Care Center",
          "Animal Care Center",
          "Animal Care Center",
          "Animal Care Center",
          "Animal Care Center",
          "Animal Care Center",
          "Animal Care Center",
          "Animal Care Center",
          "Animal Care Center",
          "Animal Care Center",
          "Animal Care Center",
          "Animal Care Center",
          "Animal Care Center",
          "Animal Care Center",
          "Animal Care Center",
          "Animal Care Center",
          "Animal Care Center",
          "Animal Care Center",
          "Animal Care Center",
          "Animal Care Center",
          "Animal Care Center",
          "Animal Care Center",
          "Animal Care Center",
          "Animal Care Center",
          "Animal Care Center",
          "Animal Care Center",
          "Animal Care Center",
          "Animal Care Center",
          "Animal Care Center",
          "Animal Care Center",
          "Animal Care Center",
          "Animal Care Center",
          "Animal Care Center",
          "Animal Care Center",
          "Animal Care Center",
          "Animal Care Center",
          "Animal Care Center",
          "Animal Care Center",
          "Animal Care Center",
          "Animal Care Center",
          "Animal Care Center",
          "Animal Care Center",
          "Animal Care Center",
          "Animal Care Center",
          "Animal Care Center",
          "Animal Care Center",
          "Animal Care Center",
          "Animal Care Center",
          "Animal Care Center",
          "Animal Care Center",
          "Animal Care Center",
          "Animal Care Center",
          "Animal Care Center",
          "Animal Care Center",
          "Animal Care Center",
          "Animal Care Center",
          "Animal Care Center",
          "Animal Care Center",
          "Animal Care Center",
          "Advised/Educated others",
          "Advised/Educated others",
          "Advised/Educated others",
          "Advised/Educated others",
          "Advised/Educated others",
          "Advised/Educated others",
          "Advised/Educated others",
          "Advised/Educated others",
          "Advised/Educated others",
          "Advised/Educated others",
          "Advised/Educated others",
          "Advised/Educated others",
          "Advised/Educated others",
          "Advised/Educated others",
          "Advised/Educated others",
          "Advised/Educated others",
          "Advised/Educated others",
          "Advised/Educated others",
          "Advised/Educated others",
          "Advised/Educated others",
          "Advised/Educated others",
          "Advised/Educated others",
          "Advised/Educated others",
          "Animal Care Center",
          "Animal Care Center",
          "Animal Care Center",
          "Animal Care Center",
          "Animal Care Center",
          "Animal Care Center",
          "Animal Care Center",
          "Animal Care Center",
          "Animal Care Center",
          "Animal Care Center",
          "Animal Care Center",
          "Animal Care Center",
          "Animal Care Center",
          "Animal Care Center",
          "Animal Care Center",
          "Animal Care Center",
          "Animal Care Center",
          "Animal Care Center",
          "Animal Care Center",
          "Monitored Animal",
          "Monitored Animal",
          "Monitored Animal",
          "Monitored Animal",
          "Monitored Animal",
          "Monitored Animal",
          "Monitored Animal",
          "Monitored Animal",
          "Monitored Animal",
          "Monitored Animal",
          "Monitored Animal",
          "Monitored Animal",
          "Monitored Animal",
          "Monitored Animal",
          "Monitored Animal",
          "Monitored Animal",
          "Monitored Animal",
          "Monitored Animal",
          "Rehabilitator",
          "Rehabilitator",
          "Rehabilitator",
          "Rehabilitator",
          "Rehabilitator",
          "Rehabilitator",
          "Rehabilitator",
          "Rehabilitator",
          "Rehabilitator",
          "Rehabilitator",
          "Rehabilitator",
          "Rehabilitator",
          "Rehabilitator",
          "Rehabilitator",
          "Rehabilitator",
          "Rehabilitator",
          "Rehabilitator",
          "Rehabilitator",
          "Rehabilitator",
          "Rehabilitator",
          "Rehabilitator",
          "Rehabilitator",
          "Rehabilitator",
          "Rehabilitator",
          "Rehabilitator",
          "Rehabilitator",
          "Rehabilitator",
          "Relocated/Condition Corrected",
          "Relocated/Condition Corrected",
          "Relocated/Condition Corrected",
          "Relocated/Condition Corrected",
          "Relocated/Condition Corrected",
          "Relocated/Condition Corrected",
          "Relocated/Condition Corrected",
          "Relocated/Condition Corrected",
          "Relocated/Condition Corrected",
          "Relocated/Condition Corrected",
          "Relocated/Condition Corrected",
          "Relocated/Condition Corrected",
          "Relocated/Condition Corrected",
          "Relocated/Condition Corrected",
          "Relocated/Condition Corrected",
          "Relocated/Condition Corrected",
          "Relocated/Condition Corrected",
          "Relocated/Condition Corrected",
          "Relocated/Condition Corrected",
          "Relocated/Condition Corrected",
          "Relocated/Condition Corrected",
          "Relocated/Condition Corrected",
          "Relocated/Condition Corrected",
          "Relocated/Condition Corrected",
          "Relocated/Condition Corrected",
          "Relocated/Condition Corrected",
          "Relocated/Condition Corrected",
          "Relocated/Condition Corrected",
          "Relocated/Condition Corrected",
          "Relocated/Condition Corrected",
          "Relocated/Condition Corrected",
          "Relocated/Condition Corrected",
          "Relocated/Condition Corrected",
          "Relocated/Condition Corrected",
          "Relocated/Condition Corrected",
          "Relocated/Condition Corrected",
          "Relocated/Condition Corrected",
          "Relocated/Condition Corrected",
          "Relocated/Condition Corrected",
          "Relocated/Condition Corrected",
          "Relocated/Condition Corrected",
          "Relocated/Condition Corrected",
          "Relocated/Condition Corrected",
          "Relocated/Condition Corrected",
          "Relocated/Condition Corrected",
          "Relocated/Condition Corrected",
          "Relocated/Condition Corrected",
          "Relocated/Condition Corrected",
          "Relocated/Condition Corrected",
          "Relocated/Condition Corrected",
          "Relocated/Condition Corrected",
          "Relocated/Condition Corrected",
          "Relocated/Condition Corrected",
          "Relocated/Condition Corrected",
          "Relocated/Condition Corrected",
          "Relocated/Condition Corrected",
          "Relocated/Condition Corrected",
          "Relocated/Condition Corrected",
          "Relocated/Condition Corrected",
          "Relocated/Condition Corrected",
          "Relocated/Condition Corrected",
          "Relocated/Condition Corrected",
          "Relocated/Condition Corrected",
          "Relocated/Condition Corrected",
          "Relocated/Condition Corrected",
          "Relocated/Condition Corrected",
          "Relocated/Condition Corrected",
          "Relocated/Condition Corrected",
          "Relocated/Condition Corrected",
          "Relocated/Condition Corrected",
          "Relocated/Condition Corrected",
          "Relocated/Condition Corrected",
          "Relocated/Condition Corrected",
          "Relocated/Condition Corrected",
          "Relocated/Condition Corrected",
          "Relocated/Condition Corrected",
          "Relocated/Condition Corrected",
          "Submitted for DEC Testing",
          "Submitted for DEC Testing",
          "Submitted for DEC Testing",
          "Unfounded",
          "Unfounded",
          "Unfounded",
          "Unfounded",
          "Unfounded",
          "Unfounded",
          "Unfounded",
          "Unfounded",
          "Unfounded",
          "Unfounded",
          "Unfounded",
          "Unfounded",
          "Unfounded",
          "Unfounded",
          "Unfounded",
          "Unfounded",
          "Unfounded",
          "Unfounded",
          "Unfounded",
          "Unfounded",
          "Unfounded",
          "Unfounded",
          "Unfounded",
          "Unfounded",
          "Unfounded",
          "Unfounded",
          "Unfounded",
          "Unfounded",
          "Unfounded",
          "Unfounded",
          "Unfounded",
          "Unfounded",
          "Unfounded",
          "Unfounded",
          "Unfounded",
          "Unfounded",
          "Unfounded",
          "Unfounded",
          "Unfounded",
          "Unfounded",
          "Unfounded",
          "Unfounded",
          "Unfounded",
          "Unfounded",
          "Unfounded",
          "Unfounded",
          "Unfounded",
          "Unfounded",
          "Unfounded",
          "Unfounded",
          "Unfounded",
          "Unfounded",
          "Unfounded",
          "Unfounded",
          "Unfounded",
          "Unfounded",
          "Unfounded",
          "Unfounded",
          "Unfounded",
          "Unfounded",
          "Unfounded",
          "Unfounded",
          "Unfounded",
          "Unfounded",
          "Unfounded",
          "Unfounded",
          "Unfounded",
          "Unfounded",
          "Unfounded",
          "Unfounded",
          "Unfounded",
          "Unfounded",
          "Unfounded",
          "Unfounded",
          "Unfounded",
          "Unfounded",
          "Unfounded",
          "Unfounded",
          "Unfounded",
          "Unfounded",
          "Unfounded",
          "Unfounded",
          "Unfounded",
          "Unfounded",
          "Unfounded",
          "Unfounded",
          "Unfounded",
          "Unfounded",
          "Unfounded",
          "Unfounded",
          "Unfounded",
          "Unfounded",
          "Unfounded",
          "Unfounded",
          "Unfounded",
          "Unfounded",
          "Unfounded",
          "Unfounded",
          "Unfounded",
          "Unfounded",
          "Unfounded",
          "Unfounded",
          "Unfounded",
          "Unfounded",
          "Unfounded",
          "Unfounded",
          "Unfounded",
          "Unfounded",
          "Unfounded",
          "Unfounded",
          "Unfounded",
          "Unfounded",
          "Unfounded",
          "Unfounded",
          "Unfounded",
          "Unfounded",
          "Unfounded",
          "Unfounded",
          "Unfounded",
          "Unfounded",
          "Unfounded",
          "Unfounded",
          "Unfounded",
          "Unfounded",
          "Unfounded",
          "Unfounded",
          "Unfounded",
          "Unfounded",
          "Unfounded",
          "Unfounded",
          "Unfounded",
          "Unfounded",
          "Unfounded",
          "Unfounded",
          "Unfounded",
          "Unfounded",
          "Unfounded",
          "Unfounded",
          "Unfounded",
          "Unfounded",
          "Unfounded",
          "Unfounded",
          "Unfounded",
          "Unfounded",
          "Unfounded",
          "Unfounded",
          "Unfounded",
          "Unfounded",
          "Unfounded",
          "Unfounded",
          "Unfounded",
          "Unfounded",
          "Unfounded",
          "Unfounded",
          "Unfounded",
          "Unfounded",
          "Unfounded",
          "Unfounded",
          "Unfounded",
          "Unfounded",
          "Unfounded",
          "Unfounded",
          "Unfounded",
          "Unfounded",
          "Unfounded",
          "Unfounded",
          "Unfounded",
          "Unfounded",
          "Unfounded",
          "Unfounded",
          "Unfounded",
          "Unfounded",
          "Unfounded",
          "Unfounded",
          "Unfounded",
          "Unfounded",
          "Unfounded",
          "Unfounded",
          "Unfounded",
          "Unfounded",
          "Unfounded",
          "Unfounded",
          "Unfounded",
          "Unfounded",
          "Unfounded",
          "Unfounded",
          "Unfounded",
          "Unfounded",
          "Unfounded",
          "Unfounded",
          "Unfounded",
          "Unfounded",
          "Unfounded",
          "Unfounded",
          "Unfounded",
          "Unfounded",
          "Unfounded",
          "Unfounded",
          "Unfounded",
          "Animal Care Center",
          "Animal Care Center",
          "Animal Care Center",
          "Animal Care Center",
          "Animal Care Center",
          "Animal Care Center",
          "Animal Care Center",
          "Animal Care Center",
          "Animal Care Center",
          "Animal Care Center",
          "Animal Care Center",
          "Animal Care Center",
          "Advised/Educated others",
          "Advised/Educated others",
          "Advised/Educated others",
          "Advised/Educated others",
          "Advised/Educated others",
          "Rehabilitator",
          "Rehabilitator",
          "Rehabilitator",
          "Rehabilitator",
          "Rehabilitator",
          "Rehabilitator",
          "Rehabilitator",
          "Relocated/Condition Corrected",
          "Relocated/Condition Corrected",
          "Relocated/Condition Corrected",
          "Relocated/Condition Corrected",
          "Relocated/Condition Corrected",
          "Relocated/Condition Corrected",
          "Relocated/Condition Corrected",
          "Relocated/Condition Corrected",
          "Relocated/Condition Corrected",
          "Unfounded",
          "Unfounded",
          "Animal Care Center",
          "Animal Care Center",
          "Animal Care Center",
          "Animal Care Center",
          "Animal Care Center",
          "Animal Care Center",
          "Animal Care Center",
          "Animal Care Center",
          "Animal Care Center",
          "Animal Care Center",
          "Animal Care Center",
          "Animal Care Center",
          "Animal Care Center",
          "Animal Care Center",
          "Animal Care Center",
          "Animal Care Center",
          "Animal Care Center",
          "Animal Care Center",
          "Animal Care Center",
          "Animal Care Center",
          "Animal Care Center",
          "Animal Care Center",
          "Animal Care Center",
          "Animal Care Center",
          "Animal Care Center",
          "Animal Care Center",
          "Animal Care Center",
          "Animal Care Center",
          "Animal Care Center",
          "Animal Care Center",
          "Animal Care Center",
          "Animal Care Center",
          "Animal Care Center",
          "Animal Care Center",
          "Animal Care Center",
          "Animal Care Center",
          "Animal Care Center",
          "Animal Care Center",
          "Animal Care Center",
          "Animal Care Center",
          "Animal Care Center",
          "Animal Care Center",
          "Animal Care Center",
          "Animal Care Center",
          "Animal Care Center",
          "Animal Care Center",
          "Animal Care Center",
          "Animal Care Center",
          "Animal Care Center",
          "Animal Care Center",
          "Animal Care Center",
          "Animal Care Center",
          "Animal Care Center",
          "Animal Care Center",
          "Animal Care Center",
          "Animal Care Center",
          "Animal Care Center",
          "Animal Care Center",
          "Animal Care Center",
          "Animal Care Center",
          "Animal Care Center",
          "Animal Care Center",
          "Animal Care Center",
          "Animal Care Center",
          "Animal Care Center",
          "Animal Care Center",
          "Animal Care Center",
          "Animal Care Center",
          "Animal Care Center",
          "Animal Care Center",
          "Animal Care Center",
          "Animal Care Center",
          "Animal Care Center",
          "Animal Care Center",
          "Animal Care Center",
          "Animal Care Center",
          "Animal Care Center",
          "Animal Care Center",
          "Animal Care Center",
          "Animal Care Center",
          "Animal Care Center",
          "Animal Care Center",
          "Animal Care Center",
          "Animal Care Center",
          "Animal Care Center",
          "Animal Care Center",
          "Animal Care Center",
          "Animal Care Center",
          "Animal Care Center",
          "Animal Care Center",
          "Animal Care Center",
          "Animal Care Center",
          "Animal Care Center",
          "Animal Care Center",
          "Animal Care Center",
          "Animal Care Center",
          "Animal Care Center",
          "Animal Care Center",
          "Animal Care Center",
          "Animal Care Center",
          "Animal Care Center",
          "Animal Care Center",
          "Animal Care Center",
          "Animal Care Center",
          "Animal Care Center",
          "Animal Care Center",
          "Animal Care Center",
          "Animal Care Center",
          "Animal Care Center",
          "Animal Care Center",
          "Advised/Educated others",
          "Advised/Educated others",
          "Advised/Educated others",
          "Advised/Educated others",
          "Advised/Educated others",
          "Animal Care Center",
          "Monitored Animal",
          "Monitored Animal",
          "Monitored Animal",
          "Monitored Animal",
          "Monitored Animal",
          "Monitored Animal",
          "Rehabilitator",
          "Rehabilitator",
          "Rehabilitator",
          "Rehabilitator",
          "Rehabilitator",
          "Rehabilitator",
          "Rehabilitator",
          "Rehabilitator",
          "Rehabilitator",
          "Rehabilitator",
          "Rehabilitator",
          "Rehabilitator",
          "Rehabilitator",
          "Rehabilitator",
          "Rehabilitator",
          "Rehabilitator",
          "Rehabilitator",
          "Rehabilitator",
          "Rehabilitator",
          "Rehabilitator",
          "Relocated/Condition Corrected",
          "Relocated/Condition Corrected",
          "Relocated/Condition Corrected",
          "Relocated/Condition Corrected",
          "Relocated/Condition Corrected",
          "Relocated/Condition Corrected",
          "Relocated/Condition Corrected",
          "Relocated/Condition Corrected",
          "Relocated/Condition Corrected",
          "Relocated/Condition Corrected",
          "Relocated/Condition Corrected",
          "Relocated/Condition Corrected",
          "Relocated/Condition Corrected",
          "Relocated/Condition Corrected",
          "Relocated/Condition Corrected",
          "Relocated/Condition Corrected",
          "Relocated/Condition Corrected",
          "Relocated/Condition Corrected",
          "Relocated/Condition Corrected",
          "Relocated/Condition Corrected",
          "Relocated/Condition Corrected",
          "Relocated/Condition Corrected",
          "Relocated/Condition Corrected",
          "Relocated/Condition Corrected",
          "Relocated/Condition Corrected",
          "Relocated/Condition Corrected",
          "Relocated/Condition Corrected",
          "Relocated/Condition Corrected",
          "Relocated/Condition Corrected",
          "Relocated/Condition Corrected",
          "Relocated/Condition Corrected",
          "Relocated/Condition Corrected",
          "Relocated/Condition Corrected",
          "Submitted for DEC Testing",
          "Submitted for DEC Testing",
          "Submitted for DEC Testing",
          "Submitted for DEC Testing",
          "Submitted for DEC Testing",
          "Submitted for DEC Testing",
          "Submitted for DEC Testing",
          "Unfounded",
          "Unfounded",
          "Unfounded",
          "Unfounded",
          "Unfounded",
          "Unfounded",
          "Unfounded",
          "Unfounded",
          "Unfounded",
          "Unfounded",
          "Unfounded",
          "Unfounded",
          "Unfounded",
          "Unfounded",
          "Unfounded",
          "Unfounded",
          "Animal Care Center",
          "Animal Care Center",
          "Animal Care Center",
          "Relocated/Condition Corrected",
          "Relocated/Condition Corrected",
          "Unfounded",
          "Unfounded",
          "Unfounded",
          "Animal Care Center",
          "Animal Care Center",
          "Animal Care Center",
          "Animal Care Center",
          "Animal Care Center",
          "Animal Care Center",
          "Animal Care Center",
          "Animal Care Center",
          "Animal Care Center",
          "Animal Care Center",
          "Advised/Educated others",
          "Advised/Educated others",
          "Monitored Animal",
          "Monitored Animal",
          "Monitored Animal",
          "Monitored Animal",
          "Monitored Animal",
          "Monitored Animal",
          "Monitored Animal",
          "Monitored Animal",
          "Monitored Animal",
          "Monitored Animal",
          "Monitored Animal",
          "Monitored Animal",
          "Monitored Animal",
          "Monitored Animal",
          "Monitored Animal",
          "Monitored Animal",
          "Monitored Animal",
          "Monitored Animal",
          "Monitored Animal",
          "Monitored Animal",
          "Monitored Animal",
          "Monitored Animal",
          "Monitored Animal",
          "Monitored Animal",
          "Monitored Animal",
          "Monitored Animal",
          "Monitored Animal",
          "Monitored Animal",
          "Monitored Animal",
          "Monitored Animal",
          "Monitored Animal",
          "Monitored Animal",
          "Monitored Animal",
          "Monitored Animal",
          "Monitored Animal",
          "Monitored Animal",
          "Monitored Animal",
          "Monitored Animal",
          "Monitored Animal",
          "Monitored Animal",
          "Monitored Animal",
          "Monitored Animal",
          "Monitored Animal",
          "Monitored Animal",
          "Monitored Animal",
          "Monitored Animal",
          "Monitored Animal",
          "Monitored Animal",
          "Monitored Animal",
          "Relocated/Condition Corrected",
          "Relocated/Condition Corrected",
          "Relocated/Condition Corrected",
          "Relocated/Condition Corrected",
          "Relocated/Condition Corrected",
          "Relocated/Condition Corrected",
          "Relocated/Condition Corrected",
          "Relocated/Condition Corrected",
          "Relocated/Condition Corrected",
          "Relocated/Condition Corrected",
          "Relocated/Condition Corrected",
          "Unfounded",
          "Unfounded",
          "Unfounded",
          "Unfounded",
          "Unfounded",
          "Unfounded",
          "Unfounded",
          "Unfounded",
          "Monitored Animal",
          "Rehabilitator",
          "Rehabilitator",
          "Relocated/Condition Corrected",
          "Relocated/Condition Corrected",
          "Unfounded",
          "Animal Care Center",
          "Animal Care Center",
          "Animal Care Center",
          "Monitored Animal",
          "Monitored Animal",
          "Monitored Animal",
          "Monitored Animal",
          "Monitored Animal",
          "Monitored Animal",
          "Monitored Animal",
          "Monitored Animal",
          "Monitored Animal",
          "Monitored Animal",
          "Monitored Animal",
          "Monitored Animal",
          "Monitored Animal",
          "Monitored Animal",
          "Monitored Animal",
          "Monitored Animal",
          "Monitored Animal",
          "Monitored Animal",
          "Monitored Animal",
          "Monitored Animal",
          "Monitored Animal",
          "Rehabilitator",
          "Rehabilitator",
          "Rehabilitator",
          "Rehabilitator",
          "Relocated/Condition Corrected",
          "Relocated/Condition Corrected",
          "Relocated/Condition Corrected",
          "Unfounded",
          "Unfounded",
          "Monitored Animal",
          "Submitted for DEC Testing",
          "Unfounded"
         ],
         "legendgroup": "",
         "name": "",
         "showlegend": true,
         "type": "pie"
        }
       ],
       "layout": {
        "legend": {
         "tracegroupgap": 0
        },
        "margin": {
         "t": 60
        },
        "template": {
         "data": {
          "bar": [
           {
            "error_x": {
             "color": "#2a3f5f"
            },
            "error_y": {
             "color": "#2a3f5f"
            },
            "marker": {
             "line": {
              "color": "#E5ECF6",
              "width": 0.5
             },
             "pattern": {
              "fillmode": "overlay",
              "size": 10,
              "solidity": 0.2
             }
            },
            "type": "bar"
           }
          ],
          "barpolar": [
           {
            "marker": {
             "line": {
              "color": "#E5ECF6",
              "width": 0.5
             },
             "pattern": {
              "fillmode": "overlay",
              "size": 10,
              "solidity": 0.2
             }
            },
            "type": "barpolar"
           }
          ],
          "carpet": [
           {
            "aaxis": {
             "endlinecolor": "#2a3f5f",
             "gridcolor": "white",
             "linecolor": "white",
             "minorgridcolor": "white",
             "startlinecolor": "#2a3f5f"
            },
            "baxis": {
             "endlinecolor": "#2a3f5f",
             "gridcolor": "white",
             "linecolor": "white",
             "minorgridcolor": "white",
             "startlinecolor": "#2a3f5f"
            },
            "type": "carpet"
           }
          ],
          "choropleth": [
           {
            "colorbar": {
             "outlinewidth": 0,
             "ticks": ""
            },
            "type": "choropleth"
           }
          ],
          "contour": [
           {
            "colorbar": {
             "outlinewidth": 0,
             "ticks": ""
            },
            "colorscale": [
             [
              0,
              "#0d0887"
             ],
             [
              0.1111111111111111,
              "#46039f"
             ],
             [
              0.2222222222222222,
              "#7201a8"
             ],
             [
              0.3333333333333333,
              "#9c179e"
             ],
             [
              0.4444444444444444,
              "#bd3786"
             ],
             [
              0.5555555555555556,
              "#d8576b"
             ],
             [
              0.6666666666666666,
              "#ed7953"
             ],
             [
              0.7777777777777778,
              "#fb9f3a"
             ],
             [
              0.8888888888888888,
              "#fdca26"
             ],
             [
              1,
              "#f0f921"
             ]
            ],
            "type": "contour"
           }
          ],
          "contourcarpet": [
           {
            "colorbar": {
             "outlinewidth": 0,
             "ticks": ""
            },
            "type": "contourcarpet"
           }
          ],
          "heatmap": [
           {
            "colorbar": {
             "outlinewidth": 0,
             "ticks": ""
            },
            "colorscale": [
             [
              0,
              "#0d0887"
             ],
             [
              0.1111111111111111,
              "#46039f"
             ],
             [
              0.2222222222222222,
              "#7201a8"
             ],
             [
              0.3333333333333333,
              "#9c179e"
             ],
             [
              0.4444444444444444,
              "#bd3786"
             ],
             [
              0.5555555555555556,
              "#d8576b"
             ],
             [
              0.6666666666666666,
              "#ed7953"
             ],
             [
              0.7777777777777778,
              "#fb9f3a"
             ],
             [
              0.8888888888888888,
              "#fdca26"
             ],
             [
              1,
              "#f0f921"
             ]
            ],
            "type": "heatmap"
           }
          ],
          "heatmapgl": [
           {
            "colorbar": {
             "outlinewidth": 0,
             "ticks": ""
            },
            "colorscale": [
             [
              0,
              "#0d0887"
             ],
             [
              0.1111111111111111,
              "#46039f"
             ],
             [
              0.2222222222222222,
              "#7201a8"
             ],
             [
              0.3333333333333333,
              "#9c179e"
             ],
             [
              0.4444444444444444,
              "#bd3786"
             ],
             [
              0.5555555555555556,
              "#d8576b"
             ],
             [
              0.6666666666666666,
              "#ed7953"
             ],
             [
              0.7777777777777778,
              "#fb9f3a"
             ],
             [
              0.8888888888888888,
              "#fdca26"
             ],
             [
              1,
              "#f0f921"
             ]
            ],
            "type": "heatmapgl"
           }
          ],
          "histogram": [
           {
            "marker": {
             "pattern": {
              "fillmode": "overlay",
              "size": 10,
              "solidity": 0.2
             }
            },
            "type": "histogram"
           }
          ],
          "histogram2d": [
           {
            "colorbar": {
             "outlinewidth": 0,
             "ticks": ""
            },
            "colorscale": [
             [
              0,
              "#0d0887"
             ],
             [
              0.1111111111111111,
              "#46039f"
             ],
             [
              0.2222222222222222,
              "#7201a8"
             ],
             [
              0.3333333333333333,
              "#9c179e"
             ],
             [
              0.4444444444444444,
              "#bd3786"
             ],
             [
              0.5555555555555556,
              "#d8576b"
             ],
             [
              0.6666666666666666,
              "#ed7953"
             ],
             [
              0.7777777777777778,
              "#fb9f3a"
             ],
             [
              0.8888888888888888,
              "#fdca26"
             ],
             [
              1,
              "#f0f921"
             ]
            ],
            "type": "histogram2d"
           }
          ],
          "histogram2dcontour": [
           {
            "colorbar": {
             "outlinewidth": 0,
             "ticks": ""
            },
            "colorscale": [
             [
              0,
              "#0d0887"
             ],
             [
              0.1111111111111111,
              "#46039f"
             ],
             [
              0.2222222222222222,
              "#7201a8"
             ],
             [
              0.3333333333333333,
              "#9c179e"
             ],
             [
              0.4444444444444444,
              "#bd3786"
             ],
             [
              0.5555555555555556,
              "#d8576b"
             ],
             [
              0.6666666666666666,
              "#ed7953"
             ],
             [
              0.7777777777777778,
              "#fb9f3a"
             ],
             [
              0.8888888888888888,
              "#fdca26"
             ],
             [
              1,
              "#f0f921"
             ]
            ],
            "type": "histogram2dcontour"
           }
          ],
          "mesh3d": [
           {
            "colorbar": {
             "outlinewidth": 0,
             "ticks": ""
            },
            "type": "mesh3d"
           }
          ],
          "parcoords": [
           {
            "line": {
             "colorbar": {
              "outlinewidth": 0,
              "ticks": ""
             }
            },
            "type": "parcoords"
           }
          ],
          "pie": [
           {
            "automargin": true,
            "type": "pie"
           }
          ],
          "scatter": [
           {
            "marker": {
             "colorbar": {
              "outlinewidth": 0,
              "ticks": ""
             }
            },
            "type": "scatter"
           }
          ],
          "scatter3d": [
           {
            "line": {
             "colorbar": {
              "outlinewidth": 0,
              "ticks": ""
             }
            },
            "marker": {
             "colorbar": {
              "outlinewidth": 0,
              "ticks": ""
             }
            },
            "type": "scatter3d"
           }
          ],
          "scattercarpet": [
           {
            "marker": {
             "colorbar": {
              "outlinewidth": 0,
              "ticks": ""
             }
            },
            "type": "scattercarpet"
           }
          ],
          "scattergeo": [
           {
            "marker": {
             "colorbar": {
              "outlinewidth": 0,
              "ticks": ""
             }
            },
            "type": "scattergeo"
           }
          ],
          "scattergl": [
           {
            "marker": {
             "colorbar": {
              "outlinewidth": 0,
              "ticks": ""
             }
            },
            "type": "scattergl"
           }
          ],
          "scattermapbox": [
           {
            "marker": {
             "colorbar": {
              "outlinewidth": 0,
              "ticks": ""
             }
            },
            "type": "scattermapbox"
           }
          ],
          "scatterpolar": [
           {
            "marker": {
             "colorbar": {
              "outlinewidth": 0,
              "ticks": ""
             }
            },
            "type": "scatterpolar"
           }
          ],
          "scatterpolargl": [
           {
            "marker": {
             "colorbar": {
              "outlinewidth": 0,
              "ticks": ""
             }
            },
            "type": "scatterpolargl"
           }
          ],
          "scatterternary": [
           {
            "marker": {
             "colorbar": {
              "outlinewidth": 0,
              "ticks": ""
             }
            },
            "type": "scatterternary"
           }
          ],
          "surface": [
           {
            "colorbar": {
             "outlinewidth": 0,
             "ticks": ""
            },
            "colorscale": [
             [
              0,
              "#0d0887"
             ],
             [
              0.1111111111111111,
              "#46039f"
             ],
             [
              0.2222222222222222,
              "#7201a8"
             ],
             [
              0.3333333333333333,
              "#9c179e"
             ],
             [
              0.4444444444444444,
              "#bd3786"
             ],
             [
              0.5555555555555556,
              "#d8576b"
             ],
             [
              0.6666666666666666,
              "#ed7953"
             ],
             [
              0.7777777777777778,
              "#fb9f3a"
             ],
             [
              0.8888888888888888,
              "#fdca26"
             ],
             [
              1,
              "#f0f921"
             ]
            ],
            "type": "surface"
           }
          ],
          "table": [
           {
            "cells": {
             "fill": {
              "color": "#EBF0F8"
             },
             "line": {
              "color": "white"
             }
            },
            "header": {
             "fill": {
              "color": "#C8D4E3"
             },
             "line": {
              "color": "white"
             }
            },
            "type": "table"
           }
          ]
         },
         "layout": {
          "annotationdefaults": {
           "arrowcolor": "#2a3f5f",
           "arrowhead": 0,
           "arrowwidth": 1
          },
          "autotypenumbers": "strict",
          "coloraxis": {
           "colorbar": {
            "outlinewidth": 0,
            "ticks": ""
           }
          },
          "colorscale": {
           "diverging": [
            [
             0,
             "#8e0152"
            ],
            [
             0.1,
             "#c51b7d"
            ],
            [
             0.2,
             "#de77ae"
            ],
            [
             0.3,
             "#f1b6da"
            ],
            [
             0.4,
             "#fde0ef"
            ],
            [
             0.5,
             "#f7f7f7"
            ],
            [
             0.6,
             "#e6f5d0"
            ],
            [
             0.7,
             "#b8e186"
            ],
            [
             0.8,
             "#7fbc41"
            ],
            [
             0.9,
             "#4d9221"
            ],
            [
             1,
             "#276419"
            ]
           ],
           "sequential": [
            [
             0,
             "#0d0887"
            ],
            [
             0.1111111111111111,
             "#46039f"
            ],
            [
             0.2222222222222222,
             "#7201a8"
            ],
            [
             0.3333333333333333,
             "#9c179e"
            ],
            [
             0.4444444444444444,
             "#bd3786"
            ],
            [
             0.5555555555555556,
             "#d8576b"
            ],
            [
             0.6666666666666666,
             "#ed7953"
            ],
            [
             0.7777777777777778,
             "#fb9f3a"
            ],
            [
             0.8888888888888888,
             "#fdca26"
            ],
            [
             1,
             "#f0f921"
            ]
           ],
           "sequentialminus": [
            [
             0,
             "#0d0887"
            ],
            [
             0.1111111111111111,
             "#46039f"
            ],
            [
             0.2222222222222222,
             "#7201a8"
            ],
            [
             0.3333333333333333,
             "#9c179e"
            ],
            [
             0.4444444444444444,
             "#bd3786"
            ],
            [
             0.5555555555555556,
             "#d8576b"
            ],
            [
             0.6666666666666666,
             "#ed7953"
            ],
            [
             0.7777777777777778,
             "#fb9f3a"
            ],
            [
             0.8888888888888888,
             "#fdca26"
            ],
            [
             1,
             "#f0f921"
            ]
           ]
          },
          "colorway": [
           "#636efa",
           "#EF553B",
           "#00cc96",
           "#ab63fa",
           "#FFA15A",
           "#19d3f3",
           "#FF6692",
           "#B6E880",
           "#FF97FF",
           "#FECB52"
          ],
          "font": {
           "color": "#2a3f5f"
          },
          "geo": {
           "bgcolor": "white",
           "lakecolor": "white",
           "landcolor": "#E5ECF6",
           "showlakes": true,
           "showland": true,
           "subunitcolor": "white"
          },
          "hoverlabel": {
           "align": "left"
          },
          "hovermode": "closest",
          "mapbox": {
           "style": "light"
          },
          "paper_bgcolor": "white",
          "plot_bgcolor": "#E5ECF6",
          "polar": {
           "angularaxis": {
            "gridcolor": "white",
            "linecolor": "white",
            "ticks": ""
           },
           "bgcolor": "#E5ECF6",
           "radialaxis": {
            "gridcolor": "white",
            "linecolor": "white",
            "ticks": ""
           }
          },
          "scene": {
           "xaxis": {
            "backgroundcolor": "#E5ECF6",
            "gridcolor": "white",
            "gridwidth": 2,
            "linecolor": "white",
            "showbackground": true,
            "ticks": "",
            "zerolinecolor": "white"
           },
           "yaxis": {
            "backgroundcolor": "#E5ECF6",
            "gridcolor": "white",
            "gridwidth": 2,
            "linecolor": "white",
            "showbackground": true,
            "ticks": "",
            "zerolinecolor": "white"
           },
           "zaxis": {
            "backgroundcolor": "#E5ECF6",
            "gridcolor": "white",
            "gridwidth": 2,
            "linecolor": "white",
            "showbackground": true,
            "ticks": "",
            "zerolinecolor": "white"
           }
          },
          "shapedefaults": {
           "line": {
            "color": "#2a3f5f"
           }
          },
          "ternary": {
           "aaxis": {
            "gridcolor": "white",
            "linecolor": "white",
            "ticks": ""
           },
           "baxis": {
            "gridcolor": "white",
            "linecolor": "white",
            "ticks": ""
           },
           "bgcolor": "#E5ECF6",
           "caxis": {
            "gridcolor": "white",
            "linecolor": "white",
            "ticks": ""
           }
          },
          "title": {
           "x": 0.05
          },
          "xaxis": {
           "automargin": true,
           "gridcolor": "white",
           "linecolor": "white",
           "ticks": "",
           "title": {
            "standoff": 15
           },
           "zerolinecolor": "white",
           "zerolinewidth": 2
          },
          "yaxis": {
           "automargin": true,
           "gridcolor": "white",
           "linecolor": "white",
           "ticks": "",
           "title": {
            "standoff": 15
           },
           "zerolinecolor": "white",
           "zerolinewidth": 2
          }
         }
        }
       }
      },
      "text/html": [
       "<div>                            <div id=\"379f7b4a-50ce-47c2-9a07-4d914f7372b6\" class=\"plotly-graph-div\" style=\"height:525px; width:100%;\"></div>            <script type=\"text/javascript\">                require([\"plotly\"], function(Plotly) {                    window.PLOTLYENV=window.PLOTLYENV || {};                                    if (document.getElementById(\"379f7b4a-50ce-47c2-9a07-4d914f7372b6\")) {                    Plotly.newPlot(                        \"379f7b4a-50ce-47c2-9a07-4d914f7372b6\",                        [{\"domain\":{\"x\":[0.0,1.0],\"y\":[0.0,1.0]},\"hovertemplate\":\"Final Ranger Action=%{label}<extra></extra>\",\"labels\":[\"Animal Care Center\",\"Animal Care Center\",\"Animal Care Center\",\"Animal Care Center\",\"Animal Care Center\",\"Animal Care Center\",\"Animal Care Center\",\"Animal Care Center\",\"Animal Care Center\",\"Animal Care Center\",\"Animal Care Center\",\"Animal Care Center\",\"Animal Care Center\",\"Animal Care Center\",\"Animal Care Center\",\"Animal Care Center\",\"Animal Care Center\",\"Animal Care Center\",\"Animal Care Center\",\"Animal Care Center\",\"Animal Care Center\",\"Animal Care Center\",\"Animal Care Center\",\"Animal Care Center\",\"Animal Care Center\",\"Animal Care Center\",\"Animal Care Center\",\"Animal Care Center\",\"Animal Care Center\",\"Animal Care Center\",\"Animal Care Center\",\"Animal Care Center\",\"Animal Care Center\",\"Animal Care Center\",\"Animal Care Center\",\"Animal Care Center\",\"Animal Care Center\",\"Animal Care Center\",\"Animal Care Center\",\"Animal Care Center\",\"Animal Care Center\",\"Animal Care Center\",\"Animal Care Center\",\"Animal Care Center\",\"Animal Care Center\",\"Animal Care Center\",\"Animal Care Center\",\"Animal Care Center\",\"Animal Care Center\",\"Animal Care Center\",\"Animal Care Center\",\"Animal Care Center\",\"Animal Care Center\",\"Animal Care Center\",\"Animal Care Center\",\"Animal Care Center\",\"Animal Care Center\",\"Animal Care Center\",\"Animal Care Center\",\"Animal Care Center\",\"Animal Care Center\",\"Animal Care Center\",\"Animal Care Center\",\"Animal Care Center\",\"Animal Care Center\",\"Animal Care Center\",\"Animal Care Center\",\"Animal Care Center\",\"Animal Care Center\",\"Animal Care Center\",\"Animal Care Center\",\"Animal Care Center\",\"Animal Care Center\",\"Animal Care Center\",\"Animal Care Center\",\"Animal Care Center\",\"Animal Care Center\",\"Animal Care Center\",\"Animal Care Center\",\"Animal Care Center\",\"Animal Care Center\",\"Animal Care Center\",\"Animal Care Center\",\"Animal Care Center\",\"Animal Care Center\",\"Animal Care Center\",\"Animal Care Center\",\"Animal Care Center\",\"Animal Care Center\",\"Animal Care Center\",\"Animal Care Center\",\"Animal Care Center\",\"Animal Care Center\",\"Animal Care Center\",\"Animal Care Center\",\"Animal Care Center\",\"Animal Care Center\",\"Animal Care Center\",\"Animal Care Center\",\"Animal Care Center\",\"Animal Care Center\",\"Animal Care Center\",\"Animal Care Center\",\"Animal Care Center\",\"Animal Care Center\",\"Animal Care Center\",\"Animal Care Center\",\"Animal Care Center\",\"Animal Care Center\",\"Animal Care Center\",\"Animal Care Center\",\"Animal Care Center\",\"Animal Care Center\",\"Animal Care Center\",\"Animal Care Center\",\"Animal Care Center\",\"Animal Care Center\",\"Animal Care Center\",\"Animal Care Center\",\"Animal Care Center\",\"Animal Care Center\",\"Animal Care Center\",\"Animal Care Center\",\"Animal Care Center\",\"Animal Care Center\",\"Animal Care Center\",\"Animal Care Center\",\"Animal Care Center\",\"Animal Care Center\",\"Animal Care Center\",\"Animal Care Center\",\"Animal Care Center\",\"Animal Care Center\",\"Animal Care Center\",\"Animal Care Center\",\"Animal Care Center\",\"Animal Care Center\",\"Animal Care Center\",\"Animal Care Center\",\"Animal Care Center\",\"Animal Care Center\",\"Animal Care Center\",\"Animal Care Center\",\"Animal Care Center\",\"Animal Care Center\",\"Animal Care Center\",\"Animal Care Center\",\"Animal Care Center\",\"Animal Care Center\",\"Animal Care Center\",\"Animal Care Center\",\"Animal Care Center\",\"Animal Care Center\",\"Animal Care Center\",\"Animal Care Center\",\"Animal Care Center\",\"Animal Care Center\",\"Animal Care Center\",\"Animal Care Center\",\"Animal Care Center\",\"Animal Care Center\",\"Animal Care Center\",\"Animal Care Center\",\"Animal Care Center\",\"Animal Care Center\",\"Animal Care Center\",\"Animal Care Center\",\"Animal Care Center\",\"Animal Care Center\",\"Animal Care Center\",\"Animal Care Center\",\"Animal Care Center\",\"Animal Care Center\",\"Animal Care Center\",\"Animal Care Center\",\"Animal Care Center\",\"Animal Care Center\",\"Animal Care Center\",\"Animal Care Center\",\"Animal Care Center\",\"Animal Care Center\",\"Animal Care Center\",\"Animal Care Center\",\"Animal Care Center\",\"Animal Care Center\",\"Animal Care Center\",\"Animal Care Center\",\"Animal Care Center\",\"Animal Care Center\",\"Animal Care Center\",\"Animal Care Center\",\"Animal Care Center\",\"Animal Care Center\",\"Animal Care Center\",\"Animal Care Center\",\"Animal Care Center\",\"Animal Care Center\",\"Animal Care Center\",\"Animal Care Center\",\"Animal Care Center\",\"Animal Care Center\",\"Animal Care Center\",\"Animal Care Center\",\"Animal Care Center\",\"Animal Care Center\",\"Animal Care Center\",\"Animal Care Center\",\"Animal Care Center\",\"Animal Care Center\",\"Animal Care Center\",\"Animal Care Center\",\"Animal Care Center\",\"Animal Care Center\",\"Animal Care Center\",\"Animal Care Center\",\"Animal Care Center\",\"Animal Care Center\",\"Animal Care Center\",\"Animal Care Center\",\"Animal Care Center\",\"Animal Care Center\",\"Animal Care Center\",\"Animal Care Center\",\"Animal Care Center\",\"Animal Care Center\",\"Animal Care Center\",\"Animal Care Center\",\"Animal Care Center\",\"Animal Care Center\",\"Animal Care Center\",\"Animal Care Center\",\"Animal Care Center\",\"Animal Care Center\",\"Animal Care Center\",\"Animal Care Center\",\"Animal Care Center\",\"Animal Care Center\",\"Animal Care Center\",\"Animal Care Center\",\"Animal Care Center\",\"Animal Care Center\",\"Animal Care Center\",\"Animal Care Center\",\"Animal Care Center\",\"Animal Care Center\",\"Animal Care Center\",\"Animal Care Center\",\"Animal Care Center\",\"Animal Care Center\",\"Animal Care Center\",\"Animal Care Center\",\"Animal Care Center\",\"Animal Care Center\",\"Advised/Educated others\",\"Advised/Educated others\",\"Advised/Educated others\",\"Advised/Educated others\",\"Advised/Educated others\",\"Advised/Educated others\",\"Advised/Educated others\",\"Advised/Educated others\",\"Advised/Educated others\",\"Advised/Educated others\",\"Advised/Educated others\",\"Advised/Educated others\",\"Advised/Educated others\",\"Advised/Educated others\",\"Advised/Educated others\",\"Advised/Educated others\",\"Advised/Educated others\",\"Advised/Educated others\",\"Advised/Educated others\",\"Advised/Educated others\",\"Advised/Educated others\",\"Advised/Educated others\",\"Advised/Educated others\",\"Animal Care Center\",\"Animal Care Center\",\"Animal Care Center\",\"Animal Care Center\",\"Animal Care Center\",\"Animal Care Center\",\"Animal Care Center\",\"Animal Care Center\",\"Animal Care Center\",\"Animal Care Center\",\"Animal Care Center\",\"Animal Care Center\",\"Animal Care Center\",\"Animal Care Center\",\"Animal Care Center\",\"Animal Care Center\",\"Animal Care Center\",\"Animal Care Center\",\"Animal Care Center\",\"Monitored Animal\",\"Monitored Animal\",\"Monitored Animal\",\"Monitored Animal\",\"Monitored Animal\",\"Monitored Animal\",\"Monitored Animal\",\"Monitored Animal\",\"Monitored Animal\",\"Monitored Animal\",\"Monitored Animal\",\"Monitored Animal\",\"Monitored Animal\",\"Monitored Animal\",\"Monitored Animal\",\"Monitored Animal\",\"Monitored Animal\",\"Monitored Animal\",\"Rehabilitator\",\"Rehabilitator\",\"Rehabilitator\",\"Rehabilitator\",\"Rehabilitator\",\"Rehabilitator\",\"Rehabilitator\",\"Rehabilitator\",\"Rehabilitator\",\"Rehabilitator\",\"Rehabilitator\",\"Rehabilitator\",\"Rehabilitator\",\"Rehabilitator\",\"Rehabilitator\",\"Rehabilitator\",\"Rehabilitator\",\"Rehabilitator\",\"Rehabilitator\",\"Rehabilitator\",\"Rehabilitator\",\"Rehabilitator\",\"Rehabilitator\",\"Rehabilitator\",\"Rehabilitator\",\"Rehabilitator\",\"Rehabilitator\",\"Relocated/Condition Corrected\",\"Relocated/Condition Corrected\",\"Relocated/Condition Corrected\",\"Relocated/Condition Corrected\",\"Relocated/Condition Corrected\",\"Relocated/Condition Corrected\",\"Relocated/Condition Corrected\",\"Relocated/Condition Corrected\",\"Relocated/Condition Corrected\",\"Relocated/Condition Corrected\",\"Relocated/Condition Corrected\",\"Relocated/Condition Corrected\",\"Relocated/Condition Corrected\",\"Relocated/Condition Corrected\",\"Relocated/Condition Corrected\",\"Relocated/Condition Corrected\",\"Relocated/Condition Corrected\",\"Relocated/Condition Corrected\",\"Relocated/Condition Corrected\",\"Relocated/Condition Corrected\",\"Relocated/Condition Corrected\",\"Relocated/Condition Corrected\",\"Relocated/Condition Corrected\",\"Relocated/Condition Corrected\",\"Relocated/Condition Corrected\",\"Relocated/Condition Corrected\",\"Relocated/Condition Corrected\",\"Relocated/Condition Corrected\",\"Relocated/Condition Corrected\",\"Relocated/Condition Corrected\",\"Relocated/Condition Corrected\",\"Relocated/Condition Corrected\",\"Relocated/Condition Corrected\",\"Relocated/Condition Corrected\",\"Relocated/Condition Corrected\",\"Relocated/Condition Corrected\",\"Relocated/Condition Corrected\",\"Relocated/Condition Corrected\",\"Relocated/Condition Corrected\",\"Relocated/Condition Corrected\",\"Relocated/Condition Corrected\",\"Relocated/Condition Corrected\",\"Relocated/Condition Corrected\",\"Relocated/Condition Corrected\",\"Relocated/Condition Corrected\",\"Relocated/Condition Corrected\",\"Relocated/Condition Corrected\",\"Relocated/Condition Corrected\",\"Relocated/Condition Corrected\",\"Relocated/Condition Corrected\",\"Relocated/Condition Corrected\",\"Relocated/Condition Corrected\",\"Relocated/Condition Corrected\",\"Relocated/Condition Corrected\",\"Relocated/Condition Corrected\",\"Relocated/Condition Corrected\",\"Relocated/Condition Corrected\",\"Relocated/Condition Corrected\",\"Relocated/Condition Corrected\",\"Relocated/Condition Corrected\",\"Relocated/Condition Corrected\",\"Relocated/Condition Corrected\",\"Relocated/Condition Corrected\",\"Relocated/Condition Corrected\",\"Relocated/Condition Corrected\",\"Relocated/Condition Corrected\",\"Relocated/Condition Corrected\",\"Relocated/Condition Corrected\",\"Relocated/Condition Corrected\",\"Relocated/Condition Corrected\",\"Relocated/Condition Corrected\",\"Relocated/Condition Corrected\",\"Relocated/Condition Corrected\",\"Relocated/Condition Corrected\",\"Relocated/Condition Corrected\",\"Relocated/Condition Corrected\",\"Relocated/Condition Corrected\",\"Submitted for DEC Testing\",\"Submitted for DEC Testing\",\"Submitted for DEC Testing\",\"Unfounded\",\"Unfounded\",\"Unfounded\",\"Unfounded\",\"Unfounded\",\"Unfounded\",\"Unfounded\",\"Unfounded\",\"Unfounded\",\"Unfounded\",\"Unfounded\",\"Unfounded\",\"Unfounded\",\"Unfounded\",\"Unfounded\",\"Unfounded\",\"Unfounded\",\"Unfounded\",\"Unfounded\",\"Unfounded\",\"Unfounded\",\"Unfounded\",\"Unfounded\",\"Unfounded\",\"Unfounded\",\"Unfounded\",\"Unfounded\",\"Unfounded\",\"Unfounded\",\"Unfounded\",\"Unfounded\",\"Unfounded\",\"Unfounded\",\"Unfounded\",\"Unfounded\",\"Unfounded\",\"Unfounded\",\"Unfounded\",\"Unfounded\",\"Unfounded\",\"Unfounded\",\"Unfounded\",\"Unfounded\",\"Unfounded\",\"Unfounded\",\"Unfounded\",\"Unfounded\",\"Unfounded\",\"Unfounded\",\"Unfounded\",\"Unfounded\",\"Unfounded\",\"Unfounded\",\"Unfounded\",\"Unfounded\",\"Unfounded\",\"Unfounded\",\"Unfounded\",\"Unfounded\",\"Unfounded\",\"Unfounded\",\"Unfounded\",\"Unfounded\",\"Unfounded\",\"Unfounded\",\"Unfounded\",\"Unfounded\",\"Unfounded\",\"Unfounded\",\"Unfounded\",\"Unfounded\",\"Unfounded\",\"Unfounded\",\"Unfounded\",\"Unfounded\",\"Unfounded\",\"Unfounded\",\"Unfounded\",\"Unfounded\",\"Unfounded\",\"Unfounded\",\"Unfounded\",\"Unfounded\",\"Unfounded\",\"Unfounded\",\"Unfounded\",\"Unfounded\",\"Unfounded\",\"Unfounded\",\"Unfounded\",\"Unfounded\",\"Unfounded\",\"Unfounded\",\"Unfounded\",\"Unfounded\",\"Unfounded\",\"Unfounded\",\"Unfounded\",\"Unfounded\",\"Unfounded\",\"Unfounded\",\"Unfounded\",\"Unfounded\",\"Unfounded\",\"Unfounded\",\"Unfounded\",\"Unfounded\",\"Unfounded\",\"Unfounded\",\"Unfounded\",\"Unfounded\",\"Unfounded\",\"Unfounded\",\"Unfounded\",\"Unfounded\",\"Unfounded\",\"Unfounded\",\"Unfounded\",\"Unfounded\",\"Unfounded\",\"Unfounded\",\"Unfounded\",\"Unfounded\",\"Unfounded\",\"Unfounded\",\"Unfounded\",\"Unfounded\",\"Unfounded\",\"Unfounded\",\"Unfounded\",\"Unfounded\",\"Unfounded\",\"Unfounded\",\"Unfounded\",\"Unfounded\",\"Unfounded\",\"Unfounded\",\"Unfounded\",\"Unfounded\",\"Unfounded\",\"Unfounded\",\"Unfounded\",\"Unfounded\",\"Unfounded\",\"Unfounded\",\"Unfounded\",\"Unfounded\",\"Unfounded\",\"Unfounded\",\"Unfounded\",\"Unfounded\",\"Unfounded\",\"Unfounded\",\"Unfounded\",\"Unfounded\",\"Unfounded\",\"Unfounded\",\"Unfounded\",\"Unfounded\",\"Unfounded\",\"Unfounded\",\"Unfounded\",\"Unfounded\",\"Unfounded\",\"Unfounded\",\"Unfounded\",\"Unfounded\",\"Unfounded\",\"Unfounded\",\"Unfounded\",\"Unfounded\",\"Unfounded\",\"Unfounded\",\"Unfounded\",\"Unfounded\",\"Unfounded\",\"Unfounded\",\"Unfounded\",\"Unfounded\",\"Unfounded\",\"Unfounded\",\"Unfounded\",\"Unfounded\",\"Unfounded\",\"Unfounded\",\"Unfounded\",\"Unfounded\",\"Unfounded\",\"Unfounded\",\"Unfounded\",\"Unfounded\",\"Unfounded\",\"Unfounded\",\"Unfounded\",\"Unfounded\",\"Unfounded\",\"Unfounded\",\"Unfounded\",\"Unfounded\",\"Animal Care Center\",\"Animal Care Center\",\"Animal Care Center\",\"Animal Care Center\",\"Animal Care Center\",\"Animal Care Center\",\"Animal Care Center\",\"Animal Care Center\",\"Animal Care Center\",\"Animal Care Center\",\"Animal Care Center\",\"Animal Care Center\",\"Advised/Educated others\",\"Advised/Educated others\",\"Advised/Educated others\",\"Advised/Educated others\",\"Advised/Educated others\",\"Rehabilitator\",\"Rehabilitator\",\"Rehabilitator\",\"Rehabilitator\",\"Rehabilitator\",\"Rehabilitator\",\"Rehabilitator\",\"Relocated/Condition Corrected\",\"Relocated/Condition Corrected\",\"Relocated/Condition Corrected\",\"Relocated/Condition Corrected\",\"Relocated/Condition Corrected\",\"Relocated/Condition Corrected\",\"Relocated/Condition Corrected\",\"Relocated/Condition Corrected\",\"Relocated/Condition Corrected\",\"Unfounded\",\"Unfounded\",\"Animal Care Center\",\"Animal Care Center\",\"Animal Care Center\",\"Animal Care Center\",\"Animal Care Center\",\"Animal Care Center\",\"Animal Care Center\",\"Animal Care Center\",\"Animal Care Center\",\"Animal Care Center\",\"Animal Care Center\",\"Animal Care Center\",\"Animal Care Center\",\"Animal Care Center\",\"Animal Care Center\",\"Animal Care Center\",\"Animal Care Center\",\"Animal Care Center\",\"Animal Care Center\",\"Animal Care Center\",\"Animal Care Center\",\"Animal Care Center\",\"Animal Care Center\",\"Animal Care Center\",\"Animal Care Center\",\"Animal Care Center\",\"Animal Care Center\",\"Animal Care Center\",\"Animal Care Center\",\"Animal Care Center\",\"Animal Care Center\",\"Animal Care Center\",\"Animal Care Center\",\"Animal Care Center\",\"Animal Care Center\",\"Animal Care Center\",\"Animal Care Center\",\"Animal Care Center\",\"Animal Care Center\",\"Animal Care Center\",\"Animal Care Center\",\"Animal Care Center\",\"Animal Care Center\",\"Animal Care Center\",\"Animal Care Center\",\"Animal Care Center\",\"Animal Care Center\",\"Animal Care Center\",\"Animal Care Center\",\"Animal Care Center\",\"Animal Care Center\",\"Animal Care Center\",\"Animal Care Center\",\"Animal Care Center\",\"Animal Care Center\",\"Animal Care Center\",\"Animal Care Center\",\"Animal Care Center\",\"Animal Care Center\",\"Animal Care Center\",\"Animal Care Center\",\"Animal Care Center\",\"Animal Care Center\",\"Animal Care Center\",\"Animal Care Center\",\"Animal Care Center\",\"Animal Care Center\",\"Animal Care Center\",\"Animal Care Center\",\"Animal Care Center\",\"Animal Care Center\",\"Animal Care Center\",\"Animal Care Center\",\"Animal Care Center\",\"Animal Care Center\",\"Animal Care Center\",\"Animal Care Center\",\"Animal Care Center\",\"Animal Care Center\",\"Animal Care Center\",\"Animal Care Center\",\"Animal Care Center\",\"Animal Care Center\",\"Animal Care Center\",\"Animal Care Center\",\"Animal Care Center\",\"Animal Care Center\",\"Animal Care Center\",\"Animal Care Center\",\"Animal Care Center\",\"Animal Care Center\",\"Animal Care Center\",\"Animal Care Center\",\"Animal Care Center\",\"Animal Care Center\",\"Animal Care Center\",\"Animal Care Center\",\"Animal Care Center\",\"Animal Care Center\",\"Animal Care Center\",\"Animal Care Center\",\"Animal Care Center\",\"Animal Care Center\",\"Animal Care Center\",\"Animal Care Center\",\"Animal Care Center\",\"Animal Care Center\",\"Animal Care Center\",\"Animal Care Center\",\"Animal Care Center\",\"Advised/Educated others\",\"Advised/Educated others\",\"Advised/Educated others\",\"Advised/Educated others\",\"Advised/Educated others\",\"Animal Care Center\",\"Monitored Animal\",\"Monitored Animal\",\"Monitored Animal\",\"Monitored Animal\",\"Monitored Animal\",\"Monitored Animal\",\"Rehabilitator\",\"Rehabilitator\",\"Rehabilitator\",\"Rehabilitator\",\"Rehabilitator\",\"Rehabilitator\",\"Rehabilitator\",\"Rehabilitator\",\"Rehabilitator\",\"Rehabilitator\",\"Rehabilitator\",\"Rehabilitator\",\"Rehabilitator\",\"Rehabilitator\",\"Rehabilitator\",\"Rehabilitator\",\"Rehabilitator\",\"Rehabilitator\",\"Rehabilitator\",\"Rehabilitator\",\"Relocated/Condition Corrected\",\"Relocated/Condition Corrected\",\"Relocated/Condition Corrected\",\"Relocated/Condition Corrected\",\"Relocated/Condition Corrected\",\"Relocated/Condition Corrected\",\"Relocated/Condition Corrected\",\"Relocated/Condition Corrected\",\"Relocated/Condition Corrected\",\"Relocated/Condition Corrected\",\"Relocated/Condition Corrected\",\"Relocated/Condition Corrected\",\"Relocated/Condition Corrected\",\"Relocated/Condition Corrected\",\"Relocated/Condition Corrected\",\"Relocated/Condition Corrected\",\"Relocated/Condition Corrected\",\"Relocated/Condition Corrected\",\"Relocated/Condition Corrected\",\"Relocated/Condition Corrected\",\"Relocated/Condition Corrected\",\"Relocated/Condition Corrected\",\"Relocated/Condition Corrected\",\"Relocated/Condition Corrected\",\"Relocated/Condition Corrected\",\"Relocated/Condition Corrected\",\"Relocated/Condition Corrected\",\"Relocated/Condition Corrected\",\"Relocated/Condition Corrected\",\"Relocated/Condition Corrected\",\"Relocated/Condition Corrected\",\"Relocated/Condition Corrected\",\"Relocated/Condition Corrected\",\"Submitted for DEC Testing\",\"Submitted for DEC Testing\",\"Submitted for DEC Testing\",\"Submitted for DEC Testing\",\"Submitted for DEC Testing\",\"Submitted for DEC Testing\",\"Submitted for DEC Testing\",\"Unfounded\",\"Unfounded\",\"Unfounded\",\"Unfounded\",\"Unfounded\",\"Unfounded\",\"Unfounded\",\"Unfounded\",\"Unfounded\",\"Unfounded\",\"Unfounded\",\"Unfounded\",\"Unfounded\",\"Unfounded\",\"Unfounded\",\"Unfounded\",\"Animal Care Center\",\"Animal Care Center\",\"Animal Care Center\",\"Relocated/Condition Corrected\",\"Relocated/Condition Corrected\",\"Unfounded\",\"Unfounded\",\"Unfounded\",\"Animal Care Center\",\"Animal Care Center\",\"Animal Care Center\",\"Animal Care Center\",\"Animal Care Center\",\"Animal Care Center\",\"Animal Care Center\",\"Animal Care Center\",\"Animal Care Center\",\"Animal Care Center\",\"Advised/Educated others\",\"Advised/Educated others\",\"Monitored Animal\",\"Monitored Animal\",\"Monitored Animal\",\"Monitored Animal\",\"Monitored Animal\",\"Monitored Animal\",\"Monitored Animal\",\"Monitored Animal\",\"Monitored Animal\",\"Monitored Animal\",\"Monitored Animal\",\"Monitored Animal\",\"Monitored Animal\",\"Monitored Animal\",\"Monitored Animal\",\"Monitored Animal\",\"Monitored Animal\",\"Monitored Animal\",\"Monitored Animal\",\"Monitored Animal\",\"Monitored Animal\",\"Monitored Animal\",\"Monitored Animal\",\"Monitored Animal\",\"Monitored Animal\",\"Monitored Animal\",\"Monitored Animal\",\"Monitored Animal\",\"Monitored Animal\",\"Monitored Animal\",\"Monitored Animal\",\"Monitored Animal\",\"Monitored Animal\",\"Monitored Animal\",\"Monitored Animal\",\"Monitored Animal\",\"Monitored Animal\",\"Monitored Animal\",\"Monitored Animal\",\"Monitored Animal\",\"Monitored Animal\",\"Monitored Animal\",\"Monitored Animal\",\"Monitored Animal\",\"Monitored Animal\",\"Monitored Animal\",\"Monitored Animal\",\"Monitored Animal\",\"Monitored Animal\",\"Relocated/Condition Corrected\",\"Relocated/Condition Corrected\",\"Relocated/Condition Corrected\",\"Relocated/Condition Corrected\",\"Relocated/Condition Corrected\",\"Relocated/Condition Corrected\",\"Relocated/Condition Corrected\",\"Relocated/Condition Corrected\",\"Relocated/Condition Corrected\",\"Relocated/Condition Corrected\",\"Relocated/Condition Corrected\",\"Unfounded\",\"Unfounded\",\"Unfounded\",\"Unfounded\",\"Unfounded\",\"Unfounded\",\"Unfounded\",\"Unfounded\",\"Monitored Animal\",\"Rehabilitator\",\"Rehabilitator\",\"Relocated/Condition Corrected\",\"Relocated/Condition Corrected\",\"Unfounded\",\"Animal Care Center\",\"Animal Care Center\",\"Animal Care Center\",\"Monitored Animal\",\"Monitored Animal\",\"Monitored Animal\",\"Monitored Animal\",\"Monitored Animal\",\"Monitored Animal\",\"Monitored Animal\",\"Monitored Animal\",\"Monitored Animal\",\"Monitored Animal\",\"Monitored Animal\",\"Monitored Animal\",\"Monitored Animal\",\"Monitored Animal\",\"Monitored Animal\",\"Monitored Animal\",\"Monitored Animal\",\"Monitored Animal\",\"Monitored Animal\",\"Monitored Animal\",\"Monitored Animal\",\"Rehabilitator\",\"Rehabilitator\",\"Rehabilitator\",\"Rehabilitator\",\"Relocated/Condition Corrected\",\"Relocated/Condition Corrected\",\"Relocated/Condition Corrected\",\"Unfounded\",\"Unfounded\",\"Monitored Animal\",\"Submitted for DEC Testing\",\"Unfounded\"],\"legendgroup\":\"\",\"name\":\"\",\"showlegend\":true,\"type\":\"pie\"}],                        {\"legend\":{\"tracegroupgap\":0},\"margin\":{\"t\":60},\"template\":{\"data\":{\"bar\":[{\"error_x\":{\"color\":\"#2a3f5f\"},\"error_y\":{\"color\":\"#2a3f5f\"},\"marker\":{\"line\":{\"color\":\"#E5ECF6\",\"width\":0.5},\"pattern\":{\"fillmode\":\"overlay\",\"size\":10,\"solidity\":0.2}},\"type\":\"bar\"}],\"barpolar\":[{\"marker\":{\"line\":{\"color\":\"#E5ECF6\",\"width\":0.5},\"pattern\":{\"fillmode\":\"overlay\",\"size\":10,\"solidity\":0.2}},\"type\":\"barpolar\"}],\"carpet\":[{\"aaxis\":{\"endlinecolor\":\"#2a3f5f\",\"gridcolor\":\"white\",\"linecolor\":\"white\",\"minorgridcolor\":\"white\",\"startlinecolor\":\"#2a3f5f\"},\"baxis\":{\"endlinecolor\":\"#2a3f5f\",\"gridcolor\":\"white\",\"linecolor\":\"white\",\"minorgridcolor\":\"white\",\"startlinecolor\":\"#2a3f5f\"},\"type\":\"carpet\"}],\"choropleth\":[{\"colorbar\":{\"outlinewidth\":0,\"ticks\":\"\"},\"type\":\"choropleth\"}],\"contour\":[{\"colorbar\":{\"outlinewidth\":0,\"ticks\":\"\"},\"colorscale\":[[0.0,\"#0d0887\"],[0.1111111111111111,\"#46039f\"],[0.2222222222222222,\"#7201a8\"],[0.3333333333333333,\"#9c179e\"],[0.4444444444444444,\"#bd3786\"],[0.5555555555555556,\"#d8576b\"],[0.6666666666666666,\"#ed7953\"],[0.7777777777777778,\"#fb9f3a\"],[0.8888888888888888,\"#fdca26\"],[1.0,\"#f0f921\"]],\"type\":\"contour\"}],\"contourcarpet\":[{\"colorbar\":{\"outlinewidth\":0,\"ticks\":\"\"},\"type\":\"contourcarpet\"}],\"heatmap\":[{\"colorbar\":{\"outlinewidth\":0,\"ticks\":\"\"},\"colorscale\":[[0.0,\"#0d0887\"],[0.1111111111111111,\"#46039f\"],[0.2222222222222222,\"#7201a8\"],[0.3333333333333333,\"#9c179e\"],[0.4444444444444444,\"#bd3786\"],[0.5555555555555556,\"#d8576b\"],[0.6666666666666666,\"#ed7953\"],[0.7777777777777778,\"#fb9f3a\"],[0.8888888888888888,\"#fdca26\"],[1.0,\"#f0f921\"]],\"type\":\"heatmap\"}],\"heatmapgl\":[{\"colorbar\":{\"outlinewidth\":0,\"ticks\":\"\"},\"colorscale\":[[0.0,\"#0d0887\"],[0.1111111111111111,\"#46039f\"],[0.2222222222222222,\"#7201a8\"],[0.3333333333333333,\"#9c179e\"],[0.4444444444444444,\"#bd3786\"],[0.5555555555555556,\"#d8576b\"],[0.6666666666666666,\"#ed7953\"],[0.7777777777777778,\"#fb9f3a\"],[0.8888888888888888,\"#fdca26\"],[1.0,\"#f0f921\"]],\"type\":\"heatmapgl\"}],\"histogram\":[{\"marker\":{\"pattern\":{\"fillmode\":\"overlay\",\"size\":10,\"solidity\":0.2}},\"type\":\"histogram\"}],\"histogram2d\":[{\"colorbar\":{\"outlinewidth\":0,\"ticks\":\"\"},\"colorscale\":[[0.0,\"#0d0887\"],[0.1111111111111111,\"#46039f\"],[0.2222222222222222,\"#7201a8\"],[0.3333333333333333,\"#9c179e\"],[0.4444444444444444,\"#bd3786\"],[0.5555555555555556,\"#d8576b\"],[0.6666666666666666,\"#ed7953\"],[0.7777777777777778,\"#fb9f3a\"],[0.8888888888888888,\"#fdca26\"],[1.0,\"#f0f921\"]],\"type\":\"histogram2d\"}],\"histogram2dcontour\":[{\"colorbar\":{\"outlinewidth\":0,\"ticks\":\"\"},\"colorscale\":[[0.0,\"#0d0887\"],[0.1111111111111111,\"#46039f\"],[0.2222222222222222,\"#7201a8\"],[0.3333333333333333,\"#9c179e\"],[0.4444444444444444,\"#bd3786\"],[0.5555555555555556,\"#d8576b\"],[0.6666666666666666,\"#ed7953\"],[0.7777777777777778,\"#fb9f3a\"],[0.8888888888888888,\"#fdca26\"],[1.0,\"#f0f921\"]],\"type\":\"histogram2dcontour\"}],\"mesh3d\":[{\"colorbar\":{\"outlinewidth\":0,\"ticks\":\"\"},\"type\":\"mesh3d\"}],\"parcoords\":[{\"line\":{\"colorbar\":{\"outlinewidth\":0,\"ticks\":\"\"}},\"type\":\"parcoords\"}],\"pie\":[{\"automargin\":true,\"type\":\"pie\"}],\"scatter\":[{\"marker\":{\"colorbar\":{\"outlinewidth\":0,\"ticks\":\"\"}},\"type\":\"scatter\"}],\"scatter3d\":[{\"line\":{\"colorbar\":{\"outlinewidth\":0,\"ticks\":\"\"}},\"marker\":{\"colorbar\":{\"outlinewidth\":0,\"ticks\":\"\"}},\"type\":\"scatter3d\"}],\"scattercarpet\":[{\"marker\":{\"colorbar\":{\"outlinewidth\":0,\"ticks\":\"\"}},\"type\":\"scattercarpet\"}],\"scattergeo\":[{\"marker\":{\"colorbar\":{\"outlinewidth\":0,\"ticks\":\"\"}},\"type\":\"scattergeo\"}],\"scattergl\":[{\"marker\":{\"colorbar\":{\"outlinewidth\":0,\"ticks\":\"\"}},\"type\":\"scattergl\"}],\"scattermapbox\":[{\"marker\":{\"colorbar\":{\"outlinewidth\":0,\"ticks\":\"\"}},\"type\":\"scattermapbox\"}],\"scatterpolar\":[{\"marker\":{\"colorbar\":{\"outlinewidth\":0,\"ticks\":\"\"}},\"type\":\"scatterpolar\"}],\"scatterpolargl\":[{\"marker\":{\"colorbar\":{\"outlinewidth\":0,\"ticks\":\"\"}},\"type\":\"scatterpolargl\"}],\"scatterternary\":[{\"marker\":{\"colorbar\":{\"outlinewidth\":0,\"ticks\":\"\"}},\"type\":\"scatterternary\"}],\"surface\":[{\"colorbar\":{\"outlinewidth\":0,\"ticks\":\"\"},\"colorscale\":[[0.0,\"#0d0887\"],[0.1111111111111111,\"#46039f\"],[0.2222222222222222,\"#7201a8\"],[0.3333333333333333,\"#9c179e\"],[0.4444444444444444,\"#bd3786\"],[0.5555555555555556,\"#d8576b\"],[0.6666666666666666,\"#ed7953\"],[0.7777777777777778,\"#fb9f3a\"],[0.8888888888888888,\"#fdca26\"],[1.0,\"#f0f921\"]],\"type\":\"surface\"}],\"table\":[{\"cells\":{\"fill\":{\"color\":\"#EBF0F8\"},\"line\":{\"color\":\"white\"}},\"header\":{\"fill\":{\"color\":\"#C8D4E3\"},\"line\":{\"color\":\"white\"}},\"type\":\"table\"}]},\"layout\":{\"annotationdefaults\":{\"arrowcolor\":\"#2a3f5f\",\"arrowhead\":0,\"arrowwidth\":1},\"autotypenumbers\":\"strict\",\"coloraxis\":{\"colorbar\":{\"outlinewidth\":0,\"ticks\":\"\"}},\"colorscale\":{\"diverging\":[[0,\"#8e0152\"],[0.1,\"#c51b7d\"],[0.2,\"#de77ae\"],[0.3,\"#f1b6da\"],[0.4,\"#fde0ef\"],[0.5,\"#f7f7f7\"],[0.6,\"#e6f5d0\"],[0.7,\"#b8e186\"],[0.8,\"#7fbc41\"],[0.9,\"#4d9221\"],[1,\"#276419\"]],\"sequential\":[[0.0,\"#0d0887\"],[0.1111111111111111,\"#46039f\"],[0.2222222222222222,\"#7201a8\"],[0.3333333333333333,\"#9c179e\"],[0.4444444444444444,\"#bd3786\"],[0.5555555555555556,\"#d8576b\"],[0.6666666666666666,\"#ed7953\"],[0.7777777777777778,\"#fb9f3a\"],[0.8888888888888888,\"#fdca26\"],[1.0,\"#f0f921\"]],\"sequentialminus\":[[0.0,\"#0d0887\"],[0.1111111111111111,\"#46039f\"],[0.2222222222222222,\"#7201a8\"],[0.3333333333333333,\"#9c179e\"],[0.4444444444444444,\"#bd3786\"],[0.5555555555555556,\"#d8576b\"],[0.6666666666666666,\"#ed7953\"],[0.7777777777777778,\"#fb9f3a\"],[0.8888888888888888,\"#fdca26\"],[1.0,\"#f0f921\"]]},\"colorway\":[\"#636efa\",\"#EF553B\",\"#00cc96\",\"#ab63fa\",\"#FFA15A\",\"#19d3f3\",\"#FF6692\",\"#B6E880\",\"#FF97FF\",\"#FECB52\"],\"font\":{\"color\":\"#2a3f5f\"},\"geo\":{\"bgcolor\":\"white\",\"lakecolor\":\"white\",\"landcolor\":\"#E5ECF6\",\"showlakes\":true,\"showland\":true,\"subunitcolor\":\"white\"},\"hoverlabel\":{\"align\":\"left\"},\"hovermode\":\"closest\",\"mapbox\":{\"style\":\"light\"},\"paper_bgcolor\":\"white\",\"plot_bgcolor\":\"#E5ECF6\",\"polar\":{\"angularaxis\":{\"gridcolor\":\"white\",\"linecolor\":\"white\",\"ticks\":\"\"},\"bgcolor\":\"#E5ECF6\",\"radialaxis\":{\"gridcolor\":\"white\",\"linecolor\":\"white\",\"ticks\":\"\"}},\"scene\":{\"xaxis\":{\"backgroundcolor\":\"#E5ECF6\",\"gridcolor\":\"white\",\"gridwidth\":2,\"linecolor\":\"white\",\"showbackground\":true,\"ticks\":\"\",\"zerolinecolor\":\"white\"},\"yaxis\":{\"backgroundcolor\":\"#E5ECF6\",\"gridcolor\":\"white\",\"gridwidth\":2,\"linecolor\":\"white\",\"showbackground\":true,\"ticks\":\"\",\"zerolinecolor\":\"white\"},\"zaxis\":{\"backgroundcolor\":\"#E5ECF6\",\"gridcolor\":\"white\",\"gridwidth\":2,\"linecolor\":\"white\",\"showbackground\":true,\"ticks\":\"\",\"zerolinecolor\":\"white\"}},\"shapedefaults\":{\"line\":{\"color\":\"#2a3f5f\"}},\"ternary\":{\"aaxis\":{\"gridcolor\":\"white\",\"linecolor\":\"white\",\"ticks\":\"\"},\"baxis\":{\"gridcolor\":\"white\",\"linecolor\":\"white\",\"ticks\":\"\"},\"bgcolor\":\"#E5ECF6\",\"caxis\":{\"gridcolor\":\"white\",\"linecolor\":\"white\",\"ticks\":\"\"}},\"title\":{\"x\":0.05},\"xaxis\":{\"automargin\":true,\"gridcolor\":\"white\",\"linecolor\":\"white\",\"ticks\":\"\",\"title\":{\"standoff\":15},\"zerolinecolor\":\"white\",\"zerolinewidth\":2},\"yaxis\":{\"automargin\":true,\"gridcolor\":\"white\",\"linecolor\":\"white\",\"ticks\":\"\",\"title\":{\"standoff\":15},\"zerolinecolor\":\"white\",\"zerolinewidth\":2}}}},                        {\"responsive\": true}                    ).then(function(){\n",
       "                            \n",
       "var gd = document.getElementById('379f7b4a-50ce-47c2-9a07-4d914f7372b6');\n",
       "var x = new MutationObserver(function (mutations, observer) {{\n",
       "        var display = window.getComputedStyle(gd).display;\n",
       "        if (!display || display === 'none') {{\n",
       "            console.log([gd, 'removed!']);\n",
       "            Plotly.purge(gd);\n",
       "            observer.disconnect();\n",
       "        }}\n",
       "}});\n",
       "\n",
       "// Listen for the removal of the full notebook cells\n",
       "var notebookContainer = gd.closest('#notebook-container');\n",
       "if (notebookContainer) {{\n",
       "    x.observe(notebookContainer, {childList: true});\n",
       "}}\n",
       "\n",
       "// Listen for the clearing of the current output cell\n",
       "var outputEl = gd.closest('.output');\n",
       "if (outputEl) {{\n",
       "    x.observe(outputEl, {childList: true});\n",
       "}}\n",
       "\n",
       "                        })                };                });            </script>        </div>"
      ]
     },
     "metadata": {},
     "output_type": "display_data"
    }
   ],
   "source": [
    "px.pie(data_frame=df, names= 'Final Ranger Action')"
   ]
  },
  {
   "cell_type": "code",
   "execution_count": null,
   "id": "4a120fa5",
   "metadata": {},
   "outputs": [],
   "source": []
  }
 ],
 "metadata": {
  "kernelspec": {
   "display_name": "Python 3 (ipykernel)",
   "language": "python",
   "name": "python3"
  },
  "language_info": {
   "codemirror_mode": {
    "name": "ipython",
    "version": 3
   },
   "file_extension": ".py",
   "mimetype": "text/x-python",
   "name": "python",
   "nbconvert_exporter": "python",
   "pygments_lexer": "ipython3",
   "version": "3.8.6"
  },
  "varInspector": {
   "cols": {
    "lenName": 16,
    "lenType": 16,
    "lenVar": 40
   },
   "kernels_config": {
    "python": {
     "delete_cmd_postfix": "",
     "delete_cmd_prefix": "del ",
     "library": "var_list.py",
     "varRefreshCmd": "print(var_dic_list())"
    },
    "r": {
     "delete_cmd_postfix": ") ",
     "delete_cmd_prefix": "rm(",
     "library": "var_list.r",
     "varRefreshCmd": "cat(var_dic_list()) "
    }
   },
   "types_to_exclude": [
    "module",
    "function",
    "builtin_function_or_method",
    "instance",
    "_Feature"
   ],
   "window_display": false
  }
 },
 "nbformat": 4,
 "nbformat_minor": 5
}
