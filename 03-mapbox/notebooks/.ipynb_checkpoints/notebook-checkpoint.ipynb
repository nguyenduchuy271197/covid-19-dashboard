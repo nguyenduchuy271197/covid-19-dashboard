{
 "cells": [
  {
   "cell_type": "code",
   "execution_count": 1,
   "id": "a1854e22",
   "metadata": {},
   "outputs": [],
   "source": [
    "import pandas as pd\n",
    "import plotly.express as px"
   ]
  },
  {
   "cell_type": "code",
   "execution_count": 2,
   "id": "eecbe8bf",
   "metadata": {},
   "outputs": [],
   "source": [
    "df = pd.read_csv(\"../data/finalrecycling.csv\")"
   ]
  },
  {
   "cell_type": "code",
   "execution_count": 3,
   "id": "ebbb82a7",
   "metadata": {},
   "outputs": [
    {
     "data": {
      "text/html": [
       "<div>\n",
       "<style scoped>\n",
       "    .dataframe tbody tr th:only-of-type {\n",
       "        vertical-align: middle;\n",
       "    }\n",
       "\n",
       "    .dataframe tbody tr th {\n",
       "        vertical-align: top;\n",
       "    }\n",
       "\n",
       "    .dataframe thead th {\n",
       "        text-align: right;\n",
       "    }\n",
       "</style>\n",
       "<table border=\"1\" class=\"dataframe\">\n",
       "  <thead>\n",
       "    <tr style=\"text-align: right;\">\n",
       "      <th></th>\n",
       "      <th>name_location</th>\n",
       "      <th>website</th>\n",
       "      <th>boro</th>\n",
       "      <th>address_area</th>\n",
       "      <th>latitude</th>\n",
       "      <th>longitude</th>\n",
       "      <th>type</th>\n",
       "      <th>color</th>\n",
       "      <th>hov_txt</th>\n",
       "    </tr>\n",
       "  </thead>\n",
       "  <tbody>\n",
       "    <tr>\n",
       "      <th>0</th>\n",
       "      <td>Mary Mitchell Center</td>\n",
       "      <td>http://themarymitchellfyc.org/</td>\n",
       "      <td>Bronx</td>\n",
       "      <td>2007 Mapes Ave, Bronx 10460</td>\n",
       "      <td>40.844772</td>\n",
       "      <td>-73.887226</td>\n",
       "      <td>compost</td>\n",
       "      <td>#ff00ff</td>\n",
       "      <td>compost&lt;br&gt;Name: Mary Mitchell Center &lt;br&gt;Addr...</td>\n",
       "    </tr>\n",
       "    <tr>\n",
       "      <th>1</th>\n",
       "      <td>Bronx Borough Hall Greenmarket</td>\n",
       "      <td>http://www.grownyc.org/compost/locations</td>\n",
       "      <td>Bronx</td>\n",
       "      <td>Grand Concourse and 161 St, Bronx, NY, 10451</td>\n",
       "      <td>40.826920</td>\n",
       "      <td>-73.922504</td>\n",
       "      <td>compost</td>\n",
       "      <td>#ff00ff</td>\n",
       "      <td>compost&lt;br&gt;Name: Bronx Borough Hall Greenmarke...</td>\n",
       "    </tr>\n",
       "    <tr>\n",
       "      <th>2</th>\n",
       "      <td>Compost drop off BronxWorks</td>\n",
       "      <td>http://www.grownyc.org/compost/locations</td>\n",
       "      <td>Bronx</td>\n",
       "      <td>1130 Grand Concourse</td>\n",
       "      <td>40.832640</td>\n",
       "      <td>-73.918774</td>\n",
       "      <td>compost</td>\n",
       "      <td>#ff00ff</td>\n",
       "      <td>compost&lt;br&gt;Name: Compost drop off BronxWorks &lt;...</td>\n",
       "    </tr>\n",
       "    <tr>\n",
       "      <th>3</th>\n",
       "      <td>Learn it, Grow it, Eat it Youthmarket</td>\n",
       "      <td>http://www.grownyc.org/compost/locations</td>\n",
       "      <td>Bronx</td>\n",
       "      <td>McKinley Sq. at 169th St. &amp; Boston Road</td>\n",
       "      <td>40.831202</td>\n",
       "      <td>-73.900413</td>\n",
       "      <td>compost</td>\n",
       "      <td>#ff00ff</td>\n",
       "      <td>compost&lt;br&gt;Name: Learn it, Grow it, Eat it You...</td>\n",
       "    </tr>\n",
       "    <tr>\n",
       "      <th>4</th>\n",
       "      <td>Parkchester Greenmarket</td>\n",
       "      <td>http://www.grownyc.org/compost/locations</td>\n",
       "      <td>Bronx</td>\n",
       "      <td>White Plains Rd &amp; Westchester Ave, Bronx, NY 1...</td>\n",
       "      <td>40.833022</td>\n",
       "      <td>-73.862728</td>\n",
       "      <td>compost</td>\n",
       "      <td>#ff00ff</td>\n",
       "      <td>compost&lt;br&gt;Name: Parkchester Greenmarket&lt;br&gt;Ad...</td>\n",
       "    </tr>\n",
       "  </tbody>\n",
       "</table>\n",
       "</div>"
      ],
      "text/plain": [
       "                           name_location  \\\n",
       "0                  Mary Mitchell Center    \n",
       "1         Bronx Borough Hall Greenmarket   \n",
       "2           Compost drop off BronxWorks    \n",
       "3  Learn it, Grow it, Eat it Youthmarket   \n",
       "4                Parkchester Greenmarket   \n",
       "\n",
       "                                    website   boro  \\\n",
       "0            http://themarymitchellfyc.org/  Bronx   \n",
       "1  http://www.grownyc.org/compost/locations  Bronx   \n",
       "2  http://www.grownyc.org/compost/locations  Bronx   \n",
       "3  http://www.grownyc.org/compost/locations  Bronx   \n",
       "4  http://www.grownyc.org/compost/locations  Bronx   \n",
       "\n",
       "                                        address_area   latitude  longitude  \\\n",
       "0                        2007 Mapes Ave, Bronx 10460  40.844772 -73.887226   \n",
       "1       Grand Concourse and 161 St, Bronx, NY, 10451  40.826920 -73.922504   \n",
       "2                               1130 Grand Concourse  40.832640 -73.918774   \n",
       "3            McKinley Sq. at 169th St. & Boston Road  40.831202 -73.900413   \n",
       "4  White Plains Rd & Westchester Ave, Bronx, NY 1...  40.833022 -73.862728   \n",
       "\n",
       "      type    color                                            hov_txt  \n",
       "0  compost  #ff00ff  compost<br>Name: Mary Mitchell Center <br>Addr...  \n",
       "1  compost  #ff00ff  compost<br>Name: Bronx Borough Hall Greenmarke...  \n",
       "2  compost  #ff00ff  compost<br>Name: Compost drop off BronxWorks <...  \n",
       "3  compost  #ff00ff  compost<br>Name: Learn it, Grow it, Eat it You...  \n",
       "4  compost  #ff00ff  compost<br>Name: Parkchester Greenmarket<br>Ad...  "
      ]
     },
     "execution_count": 3,
     "metadata": {},
     "output_type": "execute_result"
    }
   ],
   "source": [
    "df.head()"
   ]
  },
  {
   "cell_type": "code",
   "execution_count": 5,
   "id": "132a4c43",
   "metadata": {},
   "outputs": [],
   "source": [
    "display_df = df[[\"boro\", \"type\", \"latitude\", \"longitude\", \"color\"]]"
   ]
  },
  {
   "cell_type": "code",
   "execution_count": 6,
   "id": "d926bb7e",
   "metadata": {},
   "outputs": [
    {
     "data": {
      "text/html": [
       "<div>\n",
       "<style scoped>\n",
       "    .dataframe tbody tr th:only-of-type {\n",
       "        vertical-align: middle;\n",
       "    }\n",
       "\n",
       "    .dataframe tbody tr th {\n",
       "        vertical-align: top;\n",
       "    }\n",
       "\n",
       "    .dataframe thead th {\n",
       "        text-align: right;\n",
       "    }\n",
       "</style>\n",
       "<table border=\"1\" class=\"dataframe\">\n",
       "  <thead>\n",
       "    <tr style=\"text-align: right;\">\n",
       "      <th></th>\n",
       "      <th>boro</th>\n",
       "      <th>type</th>\n",
       "      <th>latitude</th>\n",
       "      <th>longitude</th>\n",
       "      <th>color</th>\n",
       "    </tr>\n",
       "  </thead>\n",
       "  <tbody>\n",
       "    <tr>\n",
       "      <th>0</th>\n",
       "      <td>Bronx</td>\n",
       "      <td>compost</td>\n",
       "      <td>40.844772</td>\n",
       "      <td>-73.887226</td>\n",
       "      <td>#ff00ff</td>\n",
       "    </tr>\n",
       "    <tr>\n",
       "      <th>1</th>\n",
       "      <td>Bronx</td>\n",
       "      <td>compost</td>\n",
       "      <td>40.826920</td>\n",
       "      <td>-73.922504</td>\n",
       "      <td>#ff00ff</td>\n",
       "    </tr>\n",
       "    <tr>\n",
       "      <th>2</th>\n",
       "      <td>Bronx</td>\n",
       "      <td>compost</td>\n",
       "      <td>40.832640</td>\n",
       "      <td>-73.918774</td>\n",
       "      <td>#ff00ff</td>\n",
       "    </tr>\n",
       "    <tr>\n",
       "      <th>3</th>\n",
       "      <td>Bronx</td>\n",
       "      <td>compost</td>\n",
       "      <td>40.831202</td>\n",
       "      <td>-73.900413</td>\n",
       "      <td>#ff00ff</td>\n",
       "    </tr>\n",
       "    <tr>\n",
       "      <th>4</th>\n",
       "      <td>Bronx</td>\n",
       "      <td>compost</td>\n",
       "      <td>40.833022</td>\n",
       "      <td>-73.862728</td>\n",
       "      <td>#ff00ff</td>\n",
       "    </tr>\n",
       "  </tbody>\n",
       "</table>\n",
       "</div>"
      ],
      "text/plain": [
       "    boro     type   latitude  longitude    color\n",
       "0  Bronx  compost  40.844772 -73.887226  #ff00ff\n",
       "1  Bronx  compost  40.826920 -73.922504  #ff00ff\n",
       "2  Bronx  compost  40.832640 -73.918774  #ff00ff\n",
       "3  Bronx  compost  40.831202 -73.900413  #ff00ff\n",
       "4  Bronx  compost  40.833022 -73.862728  #ff00ff"
      ]
     },
     "execution_count": 6,
     "metadata": {},
     "output_type": "execute_result"
    }
   ],
   "source": [
    "display_df.head()"
   ]
  },
  {
   "cell_type": "code",
   "execution_count": 64,
   "id": "a043fc8b",
   "metadata": {},
   "outputs": [],
   "source": [
    "import plotly.graph_objects as go"
   ]
  },
  {
   "cell_type": "code",
   "execution_count": 114,
   "id": "7166c26b",
   "metadata": {},
   "outputs": [
    {
     "data": {
      "application/vnd.plotly.v1+json": {
       "config": {
        "plotlyServerURL": "https://plot.ly"
       },
       "data": [
        {
         "customdata": [
          "http://themarymitchellfyc.org/",
          "http://www.grownyc.org/compost/locations",
          "http://www.grownyc.org/compost/locations",
          "http://www.grownyc.org/compost/locations",
          "http://www.grownyc.org/compost/locations",
          "http://www.grownyc.org/compost/locations",
          "http://www.lehman.edu/administration/sustainability/food-scrap-drop-off.php",
          "https://newsettlement.org/food/170farmstand/",
          "https://www.facebook.com/kellyst.garden/",
          "https://www.grownyc.org/compost/locations",
          "https://www.grownyc.org/compost/locations",
          "https://www.grownyc.org/compost/locations; http://www.lafamiliaverde.org/",
          "https://www.grownyc.org/compost-go",
          "https://www.grownyc.org/compost-go",
          "https://www.grownyc.org/compost-go",
          "https://www.grownyc.org/compost-go",
          "https://www.grownyc.org/compost-go",
          "https://www.grownyc.org/compost-go",
          "https://www.grownyc.org/greenmarket/bronx/fordham",
          null,
          null,
          null,
          null,
          null,
          "http://eastfourthstreetgarden.tumblr.com/",
          "http://www.added-value.org/compost",
          "http://www.bigreuse.org/compost/drop-off-list/",
          "http://www.grownyc.org/compost/locations",
          "http://www.grownyc.org/compost/locations",
          "http://www.grownyc.org/compost/locations",
          "http://www.grownyc.org/compost/locations",
          "http://www.grownyc.org/compost/locations",
          "http://www.grownyc.org/compost/locations",
          "http://www.parkchurchcoop.org",
          "https://ucceny.org/enyf/",
          "https://ucceny.org/enyf/",
          "https://ucceny.org/enyf/",
          "https://www.grownyc.org/greenmarket/brooklyn/parkside",
          "http://www.462halsey.com/compost/",
          "https://www.phcfarm.com/gardening-info/composting/",
          "https://www.qgardens.org",
          "https://www.riseboro.org/rb/health/bushwick_cooks/bushwick-grows-community-farm/",
          "https://wyckoffmuseum.org/",
          null,
          null,
          null,
          null,
          "http://bryantpark.org/programs/waste-sorting-concierge",
          "http://m.facebook.com/pleasantvillagecommunitygarden",
          "http://www.bigreuse.org/compost/drop-off-list/",
          "http://www.grownyc.org/compost/locations",
          "http://www.grownyc.org/compost/locations",
          "http://www.grownyc.org/compost/locations",
          "http://www.grownyc.org/compost/locations",
          "http://www.grownyc.org/compost/locations",
          "http://www.grownyc.org/compost/locations",
          "http://www.grownyc.org/compost/locations",
          "http://www.grownyc.org/compost/locations",
          "http://www.grownyc.org/compost/locations",
          "http://www.grownyc.org/compost/locations",
          "http://www.grownyc.org/compost/locations",
          "http://www.grownyc.org/compost/locations",
          "http://www.grownyc.org/compost/locations",
          "http://www.grownyc.org/compost/locations",
          "http://www.grownyc.org/compost/locations",
          "http://www.grownyc.org/greenmarketco/foodbox",
          "http://www.grownyc.org/greenmarketco/foodbox",
          "http://www.harlemgrown.org/",
          "http://www.lesecologycenter.org/programs/compost/compost-drop-off-locations/",
          "http://www.mkgarden.org",
          "http://www.nyrp.org",
          "http://www.reclaimedorganics.org/QTVMZ/garden",
          "https://brotherhood-sistersol.org/",
          "https://earthmatter.org/nyc-compost-project/",
          "https://earthmatter.org/nyc-compost-project/",
          "https://holyapostlessoupkitchen.org",
          "https://hudsonriverpark.org/explore-the-park/community-compost-program",
          "https://morrisjumelcommunitygarden.wordpress.com/",
          "https://www.14streety.org/about-us/sustainability/",
          "https://www.bj.org",
          "https://www.facebook.com/lydiasmagicgarden/",
          "https://www.grownyc.org/compost/locations",
          "https://www.grownyc.org/compost-go",
          "https://www.grownyc.org/compost-go",
          "https://www.grownyc.org/compost-go",
          "https://www.grownyc.org/compost-go",
          "https://www.grownyc.org/compost-go",
          "https://www.grownyc.org/compost-go",
          "https://www.grownyc.org/compost-go",
          "https://www.grownyc.org/compost-go",
          "https://www.grownyc.org/compost-go",
          "https://www.grownyc.org/compost-go",
          "https://www.hudsonriverpark.org/",
          "https://www.hudsonriverpark.org/",
          "https://www.hudsonriverpark.org/",
          "https://www.hudsonriverpark.org/",
          "https://www.hudsonriverpark.org/",
          "https://www.hudsonriverpark.org/",
          "https://www.hudsonriverpark.org/",
          "https://www.laplazacultural.com",
          "https://www.lesecologycenter.org/programs/compost/compost-drop-off-locations/",
          "https://www.lesecologycenter.org/programs/compost/compost-drop-off-locations/",
          "https://www.lesecologycenter.org/programs/compost/compost-drop-off-locations/",
          "https://www.lesecologycenter.org/programs/compost/compost-drop-off-locations/",
          "https://www.lesecologycenter.org/programs/compost/compost-drop-off-locations/",
          "https://www.lesecologycenter.org/programs/compost/compost-drop-off-locations/",
          "https://www.lesecologycenter.org/programs/compost/compost-drop-off-locations/",
          "https://www.lesecologycenter.org/programs/compost/compost-drop-off-locations/",
          null,
          null,
          null,
          null,
          null,
          null,
          null,
          null,
          null,
          "http://queensfarm.org/",
          "http://www.bigreuse.org/compost/drop-off-list/",
          "http://www.bigreuse.org/compost/drop-off-list/",
          "http://www.bigreuse.org/compost/drop-off-list/",
          "http://www.bigreuse.org/compost/drop-off-list/",
          "http://www.bigreuse.org/compost/drop-off-list/",
          "http://www.bigreuse.org/compost/drop-off-list/",
          "http://www.bigreuse.org/compost/drop-off-list/",
          "http://www.bigreuse.org/compost/drop-off-list/",
          "http://www.bigreuse.org/compost/drop-off-list/",
          "http://www.edgemerefarm.org/",
          "http://www.grownyc.org/compost/locations",
          "http://www.grownyc.org/greenmarket/queens/corona",
          "http://www.jhbg.org/2012/12/23/jh-scraps-a-community-composting-project",
          "https://queensbotanical.org",
          "https://queensbotanical.org",
          "https://queensbotanical.org",
          "https://www.brooklyngrangefarm.com",
          "https://www.hellgatefarm.com/",
          "https://www.rwalliance.org",
          null,
          null,
          null,
          null,
          null,
          "http://snug-harbor.org/compost/",
          "http://www.grownyc.org/compost/locations",
          "http://www.grownyc.org/compost/locations",
          "https://www.facebook.com/pg/Olivet-Heavenly-Harvest-304779173301345/about/",
          "http://satruck.org/donate-goods",
          "http://satruck.org/donate-goods",
          "http://satruck.org/donate-goods",
          "http://satruck.org/donate-goods",
          "http://www.bestbuy.com/recycle",
          "http://www.bestbuy.com/recycle",
          "http://www.staples.com/recycle",
          "http://www.staples.com/recycle",
          "http://www.staples.com/recycle",
          "https://www.goodwillnynj.org/donate-goods",
          "http://satruck.org/donate-goods",
          "http://satruck.org/donate-goods",
          "http://satruck.org/donate-goods",
          "http://satruck.org/donate-goods",
          "http://satruck.org/donate-goods",
          "http://satruck.org/donate-goods",
          "http://www.bestbuy.com/recycle",
          "http://www.bestbuy.com/recycle",
          "http://www.bestbuy.com/recycle",
          "http://www.bestbuy.com/recycle",
          "http://www.staples.com/recycle",
          "http://www.staples.com/recycle",
          "http://www.staples.com/recycle",
          "http://www.staples.com/recycle",
          "http://www.staples.com/recycle",
          "http://www.staples.com/recycle",
          "http://www.staples.com/recycle",
          "http://www.staples.com/recycle",
          "http://www.staples.com/recycle",
          "https://www.goodwillnynj.org/donate-goods",
          "https://www.goodwillnynj.org/donate-goods",
          "https://www.lesecologycenter.org/programs/ewaste/ewaste-faq/",
          "http://satruck.org/donate-goods",
          "http://satruck.org/donate-goods",
          "http://satruck.org/donate-goods",
          "http://satruck.org/donate-goods",
          "http://satruck.org/donate-goods",
          "http://satruck.org/donate-goods",
          "http://www.bestbuy.com/recycle",
          "http://www.bestbuy.com/recycle",
          "http://www.bestbuy.com/recycle",
          "http://www.bestbuy.com/recycle",
          "http://www.bestbuy.com/recycle",
          "http://www.bestbuy.com/recycle",
          "http://www.staples.com/recycle",
          "http://www.staples.com/recycle",
          "http://www.staples.com/recycle",
          "http://www.staples.com/recycle",
          "http://www.staples.com/recycle",
          "http://www.staples.com/recycle",
          "http://www.staples.com/recycle",
          "http://www.staples.com/recycle",
          "http://www.staples.com/recycle",
          "http://www.staples.com/recycle",
          "http://www.staples.com/recycle",
          "http://www.staples.com/recycle",
          "http://www.staples.com/recycle",
          "http://www.staples.com/recycle",
          "http://www.staples.com/recycle",
          "http://www.staples.com/recycle",
          "https://www.goodwillnynj.org/donate-goods",
          "https://www.goodwillnynj.org/donate-goods",
          "https://www.goodwillnynj.org/donate-goods",
          "https://www.goodwillnynj.org/donate-goods",
          "https://www.goodwillnynj.org/donate-goods",
          "https://www.goodwillnynj.org/donate-goods",
          "https://www.goodwillnynj.org/donate-goods",
          "https://www.goodwillnynj.org/donate-goods",
          "https://www.goodwillnynj.org/donate-goods",
          "http://satruck.org/donate-goods",
          "http://satruck.org/donate-goods",
          "http://satruck.org/donate-goods",
          "http://www.bestbuy.com/recycle",
          "http://www.bestbuy.com/recycle",
          "http://www.bestbuy.com/recycle",
          "http://www.staples.com/recycle",
          "http://www.staples.com/recycle",
          "http://www.staples.com/recycle",
          "http://www.staples.com/recycle",
          "http://www.staples.com/recycle",
          "http://www.staples.com/recycle",
          "http://www.staples.com/recycle",
          "http://www.staples.com/recycle",
          "http://www.staples.com/recycle",
          "http://www.staples.com/recycle",
          "http://www.staples.com/recycle",
          "http://www.staples.com/recycle",
          "https://www.goodwillnynj.org/donate-goods",
          "https://www.goodwillnynj.org/donate-goods",
          "http://www.bestbuy.com/recycle",
          "http://www.staples.com/recycle",
          "http://www.staples.com/recycle",
          "http://www.staples.com/recycle",
          "https://www1.nyc.gov/assets/dsny/site/services/harmful-products/special-waste-drop-offs",
          "https://www1.nyc.gov/assets/dsny/site/services/harmful-products/special-waste-drop-offs",
          "https://www1.nyc.gov/assets/dsny/site/services/harmful-products/special-waste-drop-offs",
          "https://www1.nyc.gov/assets/dsny/site/services/harmful-products/special-waste-drop-offs",
          "https://www1.nyc.gov/assets/dsny/site/services/harmful-products/special-waste-drop-offs",
          null,
          null,
          null,
          null,
          null,
          null,
          null,
          null,
          null,
          null,
          null,
          null,
          null,
          null,
          null,
          null,
          null,
          null,
          null,
          null,
          null,
          null,
          null,
          null,
          null,
          null,
          null,
          null,
          null,
          null,
          null,
          null,
          null,
          null,
          null,
          null,
          null,
          null,
          null,
          null,
          null,
          null,
          null,
          null,
          null,
          null,
          null,
          null,
          null,
          null,
          null,
          null,
          null,
          null,
          null,
          null,
          null,
          null,
          null,
          null,
          null,
          null,
          null,
          null,
          null,
          null,
          null,
          null,
          null,
          null,
          null,
          null,
          null,
          null,
          null,
          null,
          null,
          null,
          null,
          null,
          null,
          null,
          null,
          null,
          null,
          null,
          null,
          null,
          null,
          null,
          null,
          null,
          null,
          null,
          null,
          null,
          null,
          null,
          null,
          null,
          null,
          null,
          null,
          null,
          null,
          null,
          null,
          null,
          null,
          null,
          null,
          null,
          null,
          null,
          null,
          null,
          null,
          null,
          null,
          null,
          null,
          null,
          null,
          null,
          null,
          null,
          null,
          null,
          null,
          null,
          null,
          null,
          null,
          null,
          null,
          null,
          null,
          null,
          null,
          null,
          null,
          null,
          null,
          null,
          null,
          null,
          null,
          null,
          null,
          null,
          null,
          null,
          null,
          null,
          null,
          null,
          null,
          null,
          null,
          null,
          null,
          null,
          null,
          null,
          null,
          null,
          null,
          null,
          null,
          null,
          null,
          null,
          null,
          null,
          null,
          null,
          null,
          null,
          null,
          null,
          null,
          null,
          null,
          null,
          null,
          null,
          null,
          null,
          null,
          null,
          null,
          null,
          null,
          null,
          null,
          null,
          null,
          null,
          null,
          null,
          null,
          null,
          null,
          null,
          null,
          null,
          null,
          null,
          null,
          null,
          null,
          null,
          null,
          null,
          null,
          null,
          null,
          null,
          null,
          null,
          null,
          null,
          null,
          null,
          null,
          null,
          null,
          null,
          null,
          null,
          null,
          null,
          null,
          null,
          null,
          null,
          null,
          null,
          null,
          null,
          null,
          null,
          null,
          null,
          null,
          null,
          null,
          null,
          null,
          null,
          null,
          null,
          null,
          null,
          null,
          null,
          null,
          null,
          null,
          null,
          null,
          null,
          null,
          null,
          null,
          null,
          null,
          null,
          null,
          null,
          null,
          null,
          null,
          null,
          null,
          null,
          null,
          null,
          null,
          null,
          null,
          null,
          null,
          null,
          null,
          null,
          null,
          null,
          null,
          null,
          null,
          null,
          null,
          null,
          null,
          null,
          null,
          null,
          null,
          null,
          null,
          null,
          null,
          null,
          null,
          null,
          null,
          null,
          null,
          null,
          null,
          null,
          null,
          null,
          null,
          null,
          null,
          null,
          null,
          null,
          null,
          null,
          null,
          null,
          null,
          null,
          null,
          null,
          null,
          null,
          null,
          null,
          null,
          null,
          null,
          null,
          null,
          null,
          null,
          null,
          null,
          null,
          null,
          null,
          null,
          null,
          null,
          null,
          null,
          null,
          null,
          null,
          null,
          null,
          null,
          null,
          null,
          null,
          null,
          null,
          null,
          null,
          null,
          null,
          null,
          null,
          null,
          null,
          null,
          null,
          null,
          null,
          null,
          null,
          null,
          null,
          null,
          null,
          null,
          null,
          null,
          null,
          null,
          null,
          null,
          null,
          null,
          null,
          null,
          null,
          null,
          null,
          null,
          null,
          null,
          null,
          null,
          null,
          null,
          null,
          null,
          null,
          null,
          null,
          null,
          null,
          null,
          null,
          null,
          null,
          null,
          null,
          null,
          null,
          null,
          null,
          null,
          null,
          null,
          null,
          null,
          null,
          null,
          null,
          null,
          null,
          null,
          null,
          null,
          null,
          null,
          null,
          null,
          null,
          null,
          null,
          null,
          null,
          null,
          null,
          null,
          null,
          null,
          null,
          null,
          null,
          null,
          null,
          null,
          null,
          null,
          null,
          null,
          null,
          null,
          null,
          null,
          null,
          null,
          null,
          null,
          null,
          null,
          null,
          null,
          null,
          null,
          null,
          null,
          null,
          null,
          null,
          null,
          null,
          null,
          null,
          null,
          null,
          null,
          null,
          null,
          null,
          null,
          null,
          null,
          null,
          null,
          null,
          null,
          null,
          null,
          null,
          null,
          null,
          null,
          null,
          null,
          null,
          null,
          null,
          null,
          null,
          null,
          null,
          null,
          null,
          null,
          null,
          null,
          null,
          null,
          null,
          null,
          null,
          null,
          null,
          null,
          null,
          null,
          null,
          null,
          null,
          null,
          null,
          null,
          null,
          null,
          null,
          null,
          null,
          null,
          null,
          null,
          null,
          null,
          null,
          null,
          null,
          null,
          null,
          null,
          null,
          null
         ],
         "hoverinfo": "text",
         "hovertext": [
          "compost<br>Name: Mary Mitchell Center <br>Address: 2007 Mapes Ave, Bronx 10460",
          "compost<br>Name: Bronx Borough Hall Greenmarket<br>Address: Grand Concourse and 161 St, Bronx, NY, 10451",
          "compost<br>Name: Compost drop off BronxWorks <br>Address: 1130 Grand Concourse",
          "compost<br>Name: Learn it, Grow it, Eat it Youthmarket<br>Address: McKinley Sq. at 169th St. & Boston Road",
          "compost<br>Name: Parkchester Greenmarket<br>Address: White Plains Rd & Westchester Ave, Bronx, NY 10472",
          "compost<br>Name: Poe Park Greenmarket<br>Address: E. 192 St. btwn Grand Concourse and Valentine, Bronx, NY, 10468",
          "compost<br>Name: Compost drop off Lehman College<br>Address: Lehman Quad near Shuster Hall",
          "compost<br>Name: Compost drop off 170 Farmstand<br>Address: Townsend Ave & 170 St",
          "compost<br>Name: Kelly Street Garden<br>Address: 924 Kelly Street",
          "compost<br>Name: Project H.O.P.E. Fresh Food Box<br>Address: 854 Hunts Point Ave",
          "compost<br>Name: Compost drop off We Stay-Nos Quedamos <br>Address: 754 Melrose Avenue",
          "compost<br>Name: La Familia Verde Farmer's Market<br>Address: E Tremont Ave, between Lafontaine and Arthur Aves, Bronx 10457",
          "compost<br>Name: Compost drop off Burnside Ave<br>Address: Burnside Ave, Jerome Ave - SW Corner",
          "compost<br>Name: Compost on-the-go<br>Address: 138th, Brook Ave - NW Corner",
          "compost<br>Name: Compost on-the-go<br>Address: 149th St, Melrose, & 3rd Ave - N Corner",
          "compost<br>Name: Compost on-the-go<br>Address: 161st, River Ave - NE Corner",
          "compost<br>Name: Compost on-the-go<br>Address: Grand Concourse, 149th Street - SE Corner",
          "compost<br>Name: Compost drop off Fordham Road<br>Address: E Fordham Road & Jerome Ave - SE Corner",
          "compost<br>Name: Fordham Plaza Greenmarket<br>Address: E Fordham Rd btw Webster Ave & Third Ave - S",
          "compost<br>Name: Bainbridge Avenue Community Garden<br>Address: 2980 Bainbridge Avenue, Bronx, NY 10458",
          "compost<br>Name: Compost drop off Brook Park<br>Address: 494 East 141 St.",
          "compost<br>Name: Meg's Community Garden in Dewitt Clinton High School Campus<br>Address: 100 West Mosholu Parkway",
          "compost<br>Name: New Roots Community Farm<br>Address: 670 Grand Concourse",
          "compost<br>Name: St. Augustine Food Pantry<br>Address: 1168 Franklin Ave",
          "compost<br>Name: East 4th Street Community Garden<br>Address: 173 East 4th Street",
          "compost<br>Name: Red Hook Community Farm<br>Address: Otsego Street and Beard Street",
          "compost<br>Name: Compost drop off Big Reuse Brooklyn<br>Address: 69 9th St, Brooklyn, NY, 11215",
          "compost<br>Name: Brooklyn Borough Hall Greenmarket <br>Address: Court St & Montague St, Brooklyn, NY 11201",
          "compost<br>Name: Carroll Gardens Greenmarket<br>Address: Carroll St. btwn Smith & Court Sts, Brooklyn, NY 11231",
          "compost<br>Name: Cortelyou Greenmarket<br>Address: Cortelyou Rd at Rugby Rd, Brooklyn, NY, 11226",
          "compost<br>Name: Fort Greene Greenmarket<br>Address: Washington Park between Willoughby Avenue & Dekalb Avenue, Brooklyn, NY 11201",
          "compost<br>Name: Grand Army Plaza Greenmarket<br>Address: Prospect Park West & Plaza Street West, Brooklyn, 11238",
          "compost<br>Name: McCarren Park Greenmarket<br>Address: Union Ave at Driggs Ave,Brooklyn,NY,11222",
          "compost<br>Name: Park Church Co-op<br>Address: Park Church Co-op, 129 Russell Street Brooklyn",
          "compost<br>Name: Bay View Houses Farm<br>Address: 5955 Shore Parkway",
          "compost<br>Name: Pink Houses Community Farm<br>Address: 1257 Loring Avenue",
          "compost<br>Name: UCC Youth Farm<br>Address: 613 New Lots Avenue",
          "compost<br>Name: Compost drop off Parkside<br>Address: Ocean Ave & Parkside Ave, Brooklyn, NY 11226",
          "compost<br>Name: 462 Halsey Community Farm Fresh Food Box<br>Address: 462 Halsey Street",
          "compost<br>Name: Prospect Heights Community Farm<br>Address: 252 St. Marks Ave",
          "compost<br>Name: Q Gardens Community Farm, Inc.<br>Address: 58 E 18th St, Brooklyn, NY 11226",
          "compost<br>Name: Bushwick Grows! Community Garden<br>Address: 1474 Gates Ave",
          "compost<br>Name: Wyckoff Farmhouse Museum<br>Address: 5816 Clarendon Rd",
          "compost<br>Name: Essex Community Garden<br>Address: 3030 Fulton Street",
          "compost<br>Name: Imani Garden<br>Address: 1680 Pacific Street",
          "compost<br>Name: Irving Square Park<br>Address: Corner of Halsey and Knickerbocker",
          "compost<br>Name: Phoenix Community Garden<br>Address: 20 Somers Street",
          "compost<br>Name: Bryant Park<br>Address: 6th Avenue and 41st Sreet",
          "compost<br>Name: Pleasant Village Community Garden<br>Address: 342 Pleasant Ave",
          "compost<br>Name: Roosevelt Island under the Helix<br>Address: 543 West Main Street at the Chapel of the Good Shepherd",
          "compost<br>Name: Compost drop off 175th Street Greenmarket <br>Address: 175th Street between Wadsworth Avenue and Broadway, New York, NY",
          "compost<br>Name: Compost drop off 79th St Greenmarket<br>Address: Columbus Avenue and 79th Street",
          "compost<br>Name: Compost drop off 82nd St Greenmarket [St. Stevens]<br>Address: 82nd Street between 1st and York Avenues",
          "compost<br>Name: Compost drop off 97th Street Greenmarket <br>Address: 97th St between Columbus & Amsterdam, Manhattan",
          "compost<br>Name: Abingdon Square Greenmarket<br>Address: West 12 Street and 8 Avenue,New York,NY,10014",
          "compost<br>Name: Bowling Green Greenmarket<br>Address: Broadway at Battery Place,New York,NY, 10004",
          "compost<br>Name: Columbia University Greenmarket<br>Address: Broadway at West 114 St,New York,NY,10025",
          "compost<br>Name: Compost on-the-go Greenmarket<br>Address: 10th Avenue & West 57th Street",
          "compost<br>Name: Compost on-the-go Greenmarket<br>Address: 1st Ave between 92nd and 93rd St,New York,NY,10128",
          "compost<br>Name: Fort Washington Greenmarket<br>Address: 168th Street at Fort Washington,New York,NY 10032",
          "compost<br>Name: Inwood Greenmarket<br>Address: Isham St at Cooper,New York,NY, 10034",
          "compost<br>Name: Mount Sinai Greenmarket<br>Address: East 99th St at Madison,New York,NY, 10029",
          "compost<br>Name: Tompkins Square Greenmarket<br>Address: E 7th St & Avenue A, New York, NY 10009",
          "compost<br>Name: Tucker Square Greenmarket<br>Address: Columbus Ave & W 66th St, New York, NY 10023",
          "compost<br>Name: Union Square Greenmarket<br>Address: E 17th St & Union Square E, New York, NY",
          "compost<br>Name: Lenox Hill Neighborhood House Fresh Food Box<br>Address: 1st Avenue Between 70th St and 71st St",
          "compost<br>Name: Uptown Grand Central Fresh Food Box<br>Address: 125th Street at Park Avenue, outside the Metro-North Station",
          "compost<br>Name: Harlem Grown<br>Address: 118 W 134th St",
          "compost<br>Name: Compost drop off 127 Street & Malcolm X<br>Address: 77 West 127th Street between Malcolm X Boulevard and 5th Ave",
          "compost<br>Name: M'Finda Kalunga Garden<br>Address: Rivington and Forsyth",
          "compost<br>Name: Compost drop off Swindler Cove<br>Address: 3703 10th Avenue",
          "compost<br>Name: East Side Outside Community Garden<br>Address: 415 East 11th St",
          "compost<br>Name: Hamilton Heights Green Youth Market<br>Address: 512 West 143rd Street",
          "compost<br>Name: Earth Matter, Compost Learning Center<br>Address: Urban Farm, Governors Island",
          "compost<br>Name: Governors Islands Zero Waste Stations<br>Address: Several locations throughout Governors Island",
          "compost<br>Name: Compost drop off Church of the Holy Apostles<br>Address: 296 Ninth Avenue",
          "compost<br>Name: Hudson Blvd Park<br>Address: 5 Hudson Blvd East",
          "compost<br>Name: Morris- Jumel Community Garden<br>Address: 455-457 West 162nd Street",
          "compost<br>Name: Compost drop off 14th Street Y<br>Address: 344 E 14th Street",
          "compost<br>Name: B'nai Jeshurun Community House<br>Address: 270 West 89th Street",
          "compost<br>Name: Lydia's Magic Garden<br>Address: 1665 Park Avenue, Manhattan 10035, between 117th and 118th Streets",
          "compost<br>Name: Tribeca Greenmarket Compost on-the-go<br>Address: Greenwich Street at Chambers Street,New York,NY",
          "compost<br>Name: Compost drop off Cathedral Parkway (110th St) <br>Address: 110th & Central Park West - SW Corner",
          "compost<br>Name: Compost drop off Central Park North (110th St)<br>Address: 110th, St. Nicholas, & Malcolm X - NW Corner (Public Plaza)",
          "compost<br>Name: Compost drop off City College<br>Address: Broadway & Hamilton Place - N (Montefiore Square)",
          "compost<br>Name: Compost on-the-go<br>Address: 116th & Lexington Ave - NW Corner",
          "compost<br>Name: Compost on-the-go<br>Address: 145th & Edgecombe Ave - NE Corner (Jackie Robinson Park Entrance)",
          "compost<br>Name: Compost on-the-go<br>Address: 157th, Broadway, Riverside Drive (Ilka Tanya Payan Park)",
          "compost<br>Name: Compost on-the-go<br>Address: 96th Street & Lexington Ave - SE Corner (Samuel Seabury Playground)",
          "compost<br>Name: Compost on-the-go<br>Address: Broadway, Riverside Drive, Dyckman Street (Anne Loftus Playground/Fort Tyron Park Entrance)",
          "compost<br>Name: Compost on-the-go<br>Address: Fort Washington Ave btw. 183rd & 185th - W (Bennett Park Entrance)",
          "compost<br>Name: Dag Hammarskjold Plaza Greenmarket<br>Address: East 47 St at 2 Ave,New York,NY, 10017",
          "compost<br>Name: Hudson River Park's 14th Street Park at 10th Ave.<br>Address: 14th Street Park at southwest corner of 15th St. and 10th Ave",
          "compost<br>Name: Hudson River Park's Chelsea Waterside Park<br>Address: Chelsea Waterside Park at 23rd St. and 11th Ave entrance",
          "compost<br>Name: Hudson River Park's Pier<br>Address: Pier 76 at 12th Ave between 30th St and 33rd St in Hudson River Park's Compost Center",
          "compost<br>Name: Hudson River Park's Pier 25 at N. Moore St.<br>Address: Pier 25 at N. Moore St. near kid's playground",
          "compost<br>Name: Hudson River Park's Pier 40 at W. Houston St.<br>Address: Pier 40 at Houston St. near dog park",
          "compost<br>Name: Hudson River Park's Pier 51 at Horatio St.<br>Address: Pier 51 at Horatio St. near comfort station",
          "compost<br>Name: Hudson River Park's Pier 84 at W. 44th St.<br>Address: Pier 84 at W. 44th St. near dog park",
          "compost<br>Name: La Plaza Cultural Community Garden<br>Address: 674 East 9th Street",
          "compost<br>Name: Commuter Composting at 23rd Street C/E<br>Address: West 23rd Street and 8th Avenue (SW corner), New York, NY 10011",
          "compost<br>Name: Commuter Composting at Christopher Street<br>Address: 7th Avenue and Christopher St - SW Corner",
          "compost<br>Name: Commuter Composting at East Broadway & Rutgers Street<br>Address: East Broadway & Rutgers Street (SE corner), Manhattan",
          "compost<br>Name: Commuter Composting at Grand Street & Clinton Street<br>Address: Grand Street & Clinton Street (SW corner), Manhattan",
          "compost<br>Name: Commuter Composting Hudson Square<br>Address: 6th Avenue & Spring Street -NE Corner",
          "compost<br>Name: East River Park Compost Yard<br>Address: East River Park Compost Park",
          "compost<br>Name: LES Ecology Center Garden<br>Address: 213 E. 7th St",
          "compost<br>Name: West Village Commuter Composting<br>Address: 6th Avenue and Waverly Place - SE Corner",
          "compost<br>Name: Carmen Pabon del Amanecer Community Garden<br>Address: 115 Avenue C",
          "compost<br>Name: Commuter Composting at 1st Ave and 1st St.<br>Address: First Avenue between Houston and First Street (west side)",
          "compost<br>Name: Dorothy K. McGowan Memorial Garden<br>Address: 513 West 158th Street",
          "compost<br>Name: El Sol Brilliante- Children's Garden<br>Address: 544 East 12th St",
          "compost<br>Name: Garden of Love<br>Address: 302 West 116 Street",
          "compost<br>Name: Mobilization for Change Community Garden<br>Address: 955 Columbus Ave",
          "compost<br>Name: Peach Tree Garden<br>Address: 236 East 2nd Street",
          "compost<br>Name: The Herb Garden<br>Address: 180 East 111th Street",
          "compost<br>Name: William B. Washington Memorial Garden<br>Address: 321 West 126th Street",
          "compost<br>Name: Queens County Farm Museum<br>Address: 73-50 Little Neck Parkway",
          "compost<br>Name: Commuter Composting at Vernon Jackson 7<br>Address: Vernon Blvd & 50th Ave, Long Island City, NY 11101",
          "compost<br>Name: Commuter Drop-Off<br>Address: 22-75 31st St, Astoria, NY 11102",
          "compost<br>Name: Commuter Drop-Off<br>Address: 28-60 31st St, Astoria, NY 11102",
          "compost<br>Name: Forest Hills Greenmarket<br>Address: South side of Queens Blvd at 70th Avenue, Queens",
          "compost<br>Name: Jackson Heights Greenmarket<br>Address: 34th Ave at 77th St,Queens,NY,11372",
          "compost<br>Name: Queens Library at Broadway<br>Address: 40-20 Broadway, Long Island City, NY, 11103",
          "compost<br>Name: Queens Library at Steinway<br>Address: 21-45 31st St, Astoria, NY 11105",
          "compost<br>Name: Socrates Sculpture Park<br>Address: Broadway & Vernon Blvd, Queens, NY 11106",
          "compost<br>Name: Sunnyside Greenmarket<br>Address: Skillman Ave at 43rd St,Queens,NY,11104",
          "compost<br>Name: Edgemere Farm<br>Address: 385 Beach 45th St",
          "compost<br>Name: Flushing Greenmarket<br>Address: Maple Playground, Maple Avenue and Kissena Boulevard, Flushing",
          "compost<br>Name: Compost drop off Corona Greenmarket<br>Address: Corona Plaza, Roosevelt Ave at 103 Street, Queens",
          "compost<br>Name: JH Scraps<br>Address: 35-20 69th Street",
          "compost<br>Name: Compost drop off 63rd Dr. M/R<br>Address: 96-14 Queens Blvd, Rego Park, NY 11374",
          "compost<br>Name: Compost drop off Grand Ave Newtown M/R<br>Address: 86-51 Broadway, Elmhurst, NY 11373",
          "compost<br>Name: Queens Botanical Garden Drop-Off<br>Address: 42-80 Crommelin Avenue, Flushing, NY 11355, Parking Garden at QBG",
          "compost<br>Name: Compost drop off Brooklyn Grange<br>Address: 37-19 Northern Blvd Roof",
          "compost<br>Name: Hellgate Farm<br>Address: 14-33 30th Drive",
          "compost<br>Name: Rockaway Waterfront Alliance R.I.S.E.<br>Address: 5803 Rockaway Beach Blvd.",
          "compost<br>Name: Commuter Composting at 21st Street F train<br>Address: NW Corner of 21st street at 41st Ave",
          "compost<br>Name: Commuter Composting at Grand Street & Clinton Street <br>Address: Briarwood E/F Subway Station Entrance (North side of Queens Boulevard)",
          "compost<br>Name: Commuter Composting at Kew Gardens E/F<br>Address: Kew Gardens Road between 80 Road and 81 Avenue, Kew Gardens, 11415",
          "compost<br>Name: St. James Compost<br>Address: 86-02 Broadway",
          "compost<br>Name: The Compost Collective<br>Address: 73-24 Yellowstone Blvd.",
          "compost<br>Name: Snug Harbor Cultural Center & Botanical Garden<br>Address: Compost Demonstration Site at Snug Harbor Cultural Center & Botanical Garden 1000 Richmond Terrace",
          "compost<br>Name: St. George Greenmarket<br>Address: St Marks Pl & Hyatt St Staten Island, NY 10301",
          "compost<br>Name: Staten Island Mall Greenmarket<br>Address: Staten Island Mall, Marsh Ave & Ring Rd, Staten Island, NY 10314",
          "compost<br>Name: Olivet Heavenly Harvest<br>Address: 97 Myrtle Avenue",
          "electronics<br>Name: SALVATION ARMY THRIFT STORE<br>Address: 1294 SOUTHERN BLVD BRONX NY 10459",
          "electronics<br>Name: SALVATION ARMY THRIFT STORE<br>Address: 2359 JEROME AVE BRONX NY 10468",
          "electronics<br>Name: SALVATION ARMY THRIFT STORE<br>Address: 2582 3 AVE BRONX NY 10454",
          "electronics<br>Name: SALVATION ARMY THRIFT STORE<br>Address: 4109 PARK AVE BRONX NY 10457",
          "electronics<br>Name: BEST BUY<br>Address: 402 E FORDHAM RD BRONX NY 10458",
          "electronics<br>Name: BEST BUY<br>Address: 610 EXTERIOR ST BRONX NY 10451",
          "electronics<br>Name: STAPLES<br>Address: 2040 WHITE PLAINS RD BRONX NY 10462",
          "electronics<br>Name: STAPLES<br>Address: 330-340 BAYCHESTER AVE BRONX NY 10475",
          "electronics<br>Name: STAPLES<br>Address: 5680 BROADWAY BRONX NY 10463",
          "electronics<br>Name: GOODWILL THRIFT SHOP<br>Address: 361 E 149 ST BRONX NY 10455",
          "electronics<br>Name: SALVATION ARMY THRIFT STORE<br>Address: 176 BEDFORD AVE BROOKLYN NY 11211",
          "electronics<br>Name: SALVATION ARMY THRIFT STORE<br>Address: 22 QUINCY ST BROOKLYN NY 11238",
          "electronics<br>Name: SALVATION ARMY THRIFT STORE<br>Address: 3718 NOSTRAND AVE BROOKLYN NY 11235",
          "electronics<br>Name: SALVATION ARMY THRIFT STORE<br>Address: 436 ATLANTIC AVE BROOKLYN NY 11217",
          "electronics<br>Name: SALVATION ARMY THRIFT STORE<br>Address: 6822 3 AVE BROOKLYN NY 11220",
          "electronics<br>Name: SALVATION ARMY THRIFT STORE<br>Address: 981 MANHATTAN AVE BROOKLYN NY 11222",
          "electronics<br>Name: BEST BUY<br>Address: 369 GATEWAY DR BROOKLYN NY 11239",
          "electronics<br>Name: BEST BUY<br>Address: 5102 AVE U BROOKLYN NY 11234",
          "electronics<br>Name: BEST BUY<br>Address: 625 ATLANTIC AVE BROOKLYN NY 11217",
          "electronics<br>Name: BEST BUY<br>Address: 8923 BAY PKWY BROOKLYN NY 11214",
          "electronics<br>Name: STAPLES<br>Address: 1011 FLATBUSH AVE BROOKLYN NY 11226",
          "electronics<br>Name: STAPLES<br>Address: 1760 UTICA AVE BROOKLYN NY 11234",
          "electronics<br>Name: STAPLES<br>Address: 1880 CONEY ISLAND AVE BROOKLYN NY 11230",
          "electronics<br>Name: STAPLES<br>Address: 1949 STILLWELL BROOKLYN NY 11223",
          "electronics<br>Name: STAPLES<br>Address: 2892 OCEAN AVE BROOKLYN NY 11235",
          "electronics<br>Name: STAPLES<br>Address: 348 4 AVE BROOKLYN NY 11215",
          "electronics<br>Name: STAPLES<br>Address: 409 GATEWAY DRIVE BROOKLYN NY 11239",
          "electronics<br>Name: STAPLES<br>Address: 535 MORGAN AVE BROOKLYN NY 11222",
          "electronics<br>Name: STAPLES<br>Address: 9319 5 AVE BROOKLYN NY 11209",
          "electronics<br>Name: GOODWILL THRIFT SHOP<br>Address: 1100 FULTON ST BROOKLYN NY 11238",
          "electronics<br>Name: GOODWILL THRIFT SHOP<br>Address: 258 LIVINGSTON ST BROOKLYN NY 11201",
          "electronics<br>Name: LOWER EAST SIDE ECOLOGY CENTER<br>Address: 469 PRESIDENT ST BROOKLYN NY 11215",
          "electronics<br>Name: SALVATION ARMY THRIFT STORE<br>Address: 112 4 AVE NEW YORK NY 10003",
          "electronics<br>Name: SALVATION ARMY THRIFT STORE<br>Address: 208 8 AVE NEW YORK NY 10011",
          "electronics<br>Name: SALVATION ARMY THRIFT STORE<br>Address: 212 E 23 ST NEW YORK NY 10010",
          "electronics<br>Name: SALVATION ARMY THRIFT STORE<br>Address: 26 E 125 ST NEW YORK NY 10035",
          "electronics<br>Name: SALVATION ARMY THRIFT STORE<br>Address: 268 W 96 ST NEW YORK NY 10025",
          "electronics<br>Name: SALVATION ARMY THRIFT STORE<br>Address: 536 W 46 ST NEW YORK NY 10036",
          "electronics<br>Name: BEST BUY<br>Address: 1280 LEXINGTON AVE NEW YORK NY 10028",
          "electronics<br>Name: BEST BUY<br>Address: 1880 BROADWAY NEW YORK NY 10023",
          "electronics<br>Name: BEST BUY<br>Address: 52 E 14 ST NEW YORK NY 10003",
          "electronics<br>Name: BEST BUY<br>Address: 529 5 AVE NEW YORK NY 10017",
          "electronics<br>Name: BEST BUY<br>Address: 60 W 23 ST NEW YORK NY 10010",
          "electronics<br>Name: BEST BUY<br>Address: 622 BROADWAY NEW YORK NY 10012",
          "electronics<br>Name: STAPLES<br>Address: 105 W 125 ST NEW YORK NY 10027",
          "electronics<br>Name: STAPLES<br>Address: 1065 6 AVE NEW YORK NY 10018",
          "electronics<br>Name: STAPLES<br>Address: 1293-1311 BROADWAY NEW YORK NY 10001",
          "electronics<br>Name: STAPLES<br>Address: 16 E 34 ST NEW YORK NY 10016",
          "electronics<br>Name: STAPLES<br>Address: 2248 BROADWAY NEW YORK NY 10024",
          "electronics<br>Name: STAPLES<br>Address: 390 6 AVE NEW YORK NY 10011",
          "electronics<br>Name: STAPLES<br>Address: 425 PARK AVE NEW YORK NY 10022",
          "electronics<br>Name: STAPLES<br>Address: 4320 BROADWAY NEW YORK NY 10033",
          "electronics<br>Name: STAPLES<br>Address: 442 5 AVE NEW YORK NY 10018",
          "electronics<br>Name: STAPLES<br>Address: 500 8 AVE NEW YORK NY 10018",
          "electronics<br>Name: STAPLES<br>Address: 574 2 AVE NEW YORK NY 10016",
          "electronics<br>Name: STAPLES<br>Address: 5-9 UNION SQUARE W NEW YORK NY 10003",
          "electronics<br>Name: STAPLES<br>Address: 641 6 AVE NEW YORK NY 10011",
          "electronics<br>Name: STAPLES<br>Address: 675 3 AVE NEW YORK NY 10017",
          "electronics<br>Name: STAPLES<br>Address: 769 BROADWAY NEW YORK NY 10003",
          "electronics<br>Name: STAPLES<br>Address: 776 8 AVE NEW YORK NY 10036",
          "electronics<br>Name: GOODWILL GREENWICH VILLAGE BOUTIQUE<br>Address: 44 W 8 ST NEW YORK NY 10011",
          "electronics<br>Name: GOODWILL THRIFT SHOP<br>Address: 103 W 25 ST NEW YORK NY 10001",
          "electronics<br>Name: GOODWILL THRIFT SHOP<br>Address: 157 W 72 ST NEW YORK NY 10023",
          "electronics<br>Name: GOODWILL THRIFT SHOP<br>Address: 1704 2 AVE NEW YORK NY 10128",
          "electronics<br>Name: GOODWILL THRIFT SHOP<br>Address: 217 W 79 ST NEW YORK NY 10024",
          "electronics<br>Name: GOODWILL THRIFT SHOP<br>Address: 2196 5 AVE NEW YORK NY 10037",
          "electronics<br>Name: GOODWILL THRIFT SHOP<br>Address: 220 E 23 ST NEW YORK NY 10010",
          "electronics<br>Name: GOODWILL THRIFT SHOP<br>Address: 2231 3 AVE NEW YORK NY 10035",
          "electronics<br>Name: GOODWILL THRIFT SHOP<br>Address: 512 181 ST NEW YORK NY 10033",
          "electronics<br>Name: SALVATION ARMY THRIFT STORE<br>Address: 14815 ARCHER AVE JAMAICA NY 11435",
          "electronics<br>Name: SALVATION ARMY THRIFT STORE<br>Address: 3402 STEINWAY ST LONG ISLAND CITY NY 11101",
          "electronics<br>Name: SALVATION ARMY THRIFT STORE<br>Address: 3911 61 ST WOODSIDE NY 11377",
          "electronics<br>Name: BEST BUY<br>Address: 13107 40 RD FLUSHING NY 11354",
          "electronics<br>Name: BEST BUY<br>Address: 5001 NORTHERN BLVD LONG ISLAND CITY NY 11101",
          "electronics<br>Name: BEST BUY<br>Address: 8801 QUEENS BLVD ELMHURST NY 11373",
          "electronics<br>Name: STAPLES<br>Address: 10234 ATLANTIC AVE OZONE PARK NY 11416",
          "electronics<br>Name: STAPLES<br>Address: 10716 71 AVE FOREST HILLS NY 11375",
          "electronics<br>Name: STAPLES<br>Address: 13401 20 AVE COLLEGE POINT NY 11356",
          "electronics<br>Name: STAPLES<br>Address: 20934 NORTHERN BLVD BAYSIDE NY 11361",
          "electronics<br>Name: STAPLES<br>Address: 2441 31 ST ASTORIA NY 11102",
          "electronics<br>Name: STAPLES<br>Address: 5110 BROADWAY WOODSIDE NY 11377",
          "electronics<br>Name: STAPLES<br>Address: 5812 QUEENS BLVD WOODSIDE NY 11377",
          "electronics<br>Name: STAPLES<br>Address: 6040 FRESH POND RD MASPETH NY 11378",
          "electronics<br>Name: STAPLES<br>Address: 6135 JUNCTION BLVD REGO PARK NY 11374",
          "electronics<br>Name: STAPLES<br>Address: 9030 METROPOLITAN AVE REGO PARK NY 11374",
          "electronics<br>Name: STAPLES<br>Address: 9130 VAN WYCK EXPY RICHMOND HILL NY 11418",
          "electronics<br>Name: STAPLES<br>Address: 9318 ROOSEVELT AVE JACKSON HEIGHTS NY 11372",
          "electronics<br>Name: GOODWILL OUTLET CENTER<br>Address: 4747 VAN DAM ST LONG ISLAND CITY NY 11101",
          "electronics<br>Name: GOODWILL THRIFT SHOP<br>Address: 3236 STEINWAY ST ASTORIA NY 11103",
          "electronics<br>Name: BEST BUY<br>Address: 2795 RICHMOND AVE STATEN ISLAND NY 10314",
          "electronics<br>Name: STAPLES<br>Address: 1520 FOREST AVE STATEN ISLAND NY 10302",
          "electronics<br>Name: STAPLES<br>Address: 1885 HYLAN BLVD STATEN ISLAND NY 10306",
          "electronics<br>Name: STAPLES<br>Address: 2535 RICHMOND AVE STATEN ISLAND NY 10314",
          "hazardous waste recycling<br>Name: DSNY Special Waste Drop-Off Site<br>Address: Hunts Point Ave",
          "hazardous waste recycling<br>Name: DSNY Special Waste Drop-Off Site<br>Address: 459 N. Henry St",
          "hazardous waste recycling<br>Name: DSNY Special Waste Drop-Off Site<br>Address: South St & Pike St",
          "hazardous waste recycling<br>Name: DSNY Special Waste Drop-Off Site<br>Address: 120-15 31 Ave",
          "hazardous waste recycling<br>Name: DSNY Special Waste Drop-Off Site<br>Address: 1000 West Service Rd",
          "plastic bag recycling<br>Name: Target<br>Address: 517 E 117th St New York, NY 10035",
          "plastic bag recycling<br>Name: Barnes and Noble<br>Address: 2289 Broadway, New York, NY 10024",
          "public recycling bin<br>Name: 227th St. Plgd<br>Address: E 227 St/Bronx River Pkway",
          "public recycling bin<br>Name: Allerton Ballfields<br>Address: Allerton Ave & Moshulu Pkway",
          "public recycling bin<br>Name: Arthur Ave & E 187 St<br>Address: Arthur Ave & 187 St",
          "public recycling bin<br>Name: Barstow Mansion<br>Address: 895 Shore Road, Pelham Bay Park",
          "public recycling bin<br>Name: Bradley Playground<br>Address: 2001-2017 Bronx Park E",
          "public recycling bin<br>Name: Bronx Botanical Gardens<br>Address: Visitors Service Center",
          "public recycling bin<br>Name: Bronx Botanical Gardens<br>Address: Visitors Service Center",
          "public recycling bin<br>Name: Bronx Botanical Gardens<br>Address: Visitors Service Center",
          "public recycling bin<br>Name: Bronx Botanical Gardens<br>Address: Visitors Service Center",
          "public recycling bin<br>Name: Bronx County Courthouse<br>Address: 161 ST/Grand Concourse",
          "public recycling bin<br>Name: Bronx County Courthouse<br>Address: 161 ST/Grand Concourse",
          "public recycling bin<br>Name: Bronx Park<br>Address: Lydig Ave & Bronx Park E",
          "public recycling bin<br>Name: Bronx Park Playground at Lydig<br>Address: Lydig Ave & Bronx Park E",
          "public recycling bin<br>Name: Bronx Zoo<br>Address: Cafeteria",
          "public recycling bin<br>Name: Bronx Zoo<br>Address: Entrance to Cafeteria",
          "public recycling bin<br>Name: Bryant Hill Community Garden<br>Address: Bryant Avenue Bet. Seneca and Garrison Aves.",
          "public recycling bin<br>Name: Burke Bridge<br>Address: Burke Bridge",
          "public recycling bin<br>Name: College of Mt. St. Vincent<br>Address: In front of Alumnae Hall",
          "public recycling bin<br>Name: College of Mt. St. Vincent<br>Address: In front of Cardinal Spellman Hall",
          "public recycling bin<br>Name: Concrete Plant Park<br>Address: Bronx River bet. Westchster Av and Bruckner Blvd",
          "public recycling bin<br>Name: Crotona Park <br>Address: 1700 Crotona Ave",
          "public recycling bin<br>Name: Crotona Park <br>Address: 1700 Crotona Ave",
          "public recycling bin<br>Name: Crotona Park <br>Address: 1700 Crotona Ave",
          "public recycling bin<br>Name: Crotona Park <br>Address: 1700 Crotona Ave",
          "public recycling bin<br>Name: Crotona Park <br>Address: 1700 Crotona Ave",
          "public recycling bin<br>Name: Crotona Park <br>Address: 1700 Crotona Ave",
          "public recycling bin<br>Name: E 174 St & Manor Ave<br>Address: 174 St & Manor Ave",
          "public recycling bin<br>Name: E 176 St & Marmion Ave<br>Address: 176 St & Marmion Ave",
          "public recycling bin<br>Name: E Gun Hill Rd & Bronxwood Ave<br>Address: Gun Hill Rd & Bronxwood Ave",
          "public recycling bin<br>Name: E Tremont Ave & Bruckner Blvd<br>Address: Tremont Ave & Bruckner Blvd",
          "public recycling bin<br>Name: E Tremont Ave & University Ave<br>Address: Tremont Ave & University Ave",
          "public recycling bin<br>Name: Echo Park<br>Address: 315 Echo Pl",
          "public recycling bin<br>Name: Edith Community Garden<br>Address: 836 Elton Avenue ",
          "public recycling bin<br>Name: El Flamboyan<br>Address: Tinton Avenue @ E. 150th Street ",
          "public recycling bin<br>Name: Family Group Garden<br>Address: 419 East 158th Street ",
          "public recycling bin<br>Name: Fordham University<br>Address: Grand Concourse West & Fordham Rd",
          "public recycling bin<br>Name: Fordham University<br>Address: Kingsbridge Rd & Fordham Rd",
          "public recycling bin<br>Name: Fordham University<br>Address: Main Entrance (Kazimiroff Blvd)",
          "public recycling bin<br>Name: Fordham University<br>Address: Side Entrance (E Fordham Rd & 3 Ave)",
          "public recycling bin<br>Name: French Charley Playground<br>Address: E 204 St, W/S Bronx Park",
          "public recycling bin<br>Name: Hornaday Community Garden (volky Flower Garden)<br>Address: 851 Hornaday Avenue",
          "public recycling bin<br>Name: HUB 3rd Ave<br>Address: 3 Ave & 149 St",
          "public recycling bin<br>Name: Hunt's Point<br>Address: Hunt's Point Ave Btwn. Spofford Ave & Bryant Ave",
          "public recycling bin<br>Name: Hunt's point Riverside Park- Plgd - Parks<br>Address: Lafayette Ave & Edgewater Rd",
          "public recycling bin<br>Name: Isla Verde Garden<br>Address: 625 Wales Avenue ",
          "public recycling bin<br>Name: Jardin de las Rosas<br>Address: 15 Buchanan Place",
          "public recycling bin<br>Name: Joyce Kilmer<br>Address: E 164 St Btwn. Grand Concourse & Walton Ave",
          "public recycling bin<br>Name: Joyce Kilmer<br>Address: E 164 St Btwn. Grand Concourse & Walton Ave",
          "public recycling bin<br>Name: Kingsbridge Heights Community Center<br>Address: 3101 Kingsbridge Ave",
          "public recycling bin<br>Name: Las Casitas Communitiy Garden<br>Address: 1126-1140 Woodycrest Avenue ",
          "public recycling bin<br>Name: Little Green Garden (3) Large lower expanse<br>Address: E 160th St and Elton Ave",
          "public recycling bin<br>Name: Mill Pond<br>Address: Mill Pond Park",
          "public recycling bin<br>Name: Mullaly<br>Address: E 165 St Btwn. Jerome Ave & River Ave",
          "public recycling bin<br>Name: Mullaly<br>Address: E 165 St Btwn. Jerome Ave & River Ave",
          "public recycling bin<br>Name: Muskrat Playground<br>Address: Bronx Park",
          "public recycling bin<br>Name: New Hoe Avenue Garden<br>Address: E/S Hoe Ave., S/O/ Aldus Street ",
          "public recycling bin<br>Name: Niles Triangle<br>Address: Bronx Park",
          "public recycling bin<br>Name: Noble Playground<br>Address: Noble Ave Btwn. Bronx River Ave & E 177 St",
          "public recycling bin<br>Name: Nursery<br>Address: Van Cortlandt Park",
          "public recycling bin<br>Name: Olinville<br>Address: Bronx Blvd & E 219 St",
          "public recycling bin<br>Name: Orchard Beach picnic areas, Pelham playground<br>Address: Orchard Beach",
          "public recycling bin<br>Name: Orchard Beach picnic areas, Pelham playground<br>Address: Orchard Beach",
          "public recycling bin<br>Name: Orchard Beach picnic areas, Pelham playground<br>Address: Orchard Beach",
          "public recycling bin<br>Name: Orchard Beach picnic areas, Pelham playground<br>Address: Orchard Beach",
          "public recycling bin<br>Name: Orchard Beach picnic areas, Pelham playground<br>Address: Orchard Beach",
          "public recycling bin<br>Name: Owen Dolan<br>Address: 2551 Westchester Ave",
          "public recycling bin<br>Name: Owen Dolan<br>Address: 2551 Westchester Ave",
          "public recycling bin<br>Name: P.O. Serrano<br>Address: Olmstead Ave Btwn Turnbull Ave & Lafayette Ave ",
          "public recycling bin<br>Name: Pearly Gates<br>Address: St. Peter's Ave at Tratman Ave ",
          "public recycling bin<br>Name: Pelham Bay  Ball field, north picnic area<br>Address: Pelham Bay Park",
          "public recycling bin<br>Name: Pelham Bay picnic, running track<br>Address: Pelham Bay Park",
          "public recycling bin<br>Name: Quarry Ballfield- Parks<br>Address: E 181 St, oak Tree Pl Btwn. Quarry Rd & Hughes Ave",
          "public recycling bin<br>Name: River Garden<br>Address: 1086 East 180th Street",
          "public recycling bin<br>Name: River Park<br>Address: E 180 St & Boston Rd",
          "public recycling bin<br>Name: Riverdale Neighborhood House<br>Address: 5521 Mosholu Ave",
          "public recycling bin<br>Name: Rosehill Park- Parks<br>Address: Webster Ave & E Fordham Rd",
          "public recycling bin<br>Name: Rosewood- Parks<br>Address: Bronx River Pkwy & Rosewood St",
          "public recycling bin<br>Name: Sachkera Plgd – Parks<br>Address: W Gunhill Rd & Knox Pl ",
          "public recycling bin<br>Name: Seton Falls Park<br>Address: 3800 Baychester Ave",
          "public recycling bin<br>Name: Seton Falls Park<br>Address: E 223 St & De Reimer Ave",
          "public recycling bin<br>Name: Skate Park at Allerton<br>Address: Bronx Park East Btwn Britton St & Allerton Ave ",
          "public recycling bin<br>Name: Skyview Shopping Plaza<br>Address: Skyview Shopping Plaza (Riverdale Ave & 259 St)",
          "public recycling bin<br>Name: Soundview Parks<br>Address: Lafayette Ave Btwn Colgate Ave & Boynton Ave ",
          "public recycling bin<br>Name: Soundview Parks<br>Address: Metcalf Ave Btwn Lafayette Ave & Seward Ave ",
          "public recycling bin<br>Name: Soundview Parks<br>Address: Metcalf Ave Btwn Seward Ave & Randall Ave",
          "public recycling bin<br>Name: Soundview Parks<br>Address: Soundview Park",
          "public recycling bin<br>Name: Southern Blvd & E 173 St<br>Address: Southern Blvd & 173 St",
          "public recycling bin<br>Name: Southwest Plgd Parks<br>Address: Van Cortlandt Park",
          "public recycling bin<br>Name: Spuyton Duyvil plgd<br>Address: Seton Park",
          "public recycling bin<br>Name: St. James <br>Address: E 193 St",
          "public recycling bin<br>Name: St. James <br>Address: Jerome Ave",
          "public recycling bin<br>Name: St. James <br>Address: Jerome Ave",
          "public recycling bin<br>Name: St. Mary's <br>Address: St. Anns Ave & E 145 St",
          "public recycling bin<br>Name: St. Mary's <br>Address: St. Anns Ave & E 145 St",
          "public recycling bin<br>Name: Sunflower Garden/Girasol<br>Address: 639 E. 137th Street",
          "public recycling bin<br>Name: Van Cortlandt  ballfield, tennis and picnic<br>Address: Broadway & Putnam Trail",
          "public recycling bin<br>Name: Van Cortlandt  ballfield, tennis and picnic<br>Address: Broadway & Van Cortlandt Park 242 St",
          "public recycling bin<br>Name: Van Cortlandt  ballfield, tennis and picnic<br>Address: Van Cortlandt Park",
          "public recycling bin<br>Name: Van Cortlandt Park <br>Address: Van Cortlandt Park",
          "public recycling bin<br>Name: Van Cortlandt Stadium<br>Address: Van Cortlandt Park",
          "public recycling bin<br>Name: Van Cortlandt Stadium<br>Address: Van Cortlandt Park",
          "public recycling bin<br>Name: Virginia Park<br>Address: Cross Bronx Expwy Service Rd",
          "public recycling bin<br>Name: Vogue Community Garden<br>Address: 431 E. 156th Street",
          "public recycling bin<br>Name: Waring Plgd<br>Address: Waring Ave, Bronx Park E",
          "public recycling bin<br>Name: Watson & Gleason<br>Address: Noble Ave Btwn Watson Ave & Gleason Ave",
          "public recycling bin<br>Name: West Bronx Rec. Ctr<br>Address: 1527 Jesup Ave",
          "public recycling bin<br>Name: Woodlawn Tennis<br>Address: Van Cortlandt Park",
          "public recycling bin<br>Name: A Better Community Garden<br>Address: 762-764 Herkimer Place/13-21 Hunterfly",
          "public recycling bin<br>Name: Asser Levy<br>Address: Seaside Park",
          "public recycling bin<br>Name: Asser Levy<br>Address: Seaside Park",
          "public recycling bin<br>Name: Bay Ridge<br>Address: 5 Ave & Bay Ridge Pkwy",
          "public recycling bin<br>Name: Bensonhurst<br>Address: Bensohurst Park",
          "public recycling bin<br>Name: Boerum<br>Address: Boerum Park",
          "public recycling bin<br>Name: Brooklyn War Memorial<br>Address: Brooklyn War Memorial",
          "public recycling bin<br>Name: Brower<br>Address: Park Pl Btwn Brooklyn Ave & Kingston Ave",
          "public recycling bin<br>Name: Brownsville Rec Ctr<br>Address: 1555 Linden Blvd",
          "public recycling bin<br>Name: Bushwick Inlet Field<br>Address: Bushwick Inlet Park",
          "public recycling bin<br>Name: Cadman Plaza<br>Address: Brooklyn War Memorial",
          "public recycling bin<br>Name: Cadman Plaza<br>Address: Korean War Veterans Plaze",
          "public recycling bin<br>Name: Carroll Park<br>Address: Carroll St",
          "public recycling bin<br>Name: Carroll Park<br>Address: President St",
          "public recycling bin<br>Name: City Line Park<br>Address: Fountain Ave",
          "public recycling bin<br>Name: Cobble hill park<br>Address: Clinton St Btwn Congress St & Verandah Pl",
          "public recycling bin<br>Name: Columbus Park<br>Address: Columbus Park",
          "public recycling bin<br>Name: Commodore Berry<br>Address: Commodore Berry",
          "public recycling bin<br>Name: Cuyler Gore Park<br>Address: Greene Ave",
          "public recycling bin<br>Name: David Marcus Plgd<br>Address: Avenue P Btwn 4 St & 5 St",
          "public recycling bin<br>Name: Dumbo Brooklyn Heights<br>Address: Church Ave & Flatbush Ave",
          "public recycling bin<br>Name: FAB<br>Address: Fulton St & Lafayette/Greene/S Oxford",
          "public recycling bin<br>Name: FAB<br>Address: Putnam Triangle",
          "public recycling bin<br>Name: FAB <br>Address: Fulton & Lafayette ",
          "public recycling bin<br>Name: FAB <br>Address: Lafayette & South Portland Ave",
          "public recycling bin<br>Name: Fort Greene <br>Address: Washington Park & Dekalb Ave",
          "public recycling bin<br>Name: Fort Hamilton Sr. Center<br>Address: 9941 Fort Hamilton Pkwy",
          "public recycling bin<br>Name: Good Shepheard's Community Group<br>Address: 555-557 Shepherd Ave.",
          "public recycling bin<br>Name: Gregory's Garden (P.S. 158 Memorial Garden<br>Address: 444,448 Warwich Avenue",
          "public recycling bin<br>Name: Hands  & Hearts(New Lots Urban Farm)<br>Address: New Lots Ave at Alabama Avenue",
          "public recycling bin<br>Name: Harry Chapin Plgd<br>Address: Hillside Park",
          "public recycling bin<br>Name: Herbal Garden<br>Address: 582-590 Glenmore Ave.",
          "public recycling bin<br>Name: JJ Byrne<br>Address: 4 St Btwn 4 Ave & 5 Ave",
          "public recycling bin<br>Name: JJ Byrne<br>Address: 4 St Btwn 4 Ave & 5 Ave",
          "public recycling bin<br>Name: Kaiser <br>Address: Neptune Ave",
          "public recycling bin<br>Name: Kelly<br>Address: Kelly Memorial Playground",
          "public recycling bin<br>Name: Korean War Vet <br>Address: Cadman Plaza",
          "public recycling bin<br>Name: Manhattan Beach +BBQ<br>Address: Oriental Blvd",
          "public recycling bin<br>Name: Manhattan Beach +BBQ<br>Address: Oriental Blvd",
          "public recycling bin<br>Name: Marine Park <br>Address: Marine Park",
          "public recycling bin<br>Name: McCarren Park <br>Address: Bedford Ave ",
          "public recycling bin<br>Name: McCarren Park <br>Address: Bedford Ave ",
          "public recycling bin<br>Name: McCarren Park <br>Address: Bedford Ave ",
          "public recycling bin<br>Name: McCarren Park <br>Address: Berry St",
          "public recycling bin<br>Name: McCarren Park <br>Address: Driggs Ave",
          "public recycling bin<br>Name: McCarren Park <br>Address: Driggs Ave & Lorimer St",
          "public recycling bin<br>Name: McCarren Park <br>Address: McCarren Park",
          "public recycling bin<br>Name: McCarren Park <br>Address: N 12 St",
          "public recycling bin<br>Name: McGorlick Park<br>Address: McGorlick Park",
          "public recycling bin<br>Name: Metropolitan Rec Ctr <br>Address: 261 Bedford Ave",
          "public recycling bin<br>Name: Metrotech<br>Address: Willoughby St & Bridge St",
          "public recycling bin<br>Name: Mt. Prospect plgd<br>Address: Mt. Prospect Park",
          "public recycling bin<br>Name: Myrtle Ave BID<br>Address: Myrtle Ave & Adelphi St",
          "public recycling bin<br>Name: Myrtle Ave BID<br>Address: Myrtle Ave & Ashland Pl",
          "public recycling bin<br>Name: Myrtle Ave BID<br>Address: Myrtle Ave & Clinton Ave",
          "public recycling bin<br>Name: Myrtle Ave BID<br>Address: Myrtle Ave & Hall St",
          "public recycling bin<br>Name: N. 5th St. pier<br>Address: N. 5th St. pier",
          "public recycling bin<br>Name: New Vision Garden<br>Address: 590-594 Schenck Avenue",
          "public recycling bin<br>Name: Owl's Head<br>Address: Owl's Head",
          "public recycling bin<br>Name: Palato plgd<br>Address: Manhattan Beach Park",
          "public recycling bin<br>Name: Park Slope<br>Address: 7 Ave & 6 St",
          "public recycling bin<br>Name: Park Slope Playground <br>Address: Berkeley Lincoln Playground ",
          "public recycling bin<br>Name: Pierrepont Park<br>Address: Pierrepon St",
          "public recycling bin<br>Name: Prospect Park <br>Address: Ocean Ave",
          "public recycling bin<br>Name: Prospect Park <br>Address: Ocean Ave",
          "public recycling bin<br>Name: Prospect Park <br>Address: Prospect Park West",
          "public recycling bin<br>Name: Prospect Park <br>Address: Prospect Park West",
          "public recycling bin<br>Name: Red Gate Garden<br>Address: 604 Marcy Avenue",
          "public recycling bin<br>Name: Red Hook Park<br>Address: Red Hook Park",
          "public recycling bin<br>Name: Salt marsh<br>Address: 3301 Avenue U",
          "public recycling bin<br>Name: Shore Road Plgd<br>Address: Shore Rd Park",
          "public recycling bin<br>Name: South Oxport <br>Address: Oxport Playground",
          "public recycling bin<br>Name: Squibb Park<br>Address: Btwn Furman St & Columbia Heights",
          "public recycling bin<br>Name: St. John Cantius<br>Address: 476-484 New Jersey Avenue",
          "public recycling bin<br>Name: St. John's <br>Address: St. John's Park",
          "public recycling bin<br>Name: St. Nicholas-Olive Street Garden<br>Address: 21-25 Olive Street ",
          "public recycling bin<br>Name: Starret City<br>Address: 1344 Pennsylvania Avenue",
          "public recycling bin<br>Name: Sternberg Park<br>Address: Boerum St",
          "public recycling bin<br>Name: Sternberg Park<br>Address: Lorimer St",
          "public recycling bin<br>Name: Sunset Park<br>Address: 5 Ave & 44 St",
          "public recycling bin<br>Name: Ten Eyck Houses<br>Address: 15-17 Ten Eyck Street",
          "public recycling bin<br>Name: Triple Relaxation, Reflection, Revenue (Victoria Garden)<br>Address: 613 Hendrix Street ",
          "public recycling bin<br>Name: UCC Youth Farm-East New York Farms<br>Address: 613 Schenck Avenue ",
          "public recycling bin<br>Name: Underhill Playground<br>Address: Underhill Ave & Prospect Pl",
          "public recycling bin<br>Name: Underwood Playground<br>Address: Underwood Park",
          "public recycling bin<br>Name: Upon the Rock<br>Address: 2556 Pitkin Avenue.",
          "public recycling bin<br>Name: Vernon (Throop Avenue Block Assoc.)<br>Address: 253 Throop Avenue",
          "public recycling bin<br>Name: Welcome Home<br>Address: 681 Halsey Street",
          "public recycling bin<br>Name: Dumbo Brooklyn Heights<br>Address: Front St & Jay St",
          "public recycling bin<br>Name: Dumbo Brooklyn Heights<br>Address: Front St & Main St",
          "public recycling bin<br>Name: Dumbo Brooklyn Heights<br>Address: Front St & Washington St",
          "public recycling bin<br>Name: FAB<br>Address: Fulton & Washington Ave ",
          "public recycling bin<br>Name: FAB <br>Address: Fulton & Clinton Ave ",
          "public recycling bin<br>Name: 1 Centre Street<br>Address: 1 Centre Street",
          "public recycling bin<br>Name: 100 Centre St<br>Address: 100 Centre St",
          "public recycling bin<br>Name: 100 Centre Street <br>Address: 100 Centre Street (South Entrance)",
          "public recycling bin<br>Name: 100 Gold Street<br>Address: 100 Gold Street",
          "public recycling bin<br>Name: 111 Centre St<br>Address: 111 Centre St",
          "public recycling bin<br>Name: 115 Chrystie St<br>Address: 115 Chrystie St (Outside Main Entrance)",
          "public recycling bin<br>Name: 125 St. BID<br>Address: 125 St & Lenox Ave",
          "public recycling bin<br>Name: 137 Centre Street <br>Address: 137 Centre St (Centre St & White St)",
          "public recycling bin<br>Name: 2 Lafayette St <br>Address: 2 Lafayette St (Lafayette St & Reade St)",
          "public recycling bin<br>Name: 22 Reade St<br>Address: 22 Reade St (Reade St & Elk St)",
          "public recycling bin<br>Name: 280 Broadway<br>Address: Broadway Btwn Reade St & Chambers St",
          "public recycling bin<br>Name: 346 Broadway<br>Address: 346 Broadway",
          "public recycling bin<br>Name: 34th St<br>Address: 34 St & 7 Ave",
          "public recycling bin<br>Name: 49-51 Chambers Street <br>Address: 49-51 Chambers Street (Outside Main Entrance)",
          "public recycling bin<br>Name: 60 Lafayette St<br>Address: 60 Lafayette St",
          "public recycling bin<br>Name: 60 Lafayette St<br>Address: 60 Lafayette St (Lafayette & Leonard)",
          "public recycling bin<br>Name: 6BC Botanical Garden<br>Address: 624-628 E. 6th Street ",
          "public recycling bin<br>Name: 80 Centre St<br>Address: 80 Centre St",
          "public recycling bin<br>Name: 96th St Train Station<br>Address: 96 St & Lexington Ave",
          "public recycling bin<br>Name: 96th St Train Station<br>Address: 96 St & Lexington Ave",
          "public recycling bin<br>Name: Al Smith Rec Ctr<br>Address: 80 Catherine St",
          "public recycling bin<br>Name: Asser Levy Rec Ctr<br>Address: 384 Asser Levy Pl",
          "public recycling bin<br>Name: Battery Park - DSNY Partnership<br>Address: Battery Park ",
          "public recycling bin<br>Name: Battery Park City<br>Address: Battery Park City",
          "public recycling bin<br>Name: Battery Park City<br>Address: Battery Park City",
          "public recycling bin<br>Name: Battery Park City<br>Address: Battery Park City",
          "public recycling bin<br>Name: Bayard St & Baxter St<br>Address: 100 Centre Street",
          "public recycling bin<br>Name: Bellevue South<br>Address: Mt. Carmel Pl Btwn E 26 St & E 28 St",
          "public recycling bin<br>Name: Bennett Park<br>Address: Bennett Park",
          "public recycling bin<br>Name: Bleecker St. Playground<br>Address: W 11 St Btwn Hudson St & Bleecker St",
          "public recycling bin<br>Name: Broadway & Murray St<br>Address: Outside Entrance",
          "public recycling bin<br>Name: Broadway & Park Place<br>Address: Outside Plaza Entrance",
          "public recycling bin<br>Name: Bryant Park<br>Address: Bryant Park",
          "public recycling bin<br>Name: Bryant Park - Bryant Park Corp.<br>Address: Bryant Park",
          "public recycling bin<br>Name: Carl Shurz<br>Address: Carl Shurz Park",
          "public recycling bin<br>Name: Carrie McCracken Garden/TRUCE<br>Address: 143-145 St. Nicholas Avenue ",
          "public recycling bin<br>Name: Centre St & Chambers St<br>Address: 31 Chambers Street",
          "public recycling bin<br>Name: Chelsea Park<br>Address: Chelsea Park",
          "public recycling bin<br>Name: Chelsea Rec Center<br>Address: 430 W 25 St",
          "public recycling bin<br>Name: Chelsea Waterside Park Field<br>Address: Hudson River Park ",
          "public recycling bin<br>Name: Chelsea Waterside Park Playground<br>Address: Hudson River Park ",
          "public recycling bin<br>Name: City Hall Park <br>Address: City Hall Park ",
          "public recycling bin<br>Name: City Hall Park <br>Address: City Hall Park ",
          "public recycling bin<br>Name: City Hall Park <br>Address: City Hall Park ",
          "public recycling bin<br>Name: City Hall Park <br>Address: City Hall Park ",
          "public recycling bin<br>Name: Coleman Square Playground<br>Address: Coleman Square Playground",
          "public recycling bin<br>Name: Colonel Young<br>Address: Colonel Charles Young Playground",
          "public recycling bin<br>Name: Columbus Park - DSNY Partnership<br>Address: Columbus Park",
          "public recycling bin<br>Name: Courtyard West <br>Address: Hudson River Park ",
          "public recycling bin<br>Name: Crack is Wack<br>Address: Harlem River Dr & 2 Ave ",
          "public recycling bin<br>Name: Desalvio<br>Address: DeSalvio Playground",
          "public recycling bin<br>Name: DSNY Main Office -Worth St<br>Address: Centre Street",
          "public recycling bin<br>Name: DSNY Main Office -Worth St<br>Address: Lafayette Street",
          "public recycling bin<br>Name: Each One Teach One<br>Address: Lexington Ave & E 129 St",
          "public recycling bin<br>Name: East River Park- DSNY partnership<br>Address: East River Bikeway",
          "public recycling bin<br>Name: Fashion BID<br>Address: 57 St & Lexington Ave",
          "public recycling bin<br>Name: Fashion BID<br>Address: Broadway Btwn 39 St & 40 St",
          "public recycling bin<br>Name: Father Dumo Square<br>Address: Father Demo Square",
          "public recycling bin<br>Name: Foley Square - DSNY Partnership<br>Address: Foley Square, Duane St",
          "public recycling bin<br>Name: Foley Square - DSNY Partnership<br>Address: Foley Square, Worth St",
          "public recycling bin<br>Name: Fred Johnson<br>Address: 7 Ave Btwn 150 St & 151 St",
          "public recycling bin<br>Name: Grand Central<br>Address: 42 St & Lexington Ave",
          "public recycling bin<br>Name: Greenwich & Murray<br>Address: 270 Greenwich Street",
          "public recycling bin<br>Name: Hamilton Fish<br>Address: Hamilton Fish Park",
          "public recycling bin<br>Name: Hamilton Fish Recreation Center<br>Address: East River Bikeway",
          "public recycling bin<br>Name: Hamilton Fish Recreation Center<br>Address: East River Bikeway",
          "public recycling bin<br>Name: Hamilton Fish Recreation Center<br>Address: East River Bikeway",
          "public recycling bin<br>Name: Hamilton Fish Recreation Center<br>Address: East River Bikeway",
          "public recycling bin<br>Name: Hamilton Fish Recreation Center<br>Address: East River Bikeway",
          "public recycling bin<br>Name: Hamilton Fish Recreation Center<br>Address: East River Bikeway",
          "public recycling bin<br>Name: Hamilton Fish Recreation Center<br>Address: East River Bikeway",
          "public recycling bin<br>Name: Hamilton Fish Recreation Center<br>Address: East River Bikeway",
          "public recycling bin<br>Name: Hamilton Fish Recreation Center<br>Address: East River Bikeway",
          "public recycling bin<br>Name: Hamilton Fish Recreation Center<br>Address: East River Bikeway",
          "public recycling bin<br>Name: Hamilton Fish Recreation Center<br>Address: Pitt St",
          "public recycling bin<br>Name: Hansboro<br>Address: 35 W 134 St",
          "public recycling bin<br>Name: Harlem RBI – Community Group<br>Address: 333 E 100 St",
          "public recycling bin<br>Name: Harlem River Ballfield<br>Address: Harlem River Park",
          "public recycling bin<br>Name: Harrison St Basketball Court<br>Address: Hudson River Park ",
          "public recycling bin<br>Name: High Line Park<br>Address: High Line Park",
          "public recycling bin<br>Name: High Line Park<br>Address: High Line Park",
          "public recycling bin<br>Name: High Line Park<br>Address: Washington St & Gansevoort St",
          "public recycling bin<br>Name: Highbridge<br>Address: Washington Bridge",
          "public recycling bin<br>Name: Highline Entrance+Park<br>Address: W 20 St",
          "public recycling bin<br>Name: Hudson River Park<br>Address: 14 St Park",
          "public recycling bin<br>Name: Hudson River Park<br>Address: 60 Centre Street",
          "public recycling bin<br>Name: Hudson River Park<br>Address: Battery Park Entrance (State St & Water St)",
          "public recycling bin<br>Name: Hudson River Park<br>Address: Essex St & Delancy St",
          "public recycling bin<br>Name: Hudson River Park<br>Address: Hudson River Park",
          "public recycling bin<br>Name: Hudson River Park<br>Address: Pier 40 Courtyard & Tunel",
          "public recycling bin<br>Name: Hudson River Park<br>Address: Pier 51 Playground",
          "public recycling bin<br>Name: Hudson River Park<br>Address: Pier 62 Garden Area",
          "public recycling bin<br>Name: Hudson River Park<br>Address: Pier 62 Skate Park",
          "public recycling bin<br>Name: Hudson River Park<br>Address: Pier 66 Seating Area",
          "public recycling bin<br>Name: Hudson River Park<br>Address: Pier 84 (43 St Bike Shop)",
          "public recycling bin<br>Name: Hudson River Park<br>Address: Pier 95",
          "public recycling bin<br>Name: Hudson River Park<br>Address: Tennis Courts",
          "public recycling bin<br>Name: Hudson River Park<br>Address: White Hall Ferry Terminal (Indoor & Outdoor)",
          "public recycling bin<br>Name: Imagination Playground<br>Address: Imagination Playground",
          "public recycling bin<br>Name: Inwood Dyckman fields<br>Address: Inwood Hill Park",
          "public recycling bin<br>Name: Inwood Dyckman fields<br>Address: Inwood Hill Park",
          "public recycling bin<br>Name: Inwood Hill<br>Address: Inwood Hill Park",
          "public recycling bin<br>Name: Inwood Hill Nature Center<br>Address: 218 St & Indian Rd",
          "public recycling bin<br>Name: J. Hood Wright<br>Address: Jay Hood Wright Park",
          "public recycling bin<br>Name: J. Hood Wright<br>Address: Jay Hood Wright Park",
          "public recycling bin<br>Name: Jackie Robinson<br>Address: 89 Bradhurst Ave",
          "public recycling bin<br>Name: Jackson Square<br>Address: Jackson Square",
          "public recycling bin<br>Name: Jacob Javits Playground<br>Address: Fort Tyron Park",
          "public recycling bin<br>Name: Jacob Schiff<br>Address: Jacob Schiff Playground ",
          "public recycling bin<br>Name: John Jay Park<br>Address: John Jay Park",
          "public recycling bin<br>Name: Life Spire (CRMD, Inc.)<br>Address: 2015 Lexington Avenue ",
          "public recycling bin<br>Name: Lincoln Square<br>Address: Broadway & 63 St ",
          "public recycling bin<br>Name: Lincoln Square<br>Address: Broadway & 66 St",
          "public recycling bin<br>Name: Maggie's Garden<br>Address: 1547 Lexington Ave",
          "public recycling bin<br>Name: McCaffry Plgd – Parks<br>Address: W 43 St Btwn 8 & 9 Ave",
          "public recycling bin<br>Name: Mobilization for Change Community Garden<br>Address: 955 Columbus Avenue ",
          "public recycling bin<br>Name: Morningside Park<br>Address: Morningside Ave",
          "public recycling bin<br>Name: Morningside Park<br>Address: Morningside Dr",
          "public recycling bin<br>Name: Morningside Park<br>Address: W 113 St",
          "public recycling bin<br>Name: Morningside Park<br>Address: W 116 St",
          "public recycling bin<br>Name: Morris Jumel Ecological Garden<br>Address: 455-457 W 162nd Street ",
          "public recycling bin<br>Name: Museum of Natural History/Planitarium<br>Address: Central Park West",
          "public recycling bin<br>Name: Museum of Natural History/Planitarium<br>Address: W 78 St & Columbus Ave",
          "public recycling bin<br>Name: Museum of Natural History/Planitarium<br>Address: W 79 St & Columbus Ave",
          "public recycling bin<br>Name: Museum of Natural History/Planitarium<br>Address: W 81 St Loop",
          "public recycling bin<br>Name: Museum of Natural History/Planitarium<br>Address: W 81 St Loop",
          "public recycling bin<br>Name: Our Little Green Acres (Garden Eight)<br>Address: 275-277 W. 122nd St.",
          "public recycling bin<br>Name: Park Row & Beekman Street<br>Address: Outside Plaza  Entrance",
          "public recycling bin<br>Name: Parks Council Success Garden- P.S. 175 I.S. 275<br>Address: 116-122 West 134th Street ",
          "public recycling bin<br>Name: Payson Playground<br>Address: Inwood Hill Park",
          "public recycling bin<br>Name: Pelham Fritz<br>Address: 18 Mount Morris Park",
          "public recycling bin<br>Name: Pier 25<br>Address: Pier 25 West End, Hudson River Park",
          "public recycling bin<br>Name: Pier 25 Mini Golf & Skate Park<br>Address: Hudson River Park ",
          "public recycling bin<br>Name: Pier 25 Playground<br>Address: Pier 25 Playground West Gate, Hudson River Park",
          "public recycling bin<br>Name: Pier 40<br>Address: Pier 40 Courtyard & Tunnel, Hudson River Park",
          "public recycling bin<br>Name: Pier 40 Dog Run<br>Address: Pier 40, Hudson River Park",
          "public recycling bin<br>Name: Pier 40 Roof<br>Address: Pier 40, Hudson River Park",
          "public recycling bin<br>Name: Pier 45<br>Address: Hudson River Park ",
          "public recycling bin<br>Name: Pier 57<br>Address: Hudson River Park ",
          "public recycling bin<br>Name: Pier 84 (44 St Park Building)<br>Address: Hudson River Park ",
          "public recycling bin<br>Name: Pleasant Village Community Garden<br>Address: 342-353 Pleasant Ave./502 E. 119th Street",
          "public recycling bin<br>Name: Promenade South<br>Address: Hudson River Park ",
          "public recycling bin<br>Name: Rec Center  54<br>Address: E 54 St Btwn 1 Ave & 2 Ave",
          "public recycling bin<br>Name: Riverside Park- Plgd @ 83rd St.<br>Address: Riverside Park",
          "public recycling bin<br>Name: Rucker Park-parks<br>Address: 155 St & Frederick Douglass Blvd",
          "public recycling bin<br>Name: Sara D. Roosevelt<br>Address: Chrystie St",
          "public recycling bin<br>Name: Seward park<br>Address: Seward park",
          "public recycling bin<br>Name: Sixth St. & Ave. B<br>Address: 78-92 Avenue B",
          "public recycling bin<br>Name: Soho Parnership<br>Address: Broadway &  Prince St ",
          "public recycling bin<br>Name: Soho Partnership<br>Address: Spring St & Lafayette St",
          "public recycling bin<br>Name: St. Catherine's <br>Address: St. Catherine's Park",
          "public recycling bin<br>Name: St. Nicholas<br>Address: 135 St & St. Nicholas Ave",
          "public recycling bin<br>Name: St. Vartan's <br>Address: St. Vartan's Park",
          "public recycling bin<br>Name: Stuyvesant- Parks<br>Address: East River Bikeway",
          "public recycling bin<br>Name: Thomas Jefferson<br>Address: Jefferson Park",
          "public recycling bin<br>Name: Thomas Payne<br>Address: Centre St & Worth St",
          "public recycling bin<br>Name: Thomas Payne<br>Address: Duane St & Centre St",
          "public recycling bin<br>Name: Thomas Payne<br>Address: Duane St & Lafayette St",
          "public recycling bin<br>Name: Thomas Payne<br>Address: Lafayette St & Worth St",
          "public recycling bin<br>Name: Times Square<br>Address: 42 St Btwn Broadway & 7 Ave",
          "public recycling bin<br>Name: Tompkins Square Park<br>Address: Avenue A & E 7 St",
          "public recycling bin<br>Name: Tompkins Square Park<br>Address: Avenue A & St. Mark's Pl",
          "public recycling bin<br>Name: Tompkins Square Park<br>Address: Avenue B & E 8 St",
          "public recycling bin<br>Name: Tony Dapolito<br>Address: 1 Clarkson St",
          "public recycling bin<br>Name: Tribeca Partnership<br>Address: Greenwich & North Moore",
          "public recycling bin<br>Name: Union Square <br>Address: Union Square Park",
          "public recycling bin<br>Name: Union Square <br>Address: Union Square Park",
          "public recycling bin<br>Name: Union Square <br>Address: Union Square Park",
          "public recycling bin<br>Name: Union Square <br>Address: Union Square Park",
          "public recycling bin<br>Name: Union Square <br>Address: Union Square Park",
          "public recycling bin<br>Name: Union Square <br>Address: Union Square Park",
          "public recycling bin<br>Name: Union Square <br>Address: Union Square Park",
          "public recycling bin<br>Name: Verdi Square<br>Address: Verdi Square",
          "public recycling bin<br>Name: Vesuvio Playground<br>Address: Thompson St",
          "public recycling bin<br>Name: Wall Street (South/Front)<br>Address: 107 Wall Street",
          "public recycling bin<br>Name: Wall Street (Water/Front)<br>Address: 100 Wall Street",
          "public recycling bin<br>Name: Warren & Greenwich<br>Address: 270 Greenwich Street",
          "public recycling bin<br>Name: Washington Market Playground<br>Address: Washington Market Park",
          "public recycling bin<br>Name: Washington Square Park<br>Address: Washington Square Park",
          "public recycling bin<br>Name: West 124th Street Community Garden<br>Address: West 124th Street and 5th Avenue ",
          "public recycling bin<br>Name: West 4th St. Courts (PLGD)<br>Address: 6 Ave Btwn W 3 St & W 4 St",
          "public recycling bin<br>Name: West End Avenuw<br>Address: West End Ave & 86 St",
          "public recycling bin<br>Name: Whitehall Ferry Terminal<br>Address: State Street outside Whitehall Ferry Terminal ",
          "public recycling bin<br>Name: A.R.R.O.W. Field house<br>Address: 35-30 35 St",
          "public recycling bin<br>Name: Abe Wolfson<br>Address: Abe Wolfson",
          "public recycling bin<br>Name: Addabo Park<br>Address: Addabo Park",
          "public recycling bin<br>Name: Al Oerter Rec Center <br>Address: 131-40 Fowler Ave",
          "public recycling bin<br>Name: Alley Pond Environmental<br>Address: 22806 Northern Blvd",
          "public recycling bin<br>Name: Alley Springfield, picnic and athletic<br>Address: Alley Pond Park",
          "public recycling bin<br>Name: Alley Springfield, picnic and athletic<br>Address: Alley Pond Park",
          "public recycling bin<br>Name: Alley Springfield, picnic and athletic<br>Address: Alley Pond Park",
          "public recycling bin<br>Name: Alley Springfield, picnic and athletic<br>Address: Alley Pond Park",
          "public recycling bin<br>Name: Alley Springfield, picnic and athletic<br>Address: Alley Pond Park",
          "public recycling bin<br>Name: Astoria Park<br>Address: Astoria Park S",
          "public recycling bin<br>Name: Austin E<br>Address: Ehrenreich-Austin Playground",
          "public recycling bin<br>Name: B.C.C.A. Mini-Park and Garden<br>Address: 150-14 115th Drive ",
          "public recycling bin<br>Name: Baisley Pond Park<br>Address: 155 St & 118 Ave",
          "public recycling bin<br>Name: Baisley Pond Park<br>Address: 155 St & 125 Ave",
          "public recycling bin<br>Name: Baisley Pond Park<br>Address: Lakeview Blvd & 118 Ave",
          "public recycling bin<br>Name: Bland Playground<br>Address: Bland Playground",
          "public recycling bin<br>Name: Block Association #81<br>Address: Inwood Stree between Lakewood & Shore Aves",
          "public recycling bin<br>Name: Brookville Park<br>Address: 143 Ave",
          "public recycling bin<br>Name: Brookville Park<br>Address: 147 Ave",
          "public recycling bin<br>Name: Brookville Park<br>Address: 232 St",
          "public recycling bin<br>Name: Buzz O'Rourke Playground<br>Address: Crocheron Park",
          "public recycling bin<br>Name: Byrne Park<br>Address: 135 Ave btwn 131 St & 132 St",
          "public recycling bin<br>Name: Captain Tilly<br>Address: Captain Tilly Park",
          "public recycling bin<br>Name: Charybdis plgd<br>Address: Astoria Park",
          "public recycling bin<br>Name: Crocheron Park<br>Address: 33 Rd & 215 Pl",
          "public recycling bin<br>Name: Culinary Kids<br>Address: 30-15 Seagirt Blvd. @ Beach 31st Street",
          "public recycling bin<br>Name: Cunningham Ballfields<br>Address: Cunningham Park",
          "public recycling bin<br>Name: Cunningham Ballfields<br>Address: Cunningham Park",
          "public recycling bin<br>Name: Cunningham Picnic<br>Address: Cunningham Park",
          "public recycling bin<br>Name: Cunningham Soccer<br>Address: Cunningham Park",
          "public recycling bin<br>Name: Cunningham tennis courts<br>Address: Cunningham Park",
          "public recycling bin<br>Name: Cunningham tennis courts<br>Address: Cunningham Park",
          "public recycling bin<br>Name: Detective Keith Williams<br>Address: Detective Keith Williams Park",
          "public recycling bin<br>Name: Elmhurst Park<br>Address: Elmhurst Park",
          "public recycling bin<br>Name: Flushing Meadows Corona Park<br>Address: Amphitheater Bridge",
          "public recycling bin<br>Name: Flushing Meadows Corona Park<br>Address: Baseball Field 13",
          "public recycling bin<br>Name: Flushing Meadows Corona Park<br>Address: Dinosaur Playground",
          "public recycling bin<br>Name: Flushing Meadows Corona Park<br>Address: Field 2, Avenue of Commerce",
          "public recycling bin<br>Name: Flushing Meadows Corona Park<br>Address: Meadow Lake Trail E",
          "public recycling bin<br>Name: Flushing Meadows Corona Park<br>Address: Meadow Lake Trail W",
          "public recycling bin<br>Name: Flushing Meadows Corona Park<br>Address: Unisphere",
          "public recycling bin<br>Name: Flushing Meadows Corona Park<br>Address: United Nations Ave S",
          "public recycling bin<br>Name: Flushing Meadows Pool<br>Address: Avery Ave & 131 St",
          "public recycling bin<br>Name: Forest Park<br>Address: Bandshell",
          "public recycling bin<br>Name: Forest Park<br>Address: Dog Run",
          "public recycling bin<br>Name: Forest Park<br>Address: Myrtle Ave & Park Lane S",
          "public recycling bin<br>Name: Forest Park<br>Address: Tennis Courts",
          "public recycling bin<br>Name: Forest Park<br>Address: Victory Field Baseball",
          "public recycling bin<br>Name: Forest Park<br>Address: Victory Field Soccer & Running Track",
          "public recycling bin<br>Name: Forest Park<br>Address: Woodhaven Blvd & Park Lane S",
          "public recycling bin<br>Name: Fort Totten<br>Address: North Loop",
          "public recycling bin<br>Name: Fort Totten<br>Address: Story Rd",
          "public recycling bin<br>Name: Fort Totten<br>Address: Weaver Rd & Totten Ave",
          "public recycling bin<br>Name: George Eagle Carr Community Garden<br>Address: 148th Street ",
          "public recycling bin<br>Name: Glendale Playground<br>Address: Glendale Playground",
          "public recycling bin<br>Name: Greenthumb compound<br>Address: 10 St & Queens Plaza S",
          "public recycling bin<br>Name: Grover Cleveland<br>Address: Cleveland Park",
          "public recycling bin<br>Name: Grover Cleveland<br>Address: Cleveland Park",
          "public recycling bin<br>Name: Hoffman Park<br>Address: Hoffman Park",
          "public recycling bin<br>Name: Hoffman Park<br>Address: Hoffman Park",
          "public recycling bin<br>Name: Hoffman Park<br>Address: Hoffman Park",
          "public recycling bin<br>Name: Hoffman Park<br>Address: Hoffman Park",
          "public recycling bin<br>Name: Hoffman Park<br>Address: Hoffman Park",
          "public recycling bin<br>Name: Hoffman Park<br>Address: Hoffman Park",
          "public recycling bin<br>Name: Juniper Valley Park<br>Address: Juniper Valley Park",
          "public recycling bin<br>Name: Juniper Valley Park<br>Address: Juniper Valley Park",
          "public recycling bin<br>Name: Juniper Valley Park<br>Address: Juniper Valley Park",
          "public recycling bin<br>Name: Juniper Valley Park<br>Address: Juniper Valley Park",
          "public recycling bin<br>Name: Kissena Park<br>Address: Booth Memorial Ave ",
          "public recycling bin<br>Name: Kissena Park<br>Address: Booth Memorial Ave ",
          "public recycling bin<br>Name: Kissena Park<br>Address: Kissena Velodrome",
          "public recycling bin<br>Name: Kissena Park<br>Address: Lithonia Ave ",
          "public recycling bin<br>Name: Kissena Park<br>Address: Rose Ave",
          "public recycling bin<br>Name: LBH Rec Center<br>Address: 93-29 Queens Blvd",
          "public recycling bin<br>Name: Marie Curie Playground<br>Address: Marie Curie Park",
          "public recycling bin<br>Name: McDonald Park<br>Address: McDonald Park",
          "public recycling bin<br>Name: McDonald Park<br>Address: McDonald Park",
          "public recycling bin<br>Name: McDonald Park<br>Address: McDonald Park",
          "public recycling bin<br>Name: Parks Academy<br>Address: Flushing Meadows Corona Park",
          "public recycling bin<br>Name: Passerelle - Aquatics<br>Address: Flushing Meadows Corona Park",
          "public recycling bin<br>Name: Phil Rizzuto Park <br>Address: Phil Rizzuto Park ",
          "public recycling bin<br>Name: Playground for All Children<br>Address: Flushing Meadows Corona Park",
          "public recycling bin<br>Name: Pomonok Playground<br>Address: Pomonok Playground",
          "public recycling bin<br>Name: Queens Hall of Science<br>Address: 47-01 111 St",
          "public recycling bin<br>Name: Queens Museum<br>Address: New York City Building, Flushing Meadows Corona Park",
          "public recycling bin<br>Name: Queens Theatre<br>Address: 14 United Nations Ave S",
          "public recycling bin<br>Name: Queens Zoo<br>Address: 53-51 111 St",
          "public recycling bin<br>Name: Rainey park<br>Address: Rainey Park",
          "public recycling bin<br>Name: Rockaway Beach <br>Address: B 100 St Boardwalk",
          "public recycling bin<br>Name: Rockaway Beach <br>Address: B 102 St Boardwalk",
          "public recycling bin<br>Name: Rockaway Beach <br>Address: B 105 St Boardwalk",
          "public recycling bin<br>Name: Rockaway Beach <br>Address: B 81 St Boardwalk",
          "public recycling bin<br>Name: Rockaway Beach <br>Address: B 90 St Boardwalk",
          "public recycling bin<br>Name: Rockaway Beach <br>Address: B 91 St Boardwalk",
          "public recycling bin<br>Name: Rockaway Beach <br>Address: B 95 St Boardwalk",
          "public recycling bin<br>Name: Rockaway Beach <br>Address: B 97 St Boardwalk",
          "public recycling bin<br>Name: Rockaway Beach <br>Address: B 99 St Boardwalk",
          "public recycling bin<br>Name: Rockaway Beach <br>Address: Bayside Pl Boardwalk",
          "public recycling bin<br>Name: Rocket Park <br>Address: Rocket Park ",
          "public recycling bin<br>Name: Roy Wilkens<br>Address: 115 Ave & 175 St",
          "public recycling bin<br>Name: Roy Wilkens<br>Address: Baisley Blvd",
          "public recycling bin<br>Name: Roy Wilkens<br>Address: Roy Wilkens ",
          "public recycling bin<br>Name: Socrates Park<br>Address: Socrates Park",
          "public recycling bin<br>Name: Sorrentino <br>Address: 1848 Cornaga Ave",
          "public recycling bin<br>Name: Southern Fields <br>Address: Southern Pkwy",
          "public recycling bin<br>Name: Southern Fields <br>Address: Southern Pkwy",
          "public recycling bin<br>Name: St. Michaels<br>Address: St. Michael's Playground",
          "public recycling bin<br>Name: Steinway St<br>Address: BW 34 St & Broadway",
          "public recycling bin<br>Name: Sunnyside Garden Park<br>Address: Sunnyside Garden Park",
          "public recycling bin<br>Name: Sunnyside Garden Park<br>Address: Sunnyside Garden Park",
          "public recycling bin<br>Name: Sunnyside Garden Park<br>Address: Sunnyside Garden Park",
          "public recycling bin<br>Name: Travers Park<br>Address: Travers Park",
          "public recycling bin<br>Name: Underhill<br>Address: Cunningham Park",
          "public recycling bin<br>Name: William Simmons Community Garden Club<br>Address: 173 St",
          "public recycling bin<br>Name: World ice rink<br>Address: Flushing Meadows Corona Park",
          "public recycling bin<br>Name: 150 St<br>Address: New Dorp Lane & S Railroad Ave",
          "public recycling bin<br>Name: Berry Homes ballfield<br>Address: Gen. Douglas Macarthur Park, Dongan Hills Ave",
          "public recycling bin<br>Name: Berry Homes ballfield<br>Address: Gen. Douglas Macarthur Park, Dongan Hills Ave",
          "public recycling bin<br>Name: Bloomingdale Playgound<br>Address: Bloomingdale Park ",
          "public recycling bin<br>Name: Bloomingdale Playgound<br>Address: Bloomingdale Park ",
          "public recycling bin<br>Name: Bloomingdale Playgound<br>Address: Bloomingdale Park, Lenevar Ave & Ramona Ave",
          "public recycling bin<br>Name: Bloomingdale Playgound<br>Address: Bloomingdale Park, Richmond Pkwy & Lenevar Ave",
          "public recycling bin<br>Name: Cedar Grove Beach<br>Address: Cedar Grove Beach",
          "public recycling bin<br>Name: Cedar Grove Beach<br>Address: Cedar Grove Beach",
          "public recycling bin<br>Name: Clove lake garage complex<br>Address: Clove Lake Park",
          "public recycling bin<br>Name: Clove lake garage complex<br>Address: Clove Lake Park",
          "public recycling bin<br>Name: Cloves Lake<br>Address: Clove Lake Park",
          "public recycling bin<br>Name: Corporal Thompson Playground<br>Address: CPL Thompson Park",
          "public recycling bin<br>Name: DeMatti Playground<br>Address: Thompkins Ave Btwn Chestnut Ave & Shaughnessy Ln",
          "public recycling bin<br>Name: Faber Pool<br>Address: Faber Pool and Park",
          "public recycling bin<br>Name: Graniteville<br>Address: Jennifer's Playground",
          "public recycling bin<br>Name: Greenbelt Nature Center<br>Address: 700 Rockland Ave",
          "public recycling bin<br>Name: Greenbelt Park <br>Address: Greenbelt Park ",
          "public recycling bin<br>Name: Greenbelt Rec Ctr<br>Address: 501 Brielle Ave",
          "public recycling bin<br>Name: John M. D'Amato Field<br>Address: Miller Field",
          "public recycling bin<br>Name: Lyons Pool<br>Address: Tompkinsville Play Center",
          "public recycling bin<br>Name: MacArthur Park<br>Address: MacArthur Park",
          "public recycling bin<br>Name: Mahony Playground<br>Address: Crescent Ave Btwn Jersey St & Beechwood Ave",
          "public recycling bin<br>Name: Midland Beach<br>Address: Midland Field, Bedford Ave ",
          "public recycling bin<br>Name: Midland Beach<br>Address: Midland Playground",
          "public recycling bin<br>Name: Prall Playground<br>Address: Forest Ave & Elizabeth St",
          "public recycling bin<br>Name: Silver Lake Dog Run<br>Address: Silver Lake Park",
          "public recycling bin<br>Name: Silver Lake Tennis<br>Address: Silver Lake Park",
          "public recycling bin<br>Name: South Beach<br>Address: South Beach",
          "public recycling bin<br>Name: Staten Island Ferry Terminal<br>Address: Hyatt Ave",
          "public recycling bin<br>Name: Staten Island Ferry Terminal<br>Address: Richmond Terrace",
          "public recycling bin<br>Name: Staten Island Ferry Terminal<br>Address: Richmond Terrace",
          "public recycling bin<br>Name: Tottenville Pool<br>Address: Hylan Blvd",
          "public recycling bin<br>Name: Walker Park<br>Address: Davis Ave & Livingston Ct",
          "public recycling bin<br>Name: Walker Park<br>Address: Delafield Pl & Bard Ave",
          "public recycling bin<br>Name: Walker Park<br>Address: Delafield Pl & Davis Ave",
          "public recycling bin<br>Name: Walker Park<br>Address: Livingston Ct & bard Ave ",
          "public recycling bin<br>Name: West Brighton Pool<br>Address: 899 Henderson Ave ",
          "public recycling bin<br>Name: Willowbrook Park<br>Address: Willowbrook Park",
          "public recycling bin<br>Name: Willowbrook Park<br>Address: Willowbrook Park",
          "public recycling bin<br>Name: Wolfe's Pond<br>Address: Wolfe's Pond",
          "public recycling bin<br>Name: Wolfe's Pond<br>Address: Wolfe's Pond"
         ],
         "lat": [
          40.844772,
          40.8269197,
          40.8326398,
          40.8312021,
          40.833022,
          40.8641072,
          40.8745635,
          40.839961,
          40.820403,
          40.818032,
          40.82127,
          40.846452,
          40.8534,
          40.80766,
          40.81622,
          40.82805,
          40.81844,
          40.862707,
          40.86115,
          40.87094,
          40.80948,
          40.881233,
          40.82135,
          40.829353,
          40.648502,
          40.6722226,
          40.673815,
          40.6937566,
          40.680852,
          40.6408302,
          40.69132,
          40.6726424,
          40.720471,
          40.725018,
          40.633663,
          40.66809,
          40.66496,
          40.65507,
          40.683282,
          40.678196,
          40.650381,
          40.697523,
          40.644516,
          40.680355,
          40.676782,
          40.6929796,
          40.678708,
          40.753588,
          40.79667,
          40.761706,
          40.8461084,
          40.7819529,
          40.7742982,
          40.7941768,
          40.7375462,
          40.704594,
          40.8067454,
          40.76911,
          40.7810344,
          40.8421716,
          40.8690103,
          40.7891821,
          40.7260554,
          40.7736069,
          40.737098,
          40.7670054,
          40.8051411,
          40.81428,
          40.808388,
          40.721086,
          40.857341,
          40.729165,
          40.824415,
          40.6894501,
          40.6894506,
          40.749509,
          40.755588,
          40.835828,
          40.731506,
          40.790645,
          40.800146,
          40.7162918,
          40.800867,
          40.7984,
          40.82099,
          40.798786,
          40.82404,
          40.83404,
          40.78579,
          40.86532,
          40.85295,
          40.7529921,
          40.742827,
          40.7489842,
          40.756032,
          40.7202214,
          40.7298117,
          40.738228,
          40.7634686,
          40.725357,
          40.7452994,
          40.733512,
          40.7140565,
          40.7159955,
          40.7255273,
          40.71102,
          40.724479,
          40.732811,
          40.724502,
          40.7231069,
          40.833952,
          40.728081,
          40.804574,
          40.799721,
          40.721531,
          40.794912,
          40.811641,
          40.748406,
          40.7427437,
          40.774513,
          40.767066,
          40.7222304,
          40.7532152,
          40.7584821,
          40.7769984,
          40.7675822,
          40.7468806,
          40.595401,
          40.7562501,
          40.7497177,
          40.74983,
          40.7295998,
          40.7373468,
          40.75197,
          40.752149,
          40.768942,
          40.591961,
          40.754084,
          40.7096804,
          40.7132717,
          40.738397,
          40.717411,
          40.641672,
          40.6415864,
          40.5834232,
          40.630312,
          40.8306088,
          40.860358,
          40.8114884,
          40.845553,
          40.8608912,
          40.8219403,
          40.8518616,
          40.8677019,
          40.8810804,
          40.816877,
          40.7180048,
          40.6855509,
          40.592733,
          40.6863101,
          40.6362001,
          40.7326092,
          40.651344,
          40.6098192,
          40.6838452,
          40.5936458,
          40.6467058,
          40.6295254,
          40.6118064,
          40.5990083,
          40.5908736,
          40.6741737,
          40.6539242,
          40.7226339,
          40.6166088,
          40.681119,
          40.6887457,
          40.678631,
          40.7326047,
          40.743678,
          40.738365,
          40.8056313,
          40.794759,
          40.762665,
          40.7798872,
          40.7700779,
          40.7344091,
          40.7544351,
          40.7423606,
          40.725747,
          40.8083328,
          40.7539257,
          40.7495369,
          40.7478754,
          40.7848159,
          40.7331767,
          40.7604408,
          40.852244,
          40.7519146,
          40.7530426,
          40.7430749,
          40.7354498,
          40.7407266,
          40.7509006,
          40.7311383,
          40.7604799,
          40.732951,
          40.7444737,
          40.778473,
          40.7793,
          40.783755,
          40.812497,
          40.7382752,
          40.801328,
          40.848289,
          40.70127,
          40.7566145,
          40.746743,
          40.7575281,
          40.7534523,
          40.7353074,
          40.6897907,
          40.720443,
          40.7821272,
          40.7590732,
          40.7702468,
          40.7538623,
          40.7411879,
          40.7158271,
          40.7333304,
          40.7116062,
          40.6989379,
          40.748528,
          40.7415286,
          40.7581531,
          40.5769947,
          40.623861,
          40.5838147,
          40.5742785,
          40.80306136,
          40.73565554,
          40.70990701,
          40.77100135,
          40.57012962,
          40.795386,
          40.7862449,
          40.89084899,
          40.84889079,
          40.85557,
          40.871864,
          40.851889,
          40.861526,
          40.860755,
          40.859644,
          40.862602,
          40.826939,
          40.826627,
          40.854322,
          40.854445,
          40.850017,
          40.84976,
          40.819933,
          40.871706,
          40.911295,
          40.911236,
          40.825217,
          40.840115,
          40.835226,
          40.84133,
          40.840876,
          40.838351,
          40.841123,
          40.83377,
          40.841444,
          40.875553,
          40.833109,
          40.85042,
          40.849292,
          40.822893,
          40.813663,
          40.82201,
          40.862402,
          40.861948,
          40.861379,
          40.861267,
          40.869996,
          40.847026,
          40.816171,
          40.814213,
          40.817471,
          40.81484,
          40.858005,
          40.829632,
          40.827502,
          40.877667,
          40.835694,
          40.82297053,
          40.8229924,
          40.834258,
          40.831466,
          40.84155572,
          40.822711,
          40.889428,
          40.836706,
          40.90208,
          40.884079,
          40.866292,
          40.867984,
          40.868802,
          40.869068,
          40.872275,
          40.840504,
          40.840626,
          40.82366,
          40.838797,
          40.851723,
          40.849069,
          40.850274,
          40.841884,
          40.842795,
          40.903281,
          40.861953,
          40.873199,
          40.883881,
          40.885219,
          40.888353,
          40.865657,
          40.906878,
          40.819113,
          40.819274,
          40.817335,
          40.816505,
          40.835694,
          40.886538,
          40.887313,
          40.866089,
          40.865469,
          40.864779,
          40.811712,
          40.811588,
          40.80531601,
          40.887317,
          40.888933,
          40.888224,
          40.890172,
          40.888255,
          40.889096,
          40.833505,
          40.82057088,
          40.860641,
          40.828933,
          40.844147,
          40.895803,
          40.677973,
          40.57519,
          40.575239,
          40.629573,
          40.596833,
          40.68463,
          40.696536,
          40.673811,
          40.656762,
          40.722315,
          40.697327,
          40.695873,
          40.680946,
          40.681307,
          40.679442,
          40.68829,
          40.694143,
          40.697793,
          40.685861,
          40.610033,
          40.65021,
          40.687093,
          40.682556,
          40.687072,
          40.687208,
          40.689818,
          40.613322,
          40.67073271,
          40.672659,
          40.66101,
          40.700784,
          40.674221,
          40.67269,
          40.673262,
          40.578225,
          40.603519,
          40.695719,
          40.577672,
          40.577211,
          40.604085,
          40.721612,
          40.721535,
          40.72173,
          40.721933,
          40.720622,
          40.721653,
          40.719973,
          40.721075,
          40.724446,
          40.715086,
          40.692165,
          40.67207,
          40.693222,
          40.693473,
          40.693127,
          40.693456,
          40.720628,
          40.6659,
          40.639285,
          40.577492,
          40.668797,
          40.676639,
          40.696389,
          40.660478,
          40.655183,
          40.664608,
          40.66132,
          40.693761,
          40.677265,
          40.604374,
          40.617506,
          40.697746,
          40.701079,
          40.667491,
          40.673754,
          40.713316,
          40.650143,
          40.705616,
          40.706315,
          40.648468,
          40.709648,
          40.666548,
          40.665324,
          40.676766,
          40.688204,
          40.674329,
          40.695221,
          40.684658,
          40.70238,
          40.702631,
          40.702573,
          40.68293,
          40.683557,
          40.712187,
          40.715827,
          40.715923,
          40.71045,
          40.716396,
          40.718605,
          40.807945,
          40.716941,
          40.713608,
          40.714023,
          40.714399,
          40.716827,
          40.750901,
          40.71368,
          40.716458,
          40.716158,
          40.723831,
          40.715387,
          40.785787,
          40.785717,
          40.710412,
          40.736271,
          40.704592,
          40.711576,
          40.705075,
          40.711565,
          40.716092,
          40.739982,
          40.852856,
          40.736401,
          40.712939,
          40.71248,
          40.754391,
          40.753954,
          40.77453,
          40.804559,
          40.712796,
          40.749849,
          40.748355,
          40.749349,
          40.749318,
          40.711834,
          40.712806,
          40.712897,
          40.712517,
          40.710746,
          40.819645,
          40.71475,
          40.732377,
          40.804284,
          40.721757,
          40.71511,
          40.715356,
          40.807191,
          40.716205,
          40.760842,
          40.753938,
          40.730225,
          40.714357,
          40.715167,
          40.824847,
          40.751692,
          40.715109,
          40.719937,
          40.716618,
          40.717499,
          40.718372,
          40.718888,
          40.719832,
          40.721303,
          40.722911,
          40.723896,
          40.724113,
          40.725238,
          40.720057,
          40.812748,
          40.78613,
          40.806036,
          40.718742,
          40.74085,
          40.743298,
          40.739465,
          40.847983,
          40.746041,
          40.742795,
          40.714666,
          40.702411,
          40.70235,
          40.731457,
          40.728833,
          40.738145,
          40.748684,
          40.748507,
          40.751987,
          40.762839,
          40.770381,
          40.727097,
          40.701307,
          40.706124,
          40.87126,
          40.872594,
          40.867338,
          40.87303,
          40.84637,
          40.84696,
          40.824297,
          40.738952,
          40.859226,
          40.820071,
          40.769445,
          40.802588,
          40.771372,
          40.773715,
          40.828677,
          40.758977,
          40.799707,
          40.80413,
          40.801921,
          40.803133,
          40.805621,
          40.835708,
          40.780558,
          40.781265,
          40.781936,
          40.782175,
          40.782666,
          40.808183,
          40.711826,
          40.814478,
          40.867205,
          40.805463,
          40.720478,
          40.720176,
          40.719714,
          40.72917,
          40.73038,
          40.728828,
          40.732971,
          40.74341,
          40.763247,
          40.796609,
          40.707656,
          40.756564,
          40.787059,
          40.829744,
          40.721035,
          40.714603,
          40.724254,
          40.724319,
          40.72227,
          40.76512,
          40.817272,
          40.744858,
          40.73277,
          40.793412,
          40.715059,
          40.714045,
          40.714224,
          40.715355,
          40.755914,
          40.72603,
          40.726599,
          40.725698,
          40.729474,
          40.719979,
          40.735243,
          40.735219,
          40.735292,
          40.737023,
          40.736535,
          40.736122,
          40.73534,
          40.77878,
          40.72534,
          40.704695,
          40.704919,
          40.715575,
          40.717298,
          40.729689,
          40.806938,
          40.731315,
          40.788757,
          40.702335,
          40.755803,
          40.728344,
          40.673137,
          40.751418,
          40.76269,
          40.740063,
          40.739523,
          40.739295,
          40.738986,
          40.739758,
          40.776788,
          40.715851,
          40.683453,
          40.681366,
          40.675268,
          40.682418,
          40.758381,
          40.690594,
          40.66346,
          40.657674,
          40.661051,
          40.770753,
          40.667505,
          40.712529,
          40.779897,
          40.77208,
          40.595548,
          40.736722,
          40.73523,
          40.730966,
          40.73836,
          40.730117,
          40.729499,
          40.701915,
          40.730193,
          40.740388,
          40.728112,
          40.735169,
          40.749151,
          40.737039,
          40.7333,
          40.746639,
          40.744249,
          40.751882,
          40.698413,
          40.69664,
          40.701272,
          40.69747,
          40.702293,
          40.701854,
          40.69799,
          40.794781,
          40.792085,
          40.792357,
          40.692406,
          40.704591,
          40.753635,
          40.710069,
          40.71031,
          40.733135,
          40.733143,
          40.733068,
          40.732938,
          40.732701,
          40.733203,
          40.720689,
          40.720412,
          40.719988,
          40.719841,
          40.742502,
          40.742364,
          40.744148,
          40.749228,
          40.747887,
          40.732226,
          40.757266,
          40.721815,
          40.722012,
          40.72248,
          40.751632,
          40.750333,
          40.694407,
          40.740883,
          40.736171,
          40.747127,
          40.745794,
          40.744152,
          40.743599,
          40.765644,
          40.582137,
          40.5814,
          40.580754,
          40.585826,
          40.5844,
          40.58415,
          40.583412,
          40.582825,
          40.582479,
          40.585105,
          40.670613,
          40.691011,
          40.685918,
          40.688249,
          40.768029,
          40.602281,
          40.665379,
          40.665627,
          40.758219,
          40.758155,
          40.749844,
          40.749547,
          40.749687,
          40.754243,
          40.741628,
          40.701651,
          40.751914,
          40.574036,
          40.587445,
          40.586439,
          40.533819,
          40.535174,
          40.53514,
          40.531521,
          40.557382,
          40.560272,
          40.620135,
          40.618744,
          40.613891,
          40.637872,
          40.614615,
          40.640999,
          40.62005569,
          40.588496,
          40.584516,
          40.593686,
          40.564469,
          40.637596,
          40.585877,
          40.643368,
          40.57669,
          40.575019,
          40.628859,
          40.627186,
          40.628358,
          40.579313,
          40.642303,
          40.642709,
          40.642324,
          40.505646,
          40.642843,
          40.643799,
          40.643449,
          40.643343,
          40.637121,
          40.603832,
          40.603828,
          40.517368,
          40.518652
         ],
         "lon": [
          -73.887226,
          -73.9225039,
          -73.9187735,
          -73.9004133,
          -73.8627284,
          -73.8950656,
          -73.8916183,
          -73.916663,
          -73.895686,
          -73.888644,
          -73.91537,
          -73.894096,
          -73.9077,
          -73.9193,
          -73.9176,
          -73.9257,
          -73.9272,
          -73.901042,
          -73.8908,
          -73.883947,
          -73.918294,
          -73.887583,
          -73.924049,
          -73.903424,
          -73.976416,
          -74.0109856,
          -73.9949411,
          -73.9904735,
          -73.9955995,
          -73.9652999,
          -73.9735,
          -73.9704304,
          -73.952713,
          -73.94472,
          -73.885955,
          -73.865533,
          -73.886675,
          -73.96169,
          -73.935667,
          -73.967427,
          -73.963432,
          -73.913913,
          -73.920387,
          -73.882995,
          -73.932943,
          -73.9081621,
          -73.911357,
          -73.983233,
          -73.931728,
          -73.950244,
          -73.9381243,
          -73.9754869,
          -73.9512624,
          -73.9684124,
          -74.0048128,
          -74.0142515,
          -73.9649594,
          -73.98855,
          -73.9463184,
          -73.942289,
          -73.9203259,
          -73.9527316,
          -73.9835429,
          -73.9815795,
          -73.9903523,
          -73.9578326,
          -73.9391249,
          -73.942834,
          -73.943251,
          -73.991718,
          -73.922111,
          -73.983435,
          -73.94918,
          -74.016792,
          -74.0167913,
          -73.998096,
          -73.999721,
          -73.938621,
          -73.983427,
          -73.97599,
          -73.94233,
          -74.0109403,
          -73.958284,
          -73.9526,
          -73.9543,
          -73.941698,
          -73.9446,
          -73.9452,
          -73.9508,
          -73.928,
          -73.9376,
          -73.9698797,
          -74.0078384,
          -74.0071142,
          -74.006046,
          -74.0128434,
          -74.0110087,
          -74.0104549,
          -74.0002584,
          -73.978278,
          -73.9984832,
          -74.002956,
          -73.9902176,
          -73.986664,
          -74.0040577,
          -73.97905,
          -73.979718,
          -74.000091,
          -73.97874,
          -73.988458,
          -73.941736,
          -73.979214,
          -73.955533,
          -73.962101,
          -73.982075,
          -73.943148,
          -73.950521,
          -73.721002,
          -73.9541298,
          -73.912463,
          -73.921406,
          -73.8467632,
          -73.8896812,
          -73.9186052,
          -73.9096802,
          -73.9359557,
          -73.9208078,
          -73.776541,
          -73.8258451,
          -73.8626075,
          -73.896438,
          -73.8616452,
          -73.877195,
          -73.830325,
          -73.925454,
          -73.929913,
          -73.788284,
          -73.94267,
          -73.8190304,
          -73.8299268,
          -73.877742,
          -73.857513,
          -74.101624,
          -74.0779094,
          -74.1629698,
          -74.115754,
          -73.891455,
          -73.9030775,
          -73.9257636,
          -73.901079,
          -73.8913166,
          -73.9301166,
          -73.8674386,
          -73.8286649,
          -73.9023443,
          -73.918804,
          -73.9575848,
          -73.960619,
          -73.940786,
          -73.9838984,
          -74.0260663,
          -73.9549618,
          -73.873167,
          -73.9216133,
          -73.9754325,
          -73.9989895,
          -73.9578905,
          -73.928339,
          -73.9630824,
          -73.9852812,
          -73.9503307,
          -73.9868727,
          -73.8732584,
          -73.9393371,
          -74.0300263,
          -73.956988,
          -73.9842131,
          -73.987452,
          -73.9903344,
          -73.999235,
          -73.9824462,
          -73.9413695,
          -73.972784,
          -73.995377,
          -73.9557037,
          -73.981592,
          -73.9904346,
          -73.9796913,
          -73.9923849,
          -73.9959279,
          -73.945866,
          -73.9854091,
          -73.988499,
          -73.9837462,
          -73.9788032,
          -73.9995147,
          -73.9710375,
          -73.934254,
          -73.9825561,
          -73.9924445,
          -73.9765721,
          -73.9915753,
          -73.9948313,
          -73.973911,
          -73.9923455,
          -73.98709,
          -73.998643,
          -73.9921732,
          -73.980571,
          -73.950294,
          -73.979007,
          -73.938164,
          -73.9822849,
          -73.937068,
          -73.931997,
          -73.805563,
          -73.9212251,
          -73.9026954,
          -73.8356912,
          -73.9121271,
          -73.8747611,
          -73.841335,
          -73.844168,
          -73.8347154,
          -73.772986,
          -73.9179077,
          -73.9089981,
          -73.9070126,
          -73.9018412,
          -73.8635717,
          -73.8581226,
          -73.8150529,
          -73.873001,
          -73.9337864,
          -73.919959,
          -74.1674401,
          -74.1391954,
          -74.0962032,
          -74.1694432,
          -73.87485887,
          -73.94613805,
          -73.99232338,
          -73.84714946,
          -74.19481927,
          -73.9310222,
          -73.978733,
          -73.86422392,
          -73.87712839,
          -73.887565,
          -73.805549,
          -73.868549,
          -73.880659,
          -73.880423,
          -73.880472,
          -73.880171,
          -73.922314,
          -73.922447,
          -73.869764,
          -73.869863,
          -73.880035,
          -73.880055,
          -73.887069,
          -73.872741,
          -73.907652,
          -73.90791,
          -73.88546,
          -73.895513,
          -73.895652,
          -73.892702,
          -73.898206,
          -73.893566,
          -73.898056,
          -73.877453,
          -73.888487,
          -73.860526,
          -73.828285,
          -73.915529,
          -73.902175,
          -73.91266,
          -73.905898,
          -73.914009,
          -73.897174,
          -73.893726,
          -73.881414,
          -73.89014,
          -73.876238,
          -73.882534,
          -73.917594,
          -73.885886,
          -73.882622,
          -73.90691,
          -73.90485,
          -73.921933,
          -73.923062,
          -73.90062,
          -73.925664,
          -73.91288322,
          -73.93189254,
          -73.923392,
          -73.923947,
          -73.87752267,
          -73.890242,
          -73.864356,
          -73.872355,
          -73.868519,
          -73.866996,
          -73.794774,
          -73.793396,
          -73.792261,
          -73.792558,
          -73.797323,
          -73.842668,
          -73.843231,
          -73.850766,
          -73.845791,
          -73.824697,
          -73.822954,
          -73.88992,
          -73.876389,
          -73.877694,
          -73.903612,
          -73.890736,
          -73.87052,
          -73.881691,
          -73.840474,
          -73.840908,
          -73.850613,
          -73.904143,
          -73.878003,
          -73.870418,
          -73.870322,
          -73.872564,
          -73.888776,
          -73.898453,
          -73.916308,
          -73.896967,
          -73.898571,
          -73.899257,
          -73.914339,
          -73.914342,
          -73.91533212,
          -73.899006,
          -73.898324,
          -73.896655,
          -73.896375,
          -73.897777,
          -73.892278,
          -73.86232,
          -73.91403138,
          -73.871488,
          -73.869326,
          -73.918886,
          -73.87943,
          -73.928171,
          -73.971342,
          -73.971889,
          -74.022532,
          -73.9994,
          -73.990234,
          -73.990675,
          -73.943717,
          -73.90247,
          -73.961527,
          -73.990337,
          -73.990218,
          -73.995481,
          -73.995212,
          -73.876233,
          -73.996136,
          -73.989791,
          -73.978653,
          -73.972638,
          -73.96952,
          -73.958798,
          -73.976238,
          -73.961975,
          -73.976557,
          -73.974621,
          -73.9732,
          -74.030067,
          -73.87967557,
          -73.885742,
          -73.895627,
          -73.995146,
          -73.888573,
          -73.984796,
          -73.984332,
          -73.994834,
          -73.957375,
          -73.990256,
          -73.944616,
          -73.946587,
          -73.930703,
          -73.953668,
          -73.954114,
          -73.953298,
          -73.955283,
          -73.952488,
          -73.950305,
          -73.952215,
          -73.955512,
          -73.943326,
          -73.960546,
          -73.985247,
          -73.96598,
          -73.971887,
          -73.979168,
          -73.96879,
          -73.965908,
          -73.965524,
          -73.887172,
          -74.031909,
          -73.946325,
          -73.980144,
          -73.978903,
          -73.99734,
          -73.963187,
          -73.962214,
          -73.976666,
          -73.979593,
          -73.948972,
          -74.008353,
          -73.930741,
          -74.040033,
          -73.976199,
          -73.995307,
          -73.89384,
          -73.934855,
          -73.938974,
          -73.884372,
          -73.947172,
          -73.948025,
          -74.006771,
          -73.950166,
          -73.887691,
          -73.886769,
          -73.965902,
          -73.966559,
          -73.877867,
          -73.943264,
          -73.925222,
          -73.986553,
          -73.990641,
          -73.989752,
          -73.964596,
          -73.966797,
          -74.005701,
          -74.000488,
          -74.001448,
          -74.003755,
          -74.001359,
          -73.993763,
          -73.945623,
          -74.000816,
          -74.003619,
          -74.004472,
          -74.006131,
          -74.004185,
          -73.990843,
          -74.005513,
          -74.002467,
          -74.002555,
          -73.980677,
          -74.001773,
          -73.951092,
          -73.950922,
          -73.996979,
          -73.975508,
          -74.016957,
          -74.016051,
          -74.017115,
          -74.015853,
          -74.000134,
          -73.978053,
          -73.938098,
          -74.005572,
          -74.007262,
          -74.007642,
          -73.983402,
          -73.984092,
          -73.943837,
          -73.952985,
          -74.004816,
          -74.000856,
          -74.002007,
          -74.007351,
          -74.006981,
          -74.007124,
          -74.004808,
          -74.007269,
          -74.007573,
          -73.993819,
          -73.936417,
          -74.000096,
          -74.010735,
          -73.931744,
          -73.996052,
          -74.002359,
          -74.002985,
          -73.934751,
          -73.975494,
          -73.969307,
          -73.986947,
          -74.002246,
          -74.003085,
          -74.002599,
          -73.935623,
          -73.975975,
          -74.011382,
          -73.981432,
          -73.975256,
          -73.974858,
          -73.974674,
          -73.974598,
          -73.974488,
          -73.974323,
          -73.973828,
          -73.973184,
          -73.973016,
          -73.972364,
          -73.981636,
          -73.939317,
          -73.943294,
          -73.934206,
          -74.013092,
          -74.008056,
          -74.007034,
          -74.008162,
          -73.929251,
          -74.006109,
          -74.008033,
          -74.002176,
          -74.012879,
          -74.014393,
          -74.010973,
          -74.011899,
          -74.010417,
          -74.008825,
          -74.009283,
          -74.008443,
          -74.001011,
          -73.995824,
          -74.011512,
          -74.011998,
          -74.004217,
          -73.930765,
          -73.930199,
          -73.929011,
          -73.918427,
          -73.940825,
          -73.940028,
          -73.942288,
          -74.002882,
          -73.934552,
          -73.952107,
          -73.949898,
          -73.938468,
          -73.982072,
          -73.981957,
          -73.948059,
          -73.991396,
          -73.962203,
          -73.958298,
          -73.960854,
          -73.958336,
          -73.958455,
          -73.939122,
          -73.972924,
          -73.975927,
          -73.97542,
          -73.972256,
          -73.973215,
          -73.95205,
          -74.007142,
          -73.943498,
          -73.929121,
          -73.946284,
          -74.016223,
          -74.013949,
          -74.012943,
          -74.011317,
          -74.011005,
          -74.011903,
          -74.010875,
          -74.009,
          -74.000042,
          -73.931602,
          -74.015976,
          -73.965043,
          -73.982257,
          -73.936431,
          -73.991596,
          -73.990111,
          -73.982088,
          -73.997828,
          -73.997287,
          -73.958509,
          -73.948248,
          -73.973764,
          -73.97406,
          -73.937115,
          -74.002355,
          -74.003135,
          -74.003285,
          -74.002982,
          -73.986712,
          -73.983353,
          -73.982985,
          -73.980843,
          -74.005489,
          -74.010272,
          -73.991012,
          -73.991603,
          -73.991614,
          -73.990324,
          -73.989754,
          -73.98963,
          -73.990127,
          -73.981788,
          -74.002324,
          -74.006729,
          -74.007084,
          -74.011301,
          -74.011001,
          -73.99662,
          -73.945301,
          -74.000988,
          -73.977788,
          -74.014384,
          -73.92631,
          -73.815159,
          -73.85461,
          -73.833843,
          -73.753297,
          -73.734291,
          -73.734881,
          -73.735873,
          -73.737665,
          -73.73546,
          -73.92753,
          -73.836995,
          -73.79213,
          -73.787854,
          -73.786905,
          -73.785392,
          -73.831008,
          -73.803822,
          -73.741329,
          -73.748388,
          -73.746639,
          -73.77174,
          -73.807496,
          -73.799377,
          -73.922391,
          -73.769438,
          -73.762266,
          -73.770538,
          -73.772083,
          -73.772458,
          -73.764991,
          -73.7727,
          -73.772888,
          -73.783477,
          -73.885302,
          -73.841879,
          -73.835592,
          -73.843435,
          -73.840066,
          -73.837856,
          -73.841976,
          -73.844583,
          -73.844068,
          -73.837459,
          -73.857672,
          -73.860344,
          -73.841922,
          -73.856664,
          -73.854765,
          -73.853145,
          -73.853295,
          -73.779207,
          -73.774357,
          -73.777013,
          -73.794745,
          -73.881944,
          -73.947615,
          -73.911456,
          -73.911063,
          -73.871233,
          -73.871427,
          -73.870885,
          -73.870916,
          -73.871081,
          -73.871822,
          -73.877521,
          -73.876474,
          -73.884693,
          -73.882971,
          -73.810261,
          -73.808518,
          -73.809333,
          -73.803658,
          -73.809765,
          -73.86515,
          -73.770978,
          -73.845511,
          -73.84608,
          -73.847477,
          -73.843676,
          -73.8441,
          -73.822116,
          -73.849318,
          -73.814014,
          -73.852214,
          -73.846729,
          -73.844476,
          -73.850355,
          -73.941159,
          -73.820127,
          -73.823377,
          -73.824936,
          -73.807265,
          -73.811254,
          -73.812472,
          -73.815484,
          -73.817858,
          -73.819097,
          -73.809223,
          -73.846257,
          -73.774207,
          -73.769315,
          -73.773574,
          -73.936159,
          -73.751564,
          -73.824555,
          -73.826703,
          -73.900278,
          -73.919785,
          -73.91475,
          -73.91514,
          -73.91427,
          -73.889365,
          -73.777362,
          -73.78315,
          -73.83732,
          -74.116627,
          -74.100364,
          -74.100257,
          -74.210241,
          -74.210125,
          -74.208524,
          -74.207153,
          -74.10392,
          -74.10104,
          -74.118801,
          -74.118278,
          -74.113523,
          -74.118791,
          -74.07412,
          -74.135418,
          -74.16311549,
          -74.138918,
          -74.125035,
          -74.135646,
          -74.097531,
          -74.074802,
          -74.100975,
          -74.086066,
          -74.098663,
          -74.098706,
          -74.118013,
          -74.091985,
          -74.099058,
          -74.077688,
          -74.076549,
          -74.075724,
          -74.075489,
          -74.235477,
          -74.11032,
          -74.108845,
          -74.11046,
          -74.108641,
          -74.119287,
          -74.158697,
          -74.16125,
          -74.190913,
          -74.18731
         ],
         "marker": {
          "color": [
           "#ff00ff",
           "#ff00ff",
           "#ff00ff",
           "#ff00ff",
           "#ff00ff",
           "#ff00ff",
           "#ff00ff",
           "#ff00ff",
           "#ff00ff",
           "#ff00ff",
           "#ff00ff",
           "#ff00ff",
           "#ff00ff",
           "#ff00ff",
           "#ff00ff",
           "#ff00ff",
           "#ff00ff",
           "#ff00ff",
           "#ff00ff",
           "#ff00ff",
           "#ff00ff",
           "#ff00ff",
           "#ff00ff",
           "#ff00ff",
           "#ff00ff",
           "#ff00ff",
           "#ff00ff",
           "#ff00ff",
           "#ff00ff",
           "#ff00ff",
           "#ff00ff",
           "#ff00ff",
           "#ff00ff",
           "#ff00ff",
           "#ff00ff",
           "#ff00ff",
           "#ff00ff",
           "#ff00ff",
           "#ff00ff",
           "#ff00ff",
           "#ff00ff",
           "#ff00ff",
           "#ff00ff",
           "#ff00ff",
           "#ff00ff",
           "#ff00ff",
           "#ff00ff",
           "#ff00ff",
           "#ff00ff",
           "#ff00ff",
           "#ff00ff",
           "#ff00ff",
           "#ff00ff",
           "#ff00ff",
           "#ff00ff",
           "#ff00ff",
           "#ff00ff",
           "#ff00ff",
           "#ff00ff",
           "#ff00ff",
           "#ff00ff",
           "#ff00ff",
           "#ff00ff",
           "#ff00ff",
           "#ff00ff",
           "#ff00ff",
           "#ff00ff",
           "#ff00ff",
           "#ff00ff",
           "#ff00ff",
           "#ff00ff",
           "#ff00ff",
           "#ff00ff",
           "#ff00ff",
           "#ff00ff",
           "#ff00ff",
           "#ff00ff",
           "#ff00ff",
           "#ff00ff",
           "#ff00ff",
           "#ff00ff",
           "#ff00ff",
           "#ff00ff",
           "#ff00ff",
           "#ff00ff",
           "#ff00ff",
           "#ff00ff",
           "#ff00ff",
           "#ff00ff",
           "#ff00ff",
           "#ff00ff",
           "#ff00ff",
           "#ff00ff",
           "#ff00ff",
           "#ff00ff",
           "#ff00ff",
           "#ff00ff",
           "#ff00ff",
           "#ff00ff",
           "#ff00ff",
           "#ff00ff",
           "#ff00ff",
           "#ff00ff",
           "#ff00ff",
           "#ff00ff",
           "#ff00ff",
           "#ff00ff",
           "#ff00ff",
           "#ff00ff",
           "#ff00ff",
           "#ff00ff",
           "#ff00ff",
           "#ff00ff",
           "#ff00ff",
           "#ff00ff",
           "#ff00ff",
           "#ff00ff",
           "#ff00ff",
           "#ff00ff",
           "#ff00ff",
           "#ff00ff",
           "#ff00ff",
           "#ff00ff",
           "#ff00ff",
           "#ff00ff",
           "#ff00ff",
           "#ff00ff",
           "#ff00ff",
           "#ff00ff",
           "#ff00ff",
           "#ff00ff",
           "#ff00ff",
           "#ff00ff",
           "#ff00ff",
           "#ff00ff",
           "#ff00ff",
           "#ff00ff",
           "#ff00ff",
           "#ff00ff",
           "#ff00ff",
           "#ff00ff",
           "#ff00ff",
           "#ff00ff",
           "#ff00ff",
           "#ff00ff",
           "#ff00ff",
           "#0000ff",
           "#0000ff",
           "#0000ff",
           "#0000ff",
           "#0000ff",
           "#0000ff",
           "#0000ff",
           "#0000ff",
           "#0000ff",
           "#0000ff",
           "#0000ff",
           "#0000ff",
           "#0000ff",
           "#0000ff",
           "#0000ff",
           "#0000ff",
           "#0000ff",
           "#0000ff",
           "#0000ff",
           "#0000ff",
           "#0000ff",
           "#0000ff",
           "#0000ff",
           "#0000ff",
           "#0000ff",
           "#0000ff",
           "#0000ff",
           "#0000ff",
           "#0000ff",
           "#0000ff",
           "#0000ff",
           "#0000ff",
           "#0000ff",
           "#0000ff",
           "#0000ff",
           "#0000ff",
           "#0000ff",
           "#0000ff",
           "#0000ff",
           "#0000ff",
           "#0000ff",
           "#0000ff",
           "#0000ff",
           "#0000ff",
           "#0000ff",
           "#0000ff",
           "#0000ff",
           "#0000ff",
           "#0000ff",
           "#0000ff",
           "#0000ff",
           "#0000ff",
           "#0000ff",
           "#0000ff",
           "#0000ff",
           "#0000ff",
           "#0000ff",
           "#0000ff",
           "#0000ff",
           "#0000ff",
           "#0000ff",
           "#0000ff",
           "#0000ff",
           "#0000ff",
           "#0000ff",
           "#0000ff",
           "#0000ff",
           "#0000ff",
           "#0000ff",
           "#0000ff",
           "#0000ff",
           "#0000ff",
           "#0000ff",
           "#0000ff",
           "#0000ff",
           "#0000ff",
           "#0000ff",
           "#0000ff",
           "#0000ff",
           "#0000ff",
           "#0000ff",
           "#0000ff",
           "#0000ff",
           "#0000ff",
           "#0000ff",
           "#0000ff",
           "#0000ff",
           "#0000ff",
           "#0000ff",
           "#0000ff",
           "#0000ff",
           "#0000ff",
           "#0000ff",
           "#FF0000",
           "#FF0000",
           "#FF0000",
           "#FF0000",
           "#FF0000",
           "#00ff00",
           "#00ff00",
           "#824100",
           "#824100",
           "#824100",
           "#824100",
           "#824100",
           "#824100",
           "#824100",
           "#824100",
           "#824100",
           "#824100",
           "#824100",
           "#824100",
           "#824100",
           "#824100",
           "#824100",
           "#824100",
           "#824100",
           "#824100",
           "#824100",
           "#824100",
           "#824100",
           "#824100",
           "#824100",
           "#824100",
           "#824100",
           "#824100",
           "#824100",
           "#824100",
           "#824100",
           "#824100",
           "#824100",
           "#824100",
           "#824100",
           "#824100",
           "#824100",
           "#824100",
           "#824100",
           "#824100",
           "#824100",
           "#824100",
           "#824100",
           "#824100",
           "#824100",
           "#824100",
           "#824100",
           "#824100",
           "#824100",
           "#824100",
           "#824100",
           "#824100",
           "#824100",
           "#824100",
           "#824100",
           "#824100",
           "#824100",
           "#824100",
           "#824100",
           "#824100",
           "#824100",
           "#824100",
           "#824100",
           "#824100",
           "#824100",
           "#824100",
           "#824100",
           "#824100",
           "#824100",
           "#824100",
           "#824100",
           "#824100",
           "#824100",
           "#824100",
           "#824100",
           "#824100",
           "#824100",
           "#824100",
           "#824100",
           "#824100",
           "#824100",
           "#824100",
           "#824100",
           "#824100",
           "#824100",
           "#824100",
           "#824100",
           "#824100",
           "#824100",
           "#824100",
           "#824100",
           "#824100",
           "#824100",
           "#824100",
           "#824100",
           "#824100",
           "#824100",
           "#824100",
           "#824100",
           "#824100",
           "#824100",
           "#824100",
           "#824100",
           "#824100",
           "#824100",
           "#824100",
           "#824100",
           "#824100",
           "#824100",
           "#824100",
           "#824100",
           "#824100",
           "#824100",
           "#824100",
           "#824100",
           "#824100",
           "#824100",
           "#824100",
           "#824100",
           "#824100",
           "#824100",
           "#824100",
           "#824100",
           "#824100",
           "#824100",
           "#824100",
           "#824100",
           "#824100",
           "#824100",
           "#824100",
           "#824100",
           "#824100",
           "#824100",
           "#824100",
           "#824100",
           "#824100",
           "#824100",
           "#824100",
           "#824100",
           "#824100",
           "#824100",
           "#824100",
           "#824100",
           "#824100",
           "#824100",
           "#824100",
           "#824100",
           "#824100",
           "#824100",
           "#824100",
           "#824100",
           "#824100",
           "#824100",
           "#824100",
           "#824100",
           "#824100",
           "#824100",
           "#824100",
           "#824100",
           "#824100",
           "#824100",
           "#824100",
           "#824100",
           "#824100",
           "#824100",
           "#824100",
           "#824100",
           "#824100",
           "#824100",
           "#824100",
           "#824100",
           "#824100",
           "#824100",
           "#824100",
           "#824100",
           "#824100",
           "#824100",
           "#824100",
           "#824100",
           "#824100",
           "#824100",
           "#824100",
           "#824100",
           "#824100",
           "#824100",
           "#824100",
           "#824100",
           "#824100",
           "#824100",
           "#824100",
           "#824100",
           "#824100",
           "#824100",
           "#824100",
           "#824100",
           "#824100",
           "#824100",
           "#824100",
           "#824100",
           "#824100",
           "#824100",
           "#824100",
           "#824100",
           "#824100",
           "#824100",
           "#824100",
           "#824100",
           "#824100",
           "#824100",
           "#824100",
           "#824100",
           "#824100",
           "#824100",
           "#824100",
           "#824100",
           "#824100",
           "#824100",
           "#824100",
           "#824100",
           "#824100",
           "#824100",
           "#824100",
           "#824100",
           "#824100",
           "#824100",
           "#824100",
           "#824100",
           "#824100",
           "#824100",
           "#824100",
           "#824100",
           "#824100",
           "#824100",
           "#824100",
           "#824100",
           "#824100",
           "#824100",
           "#824100",
           "#824100",
           "#824100",
           "#824100",
           "#824100",
           "#824100",
           "#824100",
           "#824100",
           "#824100",
           "#824100",
           "#824100",
           "#824100",
           "#824100",
           "#824100",
           "#824100",
           "#824100",
           "#824100",
           "#824100",
           "#824100",
           "#824100",
           "#824100",
           "#824100",
           "#824100",
           "#824100",
           "#824100",
           "#824100",
           "#824100",
           "#824100",
           "#824100",
           "#824100",
           "#824100",
           "#824100",
           "#824100",
           "#824100",
           "#824100",
           "#824100",
           "#824100",
           "#824100",
           "#824100",
           "#824100",
           "#824100",
           "#824100",
           "#824100",
           "#824100",
           "#824100",
           "#824100",
           "#824100",
           "#824100",
           "#824100",
           "#824100",
           "#824100",
           "#824100",
           "#824100",
           "#824100",
           "#824100",
           "#824100",
           "#824100",
           "#824100",
           "#824100",
           "#824100",
           "#824100",
           "#824100",
           "#824100",
           "#824100",
           "#824100",
           "#824100",
           "#824100",
           "#824100",
           "#824100",
           "#824100",
           "#824100",
           "#824100",
           "#824100",
           "#824100",
           "#824100",
           "#824100",
           "#824100",
           "#824100",
           "#824100",
           "#824100",
           "#824100",
           "#824100",
           "#824100",
           "#824100",
           "#824100",
           "#824100",
           "#824100",
           "#824100",
           "#824100",
           "#824100",
           "#824100",
           "#824100",
           "#824100",
           "#824100",
           "#824100",
           "#824100",
           "#824100",
           "#824100",
           "#824100",
           "#824100",
           "#824100",
           "#824100",
           "#824100",
           "#824100",
           "#824100",
           "#824100",
           "#824100",
           "#824100",
           "#824100",
           "#824100",
           "#824100",
           "#824100",
           "#824100",
           "#824100",
           "#824100",
           "#824100",
           "#824100",
           "#824100",
           "#824100",
           "#824100",
           "#824100",
           "#824100",
           "#824100",
           "#824100",
           "#824100",
           "#824100",
           "#824100",
           "#824100",
           "#824100",
           "#824100",
           "#824100",
           "#824100",
           "#824100",
           "#824100",
           "#824100",
           "#824100",
           "#824100",
           "#824100",
           "#824100",
           "#824100",
           "#824100",
           "#824100",
           "#824100",
           "#824100",
           "#824100",
           "#824100",
           "#824100",
           "#824100",
           "#824100",
           "#824100",
           "#824100",
           "#824100",
           "#824100",
           "#824100",
           "#824100",
           "#824100",
           "#824100",
           "#824100",
           "#824100",
           "#824100",
           "#824100",
           "#824100",
           "#824100",
           "#824100",
           "#824100",
           "#824100",
           "#824100",
           "#824100",
           "#824100",
           "#824100",
           "#824100",
           "#824100",
           "#824100",
           "#824100",
           "#824100",
           "#824100",
           "#824100",
           "#824100",
           "#824100",
           "#824100",
           "#824100",
           "#824100",
           "#824100",
           "#824100",
           "#824100",
           "#824100",
           "#824100",
           "#824100",
           "#824100",
           "#824100",
           "#824100",
           "#824100",
           "#824100",
           "#824100",
           "#824100",
           "#824100",
           "#824100",
           "#824100",
           "#824100",
           "#824100",
           "#824100",
           "#824100",
           "#824100",
           "#824100",
           "#824100",
           "#824100",
           "#824100",
           "#824100",
           "#824100",
           "#824100",
           "#824100",
           "#824100",
           "#824100",
           "#824100",
           "#824100",
           "#824100",
           "#824100",
           "#824100",
           "#824100",
           "#824100",
           "#824100",
           "#824100",
           "#824100",
           "#824100",
           "#824100",
           "#824100",
           "#824100",
           "#824100",
           "#824100",
           "#824100",
           "#824100",
           "#824100",
           "#824100",
           "#824100",
           "#824100",
           "#824100",
           "#824100",
           "#824100",
           "#824100",
           "#824100",
           "#824100",
           "#824100",
           "#824100",
           "#824100",
           "#824100",
           "#824100",
           "#824100",
           "#824100",
           "#824100",
           "#824100",
           "#824100",
           "#824100",
           "#824100",
           "#824100",
           "#824100",
           "#824100",
           "#824100",
           "#824100",
           "#824100",
           "#824100",
           "#824100",
           "#824100",
           "#824100",
           "#824100",
           "#824100",
           "#824100",
           "#824100",
           "#824100",
           "#824100",
           "#824100",
           "#824100",
           "#824100",
           "#824100",
           "#824100",
           "#824100",
           "#824100",
           "#824100",
           "#824100",
           "#824100",
           "#824100",
           "#824100",
           "#824100",
           "#824100",
           "#824100",
           "#824100",
           "#824100",
           "#824100",
           "#824100",
           "#824100",
           "#824100",
           "#824100",
           "#824100",
           "#824100",
           "#824100",
           "#824100",
           "#824100",
           "#824100",
           "#824100",
           "#824100",
           "#824100",
           "#824100",
           "#824100",
           "#824100",
           "#824100",
           "#824100",
           "#824100"
          ]
         },
         "mode": "markers",
         "opacity": 1,
         "selected": {
          "marker": {
           "opacity": 1,
           "size": 10
          }
         },
         "showlegend": false,
         "textposition": "top left",
         "type": "scattermapbox",
         "unselected": {
          "marker": {
           "opacity": 0.5,
           "size": 5
          }
         }
        }
       ],
       "layout": {
        "clickmode": "event+select",
        "hoverdistance": 2,
        "hovermode": "closest",
        "mapbox": {
         "accesstoken": "pk.eyJ1Ijoibmd1eWVuZHVjaHV5MjcxMTk3IiwiYSI6ImNrdGlrdXR6NTEydGQyb3FmMm40M3ZzY3IifQ.2Su0FgZih2OeDc7Z4xla8g",
         "bearing": 0,
         "center": {
          "lat": 40.73,
          "lon": -73.99
         },
         "pitch": 20,
         "style": "light",
         "zoom": 11
        },
        "template": {
         "data": {
          "bar": [
           {
            "error_x": {
             "color": "#2a3f5f"
            },
            "error_y": {
             "color": "#2a3f5f"
            },
            "marker": {
             "line": {
              "color": "#E5ECF6",
              "width": 0.5
             },
             "pattern": {
              "fillmode": "overlay",
              "size": 10,
              "solidity": 0.2
             }
            },
            "type": "bar"
           }
          ],
          "barpolar": [
           {
            "marker": {
             "line": {
              "color": "#E5ECF6",
              "width": 0.5
             },
             "pattern": {
              "fillmode": "overlay",
              "size": 10,
              "solidity": 0.2
             }
            },
            "type": "barpolar"
           }
          ],
          "carpet": [
           {
            "aaxis": {
             "endlinecolor": "#2a3f5f",
             "gridcolor": "white",
             "linecolor": "white",
             "minorgridcolor": "white",
             "startlinecolor": "#2a3f5f"
            },
            "baxis": {
             "endlinecolor": "#2a3f5f",
             "gridcolor": "white",
             "linecolor": "white",
             "minorgridcolor": "white",
             "startlinecolor": "#2a3f5f"
            },
            "type": "carpet"
           }
          ],
          "choropleth": [
           {
            "colorbar": {
             "outlinewidth": 0,
             "ticks": ""
            },
            "type": "choropleth"
           }
          ],
          "contour": [
           {
            "colorbar": {
             "outlinewidth": 0,
             "ticks": ""
            },
            "colorscale": [
             [
              0,
              "#0d0887"
             ],
             [
              0.1111111111111111,
              "#46039f"
             ],
             [
              0.2222222222222222,
              "#7201a8"
             ],
             [
              0.3333333333333333,
              "#9c179e"
             ],
             [
              0.4444444444444444,
              "#bd3786"
             ],
             [
              0.5555555555555556,
              "#d8576b"
             ],
             [
              0.6666666666666666,
              "#ed7953"
             ],
             [
              0.7777777777777778,
              "#fb9f3a"
             ],
             [
              0.8888888888888888,
              "#fdca26"
             ],
             [
              1,
              "#f0f921"
             ]
            ],
            "type": "contour"
           }
          ],
          "contourcarpet": [
           {
            "colorbar": {
             "outlinewidth": 0,
             "ticks": ""
            },
            "type": "contourcarpet"
           }
          ],
          "heatmap": [
           {
            "colorbar": {
             "outlinewidth": 0,
             "ticks": ""
            },
            "colorscale": [
             [
              0,
              "#0d0887"
             ],
             [
              0.1111111111111111,
              "#46039f"
             ],
             [
              0.2222222222222222,
              "#7201a8"
             ],
             [
              0.3333333333333333,
              "#9c179e"
             ],
             [
              0.4444444444444444,
              "#bd3786"
             ],
             [
              0.5555555555555556,
              "#d8576b"
             ],
             [
              0.6666666666666666,
              "#ed7953"
             ],
             [
              0.7777777777777778,
              "#fb9f3a"
             ],
             [
              0.8888888888888888,
              "#fdca26"
             ],
             [
              1,
              "#f0f921"
             ]
            ],
            "type": "heatmap"
           }
          ],
          "heatmapgl": [
           {
            "colorbar": {
             "outlinewidth": 0,
             "ticks": ""
            },
            "colorscale": [
             [
              0,
              "#0d0887"
             ],
             [
              0.1111111111111111,
              "#46039f"
             ],
             [
              0.2222222222222222,
              "#7201a8"
             ],
             [
              0.3333333333333333,
              "#9c179e"
             ],
             [
              0.4444444444444444,
              "#bd3786"
             ],
             [
              0.5555555555555556,
              "#d8576b"
             ],
             [
              0.6666666666666666,
              "#ed7953"
             ],
             [
              0.7777777777777778,
              "#fb9f3a"
             ],
             [
              0.8888888888888888,
              "#fdca26"
             ],
             [
              1,
              "#f0f921"
             ]
            ],
            "type": "heatmapgl"
           }
          ],
          "histogram": [
           {
            "marker": {
             "pattern": {
              "fillmode": "overlay",
              "size": 10,
              "solidity": 0.2
             }
            },
            "type": "histogram"
           }
          ],
          "histogram2d": [
           {
            "colorbar": {
             "outlinewidth": 0,
             "ticks": ""
            },
            "colorscale": [
             [
              0,
              "#0d0887"
             ],
             [
              0.1111111111111111,
              "#46039f"
             ],
             [
              0.2222222222222222,
              "#7201a8"
             ],
             [
              0.3333333333333333,
              "#9c179e"
             ],
             [
              0.4444444444444444,
              "#bd3786"
             ],
             [
              0.5555555555555556,
              "#d8576b"
             ],
             [
              0.6666666666666666,
              "#ed7953"
             ],
             [
              0.7777777777777778,
              "#fb9f3a"
             ],
             [
              0.8888888888888888,
              "#fdca26"
             ],
             [
              1,
              "#f0f921"
             ]
            ],
            "type": "histogram2d"
           }
          ],
          "histogram2dcontour": [
           {
            "colorbar": {
             "outlinewidth": 0,
             "ticks": ""
            },
            "colorscale": [
             [
              0,
              "#0d0887"
             ],
             [
              0.1111111111111111,
              "#46039f"
             ],
             [
              0.2222222222222222,
              "#7201a8"
             ],
             [
              0.3333333333333333,
              "#9c179e"
             ],
             [
              0.4444444444444444,
              "#bd3786"
             ],
             [
              0.5555555555555556,
              "#d8576b"
             ],
             [
              0.6666666666666666,
              "#ed7953"
             ],
             [
              0.7777777777777778,
              "#fb9f3a"
             ],
             [
              0.8888888888888888,
              "#fdca26"
             ],
             [
              1,
              "#f0f921"
             ]
            ],
            "type": "histogram2dcontour"
           }
          ],
          "mesh3d": [
           {
            "colorbar": {
             "outlinewidth": 0,
             "ticks": ""
            },
            "type": "mesh3d"
           }
          ],
          "parcoords": [
           {
            "line": {
             "colorbar": {
              "outlinewidth": 0,
              "ticks": ""
             }
            },
            "type": "parcoords"
           }
          ],
          "pie": [
           {
            "automargin": true,
            "type": "pie"
           }
          ],
          "scatter": [
           {
            "marker": {
             "colorbar": {
              "outlinewidth": 0,
              "ticks": ""
             }
            },
            "type": "scatter"
           }
          ],
          "scatter3d": [
           {
            "line": {
             "colorbar": {
              "outlinewidth": 0,
              "ticks": ""
             }
            },
            "marker": {
             "colorbar": {
              "outlinewidth": 0,
              "ticks": ""
             }
            },
            "type": "scatter3d"
           }
          ],
          "scattercarpet": [
           {
            "marker": {
             "colorbar": {
              "outlinewidth": 0,
              "ticks": ""
             }
            },
            "type": "scattercarpet"
           }
          ],
          "scattergeo": [
           {
            "marker": {
             "colorbar": {
              "outlinewidth": 0,
              "ticks": ""
             }
            },
            "type": "scattergeo"
           }
          ],
          "scattergl": [
           {
            "marker": {
             "colorbar": {
              "outlinewidth": 0,
              "ticks": ""
             }
            },
            "type": "scattergl"
           }
          ],
          "scattermapbox": [
           {
            "marker": {
             "colorbar": {
              "outlinewidth": 0,
              "ticks": ""
             }
            },
            "type": "scattermapbox"
           }
          ],
          "scatterpolar": [
           {
            "marker": {
             "colorbar": {
              "outlinewidth": 0,
              "ticks": ""
             }
            },
            "type": "scatterpolar"
           }
          ],
          "scatterpolargl": [
           {
            "marker": {
             "colorbar": {
              "outlinewidth": 0,
              "ticks": ""
             }
            },
            "type": "scatterpolargl"
           }
          ],
          "scatterternary": [
           {
            "marker": {
             "colorbar": {
              "outlinewidth": 0,
              "ticks": ""
             }
            },
            "type": "scatterternary"
           }
          ],
          "surface": [
           {
            "colorbar": {
             "outlinewidth": 0,
             "ticks": ""
            },
            "colorscale": [
             [
              0,
              "#0d0887"
             ],
             [
              0.1111111111111111,
              "#46039f"
             ],
             [
              0.2222222222222222,
              "#7201a8"
             ],
             [
              0.3333333333333333,
              "#9c179e"
             ],
             [
              0.4444444444444444,
              "#bd3786"
             ],
             [
              0.5555555555555556,
              "#d8576b"
             ],
             [
              0.6666666666666666,
              "#ed7953"
             ],
             [
              0.7777777777777778,
              "#fb9f3a"
             ],
             [
              0.8888888888888888,
              "#fdca26"
             ],
             [
              1,
              "#f0f921"
             ]
            ],
            "type": "surface"
           }
          ],
          "table": [
           {
            "cells": {
             "fill": {
              "color": "#EBF0F8"
             },
             "line": {
              "color": "white"
             }
            },
            "header": {
             "fill": {
              "color": "#C8D4E3"
             },
             "line": {
              "color": "white"
             }
            },
            "type": "table"
           }
          ]
         },
         "layout": {
          "annotationdefaults": {
           "arrowcolor": "#2a3f5f",
           "arrowhead": 0,
           "arrowwidth": 1
          },
          "autotypenumbers": "strict",
          "coloraxis": {
           "colorbar": {
            "outlinewidth": 0,
            "ticks": ""
           }
          },
          "colorscale": {
           "diverging": [
            [
             0,
             "#8e0152"
            ],
            [
             0.1,
             "#c51b7d"
            ],
            [
             0.2,
             "#de77ae"
            ],
            [
             0.3,
             "#f1b6da"
            ],
            [
             0.4,
             "#fde0ef"
            ],
            [
             0.5,
             "#f7f7f7"
            ],
            [
             0.6,
             "#e6f5d0"
            ],
            [
             0.7,
             "#b8e186"
            ],
            [
             0.8,
             "#7fbc41"
            ],
            [
             0.9,
             "#4d9221"
            ],
            [
             1,
             "#276419"
            ]
           ],
           "sequential": [
            [
             0,
             "#0d0887"
            ],
            [
             0.1111111111111111,
             "#46039f"
            ],
            [
             0.2222222222222222,
             "#7201a8"
            ],
            [
             0.3333333333333333,
             "#9c179e"
            ],
            [
             0.4444444444444444,
             "#bd3786"
            ],
            [
             0.5555555555555556,
             "#d8576b"
            ],
            [
             0.6666666666666666,
             "#ed7953"
            ],
            [
             0.7777777777777778,
             "#fb9f3a"
            ],
            [
             0.8888888888888888,
             "#fdca26"
            ],
            [
             1,
             "#f0f921"
            ]
           ],
           "sequentialminus": [
            [
             0,
             "#0d0887"
            ],
            [
             0.1111111111111111,
             "#46039f"
            ],
            [
             0.2222222222222222,
             "#7201a8"
            ],
            [
             0.3333333333333333,
             "#9c179e"
            ],
            [
             0.4444444444444444,
             "#bd3786"
            ],
            [
             0.5555555555555556,
             "#d8576b"
            ],
            [
             0.6666666666666666,
             "#ed7953"
            ],
            [
             0.7777777777777778,
             "#fb9f3a"
            ],
            [
             0.8888888888888888,
             "#fdca26"
            ],
            [
             1,
             "#f0f921"
            ]
           ]
          },
          "colorway": [
           "#636efa",
           "#EF553B",
           "#00cc96",
           "#ab63fa",
           "#FFA15A",
           "#19d3f3",
           "#FF6692",
           "#B6E880",
           "#FF97FF",
           "#FECB52"
          ],
          "font": {
           "color": "#2a3f5f"
          },
          "geo": {
           "bgcolor": "white",
           "lakecolor": "white",
           "landcolor": "#E5ECF6",
           "showlakes": true,
           "showland": true,
           "subunitcolor": "white"
          },
          "hoverlabel": {
           "align": "left"
          },
          "hovermode": "closest",
          "mapbox": {
           "style": "light"
          },
          "paper_bgcolor": "white",
          "plot_bgcolor": "#E5ECF6",
          "polar": {
           "angularaxis": {
            "gridcolor": "white",
            "linecolor": "white",
            "ticks": ""
           },
           "bgcolor": "#E5ECF6",
           "radialaxis": {
            "gridcolor": "white",
            "linecolor": "white",
            "ticks": ""
           }
          },
          "scene": {
           "xaxis": {
            "backgroundcolor": "#E5ECF6",
            "gridcolor": "white",
            "gridwidth": 2,
            "linecolor": "white",
            "showbackground": true,
            "ticks": "",
            "zerolinecolor": "white"
           },
           "yaxis": {
            "backgroundcolor": "#E5ECF6",
            "gridcolor": "white",
            "gridwidth": 2,
            "linecolor": "white",
            "showbackground": true,
            "ticks": "",
            "zerolinecolor": "white"
           },
           "zaxis": {
            "backgroundcolor": "#E5ECF6",
            "gridcolor": "white",
            "gridwidth": 2,
            "linecolor": "white",
            "showbackground": true,
            "ticks": "",
            "zerolinecolor": "white"
           }
          },
          "shapedefaults": {
           "line": {
            "color": "#2a3f5f"
           }
          },
          "ternary": {
           "aaxis": {
            "gridcolor": "white",
            "linecolor": "white",
            "ticks": ""
           },
           "baxis": {
            "gridcolor": "white",
            "linecolor": "white",
            "ticks": ""
           },
           "bgcolor": "#E5ECF6",
           "caxis": {
            "gridcolor": "white",
            "linecolor": "white",
            "ticks": ""
           }
          },
          "title": {
           "x": 0.05
          },
          "xaxis": {
           "automargin": true,
           "gridcolor": "white",
           "linecolor": "white",
           "ticks": "",
           "title": {
            "standoff": 15
           },
           "zerolinecolor": "white",
           "zerolinewidth": 2
          },
          "yaxis": {
           "automargin": true,
           "gridcolor": "white",
           "linecolor": "white",
           "ticks": "",
           "title": {
            "standoff": 15
           },
           "zerolinecolor": "white",
           "zerolinewidth": 2
          }
         }
        },
        "title": {
         "font": {
          "color": "#A45D5D",
          "size": 30
         },
         "text": "Where to recycle?",
         "x": 0.5
        },
        "uirevision": "foo"
       }
      },
      "text/html": [
       "<div>                            <div id=\"3c694df8-efb4-4b50-ace9-3cb0bcfc4a08\" class=\"plotly-graph-div\" style=\"height:525px; width:100%;\"></div>            <script type=\"text/javascript\">                require([\"plotly\"], function(Plotly) {                    window.PLOTLYENV=window.PLOTLYENV || {};                                    if (document.getElementById(\"3c694df8-efb4-4b50-ace9-3cb0bcfc4a08\")) {                    Plotly.newPlot(                        \"3c694df8-efb4-4b50-ace9-3cb0bcfc4a08\",                        [{\"customdata\":[\"http://themarymitchellfyc.org/\",\"http://www.grownyc.org/compost/locations\",\"http://www.grownyc.org/compost/locations\",\"http://www.grownyc.org/compost/locations\",\"http://www.grownyc.org/compost/locations\",\"http://www.grownyc.org/compost/locations\",\"http://www.lehman.edu/administration/sustainability/food-scrap-drop-off.php\",\"https://newsettlement.org/food/170farmstand/\",\"https://www.facebook.com/kellyst.garden/\",\"https://www.grownyc.org/compost/locations\",\"https://www.grownyc.org/compost/locations\",\"https://www.grownyc.org/compost/locations; http://www.lafamiliaverde.org/\",\"https://www.grownyc.org/compost-go\",\"https://www.grownyc.org/compost-go\",\"https://www.grownyc.org/compost-go\",\"https://www.grownyc.org/compost-go\",\"https://www.grownyc.org/compost-go\",\"https://www.grownyc.org/compost-go\",\"https://www.grownyc.org/greenmarket/bronx/fordham\",null,null,null,null,null,\"http://eastfourthstreetgarden.tumblr.com/\",\"http://www.added-value.org/compost\",\"http://www.bigreuse.org/compost/drop-off-list/\",\"http://www.grownyc.org/compost/locations\",\"http://www.grownyc.org/compost/locations\",\"http://www.grownyc.org/compost/locations\",\"http://www.grownyc.org/compost/locations\",\"http://www.grownyc.org/compost/locations\",\"http://www.grownyc.org/compost/locations\",\"http://www.parkchurchcoop.org\",\"https://ucceny.org/enyf/\",\"https://ucceny.org/enyf/\",\"https://ucceny.org/enyf/\",\"https://www.grownyc.org/greenmarket/brooklyn/parkside\",\"http://www.462halsey.com/compost/\",\"https://www.phcfarm.com/gardening-info/composting/\",\"https://www.qgardens.org\",\"https://www.riseboro.org/rb/health/bushwick_cooks/bushwick-grows-community-farm/\",\"https://wyckoffmuseum.org/\",null,null,null,null,\"http://bryantpark.org/programs/waste-sorting-concierge\",\"http://m.facebook.com/pleasantvillagecommunitygarden\",\"http://www.bigreuse.org/compost/drop-off-list/\",\"http://www.grownyc.org/compost/locations\",\"http://www.grownyc.org/compost/locations\",\"http://www.grownyc.org/compost/locations\",\"http://www.grownyc.org/compost/locations\",\"http://www.grownyc.org/compost/locations\",\"http://www.grownyc.org/compost/locations\",\"http://www.grownyc.org/compost/locations\",\"http://www.grownyc.org/compost/locations\",\"http://www.grownyc.org/compost/locations\",\"http://www.grownyc.org/compost/locations\",\"http://www.grownyc.org/compost/locations\",\"http://www.grownyc.org/compost/locations\",\"http://www.grownyc.org/compost/locations\",\"http://www.grownyc.org/compost/locations\",\"http://www.grownyc.org/compost/locations\",\"http://www.grownyc.org/greenmarketco/foodbox\",\"http://www.grownyc.org/greenmarketco/foodbox\",\"http://www.harlemgrown.org/\",\"http://www.lesecologycenter.org/programs/compost/compost-drop-off-locations/\",\"http://www.mkgarden.org\",\"http://www.nyrp.org\",\"http://www.reclaimedorganics.org/QTVMZ/garden\",\"https://brotherhood-sistersol.org/\",\"https://earthmatter.org/nyc-compost-project/\",\"https://earthmatter.org/nyc-compost-project/\",\"https://holyapostlessoupkitchen.org\",\"https://hudsonriverpark.org/explore-the-park/community-compost-program\",\"https://morrisjumelcommunitygarden.wordpress.com/\",\"https://www.14streety.org/about-us/sustainability/\",\"https://www.bj.org\",\"https://www.facebook.com/lydiasmagicgarden/\",\"https://www.grownyc.org/compost/locations\",\"https://www.grownyc.org/compost-go\",\"https://www.grownyc.org/compost-go\",\"https://www.grownyc.org/compost-go\",\"https://www.grownyc.org/compost-go\",\"https://www.grownyc.org/compost-go\",\"https://www.grownyc.org/compost-go\",\"https://www.grownyc.org/compost-go\",\"https://www.grownyc.org/compost-go\",\"https://www.grownyc.org/compost-go\",\"https://www.grownyc.org/compost-go\",\"https://www.hudsonriverpark.org/\",\"https://www.hudsonriverpark.org/\",\"https://www.hudsonriverpark.org/\",\"https://www.hudsonriverpark.org/\",\"https://www.hudsonriverpark.org/\",\"https://www.hudsonriverpark.org/\",\"https://www.hudsonriverpark.org/\",\"https://www.laplazacultural.com\",\"https://www.lesecologycenter.org/programs/compost/compost-drop-off-locations/\",\"https://www.lesecologycenter.org/programs/compost/compost-drop-off-locations/\",\"https://www.lesecologycenter.org/programs/compost/compost-drop-off-locations/\",\"https://www.lesecologycenter.org/programs/compost/compost-drop-off-locations/\",\"https://www.lesecologycenter.org/programs/compost/compost-drop-off-locations/\",\"https://www.lesecologycenter.org/programs/compost/compost-drop-off-locations/\",\"https://www.lesecologycenter.org/programs/compost/compost-drop-off-locations/\",\"https://www.lesecologycenter.org/programs/compost/compost-drop-off-locations/\",null,null,null,null,null,null,null,null,null,\"http://queensfarm.org/\",\"http://www.bigreuse.org/compost/drop-off-list/\",\"http://www.bigreuse.org/compost/drop-off-list/\",\"http://www.bigreuse.org/compost/drop-off-list/\",\"http://www.bigreuse.org/compost/drop-off-list/\",\"http://www.bigreuse.org/compost/drop-off-list/\",\"http://www.bigreuse.org/compost/drop-off-list/\",\"http://www.bigreuse.org/compost/drop-off-list/\",\"http://www.bigreuse.org/compost/drop-off-list/\",\"http://www.bigreuse.org/compost/drop-off-list/\",\"http://www.edgemerefarm.org/\",\"http://www.grownyc.org/compost/locations\",\"http://www.grownyc.org/greenmarket/queens/corona\",\"http://www.jhbg.org/2012/12/23/jh-scraps-a-community-composting-project\",\"https://queensbotanical.org\",\"https://queensbotanical.org\",\"https://queensbotanical.org\",\"https://www.brooklyngrangefarm.com\",\"https://www.hellgatefarm.com/\",\"https://www.rwalliance.org\",null,null,null,null,null,\"http://snug-harbor.org/compost/\",\"http://www.grownyc.org/compost/locations\",\"http://www.grownyc.org/compost/locations\",\"https://www.facebook.com/pg/Olivet-Heavenly-Harvest-304779173301345/about/\",\"http://satruck.org/donate-goods\",\"http://satruck.org/donate-goods\",\"http://satruck.org/donate-goods\",\"http://satruck.org/donate-goods\",\"http://www.bestbuy.com/recycle\",\"http://www.bestbuy.com/recycle\",\"http://www.staples.com/recycle\",\"http://www.staples.com/recycle\",\"http://www.staples.com/recycle\",\"https://www.goodwillnynj.org/donate-goods\",\"http://satruck.org/donate-goods\",\"http://satruck.org/donate-goods\",\"http://satruck.org/donate-goods\",\"http://satruck.org/donate-goods\",\"http://satruck.org/donate-goods\",\"http://satruck.org/donate-goods\",\"http://www.bestbuy.com/recycle\",\"http://www.bestbuy.com/recycle\",\"http://www.bestbuy.com/recycle\",\"http://www.bestbuy.com/recycle\",\"http://www.staples.com/recycle\",\"http://www.staples.com/recycle\",\"http://www.staples.com/recycle\",\"http://www.staples.com/recycle\",\"http://www.staples.com/recycle\",\"http://www.staples.com/recycle\",\"http://www.staples.com/recycle\",\"http://www.staples.com/recycle\",\"http://www.staples.com/recycle\",\"https://www.goodwillnynj.org/donate-goods\",\"https://www.goodwillnynj.org/donate-goods\",\"https://www.lesecologycenter.org/programs/ewaste/ewaste-faq/\",\"http://satruck.org/donate-goods\",\"http://satruck.org/donate-goods\",\"http://satruck.org/donate-goods\",\"http://satruck.org/donate-goods\",\"http://satruck.org/donate-goods\",\"http://satruck.org/donate-goods\",\"http://www.bestbuy.com/recycle\",\"http://www.bestbuy.com/recycle\",\"http://www.bestbuy.com/recycle\",\"http://www.bestbuy.com/recycle\",\"http://www.bestbuy.com/recycle\",\"http://www.bestbuy.com/recycle\",\"http://www.staples.com/recycle\",\"http://www.staples.com/recycle\",\"http://www.staples.com/recycle\",\"http://www.staples.com/recycle\",\"http://www.staples.com/recycle\",\"http://www.staples.com/recycle\",\"http://www.staples.com/recycle\",\"http://www.staples.com/recycle\",\"http://www.staples.com/recycle\",\"http://www.staples.com/recycle\",\"http://www.staples.com/recycle\",\"http://www.staples.com/recycle\",\"http://www.staples.com/recycle\",\"http://www.staples.com/recycle\",\"http://www.staples.com/recycle\",\"http://www.staples.com/recycle\",\"https://www.goodwillnynj.org/donate-goods\",\"https://www.goodwillnynj.org/donate-goods\",\"https://www.goodwillnynj.org/donate-goods\",\"https://www.goodwillnynj.org/donate-goods\",\"https://www.goodwillnynj.org/donate-goods\",\"https://www.goodwillnynj.org/donate-goods\",\"https://www.goodwillnynj.org/donate-goods\",\"https://www.goodwillnynj.org/donate-goods\",\"https://www.goodwillnynj.org/donate-goods\",\"http://satruck.org/donate-goods\",\"http://satruck.org/donate-goods\",\"http://satruck.org/donate-goods\",\"http://www.bestbuy.com/recycle\",\"http://www.bestbuy.com/recycle\",\"http://www.bestbuy.com/recycle\",\"http://www.staples.com/recycle\",\"http://www.staples.com/recycle\",\"http://www.staples.com/recycle\",\"http://www.staples.com/recycle\",\"http://www.staples.com/recycle\",\"http://www.staples.com/recycle\",\"http://www.staples.com/recycle\",\"http://www.staples.com/recycle\",\"http://www.staples.com/recycle\",\"http://www.staples.com/recycle\",\"http://www.staples.com/recycle\",\"http://www.staples.com/recycle\",\"https://www.goodwillnynj.org/donate-goods\",\"https://www.goodwillnynj.org/donate-goods\",\"http://www.bestbuy.com/recycle\",\"http://www.staples.com/recycle\",\"http://www.staples.com/recycle\",\"http://www.staples.com/recycle\",\"https://www1.nyc.gov/assets/dsny/site/services/harmful-products/special-waste-drop-offs\",\"https://www1.nyc.gov/assets/dsny/site/services/harmful-products/special-waste-drop-offs\",\"https://www1.nyc.gov/assets/dsny/site/services/harmful-products/special-waste-drop-offs\",\"https://www1.nyc.gov/assets/dsny/site/services/harmful-products/special-waste-drop-offs\",\"https://www1.nyc.gov/assets/dsny/site/services/harmful-products/special-waste-drop-offs\",null,null,null,null,null,null,null,null,null,null,null,null,null,null,null,null,null,null,null,null,null,null,null,null,null,null,null,null,null,null,null,null,null,null,null,null,null,null,null,null,null,null,null,null,null,null,null,null,null,null,null,null,null,null,null,null,null,null,null,null,null,null,null,null,null,null,null,null,null,null,null,null,null,null,null,null,null,null,null,null,null,null,null,null,null,null,null,null,null,null,null,null,null,null,null,null,null,null,null,null,null,null,null,null,null,null,null,null,null,null,null,null,null,null,null,null,null,null,null,null,null,null,null,null,null,null,null,null,null,null,null,null,null,null,null,null,null,null,null,null,null,null,null,null,null,null,null,null,null,null,null,null,null,null,null,null,null,null,null,null,null,null,null,null,null,null,null,null,null,null,null,null,null,null,null,null,null,null,null,null,null,null,null,null,null,null,null,null,null,null,null,null,null,null,null,null,null,null,null,null,null,null,null,null,null,null,null,null,null,null,null,null,null,null,null,null,null,null,null,null,null,null,null,null,null,null,null,null,null,null,null,null,null,null,null,null,null,null,null,null,null,null,null,null,null,null,null,null,null,null,null,null,null,null,null,null,null,null,null,null,null,null,null,null,null,null,null,null,null,null,null,null,null,null,null,null,null,null,null,null,null,null,null,null,null,null,null,null,null,null,null,null,null,null,null,null,null,null,null,null,null,null,null,null,null,null,null,null,null,null,null,null,null,null,null,null,null,null,null,null,null,null,null,null,null,null,null,null,null,null,null,null,null,null,null,null,null,null,null,null,null,null,null,null,null,null,null,null,null,null,null,null,null,null,null,null,null,null,null,null,null,null,null,null,null,null,null,null,null,null,null,null,null,null,null,null,null,null,null,null,null,null,null,null,null,null,null,null,null,null,null,null,null,null,null,null,null,null,null,null,null,null,null,null,null,null,null,null,null,null,null,null,null,null,null,null,null,null,null,null,null,null,null,null,null,null,null,null,null,null,null,null,null,null,null,null,null,null,null,null,null,null,null,null,null,null,null,null,null,null,null,null,null,null,null,null,null,null,null,null,null,null,null,null,null,null,null,null,null,null,null,null,null,null,null,null,null,null,null,null,null,null,null,null,null,null,null,null,null,null,null,null,null,null,null,null,null,null,null,null,null,null,null,null,null,null,null,null,null,null,null,null,null,null,null,null,null,null,null,null,null,null,null,null,null,null,null,null,null,null,null,null,null,null,null,null,null,null,null,null,null,null,null],\"hoverinfo\":\"text\",\"hovertext\":[\"compost<br>Name: Mary Mitchell Center <br>Address: 2007 Mapes Ave, Bronx 10460\",\"compost<br>Name: Bronx Borough Hall Greenmarket<br>Address: Grand Concourse and 161 St, Bronx, NY, 10451\",\"compost<br>Name: Compost drop off BronxWorks <br>Address: 1130 Grand Concourse\",\"compost<br>Name: Learn it, Grow it, Eat it Youthmarket<br>Address: McKinley Sq. at 169th St. & Boston Road\",\"compost<br>Name: Parkchester Greenmarket<br>Address: White Plains Rd & Westchester Ave, Bronx, NY 10472\",\"compost<br>Name: Poe Park Greenmarket<br>Address: E. 192 St. btwn Grand Concourse and Valentine, Bronx, NY, 10468\",\"compost<br>Name: Compost drop off Lehman College<br>Address: Lehman Quad near Shuster Hall\",\"compost<br>Name: Compost drop off 170 Farmstand<br>Address: Townsend Ave & 170 St\",\"compost<br>Name: Kelly Street Garden<br>Address: 924 Kelly Street\",\"compost<br>Name: Project H.O.P.E. Fresh Food Box<br>Address: 854 Hunts Point Ave\",\"compost<br>Name: Compost drop off We Stay-Nos Quedamos <br>Address: 754 Melrose Avenue\",\"compost<br>Name: La Familia Verde Farmer's Market<br>Address: E Tremont Ave, between Lafontaine and Arthur Aves, Bronx 10457\",\"compost<br>Name: Compost drop off Burnside Ave<br>Address: Burnside Ave, Jerome Ave - SW Corner\",\"compost<br>Name: Compost on-the-go<br>Address: 138th, Brook Ave - NW Corner\",\"compost<br>Name: Compost on-the-go<br>Address: 149th St, Melrose, & 3rd Ave - N Corner\",\"compost<br>Name: Compost on-the-go<br>Address: 161st, River Ave - NE Corner\",\"compost<br>Name: Compost on-the-go<br>Address: Grand Concourse, 149th Street - SE Corner\",\"compost<br>Name: Compost drop off Fordham Road<br>Address: E Fordham Road & Jerome Ave - SE Corner\",\"compost<br>Name: Fordham Plaza Greenmarket<br>Address: E Fordham Rd btw Webster Ave & Third Ave - S\",\"compost<br>Name: Bainbridge Avenue Community Garden<br>Address: 2980 Bainbridge Avenue, Bronx, NY 10458\",\"compost<br>Name: Compost drop off Brook Park<br>Address: 494 East 141 St.\",\"compost<br>Name: Meg's Community Garden in Dewitt Clinton High School Campus<br>Address: 100 West Mosholu Parkway\",\"compost<br>Name: New Roots Community Farm<br>Address: 670 Grand Concourse\",\"compost<br>Name: St. Augustine Food Pantry<br>Address: 1168 Franklin Ave\",\"compost<br>Name: East 4th Street Community Garden<br>Address: 173 East 4th Street\",\"compost<br>Name: Red Hook Community Farm<br>Address: Otsego Street and Beard Street\",\"compost<br>Name: Compost drop off Big Reuse Brooklyn<br>Address: 69 9th St, Brooklyn, NY, 11215\",\"compost<br>Name: Brooklyn Borough Hall Greenmarket <br>Address: Court St & Montague St, Brooklyn, NY 11201\",\"compost<br>Name: Carroll Gardens Greenmarket<br>Address: Carroll St. btwn Smith & Court Sts, Brooklyn, NY 11231\",\"compost<br>Name: Cortelyou Greenmarket<br>Address: Cortelyou Rd at Rugby Rd, Brooklyn, NY, 11226\",\"compost<br>Name: Fort Greene Greenmarket<br>Address: Washington Park between Willoughby Avenue & Dekalb Avenue, Brooklyn, NY 11201\",\"compost<br>Name: Grand Army Plaza Greenmarket<br>Address: Prospect Park West & Plaza Street West, Brooklyn, 11238\",\"compost<br>Name: McCarren Park Greenmarket<br>Address: Union Ave at Driggs Ave,Brooklyn,NY,11222\",\"compost<br>Name: Park Church Co-op<br>Address: Park Church Co-op, 129 Russell Street Brooklyn\",\"compost<br>Name: Bay View Houses Farm<br>Address: 5955 Shore Parkway\",\"compost<br>Name: Pink Houses Community Farm<br>Address: 1257 Loring Avenue\",\"compost<br>Name: UCC Youth Farm<br>Address: 613 New Lots Avenue\",\"compost<br>Name: Compost drop off Parkside<br>Address: Ocean Ave & Parkside Ave, Brooklyn, NY 11226\",\"compost<br>Name: 462 Halsey Community Farm Fresh Food Box<br>Address: 462 Halsey Street\",\"compost<br>Name: Prospect Heights Community Farm<br>Address: 252 St. Marks Ave\",\"compost<br>Name: Q Gardens Community Farm, Inc.<br>Address: 58 E 18th St, Brooklyn, NY 11226\",\"compost<br>Name: Bushwick Grows! Community Garden<br>Address: 1474 Gates Ave\",\"compost<br>Name: Wyckoff Farmhouse Museum<br>Address: 5816 Clarendon Rd\",\"compost<br>Name: Essex Community Garden<br>Address: 3030 Fulton Street\",\"compost<br>Name: Imani Garden<br>Address: 1680 Pacific Street\",\"compost<br>Name: Irving Square Park<br>Address: Corner of Halsey and Knickerbocker\",\"compost<br>Name: Phoenix Community Garden<br>Address: 20 Somers Street\",\"compost<br>Name: Bryant Park<br>Address: 6th Avenue and 41st Sreet\",\"compost<br>Name: Pleasant Village Community Garden<br>Address: 342 Pleasant Ave\",\"compost<br>Name: Roosevelt Island under the Helix<br>Address: 543 West Main Street at the Chapel of the Good Shepherd\",\"compost<br>Name: Compost drop off 175th Street Greenmarket <br>Address: 175th Street between Wadsworth Avenue and Broadway, New York, NY\",\"compost<br>Name: Compost drop off 79th St Greenmarket<br>Address: Columbus Avenue and 79th Street\",\"compost<br>Name: Compost drop off 82nd St Greenmarket [St. Stevens]<br>Address: 82nd Street between 1st and York Avenues\",\"compost<br>Name: Compost drop off 97th Street Greenmarket <br>Address: 97th St between Columbus & Amsterdam, Manhattan\",\"compost<br>Name: Abingdon Square Greenmarket<br>Address: West 12 Street and 8 Avenue,New York,NY,10014\",\"compost<br>Name: Bowling Green Greenmarket<br>Address: Broadway at Battery Place,New York,NY, 10004\",\"compost<br>Name: Columbia University Greenmarket<br>Address: Broadway at West 114 St,New York,NY,10025\",\"compost<br>Name: Compost on-the-go Greenmarket<br>Address: 10th Avenue & West 57th Street\",\"compost<br>Name: Compost on-the-go Greenmarket<br>Address: 1st Ave between 92nd and 93rd St,New York,NY,10128\",\"compost<br>Name: Fort Washington Greenmarket<br>Address: 168th Street at Fort Washington,New York,NY 10032\",\"compost<br>Name: Inwood Greenmarket<br>Address: Isham St at Cooper,New York,NY, 10034\",\"compost<br>Name: Mount Sinai Greenmarket<br>Address: East 99th St at Madison,New York,NY, 10029\",\"compost<br>Name: Tompkins Square Greenmarket<br>Address: E 7th St & Avenue A, New York, NY 10009\",\"compost<br>Name: Tucker Square Greenmarket<br>Address: Columbus Ave & W 66th St, New York, NY 10023\",\"compost<br>Name: Union Square Greenmarket<br>Address: E 17th St & Union Square E, New York, NY\",\"compost<br>Name: Lenox Hill Neighborhood House Fresh Food Box<br>Address: 1st Avenue Between 70th St and 71st St\",\"compost<br>Name: Uptown Grand Central Fresh Food Box<br>Address: 125th Street at Park Avenue, outside the Metro-North Station\",\"compost<br>Name: Harlem Grown<br>Address: 118 W 134th St\",\"compost<br>Name: Compost drop off 127 Street & Malcolm X<br>Address: 77 West 127th Street between Malcolm X Boulevard and 5th Ave\",\"compost<br>Name: M'Finda Kalunga Garden<br>Address: Rivington and Forsyth\",\"compost<br>Name: Compost drop off Swindler Cove<br>Address: 3703 10th Avenue\",\"compost<br>Name: East Side Outside Community Garden<br>Address: 415 East 11th St\",\"compost<br>Name: Hamilton Heights Green Youth Market<br>Address: 512 West 143rd Street\",\"compost<br>Name: Earth Matter, Compost Learning Center<br>Address: Urban Farm, Governors Island\",\"compost<br>Name: Governors Islands Zero Waste Stations<br>Address: Several locations throughout Governors Island\",\"compost<br>Name: Compost drop off Church of the Holy Apostles<br>Address: 296 Ninth Avenue\",\"compost<br>Name: Hudson Blvd Park<br>Address: 5 Hudson Blvd East\",\"compost<br>Name: Morris- Jumel Community Garden<br>Address: 455-457 West 162nd Street\",\"compost<br>Name: Compost drop off 14th Street Y<br>Address: 344 E 14th Street\",\"compost<br>Name: B'nai Jeshurun Community House<br>Address: 270 West 89th Street\",\"compost<br>Name: Lydia's Magic Garden<br>Address: 1665 Park Avenue, Manhattan 10035, between 117th and 118th Streets\",\"compost<br>Name: Tribeca Greenmarket Compost on-the-go<br>Address: Greenwich Street at Chambers Street,New York,NY\",\"compost<br>Name: Compost drop off Cathedral Parkway (110th St) <br>Address: 110th & Central Park West - SW Corner\",\"compost<br>Name: Compost drop off Central Park North (110th St)<br>Address: 110th, St. Nicholas, & Malcolm X - NW Corner (Public Plaza)\",\"compost<br>Name: Compost drop off City College<br>Address: Broadway & Hamilton Place - N (Montefiore Square)\",\"compost<br>Name: Compost on-the-go<br>Address: 116th & Lexington Ave - NW Corner\",\"compost<br>Name: Compost on-the-go<br>Address: 145th & Edgecombe Ave - NE Corner (Jackie Robinson Park Entrance)\",\"compost<br>Name: Compost on-the-go<br>Address: 157th, Broadway, Riverside Drive (Ilka Tanya Payan Park)\",\"compost<br>Name: Compost on-the-go<br>Address: 96th Street & Lexington Ave - SE Corner (Samuel Seabury Playground)\",\"compost<br>Name: Compost on-the-go<br>Address: Broadway, Riverside Drive, Dyckman Street (Anne Loftus Playground/Fort Tyron Park Entrance)\",\"compost<br>Name: Compost on-the-go<br>Address: Fort Washington Ave btw. 183rd & 185th - W (Bennett Park Entrance)\",\"compost<br>Name: Dag Hammarskjold Plaza Greenmarket<br>Address: East 47 St at 2 Ave,New York,NY, 10017\",\"compost<br>Name: Hudson River Park's 14th Street Park at 10th Ave.<br>Address: 14th Street Park at southwest corner of 15th St. and 10th Ave\",\"compost<br>Name: Hudson River Park's Chelsea Waterside Park<br>Address: Chelsea Waterside Park at 23rd St. and 11th Ave entrance\",\"compost<br>Name: Hudson River Park's Pier<br>Address: Pier 76 at 12th Ave between 30th St and 33rd St in Hudson River Park's Compost Center\",\"compost<br>Name: Hudson River Park's Pier 25 at N. Moore St.<br>Address: Pier 25 at N. Moore St. near kid's playground\",\"compost<br>Name: Hudson River Park's Pier 40 at W. Houston St.<br>Address: Pier 40 at Houston St. near dog park\",\"compost<br>Name: Hudson River Park's Pier 51 at Horatio St.<br>Address: Pier 51 at Horatio St. near comfort station\",\"compost<br>Name: Hudson River Park's Pier 84 at W. 44th St.<br>Address: Pier 84 at W. 44th St. near dog park\",\"compost<br>Name: La Plaza Cultural Community Garden<br>Address: 674 East 9th Street\",\"compost<br>Name: Commuter Composting at 23rd Street C/E<br>Address: West 23rd Street and 8th Avenue (SW corner), New York, NY 10011\",\"compost<br>Name: Commuter Composting at Christopher Street<br>Address: 7th Avenue and Christopher St - SW Corner\",\"compost<br>Name: Commuter Composting at East Broadway & Rutgers Street<br>Address: East Broadway & Rutgers Street (SE corner), Manhattan\",\"compost<br>Name: Commuter Composting at Grand Street & Clinton Street<br>Address: Grand Street & Clinton Street (SW corner), Manhattan\",\"compost<br>Name: Commuter Composting Hudson Square<br>Address: 6th Avenue & Spring Street -NE Corner\",\"compost<br>Name: East River Park Compost Yard<br>Address: East River Park Compost Park\",\"compost<br>Name: LES Ecology Center Garden<br>Address: 213 E. 7th St\",\"compost<br>Name: West Village Commuter Composting<br>Address: 6th Avenue and Waverly Place - SE Corner\",\"compost<br>Name: Carmen Pabon del Amanecer Community Garden<br>Address: 115 Avenue C\",\"compost<br>Name: Commuter Composting at 1st Ave and 1st St.<br>Address: First Avenue between Houston and First Street (west side)\",\"compost<br>Name: Dorothy K. McGowan Memorial Garden<br>Address: 513 West 158th Street\",\"compost<br>Name: El Sol Brilliante- Children's Garden<br>Address: 544 East 12th St\",\"compost<br>Name: Garden of Love<br>Address: 302 West 116 Street\",\"compost<br>Name: Mobilization for Change Community Garden<br>Address: 955 Columbus Ave\",\"compost<br>Name: Peach Tree Garden<br>Address: 236 East 2nd Street\",\"compost<br>Name: The Herb Garden<br>Address: 180 East 111th Street\",\"compost<br>Name: William B. Washington Memorial Garden<br>Address: 321 West 126th Street\",\"compost<br>Name: Queens County Farm Museum<br>Address: 73-50 Little Neck Parkway\",\"compost<br>Name: Commuter Composting at Vernon Jackson 7<br>Address: Vernon Blvd & 50th Ave, Long Island City, NY 11101\",\"compost<br>Name: Commuter Drop-Off<br>Address: 22-75 31st St, Astoria, NY 11102\",\"compost<br>Name: Commuter Drop-Off<br>Address: 28-60 31st St, Astoria, NY 11102\",\"compost<br>Name: Forest Hills Greenmarket<br>Address: South side of Queens Blvd at 70th Avenue, Queens\",\"compost<br>Name: Jackson Heights Greenmarket<br>Address: 34th Ave at 77th St,Queens,NY,11372\",\"compost<br>Name: Queens Library at Broadway<br>Address: 40-20 Broadway, Long Island City, NY, 11103\",\"compost<br>Name: Queens Library at Steinway<br>Address: 21-45 31st St, Astoria, NY 11105\",\"compost<br>Name: Socrates Sculpture Park<br>Address: Broadway & Vernon Blvd, Queens, NY 11106\",\"compost<br>Name: Sunnyside Greenmarket<br>Address: Skillman Ave at 43rd St,Queens,NY,11104\",\"compost<br>Name: Edgemere Farm<br>Address: 385 Beach 45th St\",\"compost<br>Name: Flushing Greenmarket<br>Address: Maple Playground, Maple Avenue and Kissena Boulevard, Flushing\",\"compost<br>Name: Compost drop off Corona Greenmarket<br>Address: Corona Plaza, Roosevelt Ave at 103 Street, Queens\",\"compost<br>Name: JH Scraps<br>Address: 35-20 69th Street\",\"compost<br>Name: Compost drop off 63rd Dr. M/R<br>Address: 96-14 Queens Blvd, Rego Park, NY 11374\",\"compost<br>Name: Compost drop off Grand Ave Newtown M/R<br>Address: 86-51 Broadway, Elmhurst, NY 11373\",\"compost<br>Name: Queens Botanical Garden Drop-Off<br>Address: 42-80 Crommelin Avenue, Flushing, NY 11355, Parking Garden at QBG\",\"compost<br>Name: Compost drop off Brooklyn Grange<br>Address: 37-19 Northern Blvd Roof\",\"compost<br>Name: Hellgate Farm<br>Address: 14-33 30th Drive\",\"compost<br>Name: Rockaway Waterfront Alliance R.I.S.E.<br>Address: 5803 Rockaway Beach Blvd.\",\"compost<br>Name: Commuter Composting at 21st Street F train<br>Address: NW Corner of 21st street at 41st Ave\",\"compost<br>Name: Commuter Composting at Grand Street & Clinton Street <br>Address: Briarwood E/F Subway Station Entrance (North side of Queens Boulevard)\",\"compost<br>Name: Commuter Composting at Kew Gardens E/F<br>Address: Kew Gardens Road between 80 Road and 81 Avenue, Kew Gardens, 11415\",\"compost<br>Name: St. James Compost<br>Address: 86-02 Broadway\",\"compost<br>Name: The Compost Collective<br>Address: 73-24 Yellowstone Blvd.\",\"compost<br>Name: Snug Harbor Cultural Center & Botanical Garden<br>Address: Compost Demonstration Site at Snug Harbor Cultural Center & Botanical Garden 1000 Richmond Terrace\",\"compost<br>Name: St. George Greenmarket<br>Address: St Marks Pl & Hyatt St Staten Island, NY 10301\",\"compost<br>Name: Staten Island Mall Greenmarket<br>Address: Staten Island Mall, Marsh Ave & Ring Rd, Staten Island, NY 10314\",\"compost<br>Name: Olivet Heavenly Harvest<br>Address: 97 Myrtle Avenue\",\"electronics<br>Name: SALVATION ARMY THRIFT STORE<br>Address: 1294 SOUTHERN BLVD BRONX NY 10459\",\"electronics<br>Name: SALVATION ARMY THRIFT STORE<br>Address: 2359 JEROME AVE BRONX NY 10468\",\"electronics<br>Name: SALVATION ARMY THRIFT STORE<br>Address: 2582 3 AVE BRONX NY 10454\",\"electronics<br>Name: SALVATION ARMY THRIFT STORE<br>Address: 4109 PARK AVE BRONX NY 10457\",\"electronics<br>Name: BEST BUY<br>Address: 402 E FORDHAM RD BRONX NY 10458\",\"electronics<br>Name: BEST BUY<br>Address: 610 EXTERIOR ST BRONX NY 10451\",\"electronics<br>Name: STAPLES<br>Address: 2040 WHITE PLAINS RD BRONX NY 10462\",\"electronics<br>Name: STAPLES<br>Address: 330-340 BAYCHESTER AVE BRONX NY 10475\",\"electronics<br>Name: STAPLES<br>Address: 5680 BROADWAY BRONX NY 10463\",\"electronics<br>Name: GOODWILL THRIFT SHOP<br>Address: 361 E 149 ST BRONX NY 10455\",\"electronics<br>Name: SALVATION ARMY THRIFT STORE<br>Address: 176 BEDFORD AVE BROOKLYN NY 11211\",\"electronics<br>Name: SALVATION ARMY THRIFT STORE<br>Address: 22 QUINCY ST BROOKLYN NY 11238\",\"electronics<br>Name: SALVATION ARMY THRIFT STORE<br>Address: 3718 NOSTRAND AVE BROOKLYN NY 11235\",\"electronics<br>Name: SALVATION ARMY THRIFT STORE<br>Address: 436 ATLANTIC AVE BROOKLYN NY 11217\",\"electronics<br>Name: SALVATION ARMY THRIFT STORE<br>Address: 6822 3 AVE BROOKLYN NY 11220\",\"electronics<br>Name: SALVATION ARMY THRIFT STORE<br>Address: 981 MANHATTAN AVE BROOKLYN NY 11222\",\"electronics<br>Name: BEST BUY<br>Address: 369 GATEWAY DR BROOKLYN NY 11239\",\"electronics<br>Name: BEST BUY<br>Address: 5102 AVE U BROOKLYN NY 11234\",\"electronics<br>Name: BEST BUY<br>Address: 625 ATLANTIC AVE BROOKLYN NY 11217\",\"electronics<br>Name: BEST BUY<br>Address: 8923 BAY PKWY BROOKLYN NY 11214\",\"electronics<br>Name: STAPLES<br>Address: 1011 FLATBUSH AVE BROOKLYN NY 11226\",\"electronics<br>Name: STAPLES<br>Address: 1760 UTICA AVE BROOKLYN NY 11234\",\"electronics<br>Name: STAPLES<br>Address: 1880 CONEY ISLAND AVE BROOKLYN NY 11230\",\"electronics<br>Name: STAPLES<br>Address: 1949 STILLWELL BROOKLYN NY 11223\",\"electronics<br>Name: STAPLES<br>Address: 2892 OCEAN AVE BROOKLYN NY 11235\",\"electronics<br>Name: STAPLES<br>Address: 348 4 AVE BROOKLYN NY 11215\",\"electronics<br>Name: STAPLES<br>Address: 409 GATEWAY DRIVE BROOKLYN NY 11239\",\"electronics<br>Name: STAPLES<br>Address: 535 MORGAN AVE BROOKLYN NY 11222\",\"electronics<br>Name: STAPLES<br>Address: 9319 5 AVE BROOKLYN NY 11209\",\"electronics<br>Name: GOODWILL THRIFT SHOP<br>Address: 1100 FULTON ST BROOKLYN NY 11238\",\"electronics<br>Name: GOODWILL THRIFT SHOP<br>Address: 258 LIVINGSTON ST BROOKLYN NY 11201\",\"electronics<br>Name: LOWER EAST SIDE ECOLOGY CENTER<br>Address: 469 PRESIDENT ST BROOKLYN NY 11215\",\"electronics<br>Name: SALVATION ARMY THRIFT STORE<br>Address: 112 4 AVE NEW YORK NY 10003\",\"electronics<br>Name: SALVATION ARMY THRIFT STORE<br>Address: 208 8 AVE NEW YORK NY 10011\",\"electronics<br>Name: SALVATION ARMY THRIFT STORE<br>Address: 212 E 23 ST NEW YORK NY 10010\",\"electronics<br>Name: SALVATION ARMY THRIFT STORE<br>Address: 26 E 125 ST NEW YORK NY 10035\",\"electronics<br>Name: SALVATION ARMY THRIFT STORE<br>Address: 268 W 96 ST NEW YORK NY 10025\",\"electronics<br>Name: SALVATION ARMY THRIFT STORE<br>Address: 536 W 46 ST NEW YORK NY 10036\",\"electronics<br>Name: BEST BUY<br>Address: 1280 LEXINGTON AVE NEW YORK NY 10028\",\"electronics<br>Name: BEST BUY<br>Address: 1880 BROADWAY NEW YORK NY 10023\",\"electronics<br>Name: BEST BUY<br>Address: 52 E 14 ST NEW YORK NY 10003\",\"electronics<br>Name: BEST BUY<br>Address: 529 5 AVE NEW YORK NY 10017\",\"electronics<br>Name: BEST BUY<br>Address: 60 W 23 ST NEW YORK NY 10010\",\"electronics<br>Name: BEST BUY<br>Address: 622 BROADWAY NEW YORK NY 10012\",\"electronics<br>Name: STAPLES<br>Address: 105 W 125 ST NEW YORK NY 10027\",\"electronics<br>Name: STAPLES<br>Address: 1065 6 AVE NEW YORK NY 10018\",\"electronics<br>Name: STAPLES<br>Address: 1293-1311 BROADWAY NEW YORK NY 10001\",\"electronics<br>Name: STAPLES<br>Address: 16 E 34 ST NEW YORK NY 10016\",\"electronics<br>Name: STAPLES<br>Address: 2248 BROADWAY NEW YORK NY 10024\",\"electronics<br>Name: STAPLES<br>Address: 390 6 AVE NEW YORK NY 10011\",\"electronics<br>Name: STAPLES<br>Address: 425 PARK AVE NEW YORK NY 10022\",\"electronics<br>Name: STAPLES<br>Address: 4320 BROADWAY NEW YORK NY 10033\",\"electronics<br>Name: STAPLES<br>Address: 442 5 AVE NEW YORK NY 10018\",\"electronics<br>Name: STAPLES<br>Address: 500 8 AVE NEW YORK NY 10018\",\"electronics<br>Name: STAPLES<br>Address: 574 2 AVE NEW YORK NY 10016\",\"electronics<br>Name: STAPLES<br>Address: 5-9 UNION SQUARE W NEW YORK NY 10003\",\"electronics<br>Name: STAPLES<br>Address: 641 6 AVE NEW YORK NY 10011\",\"electronics<br>Name: STAPLES<br>Address: 675 3 AVE NEW YORK NY 10017\",\"electronics<br>Name: STAPLES<br>Address: 769 BROADWAY NEW YORK NY 10003\",\"electronics<br>Name: STAPLES<br>Address: 776 8 AVE NEW YORK NY 10036\",\"electronics<br>Name: GOODWILL GREENWICH VILLAGE BOUTIQUE<br>Address: 44 W 8 ST NEW YORK NY 10011\",\"electronics<br>Name: GOODWILL THRIFT SHOP<br>Address: 103 W 25 ST NEW YORK NY 10001\",\"electronics<br>Name: GOODWILL THRIFT SHOP<br>Address: 157 W 72 ST NEW YORK NY 10023\",\"electronics<br>Name: GOODWILL THRIFT SHOP<br>Address: 1704 2 AVE NEW YORK NY 10128\",\"electronics<br>Name: GOODWILL THRIFT SHOP<br>Address: 217 W 79 ST NEW YORK NY 10024\",\"electronics<br>Name: GOODWILL THRIFT SHOP<br>Address: 2196 5 AVE NEW YORK NY 10037\",\"electronics<br>Name: GOODWILL THRIFT SHOP<br>Address: 220 E 23 ST NEW YORK NY 10010\",\"electronics<br>Name: GOODWILL THRIFT SHOP<br>Address: 2231 3 AVE NEW YORK NY 10035\",\"electronics<br>Name: GOODWILL THRIFT SHOP<br>Address: 512 181 ST NEW YORK NY 10033\",\"electronics<br>Name: SALVATION ARMY THRIFT STORE<br>Address: 14815 ARCHER AVE JAMAICA NY 11435\",\"electronics<br>Name: SALVATION ARMY THRIFT STORE<br>Address: 3402 STEINWAY ST LONG ISLAND CITY NY 11101\",\"electronics<br>Name: SALVATION ARMY THRIFT STORE<br>Address: 3911 61 ST WOODSIDE NY 11377\",\"electronics<br>Name: BEST BUY<br>Address: 13107 40 RD FLUSHING NY 11354\",\"electronics<br>Name: BEST BUY<br>Address: 5001 NORTHERN BLVD LONG ISLAND CITY NY 11101\",\"electronics<br>Name: BEST BUY<br>Address: 8801 QUEENS BLVD ELMHURST NY 11373\",\"electronics<br>Name: STAPLES<br>Address: 10234 ATLANTIC AVE OZONE PARK NY 11416\",\"electronics<br>Name: STAPLES<br>Address: 10716 71 AVE FOREST HILLS NY 11375\",\"electronics<br>Name: STAPLES<br>Address: 13401 20 AVE COLLEGE POINT NY 11356\",\"electronics<br>Name: STAPLES<br>Address: 20934 NORTHERN BLVD BAYSIDE NY 11361\",\"electronics<br>Name: STAPLES<br>Address: 2441 31 ST ASTORIA NY 11102\",\"electronics<br>Name: STAPLES<br>Address: 5110 BROADWAY WOODSIDE NY 11377\",\"electronics<br>Name: STAPLES<br>Address: 5812 QUEENS BLVD WOODSIDE NY 11377\",\"electronics<br>Name: STAPLES<br>Address: 6040 FRESH POND RD MASPETH NY 11378\",\"electronics<br>Name: STAPLES<br>Address: 6135 JUNCTION BLVD REGO PARK NY 11374\",\"electronics<br>Name: STAPLES<br>Address: 9030 METROPOLITAN AVE REGO PARK NY 11374\",\"electronics<br>Name: STAPLES<br>Address: 9130 VAN WYCK EXPY RICHMOND HILL NY 11418\",\"electronics<br>Name: STAPLES<br>Address: 9318 ROOSEVELT AVE JACKSON HEIGHTS NY 11372\",\"electronics<br>Name: GOODWILL OUTLET CENTER<br>Address: 4747 VAN DAM ST LONG ISLAND CITY NY 11101\",\"electronics<br>Name: GOODWILL THRIFT SHOP<br>Address: 3236 STEINWAY ST ASTORIA NY 11103\",\"electronics<br>Name: BEST BUY<br>Address: 2795 RICHMOND AVE STATEN ISLAND NY 10314\",\"electronics<br>Name: STAPLES<br>Address: 1520 FOREST AVE STATEN ISLAND NY 10302\",\"electronics<br>Name: STAPLES<br>Address: 1885 HYLAN BLVD STATEN ISLAND NY 10306\",\"electronics<br>Name: STAPLES<br>Address: 2535 RICHMOND AVE STATEN ISLAND NY 10314\",\"hazardous waste recycling<br>Name: DSNY Special Waste Drop-Off Site<br>Address: Hunts Point Ave\",\"hazardous waste recycling<br>Name: DSNY Special Waste Drop-Off Site<br>Address: 459 N. Henry St\",\"hazardous waste recycling<br>Name: DSNY Special Waste Drop-Off Site<br>Address: South St & Pike St\",\"hazardous waste recycling<br>Name: DSNY Special Waste Drop-Off Site<br>Address: 120-15 31 Ave\",\"hazardous waste recycling<br>Name: DSNY Special Waste Drop-Off Site<br>Address: 1000 West Service Rd\",\"plastic bag recycling<br>Name: Target<br>Address: 517 E 117th St New York, NY 10035\",\"plastic bag recycling<br>Name: Barnes and Noble<br>Address: 2289 Broadway, New York, NY 10024\",\"public recycling bin<br>Name: 227th St. Plgd<br>Address: E 227 St/Bronx River Pkway\",\"public recycling bin<br>Name: Allerton Ballfields<br>Address: Allerton Ave & Moshulu Pkway\",\"public recycling bin<br>Name: Arthur Ave & E 187 St<br>Address: Arthur Ave & 187 St\",\"public recycling bin<br>Name: Barstow Mansion<br>Address: 895 Shore Road, Pelham Bay Park\",\"public recycling bin<br>Name: Bradley Playground<br>Address: 2001-2017 Bronx Park E\",\"public recycling bin<br>Name: Bronx Botanical Gardens<br>Address: Visitors Service Center\",\"public recycling bin<br>Name: Bronx Botanical Gardens<br>Address: Visitors Service Center\",\"public recycling bin<br>Name: Bronx Botanical Gardens<br>Address: Visitors Service Center\",\"public recycling bin<br>Name: Bronx Botanical Gardens<br>Address: Visitors Service Center\",\"public recycling bin<br>Name: Bronx County Courthouse<br>Address: 161 ST/Grand Concourse\",\"public recycling bin<br>Name: Bronx County Courthouse<br>Address: 161 ST/Grand Concourse\",\"public recycling bin<br>Name: Bronx Park<br>Address: Lydig Ave & Bronx Park E\",\"public recycling bin<br>Name: Bronx Park Playground at Lydig<br>Address: Lydig Ave & Bronx Park E\",\"public recycling bin<br>Name: Bronx Zoo<br>Address: Cafeteria\",\"public recycling bin<br>Name: Bronx Zoo<br>Address: Entrance to Cafeteria\",\"public recycling bin<br>Name: Bryant Hill Community Garden<br>Address: Bryant Avenue Bet. Seneca and Garrison Aves.\",\"public recycling bin<br>Name: Burke Bridge<br>Address: Burke Bridge\",\"public recycling bin<br>Name: College of Mt. St. Vincent<br>Address: In front of Alumnae Hall\",\"public recycling bin<br>Name: College of Mt. St. Vincent<br>Address: In front of Cardinal Spellman Hall\",\"public recycling bin<br>Name: Concrete Plant Park<br>Address: Bronx River bet. Westchster Av and Bruckner Blvd\",\"public recycling bin<br>Name: Crotona Park <br>Address: 1700 Crotona Ave\",\"public recycling bin<br>Name: Crotona Park <br>Address: 1700 Crotona Ave\",\"public recycling bin<br>Name: Crotona Park <br>Address: 1700 Crotona Ave\",\"public recycling bin<br>Name: Crotona Park <br>Address: 1700 Crotona Ave\",\"public recycling bin<br>Name: Crotona Park <br>Address: 1700 Crotona Ave\",\"public recycling bin<br>Name: Crotona Park <br>Address: 1700 Crotona Ave\",\"public recycling bin<br>Name: E 174 St & Manor Ave<br>Address: 174 St & Manor Ave\",\"public recycling bin<br>Name: E 176 St & Marmion Ave<br>Address: 176 St & Marmion Ave\",\"public recycling bin<br>Name: E Gun Hill Rd & Bronxwood Ave<br>Address: Gun Hill Rd & Bronxwood Ave\",\"public recycling bin<br>Name: E Tremont Ave & Bruckner Blvd<br>Address: Tremont Ave & Bruckner Blvd\",\"public recycling bin<br>Name: E Tremont Ave & University Ave<br>Address: Tremont Ave & University Ave\",\"public recycling bin<br>Name: Echo Park<br>Address: 315 Echo Pl\",\"public recycling bin<br>Name: Edith Community Garden<br>Address: 836 Elton Avenue \",\"public recycling bin<br>Name: El Flamboyan<br>Address: Tinton Avenue @ E. 150th Street \",\"public recycling bin<br>Name: Family Group Garden<br>Address: 419 East 158th Street \",\"public recycling bin<br>Name: Fordham University<br>Address: Grand Concourse West & Fordham Rd\",\"public recycling bin<br>Name: Fordham University<br>Address: Kingsbridge Rd & Fordham Rd\",\"public recycling bin<br>Name: Fordham University<br>Address: Main Entrance (Kazimiroff Blvd)\",\"public recycling bin<br>Name: Fordham University<br>Address: Side Entrance (E Fordham Rd & 3 Ave)\",\"public recycling bin<br>Name: French Charley Playground<br>Address: E 204 St, W/S Bronx Park\",\"public recycling bin<br>Name: Hornaday Community Garden (volky Flower Garden)<br>Address: 851 Hornaday Avenue\",\"public recycling bin<br>Name: HUB 3rd Ave<br>Address: 3 Ave & 149 St\",\"public recycling bin<br>Name: Hunt's Point<br>Address: Hunt's Point Ave Btwn. Spofford Ave & Bryant Ave\",\"public recycling bin<br>Name: Hunt's point Riverside Park- Plgd - Parks<br>Address: Lafayette Ave & Edgewater Rd\",\"public recycling bin<br>Name: Isla Verde Garden<br>Address: 625 Wales Avenue \",\"public recycling bin<br>Name: Jardin de las Rosas<br>Address: 15 Buchanan Place\",\"public recycling bin<br>Name: Joyce Kilmer<br>Address: E 164 St Btwn. Grand Concourse & Walton Ave\",\"public recycling bin<br>Name: Joyce Kilmer<br>Address: E 164 St Btwn. Grand Concourse & Walton Ave\",\"public recycling bin<br>Name: Kingsbridge Heights Community Center<br>Address: 3101 Kingsbridge Ave\",\"public recycling bin<br>Name: Las Casitas Communitiy Garden<br>Address: 1126-1140 Woodycrest Avenue \",\"public recycling bin<br>Name: Little Green Garden (3) Large lower expanse<br>Address: E 160th St and Elton Ave\",\"public recycling bin<br>Name: Mill Pond<br>Address: Mill Pond Park\",\"public recycling bin<br>Name: Mullaly<br>Address: E 165 St Btwn. Jerome Ave & River Ave\",\"public recycling bin<br>Name: Mullaly<br>Address: E 165 St Btwn. Jerome Ave & River Ave\",\"public recycling bin<br>Name: Muskrat Playground<br>Address: Bronx Park\",\"public recycling bin<br>Name: New Hoe Avenue Garden<br>Address: E/S Hoe Ave., S/O/ Aldus Street \",\"public recycling bin<br>Name: Niles Triangle<br>Address: Bronx Park\",\"public recycling bin<br>Name: Noble Playground<br>Address: Noble Ave Btwn. Bronx River Ave & E 177 St\",\"public recycling bin<br>Name: Nursery<br>Address: Van Cortlandt Park\",\"public recycling bin<br>Name: Olinville<br>Address: Bronx Blvd & E 219 St\",\"public recycling bin<br>Name: Orchard Beach picnic areas, Pelham playground<br>Address: Orchard Beach\",\"public recycling bin<br>Name: Orchard Beach picnic areas, Pelham playground<br>Address: Orchard Beach\",\"public recycling bin<br>Name: Orchard Beach picnic areas, Pelham playground<br>Address: Orchard Beach\",\"public recycling bin<br>Name: Orchard Beach picnic areas, Pelham playground<br>Address: Orchard Beach\",\"public recycling bin<br>Name: Orchard Beach picnic areas, Pelham playground<br>Address: Orchard Beach\",\"public recycling bin<br>Name: Owen Dolan<br>Address: 2551 Westchester Ave\",\"public recycling bin<br>Name: Owen Dolan<br>Address: 2551 Westchester Ave\",\"public recycling bin<br>Name: P.O. Serrano<br>Address: Olmstead Ave Btwn Turnbull Ave & Lafayette Ave \",\"public recycling bin<br>Name: Pearly Gates<br>Address: St. Peter's Ave at Tratman Ave \",\"public recycling bin<br>Name: Pelham Bay  Ball field, north picnic area<br>Address: Pelham Bay Park\",\"public recycling bin<br>Name: Pelham Bay picnic, running track<br>Address: Pelham Bay Park\",\"public recycling bin<br>Name: Quarry Ballfield- Parks<br>Address: E 181 St, oak Tree Pl Btwn. Quarry Rd & Hughes Ave\",\"public recycling bin<br>Name: River Garden<br>Address: 1086 East 180th Street\",\"public recycling bin<br>Name: River Park<br>Address: E 180 St & Boston Rd\",\"public recycling bin<br>Name: Riverdale Neighborhood House<br>Address: 5521 Mosholu Ave\",\"public recycling bin<br>Name: Rosehill Park- Parks<br>Address: Webster Ave & E Fordham Rd\",\"public recycling bin<br>Name: Rosewood- Parks<br>Address: Bronx River Pkwy & Rosewood St\",\"public recycling bin<br>Name: Sachkera Plgd \\u2013 Parks<br>Address: W Gunhill Rd & Knox Pl \",\"public recycling bin<br>Name: Seton Falls Park<br>Address: 3800 Baychester Ave\",\"public recycling bin<br>Name: Seton Falls Park<br>Address: E 223 St & De Reimer Ave\",\"public recycling bin<br>Name: Skate Park at Allerton<br>Address: Bronx Park East Btwn Britton St & Allerton Ave \",\"public recycling bin<br>Name: Skyview Shopping Plaza<br>Address: Skyview Shopping Plaza (Riverdale Ave & 259 St)\",\"public recycling bin<br>Name: Soundview Parks<br>Address: Lafayette Ave Btwn Colgate Ave & Boynton Ave \",\"public recycling bin<br>Name: Soundview Parks<br>Address: Metcalf Ave Btwn Lafayette Ave & Seward Ave \",\"public recycling bin<br>Name: Soundview Parks<br>Address: Metcalf Ave Btwn Seward Ave & Randall Ave\",\"public recycling bin<br>Name: Soundview Parks<br>Address: Soundview Park\",\"public recycling bin<br>Name: Southern Blvd & E 173 St<br>Address: Southern Blvd & 173 St\",\"public recycling bin<br>Name: Southwest Plgd Parks<br>Address: Van Cortlandt Park\",\"public recycling bin<br>Name: Spuyton Duyvil plgd<br>Address: Seton Park\",\"public recycling bin<br>Name: St. James <br>Address: E 193 St\",\"public recycling bin<br>Name: St. James <br>Address: Jerome Ave\",\"public recycling bin<br>Name: St. James <br>Address: Jerome Ave\",\"public recycling bin<br>Name: St. Mary's <br>Address: St. Anns Ave & E 145 St\",\"public recycling bin<br>Name: St. Mary's <br>Address: St. Anns Ave & E 145 St\",\"public recycling bin<br>Name: Sunflower Garden/Girasol<br>Address: 639 E. 137th Street\",\"public recycling bin<br>Name: Van Cortlandt  ballfield, tennis and picnic<br>Address: Broadway & Putnam Trail\",\"public recycling bin<br>Name: Van Cortlandt  ballfield, tennis and picnic<br>Address: Broadway & Van Cortlandt Park 242 St\",\"public recycling bin<br>Name: Van Cortlandt  ballfield, tennis and picnic<br>Address: Van Cortlandt Park\",\"public recycling bin<br>Name: Van Cortlandt Park <br>Address: Van Cortlandt Park\",\"public recycling bin<br>Name: Van Cortlandt Stadium<br>Address: Van Cortlandt Park\",\"public recycling bin<br>Name: Van Cortlandt Stadium<br>Address: Van Cortlandt Park\",\"public recycling bin<br>Name: Virginia Park<br>Address: Cross Bronx Expwy Service Rd\",\"public recycling bin<br>Name: Vogue Community Garden<br>Address: 431 E. 156th Street\",\"public recycling bin<br>Name: Waring Plgd<br>Address: Waring Ave, Bronx Park E\",\"public recycling bin<br>Name: Watson & Gleason<br>Address: Noble Ave Btwn Watson Ave & Gleason Ave\",\"public recycling bin<br>Name: West Bronx Rec. Ctr<br>Address: 1527 Jesup Ave\",\"public recycling bin<br>Name: Woodlawn Tennis<br>Address: Van Cortlandt Park\",\"public recycling bin<br>Name: A Better Community Garden<br>Address: 762-764 Herkimer Place/13-21 Hunterfly\",\"public recycling bin<br>Name: Asser Levy<br>Address: Seaside Park\",\"public recycling bin<br>Name: Asser Levy<br>Address: Seaside Park\",\"public recycling bin<br>Name: Bay Ridge<br>Address: 5 Ave & Bay Ridge Pkwy\",\"public recycling bin<br>Name: Bensonhurst<br>Address: Bensohurst Park\",\"public recycling bin<br>Name: Boerum<br>Address: Boerum Park\",\"public recycling bin<br>Name: Brooklyn War Memorial<br>Address: Brooklyn War Memorial\",\"public recycling bin<br>Name: Brower<br>Address: Park Pl Btwn Brooklyn Ave & Kingston Ave\",\"public recycling bin<br>Name: Brownsville Rec Ctr<br>Address: 1555 Linden Blvd\",\"public recycling bin<br>Name: Bushwick Inlet Field<br>Address: Bushwick Inlet Park\",\"public recycling bin<br>Name: Cadman Plaza<br>Address: Brooklyn War Memorial\",\"public recycling bin<br>Name: Cadman Plaza<br>Address: Korean War Veterans Plaze\",\"public recycling bin<br>Name: Carroll Park<br>Address: Carroll St\",\"public recycling bin<br>Name: Carroll Park<br>Address: President St\",\"public recycling bin<br>Name: City Line Park<br>Address: Fountain Ave\",\"public recycling bin<br>Name: Cobble hill park<br>Address: Clinton St Btwn Congress St & Verandah Pl\",\"public recycling bin<br>Name: Columbus Park<br>Address: Columbus Park\",\"public recycling bin<br>Name: Commodore Berry<br>Address: Commodore Berry\",\"public recycling bin<br>Name: Cuyler Gore Park<br>Address: Greene Ave\",\"public recycling bin<br>Name: David Marcus Plgd<br>Address: Avenue P Btwn 4 St & 5 St\",\"public recycling bin<br>Name: Dumbo Brooklyn Heights<br>Address: Church Ave & Flatbush Ave\",\"public recycling bin<br>Name: FAB<br>Address: Fulton St & Lafayette/Greene/S Oxford\",\"public recycling bin<br>Name: FAB<br>Address: Putnam Triangle\",\"public recycling bin<br>Name: FAB <br>Address: Fulton & Lafayette \",\"public recycling bin<br>Name: FAB <br>Address: Lafayette & South Portland Ave\",\"public recycling bin<br>Name: Fort Greene <br>Address: Washington Park & Dekalb Ave\",\"public recycling bin<br>Name: Fort Hamilton Sr. Center<br>Address: 9941 Fort Hamilton Pkwy\",\"public recycling bin<br>Name: Good Shepheard's Community Group<br>Address: 555-557 Shepherd Ave.\",\"public recycling bin<br>Name: Gregory's Garden (P.S. 158 Memorial Garden<br>Address: 444,448 Warwich Avenue\",\"public recycling bin<br>Name: Hands  & Hearts(New Lots Urban Farm)<br>Address: New Lots Ave at Alabama Avenue\",\"public recycling bin<br>Name: Harry Chapin Plgd<br>Address: Hillside Park\",\"public recycling bin<br>Name: Herbal Garden<br>Address: 582-590 Glenmore Ave.\",\"public recycling bin<br>Name: JJ Byrne<br>Address: 4 St Btwn 4 Ave & 5 Ave\",\"public recycling bin<br>Name: JJ Byrne<br>Address: 4 St Btwn 4 Ave & 5 Ave\",\"public recycling bin<br>Name: Kaiser <br>Address: Neptune Ave\",\"public recycling bin<br>Name: Kelly<br>Address: Kelly Memorial Playground\",\"public recycling bin<br>Name: Korean War Vet <br>Address: Cadman Plaza\",\"public recycling bin<br>Name: Manhattan Beach +BBQ<br>Address: Oriental Blvd\",\"public recycling bin<br>Name: Manhattan Beach +BBQ<br>Address: Oriental Blvd\",\"public recycling bin<br>Name: Marine Park <br>Address: Marine Park\",\"public recycling bin<br>Name: McCarren Park <br>Address: Bedford Ave \",\"public recycling bin<br>Name: McCarren Park <br>Address: Bedford Ave \",\"public recycling bin<br>Name: McCarren Park <br>Address: Bedford Ave \",\"public recycling bin<br>Name: McCarren Park <br>Address: Berry St\",\"public recycling bin<br>Name: McCarren Park <br>Address: Driggs Ave\",\"public recycling bin<br>Name: McCarren Park <br>Address: Driggs Ave & Lorimer St\",\"public recycling bin<br>Name: McCarren Park <br>Address: McCarren Park\",\"public recycling bin<br>Name: McCarren Park <br>Address: N 12 St\",\"public recycling bin<br>Name: McGorlick Park<br>Address: McGorlick Park\",\"public recycling bin<br>Name: Metropolitan Rec Ctr <br>Address: 261 Bedford Ave\",\"public recycling bin<br>Name: Metrotech<br>Address: Willoughby St & Bridge St\",\"public recycling bin<br>Name: Mt. Prospect plgd<br>Address: Mt. Prospect Park\",\"public recycling bin<br>Name: Myrtle Ave BID<br>Address: Myrtle Ave & Adelphi St\",\"public recycling bin<br>Name: Myrtle Ave BID<br>Address: Myrtle Ave & Ashland Pl\",\"public recycling bin<br>Name: Myrtle Ave BID<br>Address: Myrtle Ave & Clinton Ave\",\"public recycling bin<br>Name: Myrtle Ave BID<br>Address: Myrtle Ave & Hall St\",\"public recycling bin<br>Name: N. 5th St. pier<br>Address: N. 5th St. pier\",\"public recycling bin<br>Name: New Vision Garden<br>Address: 590-594 Schenck Avenue\",\"public recycling bin<br>Name: Owl's Head<br>Address: Owl's Head\",\"public recycling bin<br>Name: Palato plgd<br>Address: Manhattan Beach Park\",\"public recycling bin<br>Name: Park Slope<br>Address: 7 Ave & 6 St\",\"public recycling bin<br>Name: Park Slope Playground <br>Address: Berkeley Lincoln Playground \",\"public recycling bin<br>Name: Pierrepont Park<br>Address: Pierrepon St\",\"public recycling bin<br>Name: Prospect Park <br>Address: Ocean Ave\",\"public recycling bin<br>Name: Prospect Park <br>Address: Ocean Ave\",\"public recycling bin<br>Name: Prospect Park <br>Address: Prospect Park West\",\"public recycling bin<br>Name: Prospect Park <br>Address: Prospect Park West\",\"public recycling bin<br>Name: Red Gate Garden<br>Address: 604 Marcy Avenue\",\"public recycling bin<br>Name: Red Hook Park<br>Address: Red Hook Park\",\"public recycling bin<br>Name: Salt marsh<br>Address: 3301 Avenue U\",\"public recycling bin<br>Name: Shore Road Plgd<br>Address: Shore Rd Park\",\"public recycling bin<br>Name: South Oxport <br>Address: Oxport Playground\",\"public recycling bin<br>Name: Squibb Park<br>Address: Btwn Furman St & Columbia Heights\",\"public recycling bin<br>Name: St. John Cantius<br>Address: 476-484 New Jersey Avenue\",\"public recycling bin<br>Name: St. John's <br>Address: St. John's Park\",\"public recycling bin<br>Name: St. Nicholas-Olive Street Garden<br>Address: 21-25 Olive Street \",\"public recycling bin<br>Name: Starret City<br>Address: 1344 Pennsylvania Avenue\",\"public recycling bin<br>Name: Sternberg Park<br>Address: Boerum St\",\"public recycling bin<br>Name: Sternberg Park<br>Address: Lorimer St\",\"public recycling bin<br>Name: Sunset Park<br>Address: 5 Ave & 44 St\",\"public recycling bin<br>Name: Ten Eyck Houses<br>Address: 15-17 Ten Eyck Street\",\"public recycling bin<br>Name: Triple Relaxation, Reflection, Revenue (Victoria Garden)<br>Address: 613 Hendrix Street \",\"public recycling bin<br>Name: UCC Youth Farm-East New York Farms<br>Address: 613 Schenck Avenue \",\"public recycling bin<br>Name: Underhill Playground<br>Address: Underhill Ave & Prospect Pl\",\"public recycling bin<br>Name: Underwood Playground<br>Address: Underwood Park\",\"public recycling bin<br>Name: Upon the Rock<br>Address: 2556 Pitkin Avenue.\",\"public recycling bin<br>Name: Vernon (Throop Avenue Block Assoc.)<br>Address: 253 Throop Avenue\",\"public recycling bin<br>Name: Welcome Home<br>Address: 681 Halsey Street\",\"public recycling bin<br>Name: Dumbo Brooklyn Heights<br>Address: Front St & Jay St\",\"public recycling bin<br>Name: Dumbo Brooklyn Heights<br>Address: Front St & Main St\",\"public recycling bin<br>Name: Dumbo Brooklyn Heights<br>Address: Front St & Washington St\",\"public recycling bin<br>Name: FAB<br>Address: Fulton & Washington Ave \",\"public recycling bin<br>Name: FAB <br>Address: Fulton & Clinton Ave \",\"public recycling bin<br>Name: 1 Centre Street<br>Address: 1 Centre Street\",\"public recycling bin<br>Name: 100 Centre St<br>Address: 100 Centre St\",\"public recycling bin<br>Name: 100 Centre Street <br>Address: 100 Centre Street (South Entrance)\",\"public recycling bin<br>Name: 100 Gold Street<br>Address: 100 Gold Street\",\"public recycling bin<br>Name: 111 Centre St<br>Address: 111 Centre St\",\"public recycling bin<br>Name: 115 Chrystie St<br>Address: 115 Chrystie St (Outside Main Entrance)\",\"public recycling bin<br>Name: 125 St. BID<br>Address: 125 St & Lenox Ave\",\"public recycling bin<br>Name: 137 Centre Street <br>Address: 137 Centre St (Centre St & White St)\",\"public recycling bin<br>Name: 2 Lafayette St <br>Address: 2 Lafayette St (Lafayette St & Reade St)\",\"public recycling bin<br>Name: 22 Reade St<br>Address: 22 Reade St (Reade St & Elk St)\",\"public recycling bin<br>Name: 280 Broadway<br>Address: Broadway Btwn Reade St & Chambers St\",\"public recycling bin<br>Name: 346 Broadway<br>Address: 346 Broadway\",\"public recycling bin<br>Name: 34th St<br>Address: 34 St & 7 Ave\",\"public recycling bin<br>Name: 49-51 Chambers Street <br>Address: 49-51 Chambers Street (Outside Main Entrance)\",\"public recycling bin<br>Name: 60 Lafayette St<br>Address: 60 Lafayette St\",\"public recycling bin<br>Name: 60 Lafayette St<br>Address: 60 Lafayette St (Lafayette & Leonard)\",\"public recycling bin<br>Name: 6BC Botanical Garden<br>Address: 624-628 E. 6th Street \",\"public recycling bin<br>Name: 80 Centre St<br>Address: 80 Centre St\",\"public recycling bin<br>Name: 96th St Train Station<br>Address: 96 St & Lexington Ave\",\"public recycling bin<br>Name: 96th St Train Station<br>Address: 96 St & Lexington Ave\",\"public recycling bin<br>Name: Al Smith Rec Ctr<br>Address: 80 Catherine St\",\"public recycling bin<br>Name: Asser Levy Rec Ctr<br>Address: 384 Asser Levy Pl\",\"public recycling bin<br>Name: Battery Park - DSNY Partnership<br>Address: Battery Park \",\"public recycling bin<br>Name: Battery Park City<br>Address: Battery Park City\",\"public recycling bin<br>Name: Battery Park City<br>Address: Battery Park City\",\"public recycling bin<br>Name: Battery Park City<br>Address: Battery Park City\",\"public recycling bin<br>Name: Bayard St & Baxter St<br>Address: 100 Centre Street\",\"public recycling bin<br>Name: Bellevue South<br>Address: Mt. Carmel Pl Btwn E 26 St & E 28 St\",\"public recycling bin<br>Name: Bennett Park<br>Address: Bennett Park\",\"public recycling bin<br>Name: Bleecker St. Playground<br>Address: W 11 St Btwn Hudson St & Bleecker St\",\"public recycling bin<br>Name: Broadway & Murray St<br>Address: Outside Entrance\",\"public recycling bin<br>Name: Broadway & Park Place<br>Address: Outside Plaza Entrance\",\"public recycling bin<br>Name: Bryant Park<br>Address: Bryant Park\",\"public recycling bin<br>Name: Bryant Park - Bryant Park Corp.<br>Address: Bryant Park\",\"public recycling bin<br>Name: Carl Shurz<br>Address: Carl Shurz Park\",\"public recycling bin<br>Name: Carrie McCracken Garden/TRUCE<br>Address: 143-145 St. Nicholas Avenue \",\"public recycling bin<br>Name: Centre St & Chambers St<br>Address: 31 Chambers Street\",\"public recycling bin<br>Name: Chelsea Park<br>Address: Chelsea Park\",\"public recycling bin<br>Name: Chelsea Rec Center<br>Address: 430 W 25 St\",\"public recycling bin<br>Name: Chelsea Waterside Park Field<br>Address: Hudson River Park \",\"public recycling bin<br>Name: Chelsea Waterside Park Playground<br>Address: Hudson River Park \",\"public recycling bin<br>Name: City Hall Park <br>Address: City Hall Park \",\"public recycling bin<br>Name: City Hall Park <br>Address: City Hall Park \",\"public recycling bin<br>Name: City Hall Park <br>Address: City Hall Park \",\"public recycling bin<br>Name: City Hall Park <br>Address: City Hall Park \",\"public recycling bin<br>Name: Coleman Square Playground<br>Address: Coleman Square Playground\",\"public recycling bin<br>Name: Colonel Young<br>Address: Colonel Charles Young Playground\",\"public recycling bin<br>Name: Columbus Park - DSNY Partnership<br>Address: Columbus Park\",\"public recycling bin<br>Name: Courtyard West <br>Address: Hudson River Park \",\"public recycling bin<br>Name: Crack is Wack<br>Address: Harlem River Dr & 2 Ave \",\"public recycling bin<br>Name: Desalvio<br>Address: DeSalvio Playground\",\"public recycling bin<br>Name: DSNY Main Office -Worth St<br>Address: Centre Street\",\"public recycling bin<br>Name: DSNY Main Office -Worth St<br>Address: Lafayette Street\",\"public recycling bin<br>Name: Each One Teach One<br>Address: Lexington Ave & E 129 St\",\"public recycling bin<br>Name: East River Park- DSNY partnership<br>Address: East River Bikeway\",\"public recycling bin<br>Name: Fashion BID<br>Address: 57 St & Lexington Ave\",\"public recycling bin<br>Name: Fashion BID<br>Address: Broadway Btwn 39 St & 40 St\",\"public recycling bin<br>Name: Father Dumo Square<br>Address: Father Demo Square\",\"public recycling bin<br>Name: Foley Square - DSNY Partnership<br>Address: Foley Square, Duane St\",\"public recycling bin<br>Name: Foley Square - DSNY Partnership<br>Address: Foley Square, Worth St\",\"public recycling bin<br>Name: Fred Johnson<br>Address: 7 Ave Btwn 150 St & 151 St\",\"public recycling bin<br>Name: Grand Central<br>Address: 42 St & Lexington Ave\",\"public recycling bin<br>Name: Greenwich & Murray<br>Address: 270 Greenwich Street\",\"public recycling bin<br>Name: Hamilton Fish<br>Address: Hamilton Fish Park\",\"public recycling bin<br>Name: Hamilton Fish Recreation Center<br>Address: East River Bikeway\",\"public recycling bin<br>Name: Hamilton Fish Recreation Center<br>Address: East River Bikeway\",\"public recycling bin<br>Name: Hamilton Fish Recreation Center<br>Address: East River Bikeway\",\"public recycling bin<br>Name: Hamilton Fish Recreation Center<br>Address: East River Bikeway\",\"public recycling bin<br>Name: Hamilton Fish Recreation Center<br>Address: East River Bikeway\",\"public recycling bin<br>Name: Hamilton Fish Recreation Center<br>Address: East River Bikeway\",\"public recycling bin<br>Name: Hamilton Fish Recreation Center<br>Address: East River Bikeway\",\"public recycling bin<br>Name: Hamilton Fish Recreation Center<br>Address: East River Bikeway\",\"public recycling bin<br>Name: Hamilton Fish Recreation Center<br>Address: East River Bikeway\",\"public recycling bin<br>Name: Hamilton Fish Recreation Center<br>Address: East River Bikeway\",\"public recycling bin<br>Name: Hamilton Fish Recreation Center<br>Address: Pitt St\",\"public recycling bin<br>Name: Hansboro<br>Address: 35 W 134 St\",\"public recycling bin<br>Name: Harlem RBI \\u2013 Community Group<br>Address: 333 E 100 St\",\"public recycling bin<br>Name: Harlem River Ballfield<br>Address: Harlem River Park\",\"public recycling bin<br>Name: Harrison St Basketball Court<br>Address: Hudson River Park \",\"public recycling bin<br>Name: High Line Park<br>Address: High Line Park\",\"public recycling bin<br>Name: High Line Park<br>Address: High Line Park\",\"public recycling bin<br>Name: High Line Park<br>Address: Washington St & Gansevoort St\",\"public recycling bin<br>Name: Highbridge<br>Address: Washington Bridge\",\"public recycling bin<br>Name: Highline Entrance+Park<br>Address: W 20 St\",\"public recycling bin<br>Name: Hudson River Park<br>Address: 14 St Park\",\"public recycling bin<br>Name: Hudson River Park<br>Address: 60 Centre Street\",\"public recycling bin<br>Name: Hudson River Park<br>Address: Battery Park Entrance (State St & Water St)\",\"public recycling bin<br>Name: Hudson River Park<br>Address: Essex St & Delancy St\",\"public recycling bin<br>Name: Hudson River Park<br>Address: Hudson River Park\",\"public recycling bin<br>Name: Hudson River Park<br>Address: Pier 40 Courtyard & Tunel\",\"public recycling bin<br>Name: Hudson River Park<br>Address: Pier 51 Playground\",\"public recycling bin<br>Name: Hudson River Park<br>Address: Pier 62 Garden Area\",\"public recycling bin<br>Name: Hudson River Park<br>Address: Pier 62 Skate Park\",\"public recycling bin<br>Name: Hudson River Park<br>Address: Pier 66 Seating Area\",\"public recycling bin<br>Name: Hudson River Park<br>Address: Pier 84 (43 St Bike Shop)\",\"public recycling bin<br>Name: Hudson River Park<br>Address: Pier 95\",\"public recycling bin<br>Name: Hudson River Park<br>Address: Tennis Courts\",\"public recycling bin<br>Name: Hudson River Park<br>Address: White Hall Ferry Terminal (Indoor & Outdoor)\",\"public recycling bin<br>Name: Imagination Playground<br>Address: Imagination Playground\",\"public recycling bin<br>Name: Inwood Dyckman fields<br>Address: Inwood Hill Park\",\"public recycling bin<br>Name: Inwood Dyckman fields<br>Address: Inwood Hill Park\",\"public recycling bin<br>Name: Inwood Hill<br>Address: Inwood Hill Park\",\"public recycling bin<br>Name: Inwood Hill Nature Center<br>Address: 218 St & Indian Rd\",\"public recycling bin<br>Name: J. Hood Wright<br>Address: Jay Hood Wright Park\",\"public recycling bin<br>Name: J. Hood Wright<br>Address: Jay Hood Wright Park\",\"public recycling bin<br>Name: Jackie Robinson<br>Address: 89 Bradhurst Ave\",\"public recycling bin<br>Name: Jackson Square<br>Address: Jackson Square\",\"public recycling bin<br>Name: Jacob Javits Playground<br>Address: Fort Tyron Park\",\"public recycling bin<br>Name: Jacob Schiff<br>Address: Jacob Schiff Playground \",\"public recycling bin<br>Name: John Jay Park<br>Address: John Jay Park\",\"public recycling bin<br>Name: Life Spire (CRMD, Inc.)<br>Address: 2015 Lexington Avenue \",\"public recycling bin<br>Name: Lincoln Square<br>Address: Broadway & 63 St \",\"public recycling bin<br>Name: Lincoln Square<br>Address: Broadway & 66 St\",\"public recycling bin<br>Name: Maggie's Garden<br>Address: 1547 Lexington Ave\",\"public recycling bin<br>Name: McCaffry Plgd \\u2013 Parks<br>Address: W 43 St Btwn 8 & 9 Ave\",\"public recycling bin<br>Name: Mobilization for Change Community Garden<br>Address: 955 Columbus Avenue \",\"public recycling bin<br>Name: Morningside Park<br>Address: Morningside Ave\",\"public recycling bin<br>Name: Morningside Park<br>Address: Morningside Dr\",\"public recycling bin<br>Name: Morningside Park<br>Address: W 113 St\",\"public recycling bin<br>Name: Morningside Park<br>Address: W 116 St\",\"public recycling bin<br>Name: Morris Jumel Ecological Garden<br>Address: 455-457 W 162nd Street \",\"public recycling bin<br>Name: Museum of Natural History/Planitarium<br>Address: Central Park West\",\"public recycling bin<br>Name: Museum of Natural History/Planitarium<br>Address: W 78 St & Columbus Ave\",\"public recycling bin<br>Name: Museum of Natural History/Planitarium<br>Address: W 79 St & Columbus Ave\",\"public recycling bin<br>Name: Museum of Natural History/Planitarium<br>Address: W 81 St Loop\",\"public recycling bin<br>Name: Museum of Natural History/Planitarium<br>Address: W 81 St Loop\",\"public recycling bin<br>Name: Our Little Green Acres (Garden Eight)<br>Address: 275-277 W. 122nd St.\",\"public recycling bin<br>Name: Park Row & Beekman Street<br>Address: Outside Plaza  Entrance\",\"public recycling bin<br>Name: Parks Council Success Garden- P.S. 175 I.S. 275<br>Address: 116-122 West 134th Street \",\"public recycling bin<br>Name: Payson Playground<br>Address: Inwood Hill Park\",\"public recycling bin<br>Name: Pelham Fritz<br>Address: 18 Mount Morris Park\",\"public recycling bin<br>Name: Pier 25<br>Address: Pier 25 West End, Hudson River Park\",\"public recycling bin<br>Name: Pier 25 Mini Golf & Skate Park<br>Address: Hudson River Park \",\"public recycling bin<br>Name: Pier 25 Playground<br>Address: Pier 25 Playground West Gate, Hudson River Park\",\"public recycling bin<br>Name: Pier 40<br>Address: Pier 40 Courtyard & Tunnel, Hudson River Park\",\"public recycling bin<br>Name: Pier 40 Dog Run<br>Address: Pier 40, Hudson River Park\",\"public recycling bin<br>Name: Pier 40 Roof<br>Address: Pier 40, Hudson River Park\",\"public recycling bin<br>Name: Pier 45<br>Address: Hudson River Park \",\"public recycling bin<br>Name: Pier 57<br>Address: Hudson River Park \",\"public recycling bin<br>Name: Pier 84 (44 St Park Building)<br>Address: Hudson River Park \",\"public recycling bin<br>Name: Pleasant Village Community Garden<br>Address: 342-353 Pleasant Ave./502 E. 119th Street\",\"public recycling bin<br>Name: Promenade South<br>Address: Hudson River Park \",\"public recycling bin<br>Name: Rec Center  54<br>Address: E 54 St Btwn 1 Ave & 2 Ave\",\"public recycling bin<br>Name: Riverside Park- Plgd @ 83rd St.<br>Address: Riverside Park\",\"public recycling bin<br>Name: Rucker Park-parks<br>Address: 155 St & Frederick Douglass Blvd\",\"public recycling bin<br>Name: Sara D. Roosevelt<br>Address: Chrystie St\",\"public recycling bin<br>Name: Seward park<br>Address: Seward park\",\"public recycling bin<br>Name: Sixth St. & Ave. B<br>Address: 78-92 Avenue B\",\"public recycling bin<br>Name: Soho Parnership<br>Address: Broadway &  Prince St \",\"public recycling bin<br>Name: Soho Partnership<br>Address: Spring St & Lafayette St\",\"public recycling bin<br>Name: St. Catherine's <br>Address: St. Catherine's Park\",\"public recycling bin<br>Name: St. Nicholas<br>Address: 135 St & St. Nicholas Ave\",\"public recycling bin<br>Name: St. Vartan's <br>Address: St. Vartan's Park\",\"public recycling bin<br>Name: Stuyvesant- Parks<br>Address: East River Bikeway\",\"public recycling bin<br>Name: Thomas Jefferson<br>Address: Jefferson Park\",\"public recycling bin<br>Name: Thomas Payne<br>Address: Centre St & Worth St\",\"public recycling bin<br>Name: Thomas Payne<br>Address: Duane St & Centre St\",\"public recycling bin<br>Name: Thomas Payne<br>Address: Duane St & Lafayette St\",\"public recycling bin<br>Name: Thomas Payne<br>Address: Lafayette St & Worth St\",\"public recycling bin<br>Name: Times Square<br>Address: 42 St Btwn Broadway & 7 Ave\",\"public recycling bin<br>Name: Tompkins Square Park<br>Address: Avenue A & E 7 St\",\"public recycling bin<br>Name: Tompkins Square Park<br>Address: Avenue A & St. Mark's Pl\",\"public recycling bin<br>Name: Tompkins Square Park<br>Address: Avenue B & E 8 St\",\"public recycling bin<br>Name: Tony Dapolito<br>Address: 1 Clarkson St\",\"public recycling bin<br>Name: Tribeca Partnership<br>Address: Greenwich & North Moore\",\"public recycling bin<br>Name: Union Square <br>Address: Union Square Park\",\"public recycling bin<br>Name: Union Square <br>Address: Union Square Park\",\"public recycling bin<br>Name: Union Square <br>Address: Union Square Park\",\"public recycling bin<br>Name: Union Square <br>Address: Union Square Park\",\"public recycling bin<br>Name: Union Square <br>Address: Union Square Park\",\"public recycling bin<br>Name: Union Square <br>Address: Union Square Park\",\"public recycling bin<br>Name: Union Square <br>Address: Union Square Park\",\"public recycling bin<br>Name: Verdi Square<br>Address: Verdi Square\",\"public recycling bin<br>Name: Vesuvio Playground<br>Address: Thompson St\",\"public recycling bin<br>Name: Wall Street (South/Front)<br>Address: 107 Wall Street\",\"public recycling bin<br>Name: Wall Street (Water/Front)<br>Address: 100 Wall Street\",\"public recycling bin<br>Name: Warren & Greenwich<br>Address: 270 Greenwich Street\",\"public recycling bin<br>Name: Washington Market Playground<br>Address: Washington Market Park\",\"public recycling bin<br>Name: Washington Square Park<br>Address: Washington Square Park\",\"public recycling bin<br>Name: West 124th Street Community Garden<br>Address: West 124th Street and 5th Avenue \",\"public recycling bin<br>Name: West 4th St. Courts (PLGD)<br>Address: 6 Ave Btwn W 3 St & W 4 St\",\"public recycling bin<br>Name: West End Avenuw<br>Address: West End Ave & 86 St\",\"public recycling bin<br>Name: Whitehall Ferry Terminal<br>Address: State Street outside Whitehall Ferry Terminal \",\"public recycling bin<br>Name: A.R.R.O.W. Field house<br>Address: 35-30 35 St\",\"public recycling bin<br>Name: Abe Wolfson<br>Address: Abe Wolfson\",\"public recycling bin<br>Name: Addabo Park<br>Address: Addabo Park\",\"public recycling bin<br>Name: Al Oerter Rec Center <br>Address: 131-40 Fowler Ave\",\"public recycling bin<br>Name: Alley Pond Environmental<br>Address: 22806 Northern Blvd\",\"public recycling bin<br>Name: Alley Springfield, picnic and athletic<br>Address: Alley Pond Park\",\"public recycling bin<br>Name: Alley Springfield, picnic and athletic<br>Address: Alley Pond Park\",\"public recycling bin<br>Name: Alley Springfield, picnic and athletic<br>Address: Alley Pond Park\",\"public recycling bin<br>Name: Alley Springfield, picnic and athletic<br>Address: Alley Pond Park\",\"public recycling bin<br>Name: Alley Springfield, picnic and athletic<br>Address: Alley Pond Park\",\"public recycling bin<br>Name: Astoria Park<br>Address: Astoria Park S\",\"public recycling bin<br>Name: Austin E<br>Address: Ehrenreich-Austin Playground\",\"public recycling bin<br>Name: B.C.C.A. Mini-Park and Garden<br>Address: 150-14 115th Drive \",\"public recycling bin<br>Name: Baisley Pond Park<br>Address: 155 St & 118 Ave\",\"public recycling bin<br>Name: Baisley Pond Park<br>Address: 155 St & 125 Ave\",\"public recycling bin<br>Name: Baisley Pond Park<br>Address: Lakeview Blvd & 118 Ave\",\"public recycling bin<br>Name: Bland Playground<br>Address: Bland Playground\",\"public recycling bin<br>Name: Block Association #81<br>Address: Inwood Stree between Lakewood & Shore Aves\",\"public recycling bin<br>Name: Brookville Park<br>Address: 143 Ave\",\"public recycling bin<br>Name: Brookville Park<br>Address: 147 Ave\",\"public recycling bin<br>Name: Brookville Park<br>Address: 232 St\",\"public recycling bin<br>Name: Buzz O'Rourke Playground<br>Address: Crocheron Park\",\"public recycling bin<br>Name: Byrne Park<br>Address: 135 Ave btwn 131 St & 132 St\",\"public recycling bin<br>Name: Captain Tilly<br>Address: Captain Tilly Park\",\"public recycling bin<br>Name: Charybdis plgd<br>Address: Astoria Park\",\"public recycling bin<br>Name: Crocheron Park<br>Address: 33 Rd & 215 Pl\",\"public recycling bin<br>Name: Culinary Kids<br>Address: 30-15 Seagirt Blvd. @ Beach 31st Street\",\"public recycling bin<br>Name: Cunningham Ballfields<br>Address: Cunningham Park\",\"public recycling bin<br>Name: Cunningham Ballfields<br>Address: Cunningham Park\",\"public recycling bin<br>Name: Cunningham Picnic<br>Address: Cunningham Park\",\"public recycling bin<br>Name: Cunningham Soccer<br>Address: Cunningham Park\",\"public recycling bin<br>Name: Cunningham tennis courts<br>Address: Cunningham Park\",\"public recycling bin<br>Name: Cunningham tennis courts<br>Address: Cunningham Park\",\"public recycling bin<br>Name: Detective Keith Williams<br>Address: Detective Keith Williams Park\",\"public recycling bin<br>Name: Elmhurst Park<br>Address: Elmhurst Park\",\"public recycling bin<br>Name: Flushing Meadows Corona Park<br>Address: Amphitheater Bridge\",\"public recycling bin<br>Name: Flushing Meadows Corona Park<br>Address: Baseball Field 13\",\"public recycling bin<br>Name: Flushing Meadows Corona Park<br>Address: Dinosaur Playground\",\"public recycling bin<br>Name: Flushing Meadows Corona Park<br>Address: Field 2, Avenue of Commerce\",\"public recycling bin<br>Name: Flushing Meadows Corona Park<br>Address: Meadow Lake Trail E\",\"public recycling bin<br>Name: Flushing Meadows Corona Park<br>Address: Meadow Lake Trail W\",\"public recycling bin<br>Name: Flushing Meadows Corona Park<br>Address: Unisphere\",\"public recycling bin<br>Name: Flushing Meadows Corona Park<br>Address: United Nations Ave S\",\"public recycling bin<br>Name: Flushing Meadows Pool<br>Address: Avery Ave & 131 St\",\"public recycling bin<br>Name: Forest Park<br>Address: Bandshell\",\"public recycling bin<br>Name: Forest Park<br>Address: Dog Run\",\"public recycling bin<br>Name: Forest Park<br>Address: Myrtle Ave & Park Lane S\",\"public recycling bin<br>Name: Forest Park<br>Address: Tennis Courts\",\"public recycling bin<br>Name: Forest Park<br>Address: Victory Field Baseball\",\"public recycling bin<br>Name: Forest Park<br>Address: Victory Field Soccer & Running Track\",\"public recycling bin<br>Name: Forest Park<br>Address: Woodhaven Blvd & Park Lane S\",\"public recycling bin<br>Name: Fort Totten<br>Address: North Loop\",\"public recycling bin<br>Name: Fort Totten<br>Address: Story Rd\",\"public recycling bin<br>Name: Fort Totten<br>Address: Weaver Rd & Totten Ave\",\"public recycling bin<br>Name: George Eagle Carr Community Garden<br>Address: 148th Street \",\"public recycling bin<br>Name: Glendale Playground<br>Address: Glendale Playground\",\"public recycling bin<br>Name: Greenthumb compound<br>Address: 10 St & Queens Plaza S\",\"public recycling bin<br>Name: Grover Cleveland<br>Address: Cleveland Park\",\"public recycling bin<br>Name: Grover Cleveland<br>Address: Cleveland Park\",\"public recycling bin<br>Name: Hoffman Park<br>Address: Hoffman Park\",\"public recycling bin<br>Name: Hoffman Park<br>Address: Hoffman Park\",\"public recycling bin<br>Name: Hoffman Park<br>Address: Hoffman Park\",\"public recycling bin<br>Name: Hoffman Park<br>Address: Hoffman Park\",\"public recycling bin<br>Name: Hoffman Park<br>Address: Hoffman Park\",\"public recycling bin<br>Name: Hoffman Park<br>Address: Hoffman Park\",\"public recycling bin<br>Name: Juniper Valley Park<br>Address: Juniper Valley Park\",\"public recycling bin<br>Name: Juniper Valley Park<br>Address: Juniper Valley Park\",\"public recycling bin<br>Name: Juniper Valley Park<br>Address: Juniper Valley Park\",\"public recycling bin<br>Name: Juniper Valley Park<br>Address: Juniper Valley Park\",\"public recycling bin<br>Name: Kissena Park<br>Address: Booth Memorial Ave \",\"public recycling bin<br>Name: Kissena Park<br>Address: Booth Memorial Ave \",\"public recycling bin<br>Name: Kissena Park<br>Address: Kissena Velodrome\",\"public recycling bin<br>Name: Kissena Park<br>Address: Lithonia Ave \",\"public recycling bin<br>Name: Kissena Park<br>Address: Rose Ave\",\"public recycling bin<br>Name: LBH Rec Center<br>Address: 93-29 Queens Blvd\",\"public recycling bin<br>Name: Marie Curie Playground<br>Address: Marie Curie Park\",\"public recycling bin<br>Name: McDonald Park<br>Address: McDonald Park\",\"public recycling bin<br>Name: McDonald Park<br>Address: McDonald Park\",\"public recycling bin<br>Name: McDonald Park<br>Address: McDonald Park\",\"public recycling bin<br>Name: Parks Academy<br>Address: Flushing Meadows Corona Park\",\"public recycling bin<br>Name: Passerelle - Aquatics<br>Address: Flushing Meadows Corona Park\",\"public recycling bin<br>Name: Phil Rizzuto Park <br>Address: Phil Rizzuto Park \",\"public recycling bin<br>Name: Playground for All Children<br>Address: Flushing Meadows Corona Park\",\"public recycling bin<br>Name: Pomonok Playground<br>Address: Pomonok Playground\",\"public recycling bin<br>Name: Queens Hall of Science<br>Address: 47-01 111 St\",\"public recycling bin<br>Name: Queens Museum<br>Address: New York City Building, Flushing Meadows Corona Park\",\"public recycling bin<br>Name: Queens Theatre<br>Address: 14 United Nations Ave S\",\"public recycling bin<br>Name: Queens Zoo<br>Address: 53-51 111 St\",\"public recycling bin<br>Name: Rainey park<br>Address: Rainey Park\",\"public recycling bin<br>Name: Rockaway Beach <br>Address: B 100 St Boardwalk\",\"public recycling bin<br>Name: Rockaway Beach <br>Address: B 102 St Boardwalk\",\"public recycling bin<br>Name: Rockaway Beach <br>Address: B 105 St Boardwalk\",\"public recycling bin<br>Name: Rockaway Beach <br>Address: B 81 St Boardwalk\",\"public recycling bin<br>Name: Rockaway Beach <br>Address: B 90 St Boardwalk\",\"public recycling bin<br>Name: Rockaway Beach <br>Address: B 91 St Boardwalk\",\"public recycling bin<br>Name: Rockaway Beach <br>Address: B 95 St Boardwalk\",\"public recycling bin<br>Name: Rockaway Beach <br>Address: B 97 St Boardwalk\",\"public recycling bin<br>Name: Rockaway Beach <br>Address: B 99 St Boardwalk\",\"public recycling bin<br>Name: Rockaway Beach <br>Address: Bayside Pl Boardwalk\",\"public recycling bin<br>Name: Rocket Park <br>Address: Rocket Park \",\"public recycling bin<br>Name: Roy Wilkens<br>Address: 115 Ave & 175 St\",\"public recycling bin<br>Name: Roy Wilkens<br>Address: Baisley Blvd\",\"public recycling bin<br>Name: Roy Wilkens<br>Address: Roy Wilkens \",\"public recycling bin<br>Name: Socrates Park<br>Address: Socrates Park\",\"public recycling bin<br>Name: Sorrentino <br>Address: 1848 Cornaga Ave\",\"public recycling bin<br>Name: Southern Fields <br>Address: Southern Pkwy\",\"public recycling bin<br>Name: Southern Fields <br>Address: Southern Pkwy\",\"public recycling bin<br>Name: St. Michaels<br>Address: St. Michael's Playground\",\"public recycling bin<br>Name: Steinway St<br>Address: BW 34 St & Broadway\",\"public recycling bin<br>Name: Sunnyside Garden Park<br>Address: Sunnyside Garden Park\",\"public recycling bin<br>Name: Sunnyside Garden Park<br>Address: Sunnyside Garden Park\",\"public recycling bin<br>Name: Sunnyside Garden Park<br>Address: Sunnyside Garden Park\",\"public recycling bin<br>Name: Travers Park<br>Address: Travers Park\",\"public recycling bin<br>Name: Underhill<br>Address: Cunningham Park\",\"public recycling bin<br>Name: William Simmons Community Garden Club<br>Address: 173 St\",\"public recycling bin<br>Name: World ice rink<br>Address: Flushing Meadows Corona Park\",\"public recycling bin<br>Name: 150 St<br>Address: New Dorp Lane & S Railroad Ave\",\"public recycling bin<br>Name: Berry Homes ballfield<br>Address: Gen. Douglas Macarthur Park, Dongan Hills Ave\",\"public recycling bin<br>Name: Berry Homes ballfield<br>Address: Gen. Douglas Macarthur Park, Dongan Hills Ave\",\"public recycling bin<br>Name: Bloomingdale Playgound<br>Address: Bloomingdale Park \",\"public recycling bin<br>Name: Bloomingdale Playgound<br>Address: Bloomingdale Park \",\"public recycling bin<br>Name: Bloomingdale Playgound<br>Address: Bloomingdale Park, Lenevar Ave & Ramona Ave\",\"public recycling bin<br>Name: Bloomingdale Playgound<br>Address: Bloomingdale Park, Richmond Pkwy & Lenevar Ave\",\"public recycling bin<br>Name: Cedar Grove Beach<br>Address: Cedar Grove Beach\",\"public recycling bin<br>Name: Cedar Grove Beach<br>Address: Cedar Grove Beach\",\"public recycling bin<br>Name: Clove lake garage complex<br>Address: Clove Lake Park\",\"public recycling bin<br>Name: Clove lake garage complex<br>Address: Clove Lake Park\",\"public recycling bin<br>Name: Cloves Lake<br>Address: Clove Lake Park\",\"public recycling bin<br>Name: Corporal Thompson Playground<br>Address: CPL Thompson Park\",\"public recycling bin<br>Name: DeMatti Playground<br>Address: Thompkins Ave Btwn Chestnut Ave & Shaughnessy Ln\",\"public recycling bin<br>Name: Faber Pool<br>Address: Faber Pool and Park\",\"public recycling bin<br>Name: Graniteville<br>Address: Jennifer's Playground\",\"public recycling bin<br>Name: Greenbelt Nature Center<br>Address: 700 Rockland Ave\",\"public recycling bin<br>Name: Greenbelt Park <br>Address: Greenbelt Park \",\"public recycling bin<br>Name: Greenbelt Rec Ctr<br>Address: 501 Brielle Ave\",\"public recycling bin<br>Name: John M. D'Amato Field<br>Address: Miller Field\",\"public recycling bin<br>Name: Lyons Pool<br>Address: Tompkinsville Play Center\",\"public recycling bin<br>Name: MacArthur Park<br>Address: MacArthur Park\",\"public recycling bin<br>Name: Mahony Playground<br>Address: Crescent Ave Btwn Jersey St & Beechwood Ave\",\"public recycling bin<br>Name: Midland Beach<br>Address: Midland Field, Bedford Ave \",\"public recycling bin<br>Name: Midland Beach<br>Address: Midland Playground\",\"public recycling bin<br>Name: Prall Playground<br>Address: Forest Ave & Elizabeth St\",\"public recycling bin<br>Name: Silver Lake Dog Run<br>Address: Silver Lake Park\",\"public recycling bin<br>Name: Silver Lake Tennis<br>Address: Silver Lake Park\",\"public recycling bin<br>Name: South Beach<br>Address: South Beach\",\"public recycling bin<br>Name: Staten Island Ferry Terminal<br>Address: Hyatt Ave\",\"public recycling bin<br>Name: Staten Island Ferry Terminal<br>Address: Richmond Terrace\",\"public recycling bin<br>Name: Staten Island Ferry Terminal<br>Address: Richmond Terrace\",\"public recycling bin<br>Name: Tottenville Pool<br>Address: Hylan Blvd\",\"public recycling bin<br>Name: Walker Park<br>Address: Davis Ave & Livingston Ct\",\"public recycling bin<br>Name: Walker Park<br>Address: Delafield Pl & Bard Ave\",\"public recycling bin<br>Name: Walker Park<br>Address: Delafield Pl & Davis Ave\",\"public recycling bin<br>Name: Walker Park<br>Address: Livingston Ct & bard Ave \",\"public recycling bin<br>Name: West Brighton Pool<br>Address: 899 Henderson Ave \",\"public recycling bin<br>Name: Willowbrook Park<br>Address: Willowbrook Park\",\"public recycling bin<br>Name: Willowbrook Park<br>Address: Willowbrook Park\",\"public recycling bin<br>Name: Wolfe's Pond<br>Address: Wolfe's Pond\",\"public recycling bin<br>Name: Wolfe's Pond<br>Address: Wolfe's Pond\"],\"lat\":[40.844772,40.8269197,40.8326398,40.8312021,40.833022,40.8641072,40.8745635,40.839961,40.820403,40.818032,40.82127,40.846452,40.8534,40.80766,40.81622,40.82805,40.81844,40.862707,40.86115,40.87094,40.80948,40.881233,40.82135,40.829353,40.648502,40.6722226,40.673815,40.6937566,40.680852,40.6408302,40.69132,40.6726424,40.720471,40.725018,40.633663,40.66809,40.66496,40.65507,40.683282,40.678196,40.650381,40.697523,40.644516,40.680355,40.676782,40.6929796,40.678708,40.753588,40.79667,40.761706,40.8461084,40.7819529,40.7742982,40.7941768,40.7375462,40.704594,40.8067454,40.76911,40.7810344,40.8421716,40.8690103,40.7891821,40.7260554,40.7736069,40.737098,40.7670054,40.8051411,40.81428,40.808388,40.721086,40.857341,40.729165,40.824415,40.6894501,40.6894506,40.749509,40.755588,40.835828,40.731506,40.790645,40.800146,40.7162918,40.800867,40.7984,40.82099,40.798786,40.82404,40.83404,40.78579,40.86532,40.85295,40.7529921,40.742827,40.7489842,40.756032,40.7202214,40.7298117,40.738228,40.7634686,40.725357,40.7452994,40.733512,40.7140565,40.7159955,40.7255273,40.71102,40.724479,40.732811,40.724502,40.7231069,40.833952,40.728081,40.804574,40.799721,40.721531,40.794912,40.811641,40.748406,40.7427437,40.774513,40.767066,40.7222304,40.7532152,40.7584821,40.7769984,40.7675822,40.7468806,40.595401,40.7562501,40.7497177,40.74983,40.7295998,40.7373468,40.75197,40.752149,40.768942,40.591961,40.754084,40.7096804,40.7132717,40.738397,40.717411,40.641672,40.6415864,40.5834232,40.630312,40.8306088,40.860358,40.8114884,40.845553,40.8608912,40.8219403,40.8518616,40.8677019,40.8810804,40.816877,40.7180048,40.6855509,40.592733,40.6863101,40.6362001,40.7326092,40.651344,40.6098192,40.6838452,40.5936458,40.6467058,40.6295254,40.6118064,40.5990083,40.5908736,40.6741737,40.6539242,40.7226339,40.6166088,40.681119,40.6887457,40.678631,40.7326047,40.743678,40.738365,40.8056313,40.794759,40.762665,40.7798872,40.7700779,40.7344091,40.7544351,40.7423606,40.725747,40.8083328,40.7539257,40.7495369,40.7478754,40.7848159,40.7331767,40.7604408,40.852244,40.7519146,40.7530426,40.7430749,40.7354498,40.7407266,40.7509006,40.7311383,40.7604799,40.732951,40.7444737,40.778473,40.7793,40.783755,40.812497,40.7382752,40.801328,40.848289,40.70127,40.7566145,40.746743,40.7575281,40.7534523,40.7353074,40.6897907,40.720443,40.7821272,40.7590732,40.7702468,40.7538623,40.7411879,40.7158271,40.7333304,40.7116062,40.6989379,40.748528,40.7415286,40.7581531,40.5769947,40.623861,40.5838147,40.5742785,40.80306136,40.73565554,40.70990701,40.77100135,40.57012962,40.795386,40.7862449,40.89084899,40.84889079,40.85557,40.871864,40.851889,40.861526,40.860755,40.859644,40.862602,40.826939,40.826627,40.854322,40.854445,40.850017,40.84976,40.819933,40.871706,40.911295,40.911236,40.825217,40.840115,40.835226,40.84133,40.840876,40.838351,40.841123,40.83377,40.841444,40.875553,40.833109,40.85042,40.849292,40.822893,40.813663,40.82201,40.862402,40.861948,40.861379,40.861267,40.869996,40.847026,40.816171,40.814213,40.817471,40.81484,40.858005,40.829632,40.827502,40.877667,40.835694,40.82297053,40.8229924,40.834258,40.831466,40.84155572,40.822711,40.889428,40.836706,40.90208,40.884079,40.866292,40.867984,40.868802,40.869068,40.872275,40.840504,40.840626,40.82366,40.838797,40.851723,40.849069,40.850274,40.841884,40.842795,40.903281,40.861953,40.873199,40.883881,40.885219,40.888353,40.865657,40.906878,40.819113,40.819274,40.817335,40.816505,40.835694,40.886538,40.887313,40.866089,40.865469,40.864779,40.811712,40.811588,40.80531601,40.887317,40.888933,40.888224,40.890172,40.888255,40.889096,40.833505,40.82057088,40.860641,40.828933,40.844147,40.895803,40.677973,40.57519,40.575239,40.629573,40.596833,40.68463,40.696536,40.673811,40.656762,40.722315,40.697327,40.695873,40.680946,40.681307,40.679442,40.68829,40.694143,40.697793,40.685861,40.610033,40.65021,40.687093,40.682556,40.687072,40.687208,40.689818,40.613322,40.67073271,40.672659,40.66101,40.700784,40.674221,40.67269,40.673262,40.578225,40.603519,40.695719,40.577672,40.577211,40.604085,40.721612,40.721535,40.72173,40.721933,40.720622,40.721653,40.719973,40.721075,40.724446,40.715086,40.692165,40.67207,40.693222,40.693473,40.693127,40.693456,40.720628,40.6659,40.639285,40.577492,40.668797,40.676639,40.696389,40.660478,40.655183,40.664608,40.66132,40.693761,40.677265,40.604374,40.617506,40.697746,40.701079,40.667491,40.673754,40.713316,40.650143,40.705616,40.706315,40.648468,40.709648,40.666548,40.665324,40.676766,40.688204,40.674329,40.695221,40.684658,40.70238,40.702631,40.702573,40.68293,40.683557,40.712187,40.715827,40.715923,40.71045,40.716396,40.718605,40.807945,40.716941,40.713608,40.714023,40.714399,40.716827,40.750901,40.71368,40.716458,40.716158,40.723831,40.715387,40.785787,40.785717,40.710412,40.736271,40.704592,40.711576,40.705075,40.711565,40.716092,40.739982,40.852856,40.736401,40.712939,40.71248,40.754391,40.753954,40.77453,40.804559,40.712796,40.749849,40.748355,40.749349,40.749318,40.711834,40.712806,40.712897,40.712517,40.710746,40.819645,40.71475,40.732377,40.804284,40.721757,40.71511,40.715356,40.807191,40.716205,40.760842,40.753938,40.730225,40.714357,40.715167,40.824847,40.751692,40.715109,40.719937,40.716618,40.717499,40.718372,40.718888,40.719832,40.721303,40.722911,40.723896,40.724113,40.725238,40.720057,40.812748,40.78613,40.806036,40.718742,40.74085,40.743298,40.739465,40.847983,40.746041,40.742795,40.714666,40.702411,40.70235,40.731457,40.728833,40.738145,40.748684,40.748507,40.751987,40.762839,40.770381,40.727097,40.701307,40.706124,40.87126,40.872594,40.867338,40.87303,40.84637,40.84696,40.824297,40.738952,40.859226,40.820071,40.769445,40.802588,40.771372,40.773715,40.828677,40.758977,40.799707,40.80413,40.801921,40.803133,40.805621,40.835708,40.780558,40.781265,40.781936,40.782175,40.782666,40.808183,40.711826,40.814478,40.867205,40.805463,40.720478,40.720176,40.719714,40.72917,40.73038,40.728828,40.732971,40.74341,40.763247,40.796609,40.707656,40.756564,40.787059,40.829744,40.721035,40.714603,40.724254,40.724319,40.72227,40.76512,40.817272,40.744858,40.73277,40.793412,40.715059,40.714045,40.714224,40.715355,40.755914,40.72603,40.726599,40.725698,40.729474,40.719979,40.735243,40.735219,40.735292,40.737023,40.736535,40.736122,40.73534,40.77878,40.72534,40.704695,40.704919,40.715575,40.717298,40.729689,40.806938,40.731315,40.788757,40.702335,40.755803,40.728344,40.673137,40.751418,40.76269,40.740063,40.739523,40.739295,40.738986,40.739758,40.776788,40.715851,40.683453,40.681366,40.675268,40.682418,40.758381,40.690594,40.66346,40.657674,40.661051,40.770753,40.667505,40.712529,40.779897,40.77208,40.595548,40.736722,40.73523,40.730966,40.73836,40.730117,40.729499,40.701915,40.730193,40.740388,40.728112,40.735169,40.749151,40.737039,40.7333,40.746639,40.744249,40.751882,40.698413,40.69664,40.701272,40.69747,40.702293,40.701854,40.69799,40.794781,40.792085,40.792357,40.692406,40.704591,40.753635,40.710069,40.71031,40.733135,40.733143,40.733068,40.732938,40.732701,40.733203,40.720689,40.720412,40.719988,40.719841,40.742502,40.742364,40.744148,40.749228,40.747887,40.732226,40.757266,40.721815,40.722012,40.72248,40.751632,40.750333,40.694407,40.740883,40.736171,40.747127,40.745794,40.744152,40.743599,40.765644,40.582137,40.5814,40.580754,40.585826,40.5844,40.58415,40.583412,40.582825,40.582479,40.585105,40.670613,40.691011,40.685918,40.688249,40.768029,40.602281,40.665379,40.665627,40.758219,40.758155,40.749844,40.749547,40.749687,40.754243,40.741628,40.701651,40.751914,40.574036,40.587445,40.586439,40.533819,40.535174,40.53514,40.531521,40.557382,40.560272,40.620135,40.618744,40.613891,40.637872,40.614615,40.640999,40.62005569,40.588496,40.584516,40.593686,40.564469,40.637596,40.585877,40.643368,40.57669,40.575019,40.628859,40.627186,40.628358,40.579313,40.642303,40.642709,40.642324,40.505646,40.642843,40.643799,40.643449,40.643343,40.637121,40.603832,40.603828,40.517368,40.518652],\"lon\":[-73.887226,-73.9225039,-73.9187735,-73.9004133,-73.8627284,-73.8950656,-73.8916183,-73.916663,-73.895686,-73.888644,-73.91537,-73.894096,-73.9077,-73.9193,-73.9176,-73.9257,-73.9272,-73.901042,-73.8908,-73.883947,-73.918294,-73.887583,-73.924049,-73.903424,-73.976416,-74.0109856,-73.9949411,-73.9904735,-73.9955995,-73.9652999,-73.9735,-73.9704304,-73.952713,-73.94472,-73.885955,-73.865533,-73.886675,-73.96169,-73.935667,-73.967427,-73.963432,-73.913913,-73.920387,-73.882995,-73.932943,-73.9081621,-73.911357,-73.983233,-73.931728,-73.950244,-73.9381243,-73.9754869,-73.9512624,-73.9684124,-74.0048128,-74.0142515,-73.9649594,-73.98855,-73.9463184,-73.942289,-73.9203259,-73.9527316,-73.9835429,-73.9815795,-73.9903523,-73.9578326,-73.9391249,-73.942834,-73.943251,-73.991718,-73.922111,-73.983435,-73.94918,-74.016792,-74.0167913,-73.998096,-73.999721,-73.938621,-73.983427,-73.97599,-73.94233,-74.0109403,-73.958284,-73.9526,-73.9543,-73.941698,-73.9446,-73.9452,-73.9508,-73.928,-73.9376,-73.9698797,-74.0078384,-74.0071142,-74.006046,-74.0128434,-74.0110087,-74.0104549,-74.0002584,-73.978278,-73.9984832,-74.002956,-73.9902176,-73.986664,-74.0040577,-73.97905,-73.979718,-74.000091,-73.97874,-73.988458,-73.941736,-73.979214,-73.955533,-73.962101,-73.982075,-73.943148,-73.950521,-73.721002,-73.9541298,-73.912463,-73.921406,-73.8467632,-73.8896812,-73.9186052,-73.9096802,-73.9359557,-73.9208078,-73.776541,-73.8258451,-73.8626075,-73.896438,-73.8616452,-73.877195,-73.830325,-73.925454,-73.929913,-73.788284,-73.94267,-73.8190304,-73.8299268,-73.877742,-73.857513,-74.101624,-74.0779094,-74.1629698,-74.115754,-73.891455,-73.9030775,-73.9257636,-73.901079,-73.8913166,-73.9301166,-73.8674386,-73.8286649,-73.9023443,-73.918804,-73.9575848,-73.960619,-73.940786,-73.9838984,-74.0260663,-73.9549618,-73.873167,-73.9216133,-73.9754325,-73.9989895,-73.9578905,-73.928339,-73.9630824,-73.9852812,-73.9503307,-73.9868727,-73.8732584,-73.9393371,-74.0300263,-73.956988,-73.9842131,-73.987452,-73.9903344,-73.999235,-73.9824462,-73.9413695,-73.972784,-73.995377,-73.9557037,-73.981592,-73.9904346,-73.9796913,-73.9923849,-73.9959279,-73.945866,-73.9854091,-73.988499,-73.9837462,-73.9788032,-73.9995147,-73.9710375,-73.934254,-73.9825561,-73.9924445,-73.9765721,-73.9915753,-73.9948313,-73.973911,-73.9923455,-73.98709,-73.998643,-73.9921732,-73.980571,-73.950294,-73.979007,-73.938164,-73.9822849,-73.937068,-73.931997,-73.805563,-73.9212251,-73.9026954,-73.8356912,-73.9121271,-73.8747611,-73.841335,-73.844168,-73.8347154,-73.772986,-73.9179077,-73.9089981,-73.9070126,-73.9018412,-73.8635717,-73.8581226,-73.8150529,-73.873001,-73.9337864,-73.919959,-74.1674401,-74.1391954,-74.0962032,-74.1694432,-73.87485887,-73.94613805,-73.99232338,-73.84714946,-74.19481927,-73.9310222,-73.978733,-73.86422392,-73.87712839,-73.887565,-73.805549,-73.868549,-73.880659,-73.880423,-73.880472,-73.880171,-73.922314,-73.922447,-73.869764,-73.869863,-73.880035,-73.880055,-73.887069,-73.872741,-73.907652,-73.90791,-73.88546,-73.895513,-73.895652,-73.892702,-73.898206,-73.893566,-73.898056,-73.877453,-73.888487,-73.860526,-73.828285,-73.915529,-73.902175,-73.91266,-73.905898,-73.914009,-73.897174,-73.893726,-73.881414,-73.89014,-73.876238,-73.882534,-73.917594,-73.885886,-73.882622,-73.90691,-73.90485,-73.921933,-73.923062,-73.90062,-73.925664,-73.91288322,-73.93189254,-73.923392,-73.923947,-73.87752267,-73.890242,-73.864356,-73.872355,-73.868519,-73.866996,-73.794774,-73.793396,-73.792261,-73.792558,-73.797323,-73.842668,-73.843231,-73.850766,-73.845791,-73.824697,-73.822954,-73.88992,-73.876389,-73.877694,-73.903612,-73.890736,-73.87052,-73.881691,-73.840474,-73.840908,-73.850613,-73.904143,-73.878003,-73.870418,-73.870322,-73.872564,-73.888776,-73.898453,-73.916308,-73.896967,-73.898571,-73.899257,-73.914339,-73.914342,-73.91533212,-73.899006,-73.898324,-73.896655,-73.896375,-73.897777,-73.892278,-73.86232,-73.91403138,-73.871488,-73.869326,-73.918886,-73.87943,-73.928171,-73.971342,-73.971889,-74.022532,-73.9994,-73.990234,-73.990675,-73.943717,-73.90247,-73.961527,-73.990337,-73.990218,-73.995481,-73.995212,-73.876233,-73.996136,-73.989791,-73.978653,-73.972638,-73.96952,-73.958798,-73.976238,-73.961975,-73.976557,-73.974621,-73.9732,-74.030067,-73.87967557,-73.885742,-73.895627,-73.995146,-73.888573,-73.984796,-73.984332,-73.994834,-73.957375,-73.990256,-73.944616,-73.946587,-73.930703,-73.953668,-73.954114,-73.953298,-73.955283,-73.952488,-73.950305,-73.952215,-73.955512,-73.943326,-73.960546,-73.985247,-73.96598,-73.971887,-73.979168,-73.96879,-73.965908,-73.965524,-73.887172,-74.031909,-73.946325,-73.980144,-73.978903,-73.99734,-73.963187,-73.962214,-73.976666,-73.979593,-73.948972,-74.008353,-73.930741,-74.040033,-73.976199,-73.995307,-73.89384,-73.934855,-73.938974,-73.884372,-73.947172,-73.948025,-74.006771,-73.950166,-73.887691,-73.886769,-73.965902,-73.966559,-73.877867,-73.943264,-73.925222,-73.986553,-73.990641,-73.989752,-73.964596,-73.966797,-74.005701,-74.000488,-74.001448,-74.003755,-74.001359,-73.993763,-73.945623,-74.000816,-74.003619,-74.004472,-74.006131,-74.004185,-73.990843,-74.005513,-74.002467,-74.002555,-73.980677,-74.001773,-73.951092,-73.950922,-73.996979,-73.975508,-74.016957,-74.016051,-74.017115,-74.015853,-74.000134,-73.978053,-73.938098,-74.005572,-74.007262,-74.007642,-73.983402,-73.984092,-73.943837,-73.952985,-74.004816,-74.000856,-74.002007,-74.007351,-74.006981,-74.007124,-74.004808,-74.007269,-74.007573,-73.993819,-73.936417,-74.000096,-74.010735,-73.931744,-73.996052,-74.002359,-74.002985,-73.934751,-73.975494,-73.969307,-73.986947,-74.002246,-74.003085,-74.002599,-73.935623,-73.975975,-74.011382,-73.981432,-73.975256,-73.974858,-73.974674,-73.974598,-73.974488,-73.974323,-73.973828,-73.973184,-73.973016,-73.972364,-73.981636,-73.939317,-73.943294,-73.934206,-74.013092,-74.008056,-74.007034,-74.008162,-73.929251,-74.006109,-74.008033,-74.002176,-74.012879,-74.014393,-74.010973,-74.011899,-74.010417,-74.008825,-74.009283,-74.008443,-74.001011,-73.995824,-74.011512,-74.011998,-74.004217,-73.930765,-73.930199,-73.929011,-73.918427,-73.940825,-73.940028,-73.942288,-74.002882,-73.934552,-73.952107,-73.949898,-73.938468,-73.982072,-73.981957,-73.948059,-73.991396,-73.962203,-73.958298,-73.960854,-73.958336,-73.958455,-73.939122,-73.972924,-73.975927,-73.97542,-73.972256,-73.973215,-73.95205,-74.007142,-73.943498,-73.929121,-73.946284,-74.016223,-74.013949,-74.012943,-74.011317,-74.011005,-74.011903,-74.010875,-74.009,-74.000042,-73.931602,-74.015976,-73.965043,-73.982257,-73.936431,-73.991596,-73.990111,-73.982088,-73.997828,-73.997287,-73.958509,-73.948248,-73.973764,-73.97406,-73.937115,-74.002355,-74.003135,-74.003285,-74.002982,-73.986712,-73.983353,-73.982985,-73.980843,-74.005489,-74.010272,-73.991012,-73.991603,-73.991614,-73.990324,-73.989754,-73.98963,-73.990127,-73.981788,-74.002324,-74.006729,-74.007084,-74.011301,-74.011001,-73.99662,-73.945301,-74.000988,-73.977788,-74.014384,-73.92631,-73.815159,-73.85461,-73.833843,-73.753297,-73.734291,-73.734881,-73.735873,-73.737665,-73.73546,-73.92753,-73.836995,-73.79213,-73.787854,-73.786905,-73.785392,-73.831008,-73.803822,-73.741329,-73.748388,-73.746639,-73.77174,-73.807496,-73.799377,-73.922391,-73.769438,-73.762266,-73.770538,-73.772083,-73.772458,-73.764991,-73.7727,-73.772888,-73.783477,-73.885302,-73.841879,-73.835592,-73.843435,-73.840066,-73.837856,-73.841976,-73.844583,-73.844068,-73.837459,-73.857672,-73.860344,-73.841922,-73.856664,-73.854765,-73.853145,-73.853295,-73.779207,-73.774357,-73.777013,-73.794745,-73.881944,-73.947615,-73.911456,-73.911063,-73.871233,-73.871427,-73.870885,-73.870916,-73.871081,-73.871822,-73.877521,-73.876474,-73.884693,-73.882971,-73.810261,-73.808518,-73.809333,-73.803658,-73.809765,-73.86515,-73.770978,-73.845511,-73.84608,-73.847477,-73.843676,-73.8441,-73.822116,-73.849318,-73.814014,-73.852214,-73.846729,-73.844476,-73.850355,-73.941159,-73.820127,-73.823377,-73.824936,-73.807265,-73.811254,-73.812472,-73.815484,-73.817858,-73.819097,-73.809223,-73.846257,-73.774207,-73.769315,-73.773574,-73.936159,-73.751564,-73.824555,-73.826703,-73.900278,-73.919785,-73.91475,-73.91514,-73.91427,-73.889365,-73.777362,-73.78315,-73.83732,-74.116627,-74.100364,-74.100257,-74.210241,-74.210125,-74.208524,-74.207153,-74.10392,-74.10104,-74.118801,-74.118278,-74.113523,-74.118791,-74.07412,-74.135418,-74.16311549,-74.138918,-74.125035,-74.135646,-74.097531,-74.074802,-74.100975,-74.086066,-74.098663,-74.098706,-74.118013,-74.091985,-74.099058,-74.077688,-74.076549,-74.075724,-74.075489,-74.235477,-74.11032,-74.108845,-74.11046,-74.108641,-74.119287,-74.158697,-74.16125,-74.190913,-74.18731],\"marker\":{\"color\":[\"#ff00ff\",\"#ff00ff\",\"#ff00ff\",\"#ff00ff\",\"#ff00ff\",\"#ff00ff\",\"#ff00ff\",\"#ff00ff\",\"#ff00ff\",\"#ff00ff\",\"#ff00ff\",\"#ff00ff\",\"#ff00ff\",\"#ff00ff\",\"#ff00ff\",\"#ff00ff\",\"#ff00ff\",\"#ff00ff\",\"#ff00ff\",\"#ff00ff\",\"#ff00ff\",\"#ff00ff\",\"#ff00ff\",\"#ff00ff\",\"#ff00ff\",\"#ff00ff\",\"#ff00ff\",\"#ff00ff\",\"#ff00ff\",\"#ff00ff\",\"#ff00ff\",\"#ff00ff\",\"#ff00ff\",\"#ff00ff\",\"#ff00ff\",\"#ff00ff\",\"#ff00ff\",\"#ff00ff\",\"#ff00ff\",\"#ff00ff\",\"#ff00ff\",\"#ff00ff\",\"#ff00ff\",\"#ff00ff\",\"#ff00ff\",\"#ff00ff\",\"#ff00ff\",\"#ff00ff\",\"#ff00ff\",\"#ff00ff\",\"#ff00ff\",\"#ff00ff\",\"#ff00ff\",\"#ff00ff\",\"#ff00ff\",\"#ff00ff\",\"#ff00ff\",\"#ff00ff\",\"#ff00ff\",\"#ff00ff\",\"#ff00ff\",\"#ff00ff\",\"#ff00ff\",\"#ff00ff\",\"#ff00ff\",\"#ff00ff\",\"#ff00ff\",\"#ff00ff\",\"#ff00ff\",\"#ff00ff\",\"#ff00ff\",\"#ff00ff\",\"#ff00ff\",\"#ff00ff\",\"#ff00ff\",\"#ff00ff\",\"#ff00ff\",\"#ff00ff\",\"#ff00ff\",\"#ff00ff\",\"#ff00ff\",\"#ff00ff\",\"#ff00ff\",\"#ff00ff\",\"#ff00ff\",\"#ff00ff\",\"#ff00ff\",\"#ff00ff\",\"#ff00ff\",\"#ff00ff\",\"#ff00ff\",\"#ff00ff\",\"#ff00ff\",\"#ff00ff\",\"#ff00ff\",\"#ff00ff\",\"#ff00ff\",\"#ff00ff\",\"#ff00ff\",\"#ff00ff\",\"#ff00ff\",\"#ff00ff\",\"#ff00ff\",\"#ff00ff\",\"#ff00ff\",\"#ff00ff\",\"#ff00ff\",\"#ff00ff\",\"#ff00ff\",\"#ff00ff\",\"#ff00ff\",\"#ff00ff\",\"#ff00ff\",\"#ff00ff\",\"#ff00ff\",\"#ff00ff\",\"#ff00ff\",\"#ff00ff\",\"#ff00ff\",\"#ff00ff\",\"#ff00ff\",\"#ff00ff\",\"#ff00ff\",\"#ff00ff\",\"#ff00ff\",\"#ff00ff\",\"#ff00ff\",\"#ff00ff\",\"#ff00ff\",\"#ff00ff\",\"#ff00ff\",\"#ff00ff\",\"#ff00ff\",\"#ff00ff\",\"#ff00ff\",\"#ff00ff\",\"#ff00ff\",\"#ff00ff\",\"#ff00ff\",\"#ff00ff\",\"#ff00ff\",\"#ff00ff\",\"#ff00ff\",\"#ff00ff\",\"#ff00ff\",\"#ff00ff\",\"#0000ff\",\"#0000ff\",\"#0000ff\",\"#0000ff\",\"#0000ff\",\"#0000ff\",\"#0000ff\",\"#0000ff\",\"#0000ff\",\"#0000ff\",\"#0000ff\",\"#0000ff\",\"#0000ff\",\"#0000ff\",\"#0000ff\",\"#0000ff\",\"#0000ff\",\"#0000ff\",\"#0000ff\",\"#0000ff\",\"#0000ff\",\"#0000ff\",\"#0000ff\",\"#0000ff\",\"#0000ff\",\"#0000ff\",\"#0000ff\",\"#0000ff\",\"#0000ff\",\"#0000ff\",\"#0000ff\",\"#0000ff\",\"#0000ff\",\"#0000ff\",\"#0000ff\",\"#0000ff\",\"#0000ff\",\"#0000ff\",\"#0000ff\",\"#0000ff\",\"#0000ff\",\"#0000ff\",\"#0000ff\",\"#0000ff\",\"#0000ff\",\"#0000ff\",\"#0000ff\",\"#0000ff\",\"#0000ff\",\"#0000ff\",\"#0000ff\",\"#0000ff\",\"#0000ff\",\"#0000ff\",\"#0000ff\",\"#0000ff\",\"#0000ff\",\"#0000ff\",\"#0000ff\",\"#0000ff\",\"#0000ff\",\"#0000ff\",\"#0000ff\",\"#0000ff\",\"#0000ff\",\"#0000ff\",\"#0000ff\",\"#0000ff\",\"#0000ff\",\"#0000ff\",\"#0000ff\",\"#0000ff\",\"#0000ff\",\"#0000ff\",\"#0000ff\",\"#0000ff\",\"#0000ff\",\"#0000ff\",\"#0000ff\",\"#0000ff\",\"#0000ff\",\"#0000ff\",\"#0000ff\",\"#0000ff\",\"#0000ff\",\"#0000ff\",\"#0000ff\",\"#0000ff\",\"#0000ff\",\"#0000ff\",\"#0000ff\",\"#0000ff\",\"#0000ff\",\"#FF0000\",\"#FF0000\",\"#FF0000\",\"#FF0000\",\"#FF0000\",\"#00ff00\",\"#00ff00\",\"#824100\",\"#824100\",\"#824100\",\"#824100\",\"#824100\",\"#824100\",\"#824100\",\"#824100\",\"#824100\",\"#824100\",\"#824100\",\"#824100\",\"#824100\",\"#824100\",\"#824100\",\"#824100\",\"#824100\",\"#824100\",\"#824100\",\"#824100\",\"#824100\",\"#824100\",\"#824100\",\"#824100\",\"#824100\",\"#824100\",\"#824100\",\"#824100\",\"#824100\",\"#824100\",\"#824100\",\"#824100\",\"#824100\",\"#824100\",\"#824100\",\"#824100\",\"#824100\",\"#824100\",\"#824100\",\"#824100\",\"#824100\",\"#824100\",\"#824100\",\"#824100\",\"#824100\",\"#824100\",\"#824100\",\"#824100\",\"#824100\",\"#824100\",\"#824100\",\"#824100\",\"#824100\",\"#824100\",\"#824100\",\"#824100\",\"#824100\",\"#824100\",\"#824100\",\"#824100\",\"#824100\",\"#824100\",\"#824100\",\"#824100\",\"#824100\",\"#824100\",\"#824100\",\"#824100\",\"#824100\",\"#824100\",\"#824100\",\"#824100\",\"#824100\",\"#824100\",\"#824100\",\"#824100\",\"#824100\",\"#824100\",\"#824100\",\"#824100\",\"#824100\",\"#824100\",\"#824100\",\"#824100\",\"#824100\",\"#824100\",\"#824100\",\"#824100\",\"#824100\",\"#824100\",\"#824100\",\"#824100\",\"#824100\",\"#824100\",\"#824100\",\"#824100\",\"#824100\",\"#824100\",\"#824100\",\"#824100\",\"#824100\",\"#824100\",\"#824100\",\"#824100\",\"#824100\",\"#824100\",\"#824100\",\"#824100\",\"#824100\",\"#824100\",\"#824100\",\"#824100\",\"#824100\",\"#824100\",\"#824100\",\"#824100\",\"#824100\",\"#824100\",\"#824100\",\"#824100\",\"#824100\",\"#824100\",\"#824100\",\"#824100\",\"#824100\",\"#824100\",\"#824100\",\"#824100\",\"#824100\",\"#824100\",\"#824100\",\"#824100\",\"#824100\",\"#824100\",\"#824100\",\"#824100\",\"#824100\",\"#824100\",\"#824100\",\"#824100\",\"#824100\",\"#824100\",\"#824100\",\"#824100\",\"#824100\",\"#824100\",\"#824100\",\"#824100\",\"#824100\",\"#824100\",\"#824100\",\"#824100\",\"#824100\",\"#824100\",\"#824100\",\"#824100\",\"#824100\",\"#824100\",\"#824100\",\"#824100\",\"#824100\",\"#824100\",\"#824100\",\"#824100\",\"#824100\",\"#824100\",\"#824100\",\"#824100\",\"#824100\",\"#824100\",\"#824100\",\"#824100\",\"#824100\",\"#824100\",\"#824100\",\"#824100\",\"#824100\",\"#824100\",\"#824100\",\"#824100\",\"#824100\",\"#824100\",\"#824100\",\"#824100\",\"#824100\",\"#824100\",\"#824100\",\"#824100\",\"#824100\",\"#824100\",\"#824100\",\"#824100\",\"#824100\",\"#824100\",\"#824100\",\"#824100\",\"#824100\",\"#824100\",\"#824100\",\"#824100\",\"#824100\",\"#824100\",\"#824100\",\"#824100\",\"#824100\",\"#824100\",\"#824100\",\"#824100\",\"#824100\",\"#824100\",\"#824100\",\"#824100\",\"#824100\",\"#824100\",\"#824100\",\"#824100\",\"#824100\",\"#824100\",\"#824100\",\"#824100\",\"#824100\",\"#824100\",\"#824100\",\"#824100\",\"#824100\",\"#824100\",\"#824100\",\"#824100\",\"#824100\",\"#824100\",\"#824100\",\"#824100\",\"#824100\",\"#824100\",\"#824100\",\"#824100\",\"#824100\",\"#824100\",\"#824100\",\"#824100\",\"#824100\",\"#824100\",\"#824100\",\"#824100\",\"#824100\",\"#824100\",\"#824100\",\"#824100\",\"#824100\",\"#824100\",\"#824100\",\"#824100\",\"#824100\",\"#824100\",\"#824100\",\"#824100\",\"#824100\",\"#824100\",\"#824100\",\"#824100\",\"#824100\",\"#824100\",\"#824100\",\"#824100\",\"#824100\",\"#824100\",\"#824100\",\"#824100\",\"#824100\",\"#824100\",\"#824100\",\"#824100\",\"#824100\",\"#824100\",\"#824100\",\"#824100\",\"#824100\",\"#824100\",\"#824100\",\"#824100\",\"#824100\",\"#824100\",\"#824100\",\"#824100\",\"#824100\",\"#824100\",\"#824100\",\"#824100\",\"#824100\",\"#824100\",\"#824100\",\"#824100\",\"#824100\",\"#824100\",\"#824100\",\"#824100\",\"#824100\",\"#824100\",\"#824100\",\"#824100\",\"#824100\",\"#824100\",\"#824100\",\"#824100\",\"#824100\",\"#824100\",\"#824100\",\"#824100\",\"#824100\",\"#824100\",\"#824100\",\"#824100\",\"#824100\",\"#824100\",\"#824100\",\"#824100\",\"#824100\",\"#824100\",\"#824100\",\"#824100\",\"#824100\",\"#824100\",\"#824100\",\"#824100\",\"#824100\",\"#824100\",\"#824100\",\"#824100\",\"#824100\",\"#824100\",\"#824100\",\"#824100\",\"#824100\",\"#824100\",\"#824100\",\"#824100\",\"#824100\",\"#824100\",\"#824100\",\"#824100\",\"#824100\",\"#824100\",\"#824100\",\"#824100\",\"#824100\",\"#824100\",\"#824100\",\"#824100\",\"#824100\",\"#824100\",\"#824100\",\"#824100\",\"#824100\",\"#824100\",\"#824100\",\"#824100\",\"#824100\",\"#824100\",\"#824100\",\"#824100\",\"#824100\",\"#824100\",\"#824100\",\"#824100\",\"#824100\",\"#824100\",\"#824100\",\"#824100\",\"#824100\",\"#824100\",\"#824100\",\"#824100\",\"#824100\",\"#824100\",\"#824100\",\"#824100\",\"#824100\",\"#824100\",\"#824100\",\"#824100\",\"#824100\",\"#824100\",\"#824100\",\"#824100\",\"#824100\",\"#824100\",\"#824100\",\"#824100\",\"#824100\",\"#824100\",\"#824100\",\"#824100\",\"#824100\",\"#824100\",\"#824100\",\"#824100\",\"#824100\",\"#824100\",\"#824100\",\"#824100\",\"#824100\",\"#824100\",\"#824100\",\"#824100\",\"#824100\",\"#824100\",\"#824100\",\"#824100\",\"#824100\",\"#824100\",\"#824100\",\"#824100\",\"#824100\",\"#824100\",\"#824100\",\"#824100\",\"#824100\",\"#824100\",\"#824100\",\"#824100\",\"#824100\",\"#824100\",\"#824100\",\"#824100\",\"#824100\",\"#824100\",\"#824100\",\"#824100\",\"#824100\",\"#824100\",\"#824100\",\"#824100\",\"#824100\",\"#824100\",\"#824100\",\"#824100\",\"#824100\",\"#824100\",\"#824100\",\"#824100\",\"#824100\",\"#824100\",\"#824100\",\"#824100\",\"#824100\",\"#824100\",\"#824100\",\"#824100\",\"#824100\",\"#824100\",\"#824100\",\"#824100\",\"#824100\",\"#824100\",\"#824100\",\"#824100\",\"#824100\",\"#824100\",\"#824100\",\"#824100\",\"#824100\",\"#824100\",\"#824100\",\"#824100\",\"#824100\",\"#824100\",\"#824100\",\"#824100\",\"#824100\",\"#824100\",\"#824100\",\"#824100\",\"#824100\",\"#824100\",\"#824100\",\"#824100\",\"#824100\",\"#824100\",\"#824100\",\"#824100\",\"#824100\",\"#824100\",\"#824100\",\"#824100\",\"#824100\",\"#824100\",\"#824100\",\"#824100\",\"#824100\",\"#824100\",\"#824100\",\"#824100\",\"#824100\",\"#824100\",\"#824100\",\"#824100\",\"#824100\",\"#824100\",\"#824100\",\"#824100\",\"#824100\",\"#824100\",\"#824100\",\"#824100\",\"#824100\",\"#824100\",\"#824100\",\"#824100\",\"#824100\",\"#824100\",\"#824100\",\"#824100\",\"#824100\",\"#824100\",\"#824100\",\"#824100\",\"#824100\",\"#824100\",\"#824100\",\"#824100\",\"#824100\",\"#824100\",\"#824100\",\"#824100\",\"#824100\",\"#824100\",\"#824100\",\"#824100\",\"#824100\",\"#824100\",\"#824100\",\"#824100\",\"#824100\",\"#824100\",\"#824100\",\"#824100\",\"#824100\",\"#824100\",\"#824100\",\"#824100\",\"#824100\"]},\"mode\":\"markers\",\"opacity\":1,\"selected\":{\"marker\":{\"opacity\":1,\"size\":10}},\"showlegend\":false,\"textposition\":\"top left\",\"type\":\"scattermapbox\",\"unselected\":{\"marker\":{\"opacity\":0.5,\"size\":5}}}],                        {\"clickmode\":\"event+select\",\"hoverdistance\":2,\"hovermode\":\"closest\",\"mapbox\":{\"accesstoken\":\"pk.eyJ1Ijoibmd1eWVuZHVjaHV5MjcxMTk3IiwiYSI6ImNrdGlrdXR6NTEydGQyb3FmMm40M3ZzY3IifQ.2Su0FgZih2OeDc7Z4xla8g\",\"bearing\":0,\"center\":{\"lat\":40.73,\"lon\":-73.99},\"pitch\":20,\"style\":\"light\",\"zoom\":11},\"template\":{\"data\":{\"bar\":[{\"error_x\":{\"color\":\"#2a3f5f\"},\"error_y\":{\"color\":\"#2a3f5f\"},\"marker\":{\"line\":{\"color\":\"#E5ECF6\",\"width\":0.5},\"pattern\":{\"fillmode\":\"overlay\",\"size\":10,\"solidity\":0.2}},\"type\":\"bar\"}],\"barpolar\":[{\"marker\":{\"line\":{\"color\":\"#E5ECF6\",\"width\":0.5},\"pattern\":{\"fillmode\":\"overlay\",\"size\":10,\"solidity\":0.2}},\"type\":\"barpolar\"}],\"carpet\":[{\"aaxis\":{\"endlinecolor\":\"#2a3f5f\",\"gridcolor\":\"white\",\"linecolor\":\"white\",\"minorgridcolor\":\"white\",\"startlinecolor\":\"#2a3f5f\"},\"baxis\":{\"endlinecolor\":\"#2a3f5f\",\"gridcolor\":\"white\",\"linecolor\":\"white\",\"minorgridcolor\":\"white\",\"startlinecolor\":\"#2a3f5f\"},\"type\":\"carpet\"}],\"choropleth\":[{\"colorbar\":{\"outlinewidth\":0,\"ticks\":\"\"},\"type\":\"choropleth\"}],\"contour\":[{\"colorbar\":{\"outlinewidth\":0,\"ticks\":\"\"},\"colorscale\":[[0.0,\"#0d0887\"],[0.1111111111111111,\"#46039f\"],[0.2222222222222222,\"#7201a8\"],[0.3333333333333333,\"#9c179e\"],[0.4444444444444444,\"#bd3786\"],[0.5555555555555556,\"#d8576b\"],[0.6666666666666666,\"#ed7953\"],[0.7777777777777778,\"#fb9f3a\"],[0.8888888888888888,\"#fdca26\"],[1.0,\"#f0f921\"]],\"type\":\"contour\"}],\"contourcarpet\":[{\"colorbar\":{\"outlinewidth\":0,\"ticks\":\"\"},\"type\":\"contourcarpet\"}],\"heatmap\":[{\"colorbar\":{\"outlinewidth\":0,\"ticks\":\"\"},\"colorscale\":[[0.0,\"#0d0887\"],[0.1111111111111111,\"#46039f\"],[0.2222222222222222,\"#7201a8\"],[0.3333333333333333,\"#9c179e\"],[0.4444444444444444,\"#bd3786\"],[0.5555555555555556,\"#d8576b\"],[0.6666666666666666,\"#ed7953\"],[0.7777777777777778,\"#fb9f3a\"],[0.8888888888888888,\"#fdca26\"],[1.0,\"#f0f921\"]],\"type\":\"heatmap\"}],\"heatmapgl\":[{\"colorbar\":{\"outlinewidth\":0,\"ticks\":\"\"},\"colorscale\":[[0.0,\"#0d0887\"],[0.1111111111111111,\"#46039f\"],[0.2222222222222222,\"#7201a8\"],[0.3333333333333333,\"#9c179e\"],[0.4444444444444444,\"#bd3786\"],[0.5555555555555556,\"#d8576b\"],[0.6666666666666666,\"#ed7953\"],[0.7777777777777778,\"#fb9f3a\"],[0.8888888888888888,\"#fdca26\"],[1.0,\"#f0f921\"]],\"type\":\"heatmapgl\"}],\"histogram\":[{\"marker\":{\"pattern\":{\"fillmode\":\"overlay\",\"size\":10,\"solidity\":0.2}},\"type\":\"histogram\"}],\"histogram2d\":[{\"colorbar\":{\"outlinewidth\":0,\"ticks\":\"\"},\"colorscale\":[[0.0,\"#0d0887\"],[0.1111111111111111,\"#46039f\"],[0.2222222222222222,\"#7201a8\"],[0.3333333333333333,\"#9c179e\"],[0.4444444444444444,\"#bd3786\"],[0.5555555555555556,\"#d8576b\"],[0.6666666666666666,\"#ed7953\"],[0.7777777777777778,\"#fb9f3a\"],[0.8888888888888888,\"#fdca26\"],[1.0,\"#f0f921\"]],\"type\":\"histogram2d\"}],\"histogram2dcontour\":[{\"colorbar\":{\"outlinewidth\":0,\"ticks\":\"\"},\"colorscale\":[[0.0,\"#0d0887\"],[0.1111111111111111,\"#46039f\"],[0.2222222222222222,\"#7201a8\"],[0.3333333333333333,\"#9c179e\"],[0.4444444444444444,\"#bd3786\"],[0.5555555555555556,\"#d8576b\"],[0.6666666666666666,\"#ed7953\"],[0.7777777777777778,\"#fb9f3a\"],[0.8888888888888888,\"#fdca26\"],[1.0,\"#f0f921\"]],\"type\":\"histogram2dcontour\"}],\"mesh3d\":[{\"colorbar\":{\"outlinewidth\":0,\"ticks\":\"\"},\"type\":\"mesh3d\"}],\"parcoords\":[{\"line\":{\"colorbar\":{\"outlinewidth\":0,\"ticks\":\"\"}},\"type\":\"parcoords\"}],\"pie\":[{\"automargin\":true,\"type\":\"pie\"}],\"scatter\":[{\"marker\":{\"colorbar\":{\"outlinewidth\":0,\"ticks\":\"\"}},\"type\":\"scatter\"}],\"scatter3d\":[{\"line\":{\"colorbar\":{\"outlinewidth\":0,\"ticks\":\"\"}},\"marker\":{\"colorbar\":{\"outlinewidth\":0,\"ticks\":\"\"}},\"type\":\"scatter3d\"}],\"scattercarpet\":[{\"marker\":{\"colorbar\":{\"outlinewidth\":0,\"ticks\":\"\"}},\"type\":\"scattercarpet\"}],\"scattergeo\":[{\"marker\":{\"colorbar\":{\"outlinewidth\":0,\"ticks\":\"\"}},\"type\":\"scattergeo\"}],\"scattergl\":[{\"marker\":{\"colorbar\":{\"outlinewidth\":0,\"ticks\":\"\"}},\"type\":\"scattergl\"}],\"scattermapbox\":[{\"marker\":{\"colorbar\":{\"outlinewidth\":0,\"ticks\":\"\"}},\"type\":\"scattermapbox\"}],\"scatterpolar\":[{\"marker\":{\"colorbar\":{\"outlinewidth\":0,\"ticks\":\"\"}},\"type\":\"scatterpolar\"}],\"scatterpolargl\":[{\"marker\":{\"colorbar\":{\"outlinewidth\":0,\"ticks\":\"\"}},\"type\":\"scatterpolargl\"}],\"scatterternary\":[{\"marker\":{\"colorbar\":{\"outlinewidth\":0,\"ticks\":\"\"}},\"type\":\"scatterternary\"}],\"surface\":[{\"colorbar\":{\"outlinewidth\":0,\"ticks\":\"\"},\"colorscale\":[[0.0,\"#0d0887\"],[0.1111111111111111,\"#46039f\"],[0.2222222222222222,\"#7201a8\"],[0.3333333333333333,\"#9c179e\"],[0.4444444444444444,\"#bd3786\"],[0.5555555555555556,\"#d8576b\"],[0.6666666666666666,\"#ed7953\"],[0.7777777777777778,\"#fb9f3a\"],[0.8888888888888888,\"#fdca26\"],[1.0,\"#f0f921\"]],\"type\":\"surface\"}],\"table\":[{\"cells\":{\"fill\":{\"color\":\"#EBF0F8\"},\"line\":{\"color\":\"white\"}},\"header\":{\"fill\":{\"color\":\"#C8D4E3\"},\"line\":{\"color\":\"white\"}},\"type\":\"table\"}]},\"layout\":{\"annotationdefaults\":{\"arrowcolor\":\"#2a3f5f\",\"arrowhead\":0,\"arrowwidth\":1},\"autotypenumbers\":\"strict\",\"coloraxis\":{\"colorbar\":{\"outlinewidth\":0,\"ticks\":\"\"}},\"colorscale\":{\"diverging\":[[0,\"#8e0152\"],[0.1,\"#c51b7d\"],[0.2,\"#de77ae\"],[0.3,\"#f1b6da\"],[0.4,\"#fde0ef\"],[0.5,\"#f7f7f7\"],[0.6,\"#e6f5d0\"],[0.7,\"#b8e186\"],[0.8,\"#7fbc41\"],[0.9,\"#4d9221\"],[1,\"#276419\"]],\"sequential\":[[0.0,\"#0d0887\"],[0.1111111111111111,\"#46039f\"],[0.2222222222222222,\"#7201a8\"],[0.3333333333333333,\"#9c179e\"],[0.4444444444444444,\"#bd3786\"],[0.5555555555555556,\"#d8576b\"],[0.6666666666666666,\"#ed7953\"],[0.7777777777777778,\"#fb9f3a\"],[0.8888888888888888,\"#fdca26\"],[1.0,\"#f0f921\"]],\"sequentialminus\":[[0.0,\"#0d0887\"],[0.1111111111111111,\"#46039f\"],[0.2222222222222222,\"#7201a8\"],[0.3333333333333333,\"#9c179e\"],[0.4444444444444444,\"#bd3786\"],[0.5555555555555556,\"#d8576b\"],[0.6666666666666666,\"#ed7953\"],[0.7777777777777778,\"#fb9f3a\"],[0.8888888888888888,\"#fdca26\"],[1.0,\"#f0f921\"]]},\"colorway\":[\"#636efa\",\"#EF553B\",\"#00cc96\",\"#ab63fa\",\"#FFA15A\",\"#19d3f3\",\"#FF6692\",\"#B6E880\",\"#FF97FF\",\"#FECB52\"],\"font\":{\"color\":\"#2a3f5f\"},\"geo\":{\"bgcolor\":\"white\",\"lakecolor\":\"white\",\"landcolor\":\"#E5ECF6\",\"showlakes\":true,\"showland\":true,\"subunitcolor\":\"white\"},\"hoverlabel\":{\"align\":\"left\"},\"hovermode\":\"closest\",\"mapbox\":{\"style\":\"light\"},\"paper_bgcolor\":\"white\",\"plot_bgcolor\":\"#E5ECF6\",\"polar\":{\"angularaxis\":{\"gridcolor\":\"white\",\"linecolor\":\"white\",\"ticks\":\"\"},\"bgcolor\":\"#E5ECF6\",\"radialaxis\":{\"gridcolor\":\"white\",\"linecolor\":\"white\",\"ticks\":\"\"}},\"scene\":{\"xaxis\":{\"backgroundcolor\":\"#E5ECF6\",\"gridcolor\":\"white\",\"gridwidth\":2,\"linecolor\":\"white\",\"showbackground\":true,\"ticks\":\"\",\"zerolinecolor\":\"white\"},\"yaxis\":{\"backgroundcolor\":\"#E5ECF6\",\"gridcolor\":\"white\",\"gridwidth\":2,\"linecolor\":\"white\",\"showbackground\":true,\"ticks\":\"\",\"zerolinecolor\":\"white\"},\"zaxis\":{\"backgroundcolor\":\"#E5ECF6\",\"gridcolor\":\"white\",\"gridwidth\":2,\"linecolor\":\"white\",\"showbackground\":true,\"ticks\":\"\",\"zerolinecolor\":\"white\"}},\"shapedefaults\":{\"line\":{\"color\":\"#2a3f5f\"}},\"ternary\":{\"aaxis\":{\"gridcolor\":\"white\",\"linecolor\":\"white\",\"ticks\":\"\"},\"baxis\":{\"gridcolor\":\"white\",\"linecolor\":\"white\",\"ticks\":\"\"},\"bgcolor\":\"#E5ECF6\",\"caxis\":{\"gridcolor\":\"white\",\"linecolor\":\"white\",\"ticks\":\"\"}},\"title\":{\"x\":0.05},\"xaxis\":{\"automargin\":true,\"gridcolor\":\"white\",\"linecolor\":\"white\",\"ticks\":\"\",\"title\":{\"standoff\":15},\"zerolinecolor\":\"white\",\"zerolinewidth\":2},\"yaxis\":{\"automargin\":true,\"gridcolor\":\"white\",\"linecolor\":\"white\",\"ticks\":\"\",\"title\":{\"standoff\":15},\"zerolinecolor\":\"white\",\"zerolinewidth\":2}}},\"title\":{\"font\":{\"color\":\"#A45D5D\",\"size\":30},\"text\":\"Where to recycle?\",\"x\":0.5},\"uirevision\":\"foo\"},                        {\"responsive\": true}                    ).then(function(){\n",
       "                            \n",
       "var gd = document.getElementById('3c694df8-efb4-4b50-ace9-3cb0bcfc4a08');\n",
       "var x = new MutationObserver(function (mutations, observer) {{\n",
       "        var display = window.getComputedStyle(gd).display;\n",
       "        if (!display || display === 'none') {{\n",
       "            console.log([gd, 'removed!']);\n",
       "            Plotly.purge(gd);\n",
       "            observer.disconnect();\n",
       "        }}\n",
       "}});\n",
       "\n",
       "// Listen for the removal of the full notebook cells\n",
       "var notebookContainer = gd.closest('#notebook-container');\n",
       "if (notebookContainer) {{\n",
       "    x.observe(notebookContainer, {childList: true});\n",
       "}}\n",
       "\n",
       "// Listen for the clearing of the current output cell\n",
       "var outputEl = gd.closest('.output');\n",
       "if (outputEl) {{\n",
       "    x.observe(outputEl, {childList: true});\n",
       "}}\n",
       "\n",
       "                        })                };                });            </script>        </div>"
      ]
     },
     "metadata": {},
     "output_type": "display_data"
    }
   ],
   "source": [
    "MAPBOX_ACCESS_TOKEN = \"pk.eyJ1Ijoibmd1eWVuZHVjaHV5MjcxMTk3IiwiYSI6ImNrdGlrdXR6NTEydGQyb3FmMm40M3ZzY3IifQ.2Su0FgZih2OeDc7Z4xla8g\"\n",
    "data = go.Scattermapbox(showlegend=False, \n",
    "                        opacity=1, \n",
    "                        mode=\"markers\", \n",
    "                        lat= df[\"latitude\"], \n",
    "                        lon= df[\"longitude\"],\n",
    "                        textposition= \"top left\", \n",
    "                        marker_color= df[\"color\"], \n",
    "                        selected_marker= {\"opacity\": 1, \"size\": 10}, \n",
    "                        unselected_marker= {\"opacity\": 0.5, \"size\": 5},\n",
    "                        hoverinfo= \"text\", \n",
    "                        hovertext= df[\"hov_txt\"], customdata= df[\"website\"])\n",
    "fig = go.Figure(data= data)\n",
    "fig.update_layout(mapbox= dict(accesstoken= MAPBOX_ACCESS_TOKEN, \n",
    "                               bearing= 0, \n",
    "                               center= {\"lat\": 40.73, \n",
    "                                        \"lon\": -73.99}, \n",
    "                               pitch= 20, \n",
    "                               style= \"light\", \n",
    "                               zoom=11))\n",
    "fig.update_layout(uirevision= 'foo',\n",
    "                  clickmode= \"event+select\", \n",
    "                  hovermode= \"closest\", \n",
    "                  hoverdistance= 2, \n",
    "                  title= {\"text\": \"Where to recycle?\", \n",
    "                          \"font\": {\"color\": \"#A45D5D\", \"size\": 30}, \n",
    "                          \"x\": 0.5})\n",
    "fig.show()"
   ]
  },
  {
   "cell_type": "code",
   "execution_count": 134,
   "id": "5c3360ed",
   "metadata": {},
   "outputs": [
    {
     "data": {
      "application/vnd.plotly.v1+json": {
       "config": {
        "plotlyServerURL": "https://plot.ly"
       },
       "data": [
        {
         "customdata": [
          [
           "Bronx",
           "compost"
          ],
          [
           "Bronx",
           "compost"
          ],
          [
           "Bronx",
           "compost"
          ],
          [
           "Bronx",
           "compost"
          ],
          [
           "Bronx",
           "compost"
          ],
          [
           "Bronx",
           "compost"
          ],
          [
           "Bronx",
           "compost"
          ],
          [
           "Bronx",
           "compost"
          ],
          [
           "Bronx",
           "compost"
          ],
          [
           "Bronx",
           "compost"
          ],
          [
           "Bronx",
           "compost"
          ],
          [
           "Bronx",
           "compost"
          ],
          [
           "Bronx",
           "compost"
          ],
          [
           "Bronx",
           "compost"
          ],
          [
           "Bronx",
           "compost"
          ],
          [
           "Bronx",
           "compost"
          ],
          [
           "Bronx",
           "compost"
          ],
          [
           "Bronx",
           "compost"
          ],
          [
           "Bronx",
           "compost"
          ],
          [
           "Bronx",
           "compost"
          ],
          [
           "Bronx",
           "compost"
          ],
          [
           "Bronx",
           "compost"
          ],
          [
           "Bronx",
           "compost"
          ],
          [
           "Bronx",
           "compost"
          ],
          [
           "Brooklyn",
           "compost"
          ],
          [
           "Brooklyn",
           "compost"
          ],
          [
           "Brooklyn",
           "compost"
          ],
          [
           "Brooklyn",
           "compost"
          ],
          [
           "Brooklyn",
           "compost"
          ],
          [
           "Brooklyn",
           "compost"
          ],
          [
           "Brooklyn",
           "compost"
          ],
          [
           "Brooklyn",
           "compost"
          ],
          [
           "Brooklyn",
           "compost"
          ],
          [
           "Brooklyn",
           "compost"
          ],
          [
           "Brooklyn",
           "compost"
          ],
          [
           "Brooklyn",
           "compost"
          ],
          [
           "Brooklyn",
           "compost"
          ],
          [
           "Brooklyn",
           "compost"
          ],
          [
           "Brooklyn",
           "compost"
          ],
          [
           "Brooklyn",
           "compost"
          ],
          [
           "Brooklyn",
           "compost"
          ],
          [
           "Brooklyn",
           "compost"
          ],
          [
           "Brooklyn",
           "compost"
          ],
          [
           "Brooklyn",
           "compost"
          ],
          [
           "Brooklyn",
           "compost"
          ],
          [
           "Brooklyn",
           "compost"
          ],
          [
           "Brooklyn",
           "compost"
          ],
          [
           "Manhattan",
           "compost"
          ],
          [
           "Manhattan",
           "compost"
          ],
          [
           "Manhattan",
           "compost"
          ],
          [
           "Manhattan",
           "compost"
          ],
          [
           "Manhattan",
           "compost"
          ],
          [
           "Manhattan",
           "compost"
          ],
          [
           "Manhattan",
           "compost"
          ],
          [
           "Manhattan",
           "compost"
          ],
          [
           "Manhattan",
           "compost"
          ],
          [
           "Manhattan",
           "compost"
          ],
          [
           "Manhattan",
           "compost"
          ],
          [
           "Manhattan",
           "compost"
          ],
          [
           "Manhattan",
           "compost"
          ],
          [
           "Manhattan",
           "compost"
          ],
          [
           "Manhattan",
           "compost"
          ],
          [
           "Manhattan",
           "compost"
          ],
          [
           "Manhattan",
           "compost"
          ],
          [
           "Manhattan",
           "compost"
          ],
          [
           "Manhattan",
           "compost"
          ],
          [
           "Manhattan",
           "compost"
          ],
          [
           "Manhattan",
           "compost"
          ],
          [
           "Manhattan",
           "compost"
          ],
          [
           "Manhattan",
           "compost"
          ],
          [
           "Manhattan",
           "compost"
          ],
          [
           "Manhattan",
           "compost"
          ],
          [
           "Manhattan",
           "compost"
          ],
          [
           "Manhattan",
           "compost"
          ],
          [
           "Manhattan",
           "compost"
          ],
          [
           "Manhattan",
           "compost"
          ],
          [
           "Manhattan",
           "compost"
          ],
          [
           "Manhattan",
           "compost"
          ],
          [
           "Manhattan",
           "compost"
          ],
          [
           "Manhattan",
           "compost"
          ],
          [
           "Manhattan",
           "compost"
          ],
          [
           "Manhattan",
           "compost"
          ],
          [
           "Manhattan",
           "compost"
          ],
          [
           "Manhattan",
           "compost"
          ],
          [
           "Manhattan",
           "compost"
          ],
          [
           "Manhattan",
           "compost"
          ],
          [
           "Manhattan",
           "compost"
          ],
          [
           "Manhattan",
           "compost"
          ],
          [
           "Manhattan",
           "compost"
          ],
          [
           "Manhattan",
           "compost"
          ],
          [
           "Manhattan",
           "compost"
          ],
          [
           "Manhattan",
           "compost"
          ],
          [
           "Manhattan",
           "compost"
          ],
          [
           "Manhattan",
           "compost"
          ],
          [
           "Manhattan",
           "compost"
          ],
          [
           "Manhattan",
           "compost"
          ],
          [
           "Manhattan",
           "compost"
          ],
          [
           "Manhattan",
           "compost"
          ],
          [
           "Manhattan",
           "compost"
          ],
          [
           "Manhattan",
           "compost"
          ],
          [
           "Manhattan",
           "compost"
          ],
          [
           "Manhattan",
           "compost"
          ],
          [
           "Manhattan",
           "compost"
          ],
          [
           "Manhattan",
           "compost"
          ],
          [
           "Manhattan",
           "compost"
          ],
          [
           "Manhattan",
           "compost"
          ],
          [
           "Manhattan",
           "compost"
          ],
          [
           "Manhattan",
           "compost"
          ],
          [
           "Manhattan",
           "compost"
          ],
          [
           "Manhattan",
           "compost"
          ],
          [
           "Manhattan",
           "compost"
          ],
          [
           "Manhattan",
           "compost"
          ],
          [
           "Manhattan",
           "compost"
          ],
          [
           "Manhattan",
           "compost"
          ],
          [
           "Manhattan",
           "compost"
          ],
          [
           "Manhattan",
           "compost"
          ],
          [
           "Manhattan",
           "compost"
          ],
          [
           "Queens",
           "compost"
          ],
          [
           "Queens",
           "compost"
          ],
          [
           "Queens",
           "compost"
          ],
          [
           "Queens",
           "compost"
          ],
          [
           "Queens",
           "compost"
          ],
          [
           "Queens",
           "compost"
          ],
          [
           "Queens",
           "compost"
          ],
          [
           "Queens",
           "compost"
          ],
          [
           "Queens",
           "compost"
          ],
          [
           "Queens",
           "compost"
          ],
          [
           "Queens",
           "compost"
          ],
          [
           "Queens",
           "compost"
          ],
          [
           "Queens",
           "compost"
          ],
          [
           "Queens",
           "compost"
          ],
          [
           "Queens",
           "compost"
          ],
          [
           "Queens",
           "compost"
          ],
          [
           "Queens",
           "compost"
          ],
          [
           "Queens",
           "compost"
          ],
          [
           "Queens",
           "compost"
          ],
          [
           "Queens",
           "compost"
          ],
          [
           "Queens",
           "compost"
          ],
          [
           "Queens",
           "compost"
          ],
          [
           "Queens",
           "compost"
          ],
          [
           "Queens",
           "compost"
          ],
          [
           "Queens",
           "compost"
          ],
          [
           "Staten Island",
           "compost"
          ],
          [
           "Staten Island",
           "compost"
          ],
          [
           "Staten Island",
           "compost"
          ],
          [
           "Staten Island",
           "compost"
          ]
         ],
         "hovertemplate": "color=#ff00ff<br>latitude=%{lat}<br>longitude=%{lon}<br>boro=%{customdata[0]}<br>type=%{customdata[1]}<extra></extra>",
         "lat": [
          40.844772,
          40.8269197,
          40.8326398,
          40.8312021,
          40.833022,
          40.8641072,
          40.8745635,
          40.839961,
          40.820403,
          40.818032,
          40.82127,
          40.846452,
          40.8534,
          40.80766,
          40.81622,
          40.82805,
          40.81844,
          40.862707,
          40.86115,
          40.87094,
          40.80948,
          40.881233,
          40.82135,
          40.829353,
          40.648502,
          40.6722226,
          40.673815,
          40.6937566,
          40.680852,
          40.6408302,
          40.69132,
          40.6726424,
          40.720471,
          40.725018,
          40.633663,
          40.66809,
          40.66496,
          40.65507,
          40.683282,
          40.678196,
          40.650381,
          40.697523,
          40.644516,
          40.680355,
          40.676782,
          40.6929796,
          40.678708,
          40.753588,
          40.79667,
          40.761706,
          40.8461084,
          40.7819529,
          40.7742982,
          40.7941768,
          40.7375462,
          40.704594,
          40.8067454,
          40.76911,
          40.7810344,
          40.8421716,
          40.8690103,
          40.7891821,
          40.7260554,
          40.7736069,
          40.737098,
          40.7670054,
          40.8051411,
          40.81428,
          40.808388,
          40.721086,
          40.857341,
          40.729165,
          40.824415,
          40.6894501,
          40.6894506,
          40.749509,
          40.755588,
          40.835828,
          40.731506,
          40.790645,
          40.800146,
          40.7162918,
          40.800867,
          40.7984,
          40.82099,
          40.798786,
          40.82404,
          40.83404,
          40.78579,
          40.86532,
          40.85295,
          40.7529921,
          40.742827,
          40.7489842,
          40.756032,
          40.7202214,
          40.7298117,
          40.738228,
          40.7634686,
          40.725357,
          40.7452994,
          40.733512,
          40.7140565,
          40.7159955,
          40.7255273,
          40.71102,
          40.724479,
          40.732811,
          40.724502,
          40.7231069,
          40.833952,
          40.728081,
          40.804574,
          40.799721,
          40.721531,
          40.794912,
          40.811641,
          40.748406,
          40.7427437,
          40.774513,
          40.767066,
          40.7222304,
          40.7532152,
          40.7584821,
          40.7769984,
          40.7675822,
          40.7468806,
          40.595401,
          40.7562501,
          40.7497177,
          40.74983,
          40.7295998,
          40.7373468,
          40.75197,
          40.752149,
          40.768942,
          40.591961,
          40.754084,
          40.7096804,
          40.7132717,
          40.738397,
          40.717411,
          40.641672,
          40.6415864,
          40.5834232,
          40.630312
         ],
         "legendgroup": "#ff00ff",
         "lon": [
          -73.887226,
          -73.9225039,
          -73.9187735,
          -73.9004133,
          -73.8627284,
          -73.8950656,
          -73.8916183,
          -73.916663,
          -73.895686,
          -73.888644,
          -73.91537,
          -73.894096,
          -73.9077,
          -73.9193,
          -73.9176,
          -73.9257,
          -73.9272,
          -73.901042,
          -73.8908,
          -73.883947,
          -73.918294,
          -73.887583,
          -73.924049,
          -73.903424,
          -73.976416,
          -74.0109856,
          -73.9949411,
          -73.9904735,
          -73.9955995,
          -73.9652999,
          -73.9735,
          -73.9704304,
          -73.952713,
          -73.94472,
          -73.885955,
          -73.865533,
          -73.886675,
          -73.96169,
          -73.935667,
          -73.967427,
          -73.963432,
          -73.913913,
          -73.920387,
          -73.882995,
          -73.932943,
          -73.9081621,
          -73.911357,
          -73.983233,
          -73.931728,
          -73.950244,
          -73.9381243,
          -73.9754869,
          -73.9512624,
          -73.9684124,
          -74.0048128,
          -74.0142515,
          -73.9649594,
          -73.98855,
          -73.9463184,
          -73.942289,
          -73.9203259,
          -73.9527316,
          -73.9835429,
          -73.9815795,
          -73.9903523,
          -73.9578326,
          -73.9391249,
          -73.942834,
          -73.943251,
          -73.991718,
          -73.922111,
          -73.983435,
          -73.94918,
          -74.016792,
          -74.0167913,
          -73.998096,
          -73.999721,
          -73.938621,
          -73.983427,
          -73.97599,
          -73.94233,
          -74.0109403,
          -73.958284,
          -73.9526,
          -73.9543,
          -73.941698,
          -73.9446,
          -73.9452,
          -73.9508,
          -73.928,
          -73.9376,
          -73.9698797,
          -74.0078384,
          -74.0071142,
          -74.006046,
          -74.0128434,
          -74.0110087,
          -74.0104549,
          -74.0002584,
          -73.978278,
          -73.9984832,
          -74.002956,
          -73.9902176,
          -73.986664,
          -74.0040577,
          -73.97905,
          -73.979718,
          -74.000091,
          -73.97874,
          -73.988458,
          -73.941736,
          -73.979214,
          -73.955533,
          -73.962101,
          -73.982075,
          -73.943148,
          -73.950521,
          -73.721002,
          -73.9541298,
          -73.912463,
          -73.921406,
          -73.8467632,
          -73.8896812,
          -73.9186052,
          -73.9096802,
          -73.9359557,
          -73.9208078,
          -73.776541,
          -73.8258451,
          -73.8626075,
          -73.896438,
          -73.8616452,
          -73.877195,
          -73.830325,
          -73.925454,
          -73.929913,
          -73.788284,
          -73.94267,
          -73.8190304,
          -73.8299268,
          -73.877742,
          -73.857513,
          -74.101624,
          -74.0779094,
          -74.1629698,
          -74.115754
         ],
         "marker": {
          "color": "#636efa",
          "opacity": 1
         },
         "mode": "markers",
         "name": "#ff00ff",
         "selected": {
          "marker": {
           "opacity": 1,
           "size": 10
          }
         },
         "showlegend": true,
         "subplot": "mapbox",
         "type": "scattermapbox",
         "unselected": {
          "marker": {
           "opacity": 0.8,
           "size": 5
          }
         }
        },
        {
         "customdata": [
          [
           "Bronx",
           "electronics"
          ],
          [
           "Bronx",
           "electronics"
          ],
          [
           "Bronx",
           "electronics"
          ],
          [
           "Bronx",
           "electronics"
          ],
          [
           "Bronx",
           "electronics"
          ],
          [
           "Bronx",
           "electronics"
          ],
          [
           "Bronx",
           "electronics"
          ],
          [
           "Bronx",
           "electronics"
          ],
          [
           "Bronx",
           "electronics"
          ],
          [
           "Bronx",
           "electronics"
          ],
          [
           "Brooklyn",
           "electronics"
          ],
          [
           "Brooklyn",
           "electronics"
          ],
          [
           "Brooklyn",
           "electronics"
          ],
          [
           "Brooklyn",
           "electronics"
          ],
          [
           "Brooklyn",
           "electronics"
          ],
          [
           "Brooklyn",
           "electronics"
          ],
          [
           "Brooklyn",
           "electronics"
          ],
          [
           "Brooklyn",
           "electronics"
          ],
          [
           "Brooklyn",
           "electronics"
          ],
          [
           "Brooklyn",
           "electronics"
          ],
          [
           "Brooklyn",
           "electronics"
          ],
          [
           "Brooklyn",
           "electronics"
          ],
          [
           "Brooklyn",
           "electronics"
          ],
          [
           "Brooklyn",
           "electronics"
          ],
          [
           "Brooklyn",
           "electronics"
          ],
          [
           "Brooklyn",
           "electronics"
          ],
          [
           "Brooklyn",
           "electronics"
          ],
          [
           "Brooklyn",
           "electronics"
          ],
          [
           "Brooklyn",
           "electronics"
          ],
          [
           "Brooklyn",
           "electronics"
          ],
          [
           "Brooklyn",
           "electronics"
          ],
          [
           "Brooklyn",
           "electronics"
          ],
          [
           "Manhattan",
           "electronics"
          ],
          [
           "Manhattan",
           "electronics"
          ],
          [
           "Manhattan",
           "electronics"
          ],
          [
           "Manhattan",
           "electronics"
          ],
          [
           "Manhattan",
           "electronics"
          ],
          [
           "Manhattan",
           "electronics"
          ],
          [
           "Manhattan",
           "electronics"
          ],
          [
           "Manhattan",
           "electronics"
          ],
          [
           "Manhattan",
           "electronics"
          ],
          [
           "Manhattan",
           "electronics"
          ],
          [
           "Manhattan",
           "electronics"
          ],
          [
           "Manhattan",
           "electronics"
          ],
          [
           "Manhattan",
           "electronics"
          ],
          [
           "Manhattan",
           "electronics"
          ],
          [
           "Manhattan",
           "electronics"
          ],
          [
           "Manhattan",
           "electronics"
          ],
          [
           "Manhattan",
           "electronics"
          ],
          [
           "Manhattan",
           "electronics"
          ],
          [
           "Manhattan",
           "electronics"
          ],
          [
           "Manhattan",
           "electronics"
          ],
          [
           "Manhattan",
           "electronics"
          ],
          [
           "Manhattan",
           "electronics"
          ],
          [
           "Manhattan",
           "electronics"
          ],
          [
           "Manhattan",
           "electronics"
          ],
          [
           "Manhattan",
           "electronics"
          ],
          [
           "Manhattan",
           "electronics"
          ],
          [
           "Manhattan",
           "electronics"
          ],
          [
           "Manhattan",
           "electronics"
          ],
          [
           "Manhattan",
           "electronics"
          ],
          [
           "Manhattan",
           "electronics"
          ],
          [
           "Manhattan",
           "electronics"
          ],
          [
           "Manhattan",
           "electronics"
          ],
          [
           "Manhattan",
           "electronics"
          ],
          [
           "Manhattan",
           "electronics"
          ],
          [
           "Manhattan",
           "electronics"
          ],
          [
           "Manhattan",
           "electronics"
          ],
          [
           "Manhattan",
           "electronics"
          ],
          [
           "Queens",
           "electronics"
          ],
          [
           "Queens",
           "electronics"
          ],
          [
           "Queens",
           "electronics"
          ],
          [
           "Queens",
           "electronics"
          ],
          [
           "Queens",
           "electronics"
          ],
          [
           "Queens",
           "electronics"
          ],
          [
           "Queens",
           "electronics"
          ],
          [
           "Queens",
           "electronics"
          ],
          [
           "Queens",
           "electronics"
          ],
          [
           "Queens",
           "electronics"
          ],
          [
           "Queens",
           "electronics"
          ],
          [
           "Queens",
           "electronics"
          ],
          [
           "Queens",
           "electronics"
          ],
          [
           "Queens",
           "electronics"
          ],
          [
           "Queens",
           "electronics"
          ],
          [
           "Queens",
           "electronics"
          ],
          [
           "Queens",
           "electronics"
          ],
          [
           "Queens",
           "electronics"
          ],
          [
           "Queens",
           "electronics"
          ],
          [
           "Queens",
           "electronics"
          ],
          [
           "Staten Island",
           "electronics"
          ],
          [
           "Staten Island",
           "electronics"
          ],
          [
           "Staten Island",
           "electronics"
          ],
          [
           "Staten Island",
           "electronics"
          ]
         ],
         "hovertemplate": "color=#0000ff<br>latitude=%{lat}<br>longitude=%{lon}<br>boro=%{customdata[0]}<br>type=%{customdata[1]}<extra></extra>",
         "lat": [
          40.8306088,
          40.860358,
          40.8114884,
          40.845553,
          40.8608912,
          40.8219403,
          40.8518616,
          40.8677019,
          40.8810804,
          40.816877,
          40.7180048,
          40.6855509,
          40.592733,
          40.6863101,
          40.6362001,
          40.7326092,
          40.651344,
          40.6098192,
          40.6838452,
          40.5936458,
          40.6467058,
          40.6295254,
          40.6118064,
          40.5990083,
          40.5908736,
          40.6741737,
          40.6539242,
          40.7226339,
          40.6166088,
          40.681119,
          40.6887457,
          40.678631,
          40.7326047,
          40.743678,
          40.738365,
          40.8056313,
          40.794759,
          40.762665,
          40.7798872,
          40.7700779,
          40.7344091,
          40.7544351,
          40.7423606,
          40.725747,
          40.8083328,
          40.7539257,
          40.7495369,
          40.7478754,
          40.7848159,
          40.7331767,
          40.7604408,
          40.852244,
          40.7519146,
          40.7530426,
          40.7430749,
          40.7354498,
          40.7407266,
          40.7509006,
          40.7311383,
          40.7604799,
          40.732951,
          40.7444737,
          40.778473,
          40.7793,
          40.783755,
          40.812497,
          40.7382752,
          40.801328,
          40.848289,
          40.70127,
          40.7566145,
          40.746743,
          40.7575281,
          40.7534523,
          40.7353074,
          40.6897907,
          40.720443,
          40.7821272,
          40.7590732,
          40.7702468,
          40.7538623,
          40.7411879,
          40.7158271,
          40.7333304,
          40.7116062,
          40.6989379,
          40.748528,
          40.7415286,
          40.7581531,
          40.5769947,
          40.623861,
          40.5838147,
          40.5742785
         ],
         "legendgroup": "#0000ff",
         "lon": [
          -73.891455,
          -73.9030775,
          -73.9257636,
          -73.901079,
          -73.8913166,
          -73.9301166,
          -73.8674386,
          -73.8286649,
          -73.9023443,
          -73.918804,
          -73.9575848,
          -73.960619,
          -73.940786,
          -73.9838984,
          -74.0260663,
          -73.9549618,
          -73.873167,
          -73.9216133,
          -73.9754325,
          -73.9989895,
          -73.9578905,
          -73.928339,
          -73.9630824,
          -73.9852812,
          -73.9503307,
          -73.9868727,
          -73.8732584,
          -73.9393371,
          -74.0300263,
          -73.956988,
          -73.9842131,
          -73.987452,
          -73.9903344,
          -73.999235,
          -73.9824462,
          -73.9413695,
          -73.972784,
          -73.995377,
          -73.9557037,
          -73.981592,
          -73.9904346,
          -73.9796913,
          -73.9923849,
          -73.9959279,
          -73.945866,
          -73.9854091,
          -73.988499,
          -73.9837462,
          -73.9788032,
          -73.9995147,
          -73.9710375,
          -73.934254,
          -73.9825561,
          -73.9924445,
          -73.9765721,
          -73.9915753,
          -73.9948313,
          -73.973911,
          -73.9923455,
          -73.98709,
          -73.998643,
          -73.9921732,
          -73.980571,
          -73.950294,
          -73.979007,
          -73.938164,
          -73.9822849,
          -73.937068,
          -73.931997,
          -73.805563,
          -73.9212251,
          -73.9026954,
          -73.8356912,
          -73.9121271,
          -73.8747611,
          -73.841335,
          -73.844168,
          -73.8347154,
          -73.772986,
          -73.9179077,
          -73.9089981,
          -73.9070126,
          -73.9018412,
          -73.8635717,
          -73.8581226,
          -73.8150529,
          -73.873001,
          -73.9337864,
          -73.919959,
          -74.1674401,
          -74.1391954,
          -74.0962032,
          -74.1694432
         ],
         "marker": {
          "color": "#EF553B",
          "opacity": 1
         },
         "mode": "markers",
         "name": "#0000ff",
         "selected": {
          "marker": {
           "opacity": 1,
           "size": 10
          }
         },
         "showlegend": true,
         "subplot": "mapbox",
         "type": "scattermapbox",
         "unselected": {
          "marker": {
           "opacity": 0.8,
           "size": 5
          }
         }
        },
        {
         "customdata": [
          [
           "Bronx",
           "hazardous waste recycling"
          ],
          [
           "Brooklyn",
           "hazardous waste recycling"
          ],
          [
           "Manhattan",
           "hazardous waste recycling"
          ],
          [
           "Queens",
           "hazardous waste recycling"
          ],
          [
           "Staten Island",
           "hazardous waste recycling"
          ]
         ],
         "hovertemplate": "color=#FF0000<br>latitude=%{lat}<br>longitude=%{lon}<br>boro=%{customdata[0]}<br>type=%{customdata[1]}<extra></extra>",
         "lat": [
          40.80306136,
          40.73565554,
          40.70990701,
          40.77100135,
          40.57012962
         ],
         "legendgroup": "#FF0000",
         "lon": [
          -73.87485887,
          -73.94613805,
          -73.99232338,
          -73.84714946,
          -74.19481927
         ],
         "marker": {
          "color": "#00cc96",
          "opacity": 1
         },
         "mode": "markers",
         "name": "#FF0000",
         "selected": {
          "marker": {
           "opacity": 1,
           "size": 10
          }
         },
         "showlegend": true,
         "subplot": "mapbox",
         "type": "scattermapbox",
         "unselected": {
          "marker": {
           "opacity": 0.8,
           "size": 5
          }
         }
        },
        {
         "customdata": [
          [
           "Manhattan",
           "plastic bag recycling"
          ],
          [
           "Manhattan",
           "plastic bag recycling"
          ]
         ],
         "hovertemplate": "color=#00ff00<br>latitude=%{lat}<br>longitude=%{lon}<br>boro=%{customdata[0]}<br>type=%{customdata[1]}<extra></extra>",
         "lat": [
          40.795386,
          40.7862449
         ],
         "legendgroup": "#00ff00",
         "lon": [
          -73.9310222,
          -73.978733
         ],
         "marker": {
          "color": "#ab63fa",
          "opacity": 1
         },
         "mode": "markers",
         "name": "#00ff00",
         "selected": {
          "marker": {
           "opacity": 1,
           "size": 10
          }
         },
         "showlegend": true,
         "subplot": "mapbox",
         "type": "scattermapbox",
         "unselected": {
          "marker": {
           "opacity": 0.8,
           "size": 5
          }
         }
        },
        {
         "customdata": [
          [
           "Bronx",
           "public recycling bin"
          ],
          [
           "Bronx",
           "public recycling bin"
          ],
          [
           "Bronx",
           "public recycling bin"
          ],
          [
           "Bronx",
           "public recycling bin"
          ],
          [
           "Bronx",
           "public recycling bin"
          ],
          [
           "Bronx",
           "public recycling bin"
          ],
          [
           "Bronx",
           "public recycling bin"
          ],
          [
           "Bronx",
           "public recycling bin"
          ],
          [
           "Bronx",
           "public recycling bin"
          ],
          [
           "Bronx",
           "public recycling bin"
          ],
          [
           "Bronx",
           "public recycling bin"
          ],
          [
           "Bronx",
           "public recycling bin"
          ],
          [
           "Bronx",
           "public recycling bin"
          ],
          [
           "Bronx",
           "public recycling bin"
          ],
          [
           "Bronx",
           "public recycling bin"
          ],
          [
           "Bronx",
           "public recycling bin"
          ],
          [
           "Bronx",
           "public recycling bin"
          ],
          [
           "Bronx",
           "public recycling bin"
          ],
          [
           "Bronx",
           "public recycling bin"
          ],
          [
           "Bronx",
           "public recycling bin"
          ],
          [
           "Bronx",
           "public recycling bin"
          ],
          [
           "Bronx",
           "public recycling bin"
          ],
          [
           "Bronx",
           "public recycling bin"
          ],
          [
           "Bronx",
           "public recycling bin"
          ],
          [
           "Bronx",
           "public recycling bin"
          ],
          [
           "Bronx",
           "public recycling bin"
          ],
          [
           "Bronx",
           "public recycling bin"
          ],
          [
           "Bronx",
           "public recycling bin"
          ],
          [
           "Bronx",
           "public recycling bin"
          ],
          [
           "Bronx",
           "public recycling bin"
          ],
          [
           "Bronx",
           "public recycling bin"
          ],
          [
           "Bronx",
           "public recycling bin"
          ],
          [
           "Bronx",
           "public recycling bin"
          ],
          [
           "Bronx",
           "public recycling bin"
          ],
          [
           "Bronx",
           "public recycling bin"
          ],
          [
           "Bronx",
           "public recycling bin"
          ],
          [
           "Bronx",
           "public recycling bin"
          ],
          [
           "Bronx",
           "public recycling bin"
          ],
          [
           "Bronx",
           "public recycling bin"
          ],
          [
           "Bronx",
           "public recycling bin"
          ],
          [
           "Bronx",
           "public recycling bin"
          ],
          [
           "Bronx",
           "public recycling bin"
          ],
          [
           "Bronx",
           "public recycling bin"
          ],
          [
           "Bronx",
           "public recycling bin"
          ],
          [
           "Bronx",
           "public recycling bin"
          ],
          [
           "Bronx",
           "public recycling bin"
          ],
          [
           "Bronx",
           "public recycling bin"
          ],
          [
           "Bronx",
           "public recycling bin"
          ],
          [
           "Bronx",
           "public recycling bin"
          ],
          [
           "Bronx",
           "public recycling bin"
          ],
          [
           "Bronx",
           "public recycling bin"
          ],
          [
           "Bronx",
           "public recycling bin"
          ],
          [
           "Bronx",
           "public recycling bin"
          ],
          [
           "Bronx",
           "public recycling bin"
          ],
          [
           "Bronx",
           "public recycling bin"
          ],
          [
           "Bronx",
           "public recycling bin"
          ],
          [
           "Bronx",
           "public recycling bin"
          ],
          [
           "Bronx",
           "public recycling bin"
          ],
          [
           "Bronx",
           "public recycling bin"
          ],
          [
           "Bronx",
           "public recycling bin"
          ],
          [
           "Bronx",
           "public recycling bin"
          ],
          [
           "Bronx",
           "public recycling bin"
          ],
          [
           "Bronx",
           "public recycling bin"
          ],
          [
           "Bronx",
           "public recycling bin"
          ],
          [
           "Bronx",
           "public recycling bin"
          ],
          [
           "Bronx",
           "public recycling bin"
          ],
          [
           "Bronx",
           "public recycling bin"
          ],
          [
           "Bronx",
           "public recycling bin"
          ],
          [
           "Bronx",
           "public recycling bin"
          ],
          [
           "Bronx",
           "public recycling bin"
          ],
          [
           "Bronx",
           "public recycling bin"
          ],
          [
           "Bronx",
           "public recycling bin"
          ],
          [
           "Bronx",
           "public recycling bin"
          ],
          [
           "Bronx",
           "public recycling bin"
          ],
          [
           "Bronx",
           "public recycling bin"
          ],
          [
           "Bronx",
           "public recycling bin"
          ],
          [
           "Bronx",
           "public recycling bin"
          ],
          [
           "Bronx",
           "public recycling bin"
          ],
          [
           "Bronx",
           "public recycling bin"
          ],
          [
           "Bronx",
           "public recycling bin"
          ],
          [
           "Bronx",
           "public recycling bin"
          ],
          [
           "Bronx",
           "public recycling bin"
          ],
          [
           "Bronx",
           "public recycling bin"
          ],
          [
           "Bronx",
           "public recycling bin"
          ],
          [
           "Bronx",
           "public recycling bin"
          ],
          [
           "Bronx",
           "public recycling bin"
          ],
          [
           "Bronx",
           "public recycling bin"
          ],
          [
           "Bronx",
           "public recycling bin"
          ],
          [
           "Bronx",
           "public recycling bin"
          ],
          [
           "Bronx",
           "public recycling bin"
          ],
          [
           "Bronx",
           "public recycling bin"
          ],
          [
           "Bronx",
           "public recycling bin"
          ],
          [
           "Bronx",
           "public recycling bin"
          ],
          [
           "Bronx",
           "public recycling bin"
          ],
          [
           "Bronx",
           "public recycling bin"
          ],
          [
           "Bronx",
           "public recycling bin"
          ],
          [
           "Bronx",
           "public recycling bin"
          ],
          [
           "Bronx",
           "public recycling bin"
          ],
          [
           "Bronx",
           "public recycling bin"
          ],
          [
           "Bronx",
           "public recycling bin"
          ],
          [
           "Bronx",
           "public recycling bin"
          ],
          [
           "Bronx",
           "public recycling bin"
          ],
          [
           "Bronx",
           "public recycling bin"
          ],
          [
           "Bronx",
           "public recycling bin"
          ],
          [
           "Bronx",
           "public recycling bin"
          ],
          [
           "Bronx",
           "public recycling bin"
          ],
          [
           "Bronx",
           "public recycling bin"
          ],
          [
           "Brooklyn",
           "public recycling bin"
          ],
          [
           "Brooklyn",
           "public recycling bin"
          ],
          [
           "Brooklyn",
           "public recycling bin"
          ],
          [
           "Brooklyn",
           "public recycling bin"
          ],
          [
           "Brooklyn",
           "public recycling bin"
          ],
          [
           "Brooklyn",
           "public recycling bin"
          ],
          [
           "Brooklyn",
           "public recycling bin"
          ],
          [
           "Brooklyn",
           "public recycling bin"
          ],
          [
           "Brooklyn",
           "public recycling bin"
          ],
          [
           "Brooklyn",
           "public recycling bin"
          ],
          [
           "Brooklyn",
           "public recycling bin"
          ],
          [
           "Brooklyn",
           "public recycling bin"
          ],
          [
           "Brooklyn",
           "public recycling bin"
          ],
          [
           "Brooklyn",
           "public recycling bin"
          ],
          [
           "Brooklyn",
           "public recycling bin"
          ],
          [
           "Brooklyn",
           "public recycling bin"
          ],
          [
           "Brooklyn",
           "public recycling bin"
          ],
          [
           "Brooklyn",
           "public recycling bin"
          ],
          [
           "Brooklyn",
           "public recycling bin"
          ],
          [
           "Brooklyn",
           "public recycling bin"
          ],
          [
           "Brooklyn",
           "public recycling bin"
          ],
          [
           "Brooklyn",
           "public recycling bin"
          ],
          [
           "Brooklyn",
           "public recycling bin"
          ],
          [
           "Brooklyn",
           "public recycling bin"
          ],
          [
           "Brooklyn",
           "public recycling bin"
          ],
          [
           "Brooklyn",
           "public recycling bin"
          ],
          [
           "Brooklyn",
           "public recycling bin"
          ],
          [
           "Brooklyn",
           "public recycling bin"
          ],
          [
           "Brooklyn",
           "public recycling bin"
          ],
          [
           "Brooklyn",
           "public recycling bin"
          ],
          [
           "Brooklyn",
           "public recycling bin"
          ],
          [
           "Brooklyn",
           "public recycling bin"
          ],
          [
           "Brooklyn",
           "public recycling bin"
          ],
          [
           "Brooklyn",
           "public recycling bin"
          ],
          [
           "Brooklyn",
           "public recycling bin"
          ],
          [
           "Brooklyn",
           "public recycling bin"
          ],
          [
           "Brooklyn",
           "public recycling bin"
          ],
          [
           "Brooklyn",
           "public recycling bin"
          ],
          [
           "Brooklyn",
           "public recycling bin"
          ],
          [
           "Brooklyn",
           "public recycling bin"
          ],
          [
           "Brooklyn",
           "public recycling bin"
          ],
          [
           "Brooklyn",
           "public recycling bin"
          ],
          [
           "Brooklyn",
           "public recycling bin"
          ],
          [
           "Brooklyn",
           "public recycling bin"
          ],
          [
           "Brooklyn",
           "public recycling bin"
          ],
          [
           "Brooklyn",
           "public recycling bin"
          ],
          [
           "Brooklyn",
           "public recycling bin"
          ],
          [
           "Brooklyn",
           "public recycling bin"
          ],
          [
           "Brooklyn",
           "public recycling bin"
          ],
          [
           "Brooklyn",
           "public recycling bin"
          ],
          [
           "Brooklyn",
           "public recycling bin"
          ],
          [
           "Brooklyn",
           "public recycling bin"
          ],
          [
           "Brooklyn",
           "public recycling bin"
          ],
          [
           "Brooklyn",
           "public recycling bin"
          ],
          [
           "Brooklyn",
           "public recycling bin"
          ],
          [
           "Brooklyn",
           "public recycling bin"
          ],
          [
           "Brooklyn",
           "public recycling bin"
          ],
          [
           "Brooklyn",
           "public recycling bin"
          ],
          [
           "Brooklyn",
           "public recycling bin"
          ],
          [
           "Brooklyn",
           "public recycling bin"
          ],
          [
           "Brooklyn",
           "public recycling bin"
          ],
          [
           "Brooklyn",
           "public recycling bin"
          ],
          [
           "Brooklyn",
           "public recycling bin"
          ],
          [
           "Brooklyn",
           "public recycling bin"
          ],
          [
           "Brooklyn",
           "public recycling bin"
          ],
          [
           "Brooklyn",
           "public recycling bin"
          ],
          [
           "Brooklyn",
           "public recycling bin"
          ],
          [
           "Brooklyn",
           "public recycling bin"
          ],
          [
           "Brooklyn",
           "public recycling bin"
          ],
          [
           "Brooklyn",
           "public recycling bin"
          ],
          [
           "Brooklyn",
           "public recycling bin"
          ],
          [
           "Brooklyn",
           "public recycling bin"
          ],
          [
           "Brooklyn",
           "public recycling bin"
          ],
          [
           "Brooklyn",
           "public recycling bin"
          ],
          [
           "Brooklyn",
           "public recycling bin"
          ],
          [
           "Brooklyn",
           "public recycling bin"
          ],
          [
           "Brooklyn",
           "public recycling bin"
          ],
          [
           "Brooklyn",
           "public recycling bin"
          ],
          [
           "Brooklyn",
           "public recycling bin"
          ],
          [
           "Brooklyn",
           "public recycling bin"
          ],
          [
           "Brooklyn",
           "public recycling bin"
          ],
          [
           "Brooklyn",
           "public recycling bin"
          ],
          [
           "Brooklyn",
           "public recycling bin"
          ],
          [
           "Brooklyn",
           "public recycling bin"
          ],
          [
           "Brooklyn",
           "public recycling bin"
          ],
          [
           "Brooklyn",
           "public recycling bin"
          ],
          [
           "Brooklyn",
           "public recycling bin"
          ],
          [
           "Brooklyn",
           "public recycling bin"
          ],
          [
           "Brooklyn",
           "public recycling bin"
          ],
          [
           "Brooklyn",
           "public recycling bin"
          ],
          [
           "Brooklyn",
           "public recycling bin"
          ],
          [
           "Brooklyn",
           "public recycling bin"
          ],
          [
           "Brooklyn",
           "public recycling bin"
          ],
          [
           "Manhattan",
           "public recycling bin"
          ],
          [
           "Manhattan",
           "public recycling bin"
          ],
          [
           "Manhattan",
           "public recycling bin"
          ],
          [
           "Manhattan",
           "public recycling bin"
          ],
          [
           "Manhattan",
           "public recycling bin"
          ],
          [
           "Manhattan",
           "public recycling bin"
          ],
          [
           "Manhattan",
           "public recycling bin"
          ],
          [
           "Manhattan",
           "public recycling bin"
          ],
          [
           "Manhattan",
           "public recycling bin"
          ],
          [
           "Manhattan",
           "public recycling bin"
          ],
          [
           "Manhattan",
           "public recycling bin"
          ],
          [
           "Manhattan",
           "public recycling bin"
          ],
          [
           "Manhattan",
           "public recycling bin"
          ],
          [
           "Manhattan",
           "public recycling bin"
          ],
          [
           "Manhattan",
           "public recycling bin"
          ],
          [
           "Manhattan",
           "public recycling bin"
          ],
          [
           "Manhattan",
           "public recycling bin"
          ],
          [
           "Manhattan",
           "public recycling bin"
          ],
          [
           "Manhattan",
           "public recycling bin"
          ],
          [
           "Manhattan",
           "public recycling bin"
          ],
          [
           "Manhattan",
           "public recycling bin"
          ],
          [
           "Manhattan",
           "public recycling bin"
          ],
          [
           "Manhattan",
           "public recycling bin"
          ],
          [
           "Manhattan",
           "public recycling bin"
          ],
          [
           "Manhattan",
           "public recycling bin"
          ],
          [
           "Manhattan",
           "public recycling bin"
          ],
          [
           "Manhattan",
           "public recycling bin"
          ],
          [
           "Manhattan",
           "public recycling bin"
          ],
          [
           "Manhattan",
           "public recycling bin"
          ],
          [
           "Manhattan",
           "public recycling bin"
          ],
          [
           "Manhattan",
           "public recycling bin"
          ],
          [
           "Manhattan",
           "public recycling bin"
          ],
          [
           "Manhattan",
           "public recycling bin"
          ],
          [
           "Manhattan",
           "public recycling bin"
          ],
          [
           "Manhattan",
           "public recycling bin"
          ],
          [
           "Manhattan",
           "public recycling bin"
          ],
          [
           "Manhattan",
           "public recycling bin"
          ],
          [
           "Manhattan",
           "public recycling bin"
          ],
          [
           "Manhattan",
           "public recycling bin"
          ],
          [
           "Manhattan",
           "public recycling bin"
          ],
          [
           "Manhattan",
           "public recycling bin"
          ],
          [
           "Manhattan",
           "public recycling bin"
          ],
          [
           "Manhattan",
           "public recycling bin"
          ],
          [
           "Manhattan",
           "public recycling bin"
          ],
          [
           "Manhattan",
           "public recycling bin"
          ],
          [
           "Manhattan",
           "public recycling bin"
          ],
          [
           "Manhattan",
           "public recycling bin"
          ],
          [
           "Manhattan",
           "public recycling bin"
          ],
          [
           "Manhattan",
           "public recycling bin"
          ],
          [
           "Manhattan",
           "public recycling bin"
          ],
          [
           "Manhattan",
           "public recycling bin"
          ],
          [
           "Manhattan",
           "public recycling bin"
          ],
          [
           "Manhattan",
           "public recycling bin"
          ],
          [
           "Manhattan",
           "public recycling bin"
          ],
          [
           "Manhattan",
           "public recycling bin"
          ],
          [
           "Manhattan",
           "public recycling bin"
          ],
          [
           "Manhattan",
           "public recycling bin"
          ],
          [
           "Manhattan",
           "public recycling bin"
          ],
          [
           "Manhattan",
           "public recycling bin"
          ],
          [
           "Manhattan",
           "public recycling bin"
          ],
          [
           "Manhattan",
           "public recycling bin"
          ],
          [
           "Manhattan",
           "public recycling bin"
          ],
          [
           "Manhattan",
           "public recycling bin"
          ],
          [
           "Manhattan",
           "public recycling bin"
          ],
          [
           "Manhattan",
           "public recycling bin"
          ],
          [
           "Manhattan",
           "public recycling bin"
          ],
          [
           "Manhattan",
           "public recycling bin"
          ],
          [
           "Manhattan",
           "public recycling bin"
          ],
          [
           "Manhattan",
           "public recycling bin"
          ],
          [
           "Manhattan",
           "public recycling bin"
          ],
          [
           "Manhattan",
           "public recycling bin"
          ],
          [
           "Manhattan",
           "public recycling bin"
          ],
          [
           "Manhattan",
           "public recycling bin"
          ],
          [
           "Manhattan",
           "public recycling bin"
          ],
          [
           "Manhattan",
           "public recycling bin"
          ],
          [
           "Manhattan",
           "public recycling bin"
          ],
          [
           "Manhattan",
           "public recycling bin"
          ],
          [
           "Manhattan",
           "public recycling bin"
          ],
          [
           "Manhattan",
           "public recycling bin"
          ],
          [
           "Manhattan",
           "public recycling bin"
          ],
          [
           "Manhattan",
           "public recycling bin"
          ],
          [
           "Manhattan",
           "public recycling bin"
          ],
          [
           "Manhattan",
           "public recycling bin"
          ],
          [
           "Manhattan",
           "public recycling bin"
          ],
          [
           "Manhattan",
           "public recycling bin"
          ],
          [
           "Manhattan",
           "public recycling bin"
          ],
          [
           "Manhattan",
           "public recycling bin"
          ],
          [
           "Manhattan",
           "public recycling bin"
          ],
          [
           "Manhattan",
           "public recycling bin"
          ],
          [
           "Manhattan",
           "public recycling bin"
          ],
          [
           "Manhattan",
           "public recycling bin"
          ],
          [
           "Manhattan",
           "public recycling bin"
          ],
          [
           "Manhattan",
           "public recycling bin"
          ],
          [
           "Manhattan",
           "public recycling bin"
          ],
          [
           "Manhattan",
           "public recycling bin"
          ],
          [
           "Manhattan",
           "public recycling bin"
          ],
          [
           "Manhattan",
           "public recycling bin"
          ],
          [
           "Manhattan",
           "public recycling bin"
          ],
          [
           "Manhattan",
           "public recycling bin"
          ],
          [
           "Manhattan",
           "public recycling bin"
          ],
          [
           "Manhattan",
           "public recycling bin"
          ],
          [
           "Manhattan",
           "public recycling bin"
          ],
          [
           "Manhattan",
           "public recycling bin"
          ],
          [
           "Manhattan",
           "public recycling bin"
          ],
          [
           "Manhattan",
           "public recycling bin"
          ],
          [
           "Manhattan",
           "public recycling bin"
          ],
          [
           "Manhattan",
           "public recycling bin"
          ],
          [
           "Manhattan",
           "public recycling bin"
          ],
          [
           "Manhattan",
           "public recycling bin"
          ],
          [
           "Manhattan",
           "public recycling bin"
          ],
          [
           "Manhattan",
           "public recycling bin"
          ],
          [
           "Manhattan",
           "public recycling bin"
          ],
          [
           "Manhattan",
           "public recycling bin"
          ],
          [
           "Manhattan",
           "public recycling bin"
          ],
          [
           "Manhattan",
           "public recycling bin"
          ],
          [
           "Manhattan",
           "public recycling bin"
          ],
          [
           "Manhattan",
           "public recycling bin"
          ],
          [
           "Manhattan",
           "public recycling bin"
          ],
          [
           "Manhattan",
           "public recycling bin"
          ],
          [
           "Manhattan",
           "public recycling bin"
          ],
          [
           "Manhattan",
           "public recycling bin"
          ],
          [
           "Manhattan",
           "public recycling bin"
          ],
          [
           "Manhattan",
           "public recycling bin"
          ],
          [
           "Manhattan",
           "public recycling bin"
          ],
          [
           "Manhattan",
           "public recycling bin"
          ],
          [
           "Manhattan",
           "public recycling bin"
          ],
          [
           "Manhattan",
           "public recycling bin"
          ],
          [
           "Manhattan",
           "public recycling bin"
          ],
          [
           "Manhattan",
           "public recycling bin"
          ],
          [
           "Manhattan",
           "public recycling bin"
          ],
          [
           "Manhattan",
           "public recycling bin"
          ],
          [
           "Manhattan",
           "public recycling bin"
          ],
          [
           "Manhattan",
           "public recycling bin"
          ],
          [
           "Manhattan",
           "public recycling bin"
          ],
          [
           "Manhattan",
           "public recycling bin"
          ],
          [
           "Manhattan",
           "public recycling bin"
          ],
          [
           "Manhattan",
           "public recycling bin"
          ],
          [
           "Manhattan",
           "public recycling bin"
          ],
          [
           "Manhattan",
           "public recycling bin"
          ],
          [
           "Manhattan",
           "public recycling bin"
          ],
          [
           "Manhattan",
           "public recycling bin"
          ],
          [
           "Manhattan",
           "public recycling bin"
          ],
          [
           "Manhattan",
           "public recycling bin"
          ],
          [
           "Manhattan",
           "public recycling bin"
          ],
          [
           "Manhattan",
           "public recycling bin"
          ],
          [
           "Manhattan",
           "public recycling bin"
          ],
          [
           "Manhattan",
           "public recycling bin"
          ],
          [
           "Manhattan",
           "public recycling bin"
          ],
          [
           "Manhattan",
           "public recycling bin"
          ],
          [
           "Manhattan",
           "public recycling bin"
          ],
          [
           "Manhattan",
           "public recycling bin"
          ],
          [
           "Manhattan",
           "public recycling bin"
          ],
          [
           "Manhattan",
           "public recycling bin"
          ],
          [
           "Manhattan",
           "public recycling bin"
          ],
          [
           "Manhattan",
           "public recycling bin"
          ],
          [
           "Manhattan",
           "public recycling bin"
          ],
          [
           "Manhattan",
           "public recycling bin"
          ],
          [
           "Manhattan",
           "public recycling bin"
          ],
          [
           "Manhattan",
           "public recycling bin"
          ],
          [
           "Manhattan",
           "public recycling bin"
          ],
          [
           "Manhattan",
           "public recycling bin"
          ],
          [
           "Manhattan",
           "public recycling bin"
          ],
          [
           "Manhattan",
           "public recycling bin"
          ],
          [
           "Manhattan",
           "public recycling bin"
          ],
          [
           "Manhattan",
           "public recycling bin"
          ],
          [
           "Manhattan",
           "public recycling bin"
          ],
          [
           "Manhattan",
           "public recycling bin"
          ],
          [
           "Manhattan",
           "public recycling bin"
          ],
          [
           "Manhattan",
           "public recycling bin"
          ],
          [
           "Manhattan",
           "public recycling bin"
          ],
          [
           "Manhattan",
           "public recycling bin"
          ],
          [
           "Manhattan",
           "public recycling bin"
          ],
          [
           "Manhattan",
           "public recycling bin"
          ],
          [
           "Manhattan",
           "public recycling bin"
          ],
          [
           "Manhattan",
           "public recycling bin"
          ],
          [
           "Manhattan",
           "public recycling bin"
          ],
          [
           "Manhattan",
           "public recycling bin"
          ],
          [
           "Manhattan",
           "public recycling bin"
          ],
          [
           "Manhattan",
           "public recycling bin"
          ],
          [
           "Manhattan",
           "public recycling bin"
          ],
          [
           "Manhattan",
           "public recycling bin"
          ],
          [
           "Manhattan",
           "public recycling bin"
          ],
          [
           "Manhattan",
           "public recycling bin"
          ],
          [
           "Queens",
           "public recycling bin"
          ],
          [
           "Queens",
           "public recycling bin"
          ],
          [
           "Queens",
           "public recycling bin"
          ],
          [
           "Queens",
           "public recycling bin"
          ],
          [
           "Queens",
           "public recycling bin"
          ],
          [
           "Queens",
           "public recycling bin"
          ],
          [
           "Queens",
           "public recycling bin"
          ],
          [
           "Queens",
           "public recycling bin"
          ],
          [
           "Queens",
           "public recycling bin"
          ],
          [
           "Queens",
           "public recycling bin"
          ],
          [
           "Queens",
           "public recycling bin"
          ],
          [
           "Queens",
           "public recycling bin"
          ],
          [
           "Queens",
           "public recycling bin"
          ],
          [
           "Queens",
           "public recycling bin"
          ],
          [
           "Queens",
           "public recycling bin"
          ],
          [
           "Queens",
           "public recycling bin"
          ],
          [
           "Queens",
           "public recycling bin"
          ],
          [
           "Queens",
           "public recycling bin"
          ],
          [
           "Queens",
           "public recycling bin"
          ],
          [
           "Queens",
           "public recycling bin"
          ],
          [
           "Queens",
           "public recycling bin"
          ],
          [
           "Queens",
           "public recycling bin"
          ],
          [
           "Queens",
           "public recycling bin"
          ],
          [
           "Queens",
           "public recycling bin"
          ],
          [
           "Queens",
           "public recycling bin"
          ],
          [
           "Queens",
           "public recycling bin"
          ],
          [
           "Queens",
           "public recycling bin"
          ],
          [
           "Queens",
           "public recycling bin"
          ],
          [
           "Queens",
           "public recycling bin"
          ],
          [
           "Queens",
           "public recycling bin"
          ],
          [
           "Queens",
           "public recycling bin"
          ],
          [
           "Queens",
           "public recycling bin"
          ],
          [
           "Queens",
           "public recycling bin"
          ],
          [
           "Queens",
           "public recycling bin"
          ],
          [
           "Queens",
           "public recycling bin"
          ],
          [
           "Queens",
           "public recycling bin"
          ],
          [
           "Queens",
           "public recycling bin"
          ],
          [
           "Queens",
           "public recycling bin"
          ],
          [
           "Queens",
           "public recycling bin"
          ],
          [
           "Queens",
           "public recycling bin"
          ],
          [
           "Queens",
           "public recycling bin"
          ],
          [
           "Queens",
           "public recycling bin"
          ],
          [
           "Queens",
           "public recycling bin"
          ],
          [
           "Queens",
           "public recycling bin"
          ],
          [
           "Queens",
           "public recycling bin"
          ],
          [
           "Queens",
           "public recycling bin"
          ],
          [
           "Queens",
           "public recycling bin"
          ],
          [
           "Queens",
           "public recycling bin"
          ],
          [
           "Queens",
           "public recycling bin"
          ],
          [
           "Queens",
           "public recycling bin"
          ],
          [
           "Queens",
           "public recycling bin"
          ],
          [
           "Queens",
           "public recycling bin"
          ],
          [
           "Queens",
           "public recycling bin"
          ],
          [
           "Queens",
           "public recycling bin"
          ],
          [
           "Queens",
           "public recycling bin"
          ],
          [
           "Queens",
           "public recycling bin"
          ],
          [
           "Queens",
           "public recycling bin"
          ],
          [
           "Queens",
           "public recycling bin"
          ],
          [
           "Queens",
           "public recycling bin"
          ],
          [
           "Queens",
           "public recycling bin"
          ],
          [
           "Queens",
           "public recycling bin"
          ],
          [
           "Queens",
           "public recycling bin"
          ],
          [
           "Queens",
           "public recycling bin"
          ],
          [
           "Queens",
           "public recycling bin"
          ],
          [
           "Queens",
           "public recycling bin"
          ],
          [
           "Queens",
           "public recycling bin"
          ],
          [
           "Queens",
           "public recycling bin"
          ],
          [
           "Queens",
           "public recycling bin"
          ],
          [
           "Queens",
           "public recycling bin"
          ],
          [
           "Queens",
           "public recycling bin"
          ],
          [
           "Queens",
           "public recycling bin"
          ],
          [
           "Queens",
           "public recycling bin"
          ],
          [
           "Queens",
           "public recycling bin"
          ],
          [
           "Queens",
           "public recycling bin"
          ],
          [
           "Queens",
           "public recycling bin"
          ],
          [
           "Queens",
           "public recycling bin"
          ],
          [
           "Queens",
           "public recycling bin"
          ],
          [
           "Queens",
           "public recycling bin"
          ],
          [
           "Queens",
           "public recycling bin"
          ],
          [
           "Queens",
           "public recycling bin"
          ],
          [
           "Queens",
           "public recycling bin"
          ],
          [
           "Queens",
           "public recycling bin"
          ],
          [
           "Queens",
           "public recycling bin"
          ],
          [
           "Queens",
           "public recycling bin"
          ],
          [
           "Queens",
           "public recycling bin"
          ],
          [
           "Queens",
           "public recycling bin"
          ],
          [
           "Queens",
           "public recycling bin"
          ],
          [
           "Queens",
           "public recycling bin"
          ],
          [
           "Queens",
           "public recycling bin"
          ],
          [
           "Queens",
           "public recycling bin"
          ],
          [
           "Queens",
           "public recycling bin"
          ],
          [
           "Queens",
           "public recycling bin"
          ],
          [
           "Queens",
           "public recycling bin"
          ],
          [
           "Queens",
           "public recycling bin"
          ],
          [
           "Queens",
           "public recycling bin"
          ],
          [
           "Queens",
           "public recycling bin"
          ],
          [
           "Queens",
           "public recycling bin"
          ],
          [
           "Queens",
           "public recycling bin"
          ],
          [
           "Queens",
           "public recycling bin"
          ],
          [
           "Queens",
           "public recycling bin"
          ],
          [
           "Queens",
           "public recycling bin"
          ],
          [
           "Queens",
           "public recycling bin"
          ],
          [
           "Queens",
           "public recycling bin"
          ],
          [
           "Queens",
           "public recycling bin"
          ],
          [
           "Queens",
           "public recycling bin"
          ],
          [
           "Queens",
           "public recycling bin"
          ],
          [
           "Queens",
           "public recycling bin"
          ],
          [
           "Queens",
           "public recycling bin"
          ],
          [
           "Queens",
           "public recycling bin"
          ],
          [
           "Queens",
           "public recycling bin"
          ],
          [
           "Queens",
           "public recycling bin"
          ],
          [
           "Queens",
           "public recycling bin"
          ],
          [
           "Queens",
           "public recycling bin"
          ],
          [
           "Queens",
           "public recycling bin"
          ],
          [
           "Queens",
           "public recycling bin"
          ],
          [
           "Queens",
           "public recycling bin"
          ],
          [
           "Staten Island",
           "public recycling bin"
          ],
          [
           "Staten Island",
           "public recycling bin"
          ],
          [
           "Staten Island",
           "public recycling bin"
          ],
          [
           "Staten Island",
           "public recycling bin"
          ],
          [
           "Staten Island",
           "public recycling bin"
          ],
          [
           "Staten Island",
           "public recycling bin"
          ],
          [
           "Staten Island",
           "public recycling bin"
          ],
          [
           "Staten Island",
           "public recycling bin"
          ],
          [
           "Staten Island",
           "public recycling bin"
          ],
          [
           "Staten Island",
           "public recycling bin"
          ],
          [
           "Staten Island",
           "public recycling bin"
          ],
          [
           "Staten Island",
           "public recycling bin"
          ],
          [
           "Staten Island",
           "public recycling bin"
          ],
          [
           "Staten Island",
           "public recycling bin"
          ],
          [
           "Staten Island",
           "public recycling bin"
          ],
          [
           "Staten Island",
           "public recycling bin"
          ],
          [
           "Staten Island",
           "public recycling bin"
          ],
          [
           "Staten Island",
           "public recycling bin"
          ],
          [
           "Staten Island",
           "public recycling bin"
          ],
          [
           "Staten Island",
           "public recycling bin"
          ],
          [
           "Staten Island",
           "public recycling bin"
          ],
          [
           "Staten Island",
           "public recycling bin"
          ],
          [
           "Staten Island",
           "public recycling bin"
          ],
          [
           "Staten Island",
           "public recycling bin"
          ],
          [
           "Staten Island",
           "public recycling bin"
          ],
          [
           "Staten Island",
           "public recycling bin"
          ],
          [
           "Staten Island",
           "public recycling bin"
          ],
          [
           "Staten Island",
           "public recycling bin"
          ],
          [
           "Staten Island",
           "public recycling bin"
          ],
          [
           "Staten Island",
           "public recycling bin"
          ],
          [
           "Staten Island",
           "public recycling bin"
          ],
          [
           "Staten Island",
           "public recycling bin"
          ],
          [
           "Staten Island",
           "public recycling bin"
          ],
          [
           "Staten Island",
           "public recycling bin"
          ],
          [
           "Staten Island",
           "public recycling bin"
          ],
          [
           "Staten Island",
           "public recycling bin"
          ],
          [
           "Staten Island",
           "public recycling bin"
          ],
          [
           "Staten Island",
           "public recycling bin"
          ],
          [
           "Staten Island",
           "public recycling bin"
          ],
          [
           "Staten Island",
           "public recycling bin"
          ],
          [
           "Staten Island",
           "public recycling bin"
          ],
          [
           "Staten Island",
           "public recycling bin"
          ]
         ],
         "hovertemplate": "color=#824100<br>latitude=%{lat}<br>longitude=%{lon}<br>boro=%{customdata[0]}<br>type=%{customdata[1]}<extra></extra>",
         "lat": [
          40.89084899,
          40.84889079,
          40.85557,
          40.871864,
          40.851889,
          40.861526,
          40.860755,
          40.859644,
          40.862602,
          40.826939,
          40.826627,
          40.854322,
          40.854445,
          40.850017,
          40.84976,
          40.819933,
          40.871706,
          40.911295,
          40.911236,
          40.825217,
          40.840115,
          40.835226,
          40.84133,
          40.840876,
          40.838351,
          40.841123,
          40.83377,
          40.841444,
          40.875553,
          40.833109,
          40.85042,
          40.849292,
          40.822893,
          40.813663,
          40.82201,
          40.862402,
          40.861948,
          40.861379,
          40.861267,
          40.869996,
          40.847026,
          40.816171,
          40.814213,
          40.817471,
          40.81484,
          40.858005,
          40.829632,
          40.827502,
          40.877667,
          40.835694,
          40.82297053,
          40.8229924,
          40.834258,
          40.831466,
          40.84155572,
          40.822711,
          40.889428,
          40.836706,
          40.90208,
          40.884079,
          40.866292,
          40.867984,
          40.868802,
          40.869068,
          40.872275,
          40.840504,
          40.840626,
          40.82366,
          40.838797,
          40.851723,
          40.849069,
          40.850274,
          40.841884,
          40.842795,
          40.903281,
          40.861953,
          40.873199,
          40.883881,
          40.885219,
          40.888353,
          40.865657,
          40.906878,
          40.819113,
          40.819274,
          40.817335,
          40.816505,
          40.835694,
          40.886538,
          40.887313,
          40.866089,
          40.865469,
          40.864779,
          40.811712,
          40.811588,
          40.80531601,
          40.887317,
          40.888933,
          40.888224,
          40.890172,
          40.888255,
          40.889096,
          40.833505,
          40.82057088,
          40.860641,
          40.828933,
          40.844147,
          40.895803,
          40.677973,
          40.57519,
          40.575239,
          40.629573,
          40.596833,
          40.68463,
          40.696536,
          40.673811,
          40.656762,
          40.722315,
          40.697327,
          40.695873,
          40.680946,
          40.681307,
          40.679442,
          40.68829,
          40.694143,
          40.697793,
          40.685861,
          40.610033,
          40.65021,
          40.687093,
          40.682556,
          40.687072,
          40.687208,
          40.689818,
          40.613322,
          40.67073271,
          40.672659,
          40.66101,
          40.700784,
          40.674221,
          40.67269,
          40.673262,
          40.578225,
          40.603519,
          40.695719,
          40.577672,
          40.577211,
          40.604085,
          40.721612,
          40.721535,
          40.72173,
          40.721933,
          40.720622,
          40.721653,
          40.719973,
          40.721075,
          40.724446,
          40.715086,
          40.692165,
          40.67207,
          40.693222,
          40.693473,
          40.693127,
          40.693456,
          40.720628,
          40.6659,
          40.639285,
          40.577492,
          40.668797,
          40.676639,
          40.696389,
          40.660478,
          40.655183,
          40.664608,
          40.66132,
          40.693761,
          40.677265,
          40.604374,
          40.617506,
          40.697746,
          40.701079,
          40.667491,
          40.673754,
          40.713316,
          40.650143,
          40.705616,
          40.706315,
          40.648468,
          40.709648,
          40.666548,
          40.665324,
          40.676766,
          40.688204,
          40.674329,
          40.695221,
          40.684658,
          40.70238,
          40.702631,
          40.702573,
          40.68293,
          40.683557,
          40.712187,
          40.715827,
          40.715923,
          40.71045,
          40.716396,
          40.718605,
          40.807945,
          40.716941,
          40.713608,
          40.714023,
          40.714399,
          40.716827,
          40.750901,
          40.71368,
          40.716458,
          40.716158,
          40.723831,
          40.715387,
          40.785787,
          40.785717,
          40.710412,
          40.736271,
          40.704592,
          40.711576,
          40.705075,
          40.711565,
          40.716092,
          40.739982,
          40.852856,
          40.736401,
          40.712939,
          40.71248,
          40.754391,
          40.753954,
          40.77453,
          40.804559,
          40.712796,
          40.749849,
          40.748355,
          40.749349,
          40.749318,
          40.711834,
          40.712806,
          40.712897,
          40.712517,
          40.710746,
          40.819645,
          40.71475,
          40.732377,
          40.804284,
          40.721757,
          40.71511,
          40.715356,
          40.807191,
          40.716205,
          40.760842,
          40.753938,
          40.730225,
          40.714357,
          40.715167,
          40.824847,
          40.751692,
          40.715109,
          40.719937,
          40.716618,
          40.717499,
          40.718372,
          40.718888,
          40.719832,
          40.721303,
          40.722911,
          40.723896,
          40.724113,
          40.725238,
          40.720057,
          40.812748,
          40.78613,
          40.806036,
          40.718742,
          40.74085,
          40.743298,
          40.739465,
          40.847983,
          40.746041,
          40.742795,
          40.714666,
          40.702411,
          40.70235,
          40.731457,
          40.728833,
          40.738145,
          40.748684,
          40.748507,
          40.751987,
          40.762839,
          40.770381,
          40.727097,
          40.701307,
          40.706124,
          40.87126,
          40.872594,
          40.867338,
          40.87303,
          40.84637,
          40.84696,
          40.824297,
          40.738952,
          40.859226,
          40.820071,
          40.769445,
          40.802588,
          40.771372,
          40.773715,
          40.828677,
          40.758977,
          40.799707,
          40.80413,
          40.801921,
          40.803133,
          40.805621,
          40.835708,
          40.780558,
          40.781265,
          40.781936,
          40.782175,
          40.782666,
          40.808183,
          40.711826,
          40.814478,
          40.867205,
          40.805463,
          40.720478,
          40.720176,
          40.719714,
          40.72917,
          40.73038,
          40.728828,
          40.732971,
          40.74341,
          40.763247,
          40.796609,
          40.707656,
          40.756564,
          40.787059,
          40.829744,
          40.721035,
          40.714603,
          40.724254,
          40.724319,
          40.72227,
          40.76512,
          40.817272,
          40.744858,
          40.73277,
          40.793412,
          40.715059,
          40.714045,
          40.714224,
          40.715355,
          40.755914,
          40.72603,
          40.726599,
          40.725698,
          40.729474,
          40.719979,
          40.735243,
          40.735219,
          40.735292,
          40.737023,
          40.736535,
          40.736122,
          40.73534,
          40.77878,
          40.72534,
          40.704695,
          40.704919,
          40.715575,
          40.717298,
          40.729689,
          40.806938,
          40.731315,
          40.788757,
          40.702335,
          40.755803,
          40.728344,
          40.673137,
          40.751418,
          40.76269,
          40.740063,
          40.739523,
          40.739295,
          40.738986,
          40.739758,
          40.776788,
          40.715851,
          40.683453,
          40.681366,
          40.675268,
          40.682418,
          40.758381,
          40.690594,
          40.66346,
          40.657674,
          40.661051,
          40.770753,
          40.667505,
          40.712529,
          40.779897,
          40.77208,
          40.595548,
          40.736722,
          40.73523,
          40.730966,
          40.73836,
          40.730117,
          40.729499,
          40.701915,
          40.730193,
          40.740388,
          40.728112,
          40.735169,
          40.749151,
          40.737039,
          40.7333,
          40.746639,
          40.744249,
          40.751882,
          40.698413,
          40.69664,
          40.701272,
          40.69747,
          40.702293,
          40.701854,
          40.69799,
          40.794781,
          40.792085,
          40.792357,
          40.692406,
          40.704591,
          40.753635,
          40.710069,
          40.71031,
          40.733135,
          40.733143,
          40.733068,
          40.732938,
          40.732701,
          40.733203,
          40.720689,
          40.720412,
          40.719988,
          40.719841,
          40.742502,
          40.742364,
          40.744148,
          40.749228,
          40.747887,
          40.732226,
          40.757266,
          40.721815,
          40.722012,
          40.72248,
          40.751632,
          40.750333,
          40.694407,
          40.740883,
          40.736171,
          40.747127,
          40.745794,
          40.744152,
          40.743599,
          40.765644,
          40.582137,
          40.5814,
          40.580754,
          40.585826,
          40.5844,
          40.58415,
          40.583412,
          40.582825,
          40.582479,
          40.585105,
          40.670613,
          40.691011,
          40.685918,
          40.688249,
          40.768029,
          40.602281,
          40.665379,
          40.665627,
          40.758219,
          40.758155,
          40.749844,
          40.749547,
          40.749687,
          40.754243,
          40.741628,
          40.701651,
          40.751914,
          40.574036,
          40.587445,
          40.586439,
          40.533819,
          40.535174,
          40.53514,
          40.531521,
          40.557382,
          40.560272,
          40.620135,
          40.618744,
          40.613891,
          40.637872,
          40.614615,
          40.640999,
          40.62005569,
          40.588496,
          40.584516,
          40.593686,
          40.564469,
          40.637596,
          40.585877,
          40.643368,
          40.57669,
          40.575019,
          40.628859,
          40.627186,
          40.628358,
          40.579313,
          40.642303,
          40.642709,
          40.642324,
          40.505646,
          40.642843,
          40.643799,
          40.643449,
          40.643343,
          40.637121,
          40.603832,
          40.603828,
          40.517368,
          40.518652
         ],
         "legendgroup": "#824100",
         "lon": [
          -73.86422392,
          -73.87712839,
          -73.887565,
          -73.805549,
          -73.868549,
          -73.880659,
          -73.880423,
          -73.880472,
          -73.880171,
          -73.922314,
          -73.922447,
          -73.869764,
          -73.869863,
          -73.880035,
          -73.880055,
          -73.887069,
          -73.872741,
          -73.907652,
          -73.90791,
          -73.88546,
          -73.895513,
          -73.895652,
          -73.892702,
          -73.898206,
          -73.893566,
          -73.898056,
          -73.877453,
          -73.888487,
          -73.860526,
          -73.828285,
          -73.915529,
          -73.902175,
          -73.91266,
          -73.905898,
          -73.914009,
          -73.897174,
          -73.893726,
          -73.881414,
          -73.89014,
          -73.876238,
          -73.882534,
          -73.917594,
          -73.885886,
          -73.882622,
          -73.90691,
          -73.90485,
          -73.921933,
          -73.923062,
          -73.90062,
          -73.925664,
          -73.91288322,
          -73.93189254,
          -73.923392,
          -73.923947,
          -73.87752267,
          -73.890242,
          -73.864356,
          -73.872355,
          -73.868519,
          -73.866996,
          -73.794774,
          -73.793396,
          -73.792261,
          -73.792558,
          -73.797323,
          -73.842668,
          -73.843231,
          -73.850766,
          -73.845791,
          -73.824697,
          -73.822954,
          -73.88992,
          -73.876389,
          -73.877694,
          -73.903612,
          -73.890736,
          -73.87052,
          -73.881691,
          -73.840474,
          -73.840908,
          -73.850613,
          -73.904143,
          -73.878003,
          -73.870418,
          -73.870322,
          -73.872564,
          -73.888776,
          -73.898453,
          -73.916308,
          -73.896967,
          -73.898571,
          -73.899257,
          -73.914339,
          -73.914342,
          -73.91533212,
          -73.899006,
          -73.898324,
          -73.896655,
          -73.896375,
          -73.897777,
          -73.892278,
          -73.86232,
          -73.91403138,
          -73.871488,
          -73.869326,
          -73.918886,
          -73.87943,
          -73.928171,
          -73.971342,
          -73.971889,
          -74.022532,
          -73.9994,
          -73.990234,
          -73.990675,
          -73.943717,
          -73.90247,
          -73.961527,
          -73.990337,
          -73.990218,
          -73.995481,
          -73.995212,
          -73.876233,
          -73.996136,
          -73.989791,
          -73.978653,
          -73.972638,
          -73.96952,
          -73.958798,
          -73.976238,
          -73.961975,
          -73.976557,
          -73.974621,
          -73.9732,
          -74.030067,
          -73.87967557,
          -73.885742,
          -73.895627,
          -73.995146,
          -73.888573,
          -73.984796,
          -73.984332,
          -73.994834,
          -73.957375,
          -73.990256,
          -73.944616,
          -73.946587,
          -73.930703,
          -73.953668,
          -73.954114,
          -73.953298,
          -73.955283,
          -73.952488,
          -73.950305,
          -73.952215,
          -73.955512,
          -73.943326,
          -73.960546,
          -73.985247,
          -73.96598,
          -73.971887,
          -73.979168,
          -73.96879,
          -73.965908,
          -73.965524,
          -73.887172,
          -74.031909,
          -73.946325,
          -73.980144,
          -73.978903,
          -73.99734,
          -73.963187,
          -73.962214,
          -73.976666,
          -73.979593,
          -73.948972,
          -74.008353,
          -73.930741,
          -74.040033,
          -73.976199,
          -73.995307,
          -73.89384,
          -73.934855,
          -73.938974,
          -73.884372,
          -73.947172,
          -73.948025,
          -74.006771,
          -73.950166,
          -73.887691,
          -73.886769,
          -73.965902,
          -73.966559,
          -73.877867,
          -73.943264,
          -73.925222,
          -73.986553,
          -73.990641,
          -73.989752,
          -73.964596,
          -73.966797,
          -74.005701,
          -74.000488,
          -74.001448,
          -74.003755,
          -74.001359,
          -73.993763,
          -73.945623,
          -74.000816,
          -74.003619,
          -74.004472,
          -74.006131,
          -74.004185,
          -73.990843,
          -74.005513,
          -74.002467,
          -74.002555,
          -73.980677,
          -74.001773,
          -73.951092,
          -73.950922,
          -73.996979,
          -73.975508,
          -74.016957,
          -74.016051,
          -74.017115,
          -74.015853,
          -74.000134,
          -73.978053,
          -73.938098,
          -74.005572,
          -74.007262,
          -74.007642,
          -73.983402,
          -73.984092,
          -73.943837,
          -73.952985,
          -74.004816,
          -74.000856,
          -74.002007,
          -74.007351,
          -74.006981,
          -74.007124,
          -74.004808,
          -74.007269,
          -74.007573,
          -73.993819,
          -73.936417,
          -74.000096,
          -74.010735,
          -73.931744,
          -73.996052,
          -74.002359,
          -74.002985,
          -73.934751,
          -73.975494,
          -73.969307,
          -73.986947,
          -74.002246,
          -74.003085,
          -74.002599,
          -73.935623,
          -73.975975,
          -74.011382,
          -73.981432,
          -73.975256,
          -73.974858,
          -73.974674,
          -73.974598,
          -73.974488,
          -73.974323,
          -73.973828,
          -73.973184,
          -73.973016,
          -73.972364,
          -73.981636,
          -73.939317,
          -73.943294,
          -73.934206,
          -74.013092,
          -74.008056,
          -74.007034,
          -74.008162,
          -73.929251,
          -74.006109,
          -74.008033,
          -74.002176,
          -74.012879,
          -74.014393,
          -74.010973,
          -74.011899,
          -74.010417,
          -74.008825,
          -74.009283,
          -74.008443,
          -74.001011,
          -73.995824,
          -74.011512,
          -74.011998,
          -74.004217,
          -73.930765,
          -73.930199,
          -73.929011,
          -73.918427,
          -73.940825,
          -73.940028,
          -73.942288,
          -74.002882,
          -73.934552,
          -73.952107,
          -73.949898,
          -73.938468,
          -73.982072,
          -73.981957,
          -73.948059,
          -73.991396,
          -73.962203,
          -73.958298,
          -73.960854,
          -73.958336,
          -73.958455,
          -73.939122,
          -73.972924,
          -73.975927,
          -73.97542,
          -73.972256,
          -73.973215,
          -73.95205,
          -74.007142,
          -73.943498,
          -73.929121,
          -73.946284,
          -74.016223,
          -74.013949,
          -74.012943,
          -74.011317,
          -74.011005,
          -74.011903,
          -74.010875,
          -74.009,
          -74.000042,
          -73.931602,
          -74.015976,
          -73.965043,
          -73.982257,
          -73.936431,
          -73.991596,
          -73.990111,
          -73.982088,
          -73.997828,
          -73.997287,
          -73.958509,
          -73.948248,
          -73.973764,
          -73.97406,
          -73.937115,
          -74.002355,
          -74.003135,
          -74.003285,
          -74.002982,
          -73.986712,
          -73.983353,
          -73.982985,
          -73.980843,
          -74.005489,
          -74.010272,
          -73.991012,
          -73.991603,
          -73.991614,
          -73.990324,
          -73.989754,
          -73.98963,
          -73.990127,
          -73.981788,
          -74.002324,
          -74.006729,
          -74.007084,
          -74.011301,
          -74.011001,
          -73.99662,
          -73.945301,
          -74.000988,
          -73.977788,
          -74.014384,
          -73.92631,
          -73.815159,
          -73.85461,
          -73.833843,
          -73.753297,
          -73.734291,
          -73.734881,
          -73.735873,
          -73.737665,
          -73.73546,
          -73.92753,
          -73.836995,
          -73.79213,
          -73.787854,
          -73.786905,
          -73.785392,
          -73.831008,
          -73.803822,
          -73.741329,
          -73.748388,
          -73.746639,
          -73.77174,
          -73.807496,
          -73.799377,
          -73.922391,
          -73.769438,
          -73.762266,
          -73.770538,
          -73.772083,
          -73.772458,
          -73.764991,
          -73.7727,
          -73.772888,
          -73.783477,
          -73.885302,
          -73.841879,
          -73.835592,
          -73.843435,
          -73.840066,
          -73.837856,
          -73.841976,
          -73.844583,
          -73.844068,
          -73.837459,
          -73.857672,
          -73.860344,
          -73.841922,
          -73.856664,
          -73.854765,
          -73.853145,
          -73.853295,
          -73.779207,
          -73.774357,
          -73.777013,
          -73.794745,
          -73.881944,
          -73.947615,
          -73.911456,
          -73.911063,
          -73.871233,
          -73.871427,
          -73.870885,
          -73.870916,
          -73.871081,
          -73.871822,
          -73.877521,
          -73.876474,
          -73.884693,
          -73.882971,
          -73.810261,
          -73.808518,
          -73.809333,
          -73.803658,
          -73.809765,
          -73.86515,
          -73.770978,
          -73.845511,
          -73.84608,
          -73.847477,
          -73.843676,
          -73.8441,
          -73.822116,
          -73.849318,
          -73.814014,
          -73.852214,
          -73.846729,
          -73.844476,
          -73.850355,
          -73.941159,
          -73.820127,
          -73.823377,
          -73.824936,
          -73.807265,
          -73.811254,
          -73.812472,
          -73.815484,
          -73.817858,
          -73.819097,
          -73.809223,
          -73.846257,
          -73.774207,
          -73.769315,
          -73.773574,
          -73.936159,
          -73.751564,
          -73.824555,
          -73.826703,
          -73.900278,
          -73.919785,
          -73.91475,
          -73.91514,
          -73.91427,
          -73.889365,
          -73.777362,
          -73.78315,
          -73.83732,
          -74.116627,
          -74.100364,
          -74.100257,
          -74.210241,
          -74.210125,
          -74.208524,
          -74.207153,
          -74.10392,
          -74.10104,
          -74.118801,
          -74.118278,
          -74.113523,
          -74.118791,
          -74.07412,
          -74.135418,
          -74.16311549,
          -74.138918,
          -74.125035,
          -74.135646,
          -74.097531,
          -74.074802,
          -74.100975,
          -74.086066,
          -74.098663,
          -74.098706,
          -74.118013,
          -74.091985,
          -74.099058,
          -74.077688,
          -74.076549,
          -74.075724,
          -74.075489,
          -74.235477,
          -74.11032,
          -74.108845,
          -74.11046,
          -74.108641,
          -74.119287,
          -74.158697,
          -74.16125,
          -74.190913,
          -74.18731
         ],
         "marker": {
          "color": "#FFA15A",
          "opacity": 1
         },
         "mode": "markers",
         "name": "#824100",
         "selected": {
          "marker": {
           "opacity": 1,
           "size": 10
          }
         },
         "showlegend": true,
         "subplot": "mapbox",
         "type": "scattermapbox",
         "unselected": {
          "marker": {
           "opacity": 0.8,
           "size": 5
          }
         }
        }
       ],
       "layout": {
        "clickmode": "event+select",
        "hovermode": "closest",
        "legend": {
         "title": {
          "text": "color"
         },
         "tracegroupgap": 0
        },
        "mapbox": {
         "accesstoken": "pk.eyJ1Ijoibmd1eWVuZHVjaHV5MjcxMTk3IiwiYSI6ImNrdGlrdXR6NTEydGQyb3FmMm40M3ZzY3IifQ.2Su0FgZih2OeDc7Z4xla8g",
         "bearing": 20,
         "center": {
          "lat": 40.73,
          "lon": -73.99
         },
         "domain": {
          "x": [
           0,
           1
          ],
          "y": [
           0,
           1
          ]
         },
         "pitch": 20,
         "style": "basic",
         "zoom": 11
        },
        "showlegend": false,
        "template": {
         "data": {
          "bar": [
           {
            "error_x": {
             "color": "#2a3f5f"
            },
            "error_y": {
             "color": "#2a3f5f"
            },
            "marker": {
             "line": {
              "color": "#E5ECF6",
              "width": 0.5
             },
             "pattern": {
              "fillmode": "overlay",
              "size": 10,
              "solidity": 0.2
             }
            },
            "type": "bar"
           }
          ],
          "barpolar": [
           {
            "marker": {
             "line": {
              "color": "#E5ECF6",
              "width": 0.5
             },
             "pattern": {
              "fillmode": "overlay",
              "size": 10,
              "solidity": 0.2
             }
            },
            "type": "barpolar"
           }
          ],
          "carpet": [
           {
            "aaxis": {
             "endlinecolor": "#2a3f5f",
             "gridcolor": "white",
             "linecolor": "white",
             "minorgridcolor": "white",
             "startlinecolor": "#2a3f5f"
            },
            "baxis": {
             "endlinecolor": "#2a3f5f",
             "gridcolor": "white",
             "linecolor": "white",
             "minorgridcolor": "white",
             "startlinecolor": "#2a3f5f"
            },
            "type": "carpet"
           }
          ],
          "choropleth": [
           {
            "colorbar": {
             "outlinewidth": 0,
             "ticks": ""
            },
            "type": "choropleth"
           }
          ],
          "contour": [
           {
            "colorbar": {
             "outlinewidth": 0,
             "ticks": ""
            },
            "colorscale": [
             [
              0,
              "#0d0887"
             ],
             [
              0.1111111111111111,
              "#46039f"
             ],
             [
              0.2222222222222222,
              "#7201a8"
             ],
             [
              0.3333333333333333,
              "#9c179e"
             ],
             [
              0.4444444444444444,
              "#bd3786"
             ],
             [
              0.5555555555555556,
              "#d8576b"
             ],
             [
              0.6666666666666666,
              "#ed7953"
             ],
             [
              0.7777777777777778,
              "#fb9f3a"
             ],
             [
              0.8888888888888888,
              "#fdca26"
             ],
             [
              1,
              "#f0f921"
             ]
            ],
            "type": "contour"
           }
          ],
          "contourcarpet": [
           {
            "colorbar": {
             "outlinewidth": 0,
             "ticks": ""
            },
            "type": "contourcarpet"
           }
          ],
          "heatmap": [
           {
            "colorbar": {
             "outlinewidth": 0,
             "ticks": ""
            },
            "colorscale": [
             [
              0,
              "#0d0887"
             ],
             [
              0.1111111111111111,
              "#46039f"
             ],
             [
              0.2222222222222222,
              "#7201a8"
             ],
             [
              0.3333333333333333,
              "#9c179e"
             ],
             [
              0.4444444444444444,
              "#bd3786"
             ],
             [
              0.5555555555555556,
              "#d8576b"
             ],
             [
              0.6666666666666666,
              "#ed7953"
             ],
             [
              0.7777777777777778,
              "#fb9f3a"
             ],
             [
              0.8888888888888888,
              "#fdca26"
             ],
             [
              1,
              "#f0f921"
             ]
            ],
            "type": "heatmap"
           }
          ],
          "heatmapgl": [
           {
            "colorbar": {
             "outlinewidth": 0,
             "ticks": ""
            },
            "colorscale": [
             [
              0,
              "#0d0887"
             ],
             [
              0.1111111111111111,
              "#46039f"
             ],
             [
              0.2222222222222222,
              "#7201a8"
             ],
             [
              0.3333333333333333,
              "#9c179e"
             ],
             [
              0.4444444444444444,
              "#bd3786"
             ],
             [
              0.5555555555555556,
              "#d8576b"
             ],
             [
              0.6666666666666666,
              "#ed7953"
             ],
             [
              0.7777777777777778,
              "#fb9f3a"
             ],
             [
              0.8888888888888888,
              "#fdca26"
             ],
             [
              1,
              "#f0f921"
             ]
            ],
            "type": "heatmapgl"
           }
          ],
          "histogram": [
           {
            "marker": {
             "pattern": {
              "fillmode": "overlay",
              "size": 10,
              "solidity": 0.2
             }
            },
            "type": "histogram"
           }
          ],
          "histogram2d": [
           {
            "colorbar": {
             "outlinewidth": 0,
             "ticks": ""
            },
            "colorscale": [
             [
              0,
              "#0d0887"
             ],
             [
              0.1111111111111111,
              "#46039f"
             ],
             [
              0.2222222222222222,
              "#7201a8"
             ],
             [
              0.3333333333333333,
              "#9c179e"
             ],
             [
              0.4444444444444444,
              "#bd3786"
             ],
             [
              0.5555555555555556,
              "#d8576b"
             ],
             [
              0.6666666666666666,
              "#ed7953"
             ],
             [
              0.7777777777777778,
              "#fb9f3a"
             ],
             [
              0.8888888888888888,
              "#fdca26"
             ],
             [
              1,
              "#f0f921"
             ]
            ],
            "type": "histogram2d"
           }
          ],
          "histogram2dcontour": [
           {
            "colorbar": {
             "outlinewidth": 0,
             "ticks": ""
            },
            "colorscale": [
             [
              0,
              "#0d0887"
             ],
             [
              0.1111111111111111,
              "#46039f"
             ],
             [
              0.2222222222222222,
              "#7201a8"
             ],
             [
              0.3333333333333333,
              "#9c179e"
             ],
             [
              0.4444444444444444,
              "#bd3786"
             ],
             [
              0.5555555555555556,
              "#d8576b"
             ],
             [
              0.6666666666666666,
              "#ed7953"
             ],
             [
              0.7777777777777778,
              "#fb9f3a"
             ],
             [
              0.8888888888888888,
              "#fdca26"
             ],
             [
              1,
              "#f0f921"
             ]
            ],
            "type": "histogram2dcontour"
           }
          ],
          "mesh3d": [
           {
            "colorbar": {
             "outlinewidth": 0,
             "ticks": ""
            },
            "type": "mesh3d"
           }
          ],
          "parcoords": [
           {
            "line": {
             "colorbar": {
              "outlinewidth": 0,
              "ticks": ""
             }
            },
            "type": "parcoords"
           }
          ],
          "pie": [
           {
            "automargin": true,
            "type": "pie"
           }
          ],
          "scatter": [
           {
            "marker": {
             "colorbar": {
              "outlinewidth": 0,
              "ticks": ""
             }
            },
            "type": "scatter"
           }
          ],
          "scatter3d": [
           {
            "line": {
             "colorbar": {
              "outlinewidth": 0,
              "ticks": ""
             }
            },
            "marker": {
             "colorbar": {
              "outlinewidth": 0,
              "ticks": ""
             }
            },
            "type": "scatter3d"
           }
          ],
          "scattercarpet": [
           {
            "marker": {
             "colorbar": {
              "outlinewidth": 0,
              "ticks": ""
             }
            },
            "type": "scattercarpet"
           }
          ],
          "scattergeo": [
           {
            "marker": {
             "colorbar": {
              "outlinewidth": 0,
              "ticks": ""
             }
            },
            "type": "scattergeo"
           }
          ],
          "scattergl": [
           {
            "marker": {
             "colorbar": {
              "outlinewidth": 0,
              "ticks": ""
             }
            },
            "type": "scattergl"
           }
          ],
          "scattermapbox": [
           {
            "marker": {
             "colorbar": {
              "outlinewidth": 0,
              "ticks": ""
             }
            },
            "type": "scattermapbox"
           }
          ],
          "scatterpolar": [
           {
            "marker": {
             "colorbar": {
              "outlinewidth": 0,
              "ticks": ""
             }
            },
            "type": "scatterpolar"
           }
          ],
          "scatterpolargl": [
           {
            "marker": {
             "colorbar": {
              "outlinewidth": 0,
              "ticks": ""
             }
            },
            "type": "scatterpolargl"
           }
          ],
          "scatterternary": [
           {
            "marker": {
             "colorbar": {
              "outlinewidth": 0,
              "ticks": ""
             }
            },
            "type": "scatterternary"
           }
          ],
          "surface": [
           {
            "colorbar": {
             "outlinewidth": 0,
             "ticks": ""
            },
            "colorscale": [
             [
              0,
              "#0d0887"
             ],
             [
              0.1111111111111111,
              "#46039f"
             ],
             [
              0.2222222222222222,
              "#7201a8"
             ],
             [
              0.3333333333333333,
              "#9c179e"
             ],
             [
              0.4444444444444444,
              "#bd3786"
             ],
             [
              0.5555555555555556,
              "#d8576b"
             ],
             [
              0.6666666666666666,
              "#ed7953"
             ],
             [
              0.7777777777777778,
              "#fb9f3a"
             ],
             [
              0.8888888888888888,
              "#fdca26"
             ],
             [
              1,
              "#f0f921"
             ]
            ],
            "type": "surface"
           }
          ],
          "table": [
           {
            "cells": {
             "fill": {
              "color": "#EBF0F8"
             },
             "line": {
              "color": "white"
             }
            },
            "header": {
             "fill": {
              "color": "#C8D4E3"
             },
             "line": {
              "color": "white"
             }
            },
            "type": "table"
           }
          ]
         },
         "layout": {
          "annotationdefaults": {
           "arrowcolor": "#2a3f5f",
           "arrowhead": 0,
           "arrowwidth": 1
          },
          "autotypenumbers": "strict",
          "coloraxis": {
           "colorbar": {
            "outlinewidth": 0,
            "ticks": ""
           }
          },
          "colorscale": {
           "diverging": [
            [
             0,
             "#8e0152"
            ],
            [
             0.1,
             "#c51b7d"
            ],
            [
             0.2,
             "#de77ae"
            ],
            [
             0.3,
             "#f1b6da"
            ],
            [
             0.4,
             "#fde0ef"
            ],
            [
             0.5,
             "#f7f7f7"
            ],
            [
             0.6,
             "#e6f5d0"
            ],
            [
             0.7,
             "#b8e186"
            ],
            [
             0.8,
             "#7fbc41"
            ],
            [
             0.9,
             "#4d9221"
            ],
            [
             1,
             "#276419"
            ]
           ],
           "sequential": [
            [
             0,
             "#0d0887"
            ],
            [
             0.1111111111111111,
             "#46039f"
            ],
            [
             0.2222222222222222,
             "#7201a8"
            ],
            [
             0.3333333333333333,
             "#9c179e"
            ],
            [
             0.4444444444444444,
             "#bd3786"
            ],
            [
             0.5555555555555556,
             "#d8576b"
            ],
            [
             0.6666666666666666,
             "#ed7953"
            ],
            [
             0.7777777777777778,
             "#fb9f3a"
            ],
            [
             0.8888888888888888,
             "#fdca26"
            ],
            [
             1,
             "#f0f921"
            ]
           ],
           "sequentialminus": [
            [
             0,
             "#0d0887"
            ],
            [
             0.1111111111111111,
             "#46039f"
            ],
            [
             0.2222222222222222,
             "#7201a8"
            ],
            [
             0.3333333333333333,
             "#9c179e"
            ],
            [
             0.4444444444444444,
             "#bd3786"
            ],
            [
             0.5555555555555556,
             "#d8576b"
            ],
            [
             0.6666666666666666,
             "#ed7953"
            ],
            [
             0.7777777777777778,
             "#fb9f3a"
            ],
            [
             0.8888888888888888,
             "#fdca26"
            ],
            [
             1,
             "#f0f921"
            ]
           ]
          },
          "colorway": [
           "#636efa",
           "#EF553B",
           "#00cc96",
           "#ab63fa",
           "#FFA15A",
           "#19d3f3",
           "#FF6692",
           "#B6E880",
           "#FF97FF",
           "#FECB52"
          ],
          "font": {
           "color": "#2a3f5f"
          },
          "geo": {
           "bgcolor": "white",
           "lakecolor": "white",
           "landcolor": "#E5ECF6",
           "showlakes": true,
           "showland": true,
           "subunitcolor": "white"
          },
          "hoverlabel": {
           "align": "left"
          },
          "hovermode": "closest",
          "mapbox": {
           "style": "light"
          },
          "paper_bgcolor": "white",
          "plot_bgcolor": "#E5ECF6",
          "polar": {
           "angularaxis": {
            "gridcolor": "white",
            "linecolor": "white",
            "ticks": ""
           },
           "bgcolor": "#E5ECF6",
           "radialaxis": {
            "gridcolor": "white",
            "linecolor": "white",
            "ticks": ""
           }
          },
          "scene": {
           "xaxis": {
            "backgroundcolor": "#E5ECF6",
            "gridcolor": "white",
            "gridwidth": 2,
            "linecolor": "white",
            "showbackground": true,
            "ticks": "",
            "zerolinecolor": "white"
           },
           "yaxis": {
            "backgroundcolor": "#E5ECF6",
            "gridcolor": "white",
            "gridwidth": 2,
            "linecolor": "white",
            "showbackground": true,
            "ticks": "",
            "zerolinecolor": "white"
           },
           "zaxis": {
            "backgroundcolor": "#E5ECF6",
            "gridcolor": "white",
            "gridwidth": 2,
            "linecolor": "white",
            "showbackground": true,
            "ticks": "",
            "zerolinecolor": "white"
           }
          },
          "shapedefaults": {
           "line": {
            "color": "#2a3f5f"
           }
          },
          "ternary": {
           "aaxis": {
            "gridcolor": "white",
            "linecolor": "white",
            "ticks": ""
           },
           "baxis": {
            "gridcolor": "white",
            "linecolor": "white",
            "ticks": ""
           },
           "bgcolor": "#E5ECF6",
           "caxis": {
            "gridcolor": "white",
            "linecolor": "white",
            "ticks": ""
           }
          },
          "title": {
           "x": 0.05
          },
          "xaxis": {
           "automargin": true,
           "gridcolor": "white",
           "linecolor": "white",
           "ticks": "",
           "title": {
            "standoff": 15
           },
           "zerolinecolor": "white",
           "zerolinewidth": 2
          },
          "yaxis": {
           "automargin": true,
           "gridcolor": "white",
           "linecolor": "white",
           "ticks": "",
           "title": {
            "standoff": 15
           },
           "zerolinecolor": "white",
           "zerolinewidth": 2
          }
         }
        },
        "title": {
         "font": {
          "color": "#A45D5D",
          "size": 30
         },
         "text": "Where to recycle?",
         "x": 0.5
        }
       }
      },
      "text/html": [
       "<div>                            <div id=\"44786d52-d755-411d-8491-2e33a3c69100\" class=\"plotly-graph-div\" style=\"height:525px; width:100%;\"></div>            <script type=\"text/javascript\">                require([\"plotly\"], function(Plotly) {                    window.PLOTLYENV=window.PLOTLYENV || {};                                    if (document.getElementById(\"44786d52-d755-411d-8491-2e33a3c69100\")) {                    Plotly.newPlot(                        \"44786d52-d755-411d-8491-2e33a3c69100\",                        [{\"customdata\":[[\"Bronx\",\"compost\"],[\"Bronx\",\"compost\"],[\"Bronx\",\"compost\"],[\"Bronx\",\"compost\"],[\"Bronx\",\"compost\"],[\"Bronx\",\"compost\"],[\"Bronx\",\"compost\"],[\"Bronx\",\"compost\"],[\"Bronx\",\"compost\"],[\"Bronx\",\"compost\"],[\"Bronx\",\"compost\"],[\"Bronx\",\"compost\"],[\"Bronx\",\"compost\"],[\"Bronx\",\"compost\"],[\"Bronx\",\"compost\"],[\"Bronx\",\"compost\"],[\"Bronx\",\"compost\"],[\"Bronx\",\"compost\"],[\"Bronx\",\"compost\"],[\"Bronx\",\"compost\"],[\"Bronx\",\"compost\"],[\"Bronx\",\"compost\"],[\"Bronx\",\"compost\"],[\"Bronx\",\"compost\"],[\"Brooklyn\",\"compost\"],[\"Brooklyn\",\"compost\"],[\"Brooklyn\",\"compost\"],[\"Brooklyn\",\"compost\"],[\"Brooklyn\",\"compost\"],[\"Brooklyn\",\"compost\"],[\"Brooklyn\",\"compost\"],[\"Brooklyn\",\"compost\"],[\"Brooklyn\",\"compost\"],[\"Brooklyn\",\"compost\"],[\"Brooklyn\",\"compost\"],[\"Brooklyn\",\"compost\"],[\"Brooklyn\",\"compost\"],[\"Brooklyn\",\"compost\"],[\"Brooklyn\",\"compost\"],[\"Brooklyn\",\"compost\"],[\"Brooklyn\",\"compost\"],[\"Brooklyn\",\"compost\"],[\"Brooklyn\",\"compost\"],[\"Brooklyn\",\"compost\"],[\"Brooklyn\",\"compost\"],[\"Brooklyn\",\"compost\"],[\"Brooklyn\",\"compost\"],[\"Manhattan\",\"compost\"],[\"Manhattan\",\"compost\"],[\"Manhattan\",\"compost\"],[\"Manhattan\",\"compost\"],[\"Manhattan\",\"compost\"],[\"Manhattan\",\"compost\"],[\"Manhattan\",\"compost\"],[\"Manhattan\",\"compost\"],[\"Manhattan\",\"compost\"],[\"Manhattan\",\"compost\"],[\"Manhattan\",\"compost\"],[\"Manhattan\",\"compost\"],[\"Manhattan\",\"compost\"],[\"Manhattan\",\"compost\"],[\"Manhattan\",\"compost\"],[\"Manhattan\",\"compost\"],[\"Manhattan\",\"compost\"],[\"Manhattan\",\"compost\"],[\"Manhattan\",\"compost\"],[\"Manhattan\",\"compost\"],[\"Manhattan\",\"compost\"],[\"Manhattan\",\"compost\"],[\"Manhattan\",\"compost\"],[\"Manhattan\",\"compost\"],[\"Manhattan\",\"compost\"],[\"Manhattan\",\"compost\"],[\"Manhattan\",\"compost\"],[\"Manhattan\",\"compost\"],[\"Manhattan\",\"compost\"],[\"Manhattan\",\"compost\"],[\"Manhattan\",\"compost\"],[\"Manhattan\",\"compost\"],[\"Manhattan\",\"compost\"],[\"Manhattan\",\"compost\"],[\"Manhattan\",\"compost\"],[\"Manhattan\",\"compost\"],[\"Manhattan\",\"compost\"],[\"Manhattan\",\"compost\"],[\"Manhattan\",\"compost\"],[\"Manhattan\",\"compost\"],[\"Manhattan\",\"compost\"],[\"Manhattan\",\"compost\"],[\"Manhattan\",\"compost\"],[\"Manhattan\",\"compost\"],[\"Manhattan\",\"compost\"],[\"Manhattan\",\"compost\"],[\"Manhattan\",\"compost\"],[\"Manhattan\",\"compost\"],[\"Manhattan\",\"compost\"],[\"Manhattan\",\"compost\"],[\"Manhattan\",\"compost\"],[\"Manhattan\",\"compost\"],[\"Manhattan\",\"compost\"],[\"Manhattan\",\"compost\"],[\"Manhattan\",\"compost\"],[\"Manhattan\",\"compost\"],[\"Manhattan\",\"compost\"],[\"Manhattan\",\"compost\"],[\"Manhattan\",\"compost\"],[\"Manhattan\",\"compost\"],[\"Manhattan\",\"compost\"],[\"Manhattan\",\"compost\"],[\"Manhattan\",\"compost\"],[\"Manhattan\",\"compost\"],[\"Manhattan\",\"compost\"],[\"Manhattan\",\"compost\"],[\"Manhattan\",\"compost\"],[\"Manhattan\",\"compost\"],[\"Manhattan\",\"compost\"],[\"Manhattan\",\"compost\"],[\"Queens\",\"compost\"],[\"Queens\",\"compost\"],[\"Queens\",\"compost\"],[\"Queens\",\"compost\"],[\"Queens\",\"compost\"],[\"Queens\",\"compost\"],[\"Queens\",\"compost\"],[\"Queens\",\"compost\"],[\"Queens\",\"compost\"],[\"Queens\",\"compost\"],[\"Queens\",\"compost\"],[\"Queens\",\"compost\"],[\"Queens\",\"compost\"],[\"Queens\",\"compost\"],[\"Queens\",\"compost\"],[\"Queens\",\"compost\"],[\"Queens\",\"compost\"],[\"Queens\",\"compost\"],[\"Queens\",\"compost\"],[\"Queens\",\"compost\"],[\"Queens\",\"compost\"],[\"Queens\",\"compost\"],[\"Queens\",\"compost\"],[\"Queens\",\"compost\"],[\"Queens\",\"compost\"],[\"Staten Island\",\"compost\"],[\"Staten Island\",\"compost\"],[\"Staten Island\",\"compost\"],[\"Staten Island\",\"compost\"]],\"hovertemplate\":\"color=#ff00ff<br>latitude=%{lat}<br>longitude=%{lon}<br>boro=%{customdata[0]}<br>type=%{customdata[1]}<extra></extra>\",\"lat\":[40.844772,40.8269197,40.8326398,40.8312021,40.833022,40.8641072,40.8745635,40.839961,40.820403,40.818032,40.82127,40.846452,40.8534,40.80766,40.81622,40.82805,40.81844,40.862707,40.86115,40.87094,40.80948,40.881233,40.82135,40.829353,40.648502,40.6722226,40.673815,40.6937566,40.680852,40.6408302,40.69132,40.6726424,40.720471,40.725018,40.633663,40.66809,40.66496,40.65507,40.683282,40.678196,40.650381,40.697523,40.644516,40.680355,40.676782,40.6929796,40.678708,40.753588,40.79667,40.761706,40.8461084,40.7819529,40.7742982,40.7941768,40.7375462,40.704594,40.8067454,40.76911,40.7810344,40.8421716,40.8690103,40.7891821,40.7260554,40.7736069,40.737098,40.7670054,40.8051411,40.81428,40.808388,40.721086,40.857341,40.729165,40.824415,40.6894501,40.6894506,40.749509,40.755588,40.835828,40.731506,40.790645,40.800146,40.7162918,40.800867,40.7984,40.82099,40.798786,40.82404,40.83404,40.78579,40.86532,40.85295,40.7529921,40.742827,40.7489842,40.756032,40.7202214,40.7298117,40.738228,40.7634686,40.725357,40.7452994,40.733512,40.7140565,40.7159955,40.7255273,40.71102,40.724479,40.732811,40.724502,40.7231069,40.833952,40.728081,40.804574,40.799721,40.721531,40.794912,40.811641,40.748406,40.7427437,40.774513,40.767066,40.7222304,40.7532152,40.7584821,40.7769984,40.7675822,40.7468806,40.595401,40.7562501,40.7497177,40.74983,40.7295998,40.7373468,40.75197,40.752149,40.768942,40.591961,40.754084,40.7096804,40.7132717,40.738397,40.717411,40.641672,40.6415864,40.5834232,40.630312],\"legendgroup\":\"#ff00ff\",\"lon\":[-73.887226,-73.9225039,-73.9187735,-73.9004133,-73.8627284,-73.8950656,-73.8916183,-73.916663,-73.895686,-73.888644,-73.91537,-73.894096,-73.9077,-73.9193,-73.9176,-73.9257,-73.9272,-73.901042,-73.8908,-73.883947,-73.918294,-73.887583,-73.924049,-73.903424,-73.976416,-74.0109856,-73.9949411,-73.9904735,-73.9955995,-73.9652999,-73.9735,-73.9704304,-73.952713,-73.94472,-73.885955,-73.865533,-73.886675,-73.96169,-73.935667,-73.967427,-73.963432,-73.913913,-73.920387,-73.882995,-73.932943,-73.9081621,-73.911357,-73.983233,-73.931728,-73.950244,-73.9381243,-73.9754869,-73.9512624,-73.9684124,-74.0048128,-74.0142515,-73.9649594,-73.98855,-73.9463184,-73.942289,-73.9203259,-73.9527316,-73.9835429,-73.9815795,-73.9903523,-73.9578326,-73.9391249,-73.942834,-73.943251,-73.991718,-73.922111,-73.983435,-73.94918,-74.016792,-74.0167913,-73.998096,-73.999721,-73.938621,-73.983427,-73.97599,-73.94233,-74.0109403,-73.958284,-73.9526,-73.9543,-73.941698,-73.9446,-73.9452,-73.9508,-73.928,-73.9376,-73.9698797,-74.0078384,-74.0071142,-74.006046,-74.0128434,-74.0110087,-74.0104549,-74.0002584,-73.978278,-73.9984832,-74.002956,-73.9902176,-73.986664,-74.0040577,-73.97905,-73.979718,-74.000091,-73.97874,-73.988458,-73.941736,-73.979214,-73.955533,-73.962101,-73.982075,-73.943148,-73.950521,-73.721002,-73.9541298,-73.912463,-73.921406,-73.8467632,-73.8896812,-73.9186052,-73.9096802,-73.9359557,-73.9208078,-73.776541,-73.8258451,-73.8626075,-73.896438,-73.8616452,-73.877195,-73.830325,-73.925454,-73.929913,-73.788284,-73.94267,-73.8190304,-73.8299268,-73.877742,-73.857513,-74.101624,-74.0779094,-74.1629698,-74.115754],\"marker\":{\"color\":\"#636efa\",\"opacity\":1},\"mode\":\"markers\",\"name\":\"#ff00ff\",\"selected\":{\"marker\":{\"opacity\":1,\"size\":10}},\"showlegend\":true,\"subplot\":\"mapbox\",\"type\":\"scattermapbox\",\"unselected\":{\"marker\":{\"opacity\":0.8,\"size\":5}}},{\"customdata\":[[\"Bronx\",\"electronics\"],[\"Bronx\",\"electronics\"],[\"Bronx\",\"electronics\"],[\"Bronx\",\"electronics\"],[\"Bronx\",\"electronics\"],[\"Bronx\",\"electronics\"],[\"Bronx\",\"electronics\"],[\"Bronx\",\"electronics\"],[\"Bronx\",\"electronics\"],[\"Bronx\",\"electronics\"],[\"Brooklyn\",\"electronics\"],[\"Brooklyn\",\"electronics\"],[\"Brooklyn\",\"electronics\"],[\"Brooklyn\",\"electronics\"],[\"Brooklyn\",\"electronics\"],[\"Brooklyn\",\"electronics\"],[\"Brooklyn\",\"electronics\"],[\"Brooklyn\",\"electronics\"],[\"Brooklyn\",\"electronics\"],[\"Brooklyn\",\"electronics\"],[\"Brooklyn\",\"electronics\"],[\"Brooklyn\",\"electronics\"],[\"Brooklyn\",\"electronics\"],[\"Brooklyn\",\"electronics\"],[\"Brooklyn\",\"electronics\"],[\"Brooklyn\",\"electronics\"],[\"Brooklyn\",\"electronics\"],[\"Brooklyn\",\"electronics\"],[\"Brooklyn\",\"electronics\"],[\"Brooklyn\",\"electronics\"],[\"Brooklyn\",\"electronics\"],[\"Brooklyn\",\"electronics\"],[\"Manhattan\",\"electronics\"],[\"Manhattan\",\"electronics\"],[\"Manhattan\",\"electronics\"],[\"Manhattan\",\"electronics\"],[\"Manhattan\",\"electronics\"],[\"Manhattan\",\"electronics\"],[\"Manhattan\",\"electronics\"],[\"Manhattan\",\"electronics\"],[\"Manhattan\",\"electronics\"],[\"Manhattan\",\"electronics\"],[\"Manhattan\",\"electronics\"],[\"Manhattan\",\"electronics\"],[\"Manhattan\",\"electronics\"],[\"Manhattan\",\"electronics\"],[\"Manhattan\",\"electronics\"],[\"Manhattan\",\"electronics\"],[\"Manhattan\",\"electronics\"],[\"Manhattan\",\"electronics\"],[\"Manhattan\",\"electronics\"],[\"Manhattan\",\"electronics\"],[\"Manhattan\",\"electronics\"],[\"Manhattan\",\"electronics\"],[\"Manhattan\",\"electronics\"],[\"Manhattan\",\"electronics\"],[\"Manhattan\",\"electronics\"],[\"Manhattan\",\"electronics\"],[\"Manhattan\",\"electronics\"],[\"Manhattan\",\"electronics\"],[\"Manhattan\",\"electronics\"],[\"Manhattan\",\"electronics\"],[\"Manhattan\",\"electronics\"],[\"Manhattan\",\"electronics\"],[\"Manhattan\",\"electronics\"],[\"Manhattan\",\"electronics\"],[\"Manhattan\",\"electronics\"],[\"Manhattan\",\"electronics\"],[\"Manhattan\",\"electronics\"],[\"Queens\",\"electronics\"],[\"Queens\",\"electronics\"],[\"Queens\",\"electronics\"],[\"Queens\",\"electronics\"],[\"Queens\",\"electronics\"],[\"Queens\",\"electronics\"],[\"Queens\",\"electronics\"],[\"Queens\",\"electronics\"],[\"Queens\",\"electronics\"],[\"Queens\",\"electronics\"],[\"Queens\",\"electronics\"],[\"Queens\",\"electronics\"],[\"Queens\",\"electronics\"],[\"Queens\",\"electronics\"],[\"Queens\",\"electronics\"],[\"Queens\",\"electronics\"],[\"Queens\",\"electronics\"],[\"Queens\",\"electronics\"],[\"Queens\",\"electronics\"],[\"Queens\",\"electronics\"],[\"Staten Island\",\"electronics\"],[\"Staten Island\",\"electronics\"],[\"Staten Island\",\"electronics\"],[\"Staten Island\",\"electronics\"]],\"hovertemplate\":\"color=#0000ff<br>latitude=%{lat}<br>longitude=%{lon}<br>boro=%{customdata[0]}<br>type=%{customdata[1]}<extra></extra>\",\"lat\":[40.8306088,40.860358,40.8114884,40.845553,40.8608912,40.8219403,40.8518616,40.8677019,40.8810804,40.816877,40.7180048,40.6855509,40.592733,40.6863101,40.6362001,40.7326092,40.651344,40.6098192,40.6838452,40.5936458,40.6467058,40.6295254,40.6118064,40.5990083,40.5908736,40.6741737,40.6539242,40.7226339,40.6166088,40.681119,40.6887457,40.678631,40.7326047,40.743678,40.738365,40.8056313,40.794759,40.762665,40.7798872,40.7700779,40.7344091,40.7544351,40.7423606,40.725747,40.8083328,40.7539257,40.7495369,40.7478754,40.7848159,40.7331767,40.7604408,40.852244,40.7519146,40.7530426,40.7430749,40.7354498,40.7407266,40.7509006,40.7311383,40.7604799,40.732951,40.7444737,40.778473,40.7793,40.783755,40.812497,40.7382752,40.801328,40.848289,40.70127,40.7566145,40.746743,40.7575281,40.7534523,40.7353074,40.6897907,40.720443,40.7821272,40.7590732,40.7702468,40.7538623,40.7411879,40.7158271,40.7333304,40.7116062,40.6989379,40.748528,40.7415286,40.7581531,40.5769947,40.623861,40.5838147,40.5742785],\"legendgroup\":\"#0000ff\",\"lon\":[-73.891455,-73.9030775,-73.9257636,-73.901079,-73.8913166,-73.9301166,-73.8674386,-73.8286649,-73.9023443,-73.918804,-73.9575848,-73.960619,-73.940786,-73.9838984,-74.0260663,-73.9549618,-73.873167,-73.9216133,-73.9754325,-73.9989895,-73.9578905,-73.928339,-73.9630824,-73.9852812,-73.9503307,-73.9868727,-73.8732584,-73.9393371,-74.0300263,-73.956988,-73.9842131,-73.987452,-73.9903344,-73.999235,-73.9824462,-73.9413695,-73.972784,-73.995377,-73.9557037,-73.981592,-73.9904346,-73.9796913,-73.9923849,-73.9959279,-73.945866,-73.9854091,-73.988499,-73.9837462,-73.9788032,-73.9995147,-73.9710375,-73.934254,-73.9825561,-73.9924445,-73.9765721,-73.9915753,-73.9948313,-73.973911,-73.9923455,-73.98709,-73.998643,-73.9921732,-73.980571,-73.950294,-73.979007,-73.938164,-73.9822849,-73.937068,-73.931997,-73.805563,-73.9212251,-73.9026954,-73.8356912,-73.9121271,-73.8747611,-73.841335,-73.844168,-73.8347154,-73.772986,-73.9179077,-73.9089981,-73.9070126,-73.9018412,-73.8635717,-73.8581226,-73.8150529,-73.873001,-73.9337864,-73.919959,-74.1674401,-74.1391954,-74.0962032,-74.1694432],\"marker\":{\"color\":\"#EF553B\",\"opacity\":1},\"mode\":\"markers\",\"name\":\"#0000ff\",\"selected\":{\"marker\":{\"opacity\":1,\"size\":10}},\"showlegend\":true,\"subplot\":\"mapbox\",\"type\":\"scattermapbox\",\"unselected\":{\"marker\":{\"opacity\":0.8,\"size\":5}}},{\"customdata\":[[\"Bronx\",\"hazardous waste recycling\"],[\"Brooklyn\",\"hazardous waste recycling\"],[\"Manhattan\",\"hazardous waste recycling\"],[\"Queens\",\"hazardous waste recycling\"],[\"Staten Island\",\"hazardous waste recycling\"]],\"hovertemplate\":\"color=#FF0000<br>latitude=%{lat}<br>longitude=%{lon}<br>boro=%{customdata[0]}<br>type=%{customdata[1]}<extra></extra>\",\"lat\":[40.80306136,40.73565554,40.70990701,40.77100135,40.57012962],\"legendgroup\":\"#FF0000\",\"lon\":[-73.87485887,-73.94613805,-73.99232338,-73.84714946,-74.19481927],\"marker\":{\"color\":\"#00cc96\",\"opacity\":1},\"mode\":\"markers\",\"name\":\"#FF0000\",\"selected\":{\"marker\":{\"opacity\":1,\"size\":10}},\"showlegend\":true,\"subplot\":\"mapbox\",\"type\":\"scattermapbox\",\"unselected\":{\"marker\":{\"opacity\":0.8,\"size\":5}}},{\"customdata\":[[\"Manhattan\",\"plastic bag recycling\"],[\"Manhattan\",\"plastic bag recycling\"]],\"hovertemplate\":\"color=#00ff00<br>latitude=%{lat}<br>longitude=%{lon}<br>boro=%{customdata[0]}<br>type=%{customdata[1]}<extra></extra>\",\"lat\":[40.795386,40.7862449],\"legendgroup\":\"#00ff00\",\"lon\":[-73.9310222,-73.978733],\"marker\":{\"color\":\"#ab63fa\",\"opacity\":1},\"mode\":\"markers\",\"name\":\"#00ff00\",\"selected\":{\"marker\":{\"opacity\":1,\"size\":10}},\"showlegend\":true,\"subplot\":\"mapbox\",\"type\":\"scattermapbox\",\"unselected\":{\"marker\":{\"opacity\":0.8,\"size\":5}}},{\"customdata\":[[\"Bronx\",\"public recycling bin\"],[\"Bronx\",\"public recycling bin\"],[\"Bronx\",\"public recycling bin\"],[\"Bronx\",\"public recycling bin\"],[\"Bronx\",\"public recycling bin\"],[\"Bronx\",\"public recycling bin\"],[\"Bronx\",\"public recycling bin\"],[\"Bronx\",\"public recycling bin\"],[\"Bronx\",\"public recycling bin\"],[\"Bronx\",\"public recycling bin\"],[\"Bronx\",\"public recycling bin\"],[\"Bronx\",\"public recycling bin\"],[\"Bronx\",\"public recycling bin\"],[\"Bronx\",\"public recycling bin\"],[\"Bronx\",\"public recycling bin\"],[\"Bronx\",\"public recycling bin\"],[\"Bronx\",\"public recycling bin\"],[\"Bronx\",\"public recycling bin\"],[\"Bronx\",\"public recycling bin\"],[\"Bronx\",\"public recycling bin\"],[\"Bronx\",\"public recycling bin\"],[\"Bronx\",\"public recycling bin\"],[\"Bronx\",\"public recycling bin\"],[\"Bronx\",\"public recycling bin\"],[\"Bronx\",\"public recycling bin\"],[\"Bronx\",\"public recycling bin\"],[\"Bronx\",\"public recycling bin\"],[\"Bronx\",\"public recycling bin\"],[\"Bronx\",\"public recycling bin\"],[\"Bronx\",\"public recycling bin\"],[\"Bronx\",\"public recycling bin\"],[\"Bronx\",\"public recycling bin\"],[\"Bronx\",\"public recycling bin\"],[\"Bronx\",\"public recycling bin\"],[\"Bronx\",\"public recycling bin\"],[\"Bronx\",\"public recycling bin\"],[\"Bronx\",\"public recycling bin\"],[\"Bronx\",\"public recycling bin\"],[\"Bronx\",\"public recycling bin\"],[\"Bronx\",\"public recycling bin\"],[\"Bronx\",\"public recycling bin\"],[\"Bronx\",\"public recycling bin\"],[\"Bronx\",\"public recycling bin\"],[\"Bronx\",\"public recycling bin\"],[\"Bronx\",\"public recycling bin\"],[\"Bronx\",\"public recycling bin\"],[\"Bronx\",\"public recycling bin\"],[\"Bronx\",\"public recycling bin\"],[\"Bronx\",\"public recycling bin\"],[\"Bronx\",\"public recycling bin\"],[\"Bronx\",\"public recycling bin\"],[\"Bronx\",\"public recycling bin\"],[\"Bronx\",\"public recycling bin\"],[\"Bronx\",\"public recycling bin\"],[\"Bronx\",\"public recycling bin\"],[\"Bronx\",\"public recycling bin\"],[\"Bronx\",\"public recycling bin\"],[\"Bronx\",\"public recycling bin\"],[\"Bronx\",\"public recycling bin\"],[\"Bronx\",\"public recycling bin\"],[\"Bronx\",\"public recycling bin\"],[\"Bronx\",\"public recycling bin\"],[\"Bronx\",\"public recycling bin\"],[\"Bronx\",\"public recycling bin\"],[\"Bronx\",\"public recycling bin\"],[\"Bronx\",\"public recycling bin\"],[\"Bronx\",\"public recycling bin\"],[\"Bronx\",\"public recycling bin\"],[\"Bronx\",\"public recycling bin\"],[\"Bronx\",\"public recycling bin\"],[\"Bronx\",\"public recycling bin\"],[\"Bronx\",\"public recycling bin\"],[\"Bronx\",\"public recycling bin\"],[\"Bronx\",\"public recycling bin\"],[\"Bronx\",\"public recycling bin\"],[\"Bronx\",\"public recycling bin\"],[\"Bronx\",\"public recycling bin\"],[\"Bronx\",\"public recycling bin\"],[\"Bronx\",\"public recycling bin\"],[\"Bronx\",\"public recycling bin\"],[\"Bronx\",\"public recycling bin\"],[\"Bronx\",\"public recycling bin\"],[\"Bronx\",\"public recycling bin\"],[\"Bronx\",\"public recycling bin\"],[\"Bronx\",\"public recycling bin\"],[\"Bronx\",\"public recycling bin\"],[\"Bronx\",\"public recycling bin\"],[\"Bronx\",\"public recycling bin\"],[\"Bronx\",\"public recycling bin\"],[\"Bronx\",\"public recycling bin\"],[\"Bronx\",\"public recycling bin\"],[\"Bronx\",\"public recycling bin\"],[\"Bronx\",\"public recycling bin\"],[\"Bronx\",\"public recycling bin\"],[\"Bronx\",\"public recycling bin\"],[\"Bronx\",\"public recycling bin\"],[\"Bronx\",\"public recycling bin\"],[\"Bronx\",\"public recycling bin\"],[\"Bronx\",\"public recycling bin\"],[\"Bronx\",\"public recycling bin\"],[\"Bronx\",\"public recycling bin\"],[\"Bronx\",\"public recycling bin\"],[\"Bronx\",\"public recycling bin\"],[\"Bronx\",\"public recycling bin\"],[\"Bronx\",\"public recycling bin\"],[\"Bronx\",\"public recycling bin\"],[\"Bronx\",\"public recycling bin\"],[\"Brooklyn\",\"public recycling bin\"],[\"Brooklyn\",\"public recycling bin\"],[\"Brooklyn\",\"public recycling bin\"],[\"Brooklyn\",\"public recycling bin\"],[\"Brooklyn\",\"public recycling bin\"],[\"Brooklyn\",\"public recycling bin\"],[\"Brooklyn\",\"public recycling bin\"],[\"Brooklyn\",\"public recycling bin\"],[\"Brooklyn\",\"public recycling bin\"],[\"Brooklyn\",\"public recycling bin\"],[\"Brooklyn\",\"public recycling bin\"],[\"Brooklyn\",\"public recycling bin\"],[\"Brooklyn\",\"public recycling bin\"],[\"Brooklyn\",\"public recycling bin\"],[\"Brooklyn\",\"public recycling bin\"],[\"Brooklyn\",\"public recycling bin\"],[\"Brooklyn\",\"public recycling bin\"],[\"Brooklyn\",\"public recycling bin\"],[\"Brooklyn\",\"public recycling bin\"],[\"Brooklyn\",\"public recycling bin\"],[\"Brooklyn\",\"public recycling bin\"],[\"Brooklyn\",\"public recycling bin\"],[\"Brooklyn\",\"public recycling bin\"],[\"Brooklyn\",\"public recycling bin\"],[\"Brooklyn\",\"public recycling bin\"],[\"Brooklyn\",\"public recycling bin\"],[\"Brooklyn\",\"public recycling bin\"],[\"Brooklyn\",\"public recycling bin\"],[\"Brooklyn\",\"public recycling bin\"],[\"Brooklyn\",\"public recycling bin\"],[\"Brooklyn\",\"public recycling bin\"],[\"Brooklyn\",\"public recycling bin\"],[\"Brooklyn\",\"public recycling bin\"],[\"Brooklyn\",\"public recycling bin\"],[\"Brooklyn\",\"public recycling bin\"],[\"Brooklyn\",\"public recycling bin\"],[\"Brooklyn\",\"public recycling bin\"],[\"Brooklyn\",\"public recycling bin\"],[\"Brooklyn\",\"public recycling bin\"],[\"Brooklyn\",\"public recycling bin\"],[\"Brooklyn\",\"public recycling bin\"],[\"Brooklyn\",\"public recycling bin\"],[\"Brooklyn\",\"public recycling bin\"],[\"Brooklyn\",\"public recycling bin\"],[\"Brooklyn\",\"public recycling bin\"],[\"Brooklyn\",\"public recycling bin\"],[\"Brooklyn\",\"public recycling bin\"],[\"Brooklyn\",\"public recycling bin\"],[\"Brooklyn\",\"public recycling bin\"],[\"Brooklyn\",\"public recycling bin\"],[\"Brooklyn\",\"public recycling bin\"],[\"Brooklyn\",\"public recycling bin\"],[\"Brooklyn\",\"public recycling bin\"],[\"Brooklyn\",\"public recycling bin\"],[\"Brooklyn\",\"public recycling bin\"],[\"Brooklyn\",\"public recycling bin\"],[\"Brooklyn\",\"public recycling bin\"],[\"Brooklyn\",\"public recycling bin\"],[\"Brooklyn\",\"public recycling bin\"],[\"Brooklyn\",\"public recycling bin\"],[\"Brooklyn\",\"public recycling bin\"],[\"Brooklyn\",\"public recycling bin\"],[\"Brooklyn\",\"public recycling bin\"],[\"Brooklyn\",\"public recycling bin\"],[\"Brooklyn\",\"public recycling bin\"],[\"Brooklyn\",\"public recycling bin\"],[\"Brooklyn\",\"public recycling bin\"],[\"Brooklyn\",\"public recycling bin\"],[\"Brooklyn\",\"public recycling bin\"],[\"Brooklyn\",\"public recycling bin\"],[\"Brooklyn\",\"public recycling bin\"],[\"Brooklyn\",\"public recycling bin\"],[\"Brooklyn\",\"public recycling bin\"],[\"Brooklyn\",\"public recycling bin\"],[\"Brooklyn\",\"public recycling bin\"],[\"Brooklyn\",\"public recycling bin\"],[\"Brooklyn\",\"public recycling bin\"],[\"Brooklyn\",\"public recycling bin\"],[\"Brooklyn\",\"public recycling bin\"],[\"Brooklyn\",\"public recycling bin\"],[\"Brooklyn\",\"public recycling bin\"],[\"Brooklyn\",\"public recycling bin\"],[\"Brooklyn\",\"public recycling bin\"],[\"Brooklyn\",\"public recycling bin\"],[\"Brooklyn\",\"public recycling bin\"],[\"Brooklyn\",\"public recycling bin\"],[\"Brooklyn\",\"public recycling bin\"],[\"Brooklyn\",\"public recycling bin\"],[\"Brooklyn\",\"public recycling bin\"],[\"Brooklyn\",\"public recycling bin\"],[\"Brooklyn\",\"public recycling bin\"],[\"Brooklyn\",\"public recycling bin\"],[\"Brooklyn\",\"public recycling bin\"],[\"Manhattan\",\"public recycling bin\"],[\"Manhattan\",\"public recycling bin\"],[\"Manhattan\",\"public recycling bin\"],[\"Manhattan\",\"public recycling bin\"],[\"Manhattan\",\"public recycling bin\"],[\"Manhattan\",\"public recycling bin\"],[\"Manhattan\",\"public recycling bin\"],[\"Manhattan\",\"public recycling bin\"],[\"Manhattan\",\"public recycling bin\"],[\"Manhattan\",\"public recycling bin\"],[\"Manhattan\",\"public recycling bin\"],[\"Manhattan\",\"public recycling bin\"],[\"Manhattan\",\"public recycling bin\"],[\"Manhattan\",\"public recycling bin\"],[\"Manhattan\",\"public recycling bin\"],[\"Manhattan\",\"public recycling bin\"],[\"Manhattan\",\"public recycling bin\"],[\"Manhattan\",\"public recycling bin\"],[\"Manhattan\",\"public recycling bin\"],[\"Manhattan\",\"public recycling bin\"],[\"Manhattan\",\"public recycling bin\"],[\"Manhattan\",\"public recycling bin\"],[\"Manhattan\",\"public recycling bin\"],[\"Manhattan\",\"public recycling bin\"],[\"Manhattan\",\"public recycling bin\"],[\"Manhattan\",\"public recycling bin\"],[\"Manhattan\",\"public recycling bin\"],[\"Manhattan\",\"public recycling bin\"],[\"Manhattan\",\"public recycling bin\"],[\"Manhattan\",\"public recycling bin\"],[\"Manhattan\",\"public recycling bin\"],[\"Manhattan\",\"public recycling bin\"],[\"Manhattan\",\"public recycling bin\"],[\"Manhattan\",\"public recycling bin\"],[\"Manhattan\",\"public recycling bin\"],[\"Manhattan\",\"public recycling bin\"],[\"Manhattan\",\"public recycling bin\"],[\"Manhattan\",\"public recycling bin\"],[\"Manhattan\",\"public recycling bin\"],[\"Manhattan\",\"public recycling bin\"],[\"Manhattan\",\"public recycling bin\"],[\"Manhattan\",\"public recycling bin\"],[\"Manhattan\",\"public recycling bin\"],[\"Manhattan\",\"public recycling bin\"],[\"Manhattan\",\"public recycling bin\"],[\"Manhattan\",\"public recycling bin\"],[\"Manhattan\",\"public recycling bin\"],[\"Manhattan\",\"public recycling bin\"],[\"Manhattan\",\"public recycling bin\"],[\"Manhattan\",\"public recycling bin\"],[\"Manhattan\",\"public recycling bin\"],[\"Manhattan\",\"public recycling bin\"],[\"Manhattan\",\"public recycling bin\"],[\"Manhattan\",\"public recycling bin\"],[\"Manhattan\",\"public recycling bin\"],[\"Manhattan\",\"public recycling bin\"],[\"Manhattan\",\"public recycling bin\"],[\"Manhattan\",\"public recycling bin\"],[\"Manhattan\",\"public recycling bin\"],[\"Manhattan\",\"public recycling bin\"],[\"Manhattan\",\"public recycling bin\"],[\"Manhattan\",\"public recycling bin\"],[\"Manhattan\",\"public recycling bin\"],[\"Manhattan\",\"public recycling bin\"],[\"Manhattan\",\"public recycling bin\"],[\"Manhattan\",\"public recycling bin\"],[\"Manhattan\",\"public recycling bin\"],[\"Manhattan\",\"public recycling bin\"],[\"Manhattan\",\"public recycling bin\"],[\"Manhattan\",\"public recycling bin\"],[\"Manhattan\",\"public recycling bin\"],[\"Manhattan\",\"public recycling bin\"],[\"Manhattan\",\"public recycling bin\"],[\"Manhattan\",\"public recycling bin\"],[\"Manhattan\",\"public recycling bin\"],[\"Manhattan\",\"public recycling bin\"],[\"Manhattan\",\"public recycling bin\"],[\"Manhattan\",\"public recycling bin\"],[\"Manhattan\",\"public recycling bin\"],[\"Manhattan\",\"public recycling bin\"],[\"Manhattan\",\"public recycling bin\"],[\"Manhattan\",\"public recycling bin\"],[\"Manhattan\",\"public recycling bin\"],[\"Manhattan\",\"public recycling bin\"],[\"Manhattan\",\"public recycling bin\"],[\"Manhattan\",\"public recycling bin\"],[\"Manhattan\",\"public recycling bin\"],[\"Manhattan\",\"public recycling bin\"],[\"Manhattan\",\"public recycling bin\"],[\"Manhattan\",\"public recycling bin\"],[\"Manhattan\",\"public recycling bin\"],[\"Manhattan\",\"public recycling bin\"],[\"Manhattan\",\"public recycling bin\"],[\"Manhattan\",\"public recycling bin\"],[\"Manhattan\",\"public recycling bin\"],[\"Manhattan\",\"public recycling bin\"],[\"Manhattan\",\"public recycling bin\"],[\"Manhattan\",\"public recycling bin\"],[\"Manhattan\",\"public recycling bin\"],[\"Manhattan\",\"public recycling bin\"],[\"Manhattan\",\"public recycling bin\"],[\"Manhattan\",\"public recycling bin\"],[\"Manhattan\",\"public recycling bin\"],[\"Manhattan\",\"public recycling bin\"],[\"Manhattan\",\"public recycling bin\"],[\"Manhattan\",\"public recycling bin\"],[\"Manhattan\",\"public recycling bin\"],[\"Manhattan\",\"public recycling bin\"],[\"Manhattan\",\"public recycling bin\"],[\"Manhattan\",\"public recycling bin\"],[\"Manhattan\",\"public recycling bin\"],[\"Manhattan\",\"public recycling bin\"],[\"Manhattan\",\"public recycling bin\"],[\"Manhattan\",\"public recycling bin\"],[\"Manhattan\",\"public recycling bin\"],[\"Manhattan\",\"public recycling bin\"],[\"Manhattan\",\"public recycling bin\"],[\"Manhattan\",\"public recycling bin\"],[\"Manhattan\",\"public recycling bin\"],[\"Manhattan\",\"public recycling bin\"],[\"Manhattan\",\"public recycling bin\"],[\"Manhattan\",\"public recycling bin\"],[\"Manhattan\",\"public recycling bin\"],[\"Manhattan\",\"public recycling bin\"],[\"Manhattan\",\"public recycling bin\"],[\"Manhattan\",\"public recycling bin\"],[\"Manhattan\",\"public recycling bin\"],[\"Manhattan\",\"public recycling bin\"],[\"Manhattan\",\"public recycling bin\"],[\"Manhattan\",\"public recycling bin\"],[\"Manhattan\",\"public recycling bin\"],[\"Manhattan\",\"public recycling bin\"],[\"Manhattan\",\"public recycling bin\"],[\"Manhattan\",\"public recycling bin\"],[\"Manhattan\",\"public recycling bin\"],[\"Manhattan\",\"public recycling bin\"],[\"Manhattan\",\"public recycling bin\"],[\"Manhattan\",\"public recycling bin\"],[\"Manhattan\",\"public recycling bin\"],[\"Manhattan\",\"public recycling bin\"],[\"Manhattan\",\"public recycling bin\"],[\"Manhattan\",\"public recycling bin\"],[\"Manhattan\",\"public recycling bin\"],[\"Manhattan\",\"public recycling bin\"],[\"Manhattan\",\"public recycling bin\"],[\"Manhattan\",\"public recycling bin\"],[\"Manhattan\",\"public recycling bin\"],[\"Manhattan\",\"public recycling bin\"],[\"Manhattan\",\"public recycling bin\"],[\"Manhattan\",\"public recycling bin\"],[\"Manhattan\",\"public recycling bin\"],[\"Manhattan\",\"public recycling bin\"],[\"Manhattan\",\"public recycling bin\"],[\"Manhattan\",\"public recycling bin\"],[\"Manhattan\",\"public recycling bin\"],[\"Manhattan\",\"public recycling bin\"],[\"Manhattan\",\"public recycling bin\"],[\"Manhattan\",\"public recycling bin\"],[\"Manhattan\",\"public recycling bin\"],[\"Manhattan\",\"public recycling bin\"],[\"Manhattan\",\"public recycling bin\"],[\"Manhattan\",\"public recycling bin\"],[\"Manhattan\",\"public recycling bin\"],[\"Manhattan\",\"public recycling bin\"],[\"Manhattan\",\"public recycling bin\"],[\"Manhattan\",\"public recycling bin\"],[\"Manhattan\",\"public recycling bin\"],[\"Manhattan\",\"public recycling bin\"],[\"Manhattan\",\"public recycling bin\"],[\"Manhattan\",\"public recycling bin\"],[\"Manhattan\",\"public recycling bin\"],[\"Manhattan\",\"public recycling bin\"],[\"Manhattan\",\"public recycling bin\"],[\"Manhattan\",\"public recycling bin\"],[\"Manhattan\",\"public recycling bin\"],[\"Manhattan\",\"public recycling bin\"],[\"Manhattan\",\"public recycling bin\"],[\"Manhattan\",\"public recycling bin\"],[\"Manhattan\",\"public recycling bin\"],[\"Manhattan\",\"public recycling bin\"],[\"Manhattan\",\"public recycling bin\"],[\"Manhattan\",\"public recycling bin\"],[\"Manhattan\",\"public recycling bin\"],[\"Queens\",\"public recycling bin\"],[\"Queens\",\"public recycling bin\"],[\"Queens\",\"public recycling bin\"],[\"Queens\",\"public recycling bin\"],[\"Queens\",\"public recycling bin\"],[\"Queens\",\"public recycling bin\"],[\"Queens\",\"public recycling bin\"],[\"Queens\",\"public recycling bin\"],[\"Queens\",\"public recycling bin\"],[\"Queens\",\"public recycling bin\"],[\"Queens\",\"public recycling bin\"],[\"Queens\",\"public recycling bin\"],[\"Queens\",\"public recycling bin\"],[\"Queens\",\"public recycling bin\"],[\"Queens\",\"public recycling bin\"],[\"Queens\",\"public recycling bin\"],[\"Queens\",\"public recycling bin\"],[\"Queens\",\"public recycling bin\"],[\"Queens\",\"public recycling bin\"],[\"Queens\",\"public recycling bin\"],[\"Queens\",\"public recycling bin\"],[\"Queens\",\"public recycling bin\"],[\"Queens\",\"public recycling bin\"],[\"Queens\",\"public recycling bin\"],[\"Queens\",\"public recycling bin\"],[\"Queens\",\"public recycling bin\"],[\"Queens\",\"public recycling bin\"],[\"Queens\",\"public recycling bin\"],[\"Queens\",\"public recycling bin\"],[\"Queens\",\"public recycling bin\"],[\"Queens\",\"public recycling bin\"],[\"Queens\",\"public recycling bin\"],[\"Queens\",\"public recycling bin\"],[\"Queens\",\"public recycling bin\"],[\"Queens\",\"public recycling bin\"],[\"Queens\",\"public recycling bin\"],[\"Queens\",\"public recycling bin\"],[\"Queens\",\"public recycling bin\"],[\"Queens\",\"public recycling bin\"],[\"Queens\",\"public recycling bin\"],[\"Queens\",\"public recycling bin\"],[\"Queens\",\"public recycling bin\"],[\"Queens\",\"public recycling bin\"],[\"Queens\",\"public recycling bin\"],[\"Queens\",\"public recycling bin\"],[\"Queens\",\"public recycling bin\"],[\"Queens\",\"public recycling bin\"],[\"Queens\",\"public recycling bin\"],[\"Queens\",\"public recycling bin\"],[\"Queens\",\"public recycling bin\"],[\"Queens\",\"public recycling bin\"],[\"Queens\",\"public recycling bin\"],[\"Queens\",\"public recycling bin\"],[\"Queens\",\"public recycling bin\"],[\"Queens\",\"public recycling bin\"],[\"Queens\",\"public recycling bin\"],[\"Queens\",\"public recycling bin\"],[\"Queens\",\"public recycling bin\"],[\"Queens\",\"public recycling bin\"],[\"Queens\",\"public recycling bin\"],[\"Queens\",\"public recycling bin\"],[\"Queens\",\"public recycling bin\"],[\"Queens\",\"public recycling bin\"],[\"Queens\",\"public recycling bin\"],[\"Queens\",\"public recycling bin\"],[\"Queens\",\"public recycling bin\"],[\"Queens\",\"public recycling bin\"],[\"Queens\",\"public recycling bin\"],[\"Queens\",\"public recycling bin\"],[\"Queens\",\"public recycling bin\"],[\"Queens\",\"public recycling bin\"],[\"Queens\",\"public recycling bin\"],[\"Queens\",\"public recycling bin\"],[\"Queens\",\"public recycling bin\"],[\"Queens\",\"public recycling bin\"],[\"Queens\",\"public recycling bin\"],[\"Queens\",\"public recycling bin\"],[\"Queens\",\"public recycling bin\"],[\"Queens\",\"public recycling bin\"],[\"Queens\",\"public recycling bin\"],[\"Queens\",\"public recycling bin\"],[\"Queens\",\"public recycling bin\"],[\"Queens\",\"public recycling bin\"],[\"Queens\",\"public recycling bin\"],[\"Queens\",\"public recycling bin\"],[\"Queens\",\"public recycling bin\"],[\"Queens\",\"public recycling bin\"],[\"Queens\",\"public recycling bin\"],[\"Queens\",\"public recycling bin\"],[\"Queens\",\"public recycling bin\"],[\"Queens\",\"public recycling bin\"],[\"Queens\",\"public recycling bin\"],[\"Queens\",\"public recycling bin\"],[\"Queens\",\"public recycling bin\"],[\"Queens\",\"public recycling bin\"],[\"Queens\",\"public recycling bin\"],[\"Queens\",\"public recycling bin\"],[\"Queens\",\"public recycling bin\"],[\"Queens\",\"public recycling bin\"],[\"Queens\",\"public recycling bin\"],[\"Queens\",\"public recycling bin\"],[\"Queens\",\"public recycling bin\"],[\"Queens\",\"public recycling bin\"],[\"Queens\",\"public recycling bin\"],[\"Queens\",\"public recycling bin\"],[\"Queens\",\"public recycling bin\"],[\"Queens\",\"public recycling bin\"],[\"Queens\",\"public recycling bin\"],[\"Queens\",\"public recycling bin\"],[\"Queens\",\"public recycling bin\"],[\"Queens\",\"public recycling bin\"],[\"Queens\",\"public recycling bin\"],[\"Queens\",\"public recycling bin\"],[\"Queens\",\"public recycling bin\"],[\"Queens\",\"public recycling bin\"],[\"Queens\",\"public recycling bin\"],[\"Staten Island\",\"public recycling bin\"],[\"Staten Island\",\"public recycling bin\"],[\"Staten Island\",\"public recycling bin\"],[\"Staten Island\",\"public recycling bin\"],[\"Staten Island\",\"public recycling bin\"],[\"Staten Island\",\"public recycling bin\"],[\"Staten Island\",\"public recycling bin\"],[\"Staten Island\",\"public recycling bin\"],[\"Staten Island\",\"public recycling bin\"],[\"Staten Island\",\"public recycling bin\"],[\"Staten Island\",\"public recycling bin\"],[\"Staten Island\",\"public recycling bin\"],[\"Staten Island\",\"public recycling bin\"],[\"Staten Island\",\"public recycling bin\"],[\"Staten Island\",\"public recycling bin\"],[\"Staten Island\",\"public recycling bin\"],[\"Staten Island\",\"public recycling bin\"],[\"Staten Island\",\"public recycling bin\"],[\"Staten Island\",\"public recycling bin\"],[\"Staten Island\",\"public recycling bin\"],[\"Staten Island\",\"public recycling bin\"],[\"Staten Island\",\"public recycling bin\"],[\"Staten Island\",\"public recycling bin\"],[\"Staten Island\",\"public recycling bin\"],[\"Staten Island\",\"public recycling bin\"],[\"Staten Island\",\"public recycling bin\"],[\"Staten Island\",\"public recycling bin\"],[\"Staten Island\",\"public recycling bin\"],[\"Staten Island\",\"public recycling bin\"],[\"Staten Island\",\"public recycling bin\"],[\"Staten Island\",\"public recycling bin\"],[\"Staten Island\",\"public recycling bin\"],[\"Staten Island\",\"public recycling bin\"],[\"Staten Island\",\"public recycling bin\"],[\"Staten Island\",\"public recycling bin\"],[\"Staten Island\",\"public recycling bin\"],[\"Staten Island\",\"public recycling bin\"],[\"Staten Island\",\"public recycling bin\"],[\"Staten Island\",\"public recycling bin\"],[\"Staten Island\",\"public recycling bin\"],[\"Staten Island\",\"public recycling bin\"],[\"Staten Island\",\"public recycling bin\"]],\"hovertemplate\":\"color=#824100<br>latitude=%{lat}<br>longitude=%{lon}<br>boro=%{customdata[0]}<br>type=%{customdata[1]}<extra></extra>\",\"lat\":[40.89084899,40.84889079,40.85557,40.871864,40.851889,40.861526,40.860755,40.859644,40.862602,40.826939,40.826627,40.854322,40.854445,40.850017,40.84976,40.819933,40.871706,40.911295,40.911236,40.825217,40.840115,40.835226,40.84133,40.840876,40.838351,40.841123,40.83377,40.841444,40.875553,40.833109,40.85042,40.849292,40.822893,40.813663,40.82201,40.862402,40.861948,40.861379,40.861267,40.869996,40.847026,40.816171,40.814213,40.817471,40.81484,40.858005,40.829632,40.827502,40.877667,40.835694,40.82297053,40.8229924,40.834258,40.831466,40.84155572,40.822711,40.889428,40.836706,40.90208,40.884079,40.866292,40.867984,40.868802,40.869068,40.872275,40.840504,40.840626,40.82366,40.838797,40.851723,40.849069,40.850274,40.841884,40.842795,40.903281,40.861953,40.873199,40.883881,40.885219,40.888353,40.865657,40.906878,40.819113,40.819274,40.817335,40.816505,40.835694,40.886538,40.887313,40.866089,40.865469,40.864779,40.811712,40.811588,40.80531601,40.887317,40.888933,40.888224,40.890172,40.888255,40.889096,40.833505,40.82057088,40.860641,40.828933,40.844147,40.895803,40.677973,40.57519,40.575239,40.629573,40.596833,40.68463,40.696536,40.673811,40.656762,40.722315,40.697327,40.695873,40.680946,40.681307,40.679442,40.68829,40.694143,40.697793,40.685861,40.610033,40.65021,40.687093,40.682556,40.687072,40.687208,40.689818,40.613322,40.67073271,40.672659,40.66101,40.700784,40.674221,40.67269,40.673262,40.578225,40.603519,40.695719,40.577672,40.577211,40.604085,40.721612,40.721535,40.72173,40.721933,40.720622,40.721653,40.719973,40.721075,40.724446,40.715086,40.692165,40.67207,40.693222,40.693473,40.693127,40.693456,40.720628,40.6659,40.639285,40.577492,40.668797,40.676639,40.696389,40.660478,40.655183,40.664608,40.66132,40.693761,40.677265,40.604374,40.617506,40.697746,40.701079,40.667491,40.673754,40.713316,40.650143,40.705616,40.706315,40.648468,40.709648,40.666548,40.665324,40.676766,40.688204,40.674329,40.695221,40.684658,40.70238,40.702631,40.702573,40.68293,40.683557,40.712187,40.715827,40.715923,40.71045,40.716396,40.718605,40.807945,40.716941,40.713608,40.714023,40.714399,40.716827,40.750901,40.71368,40.716458,40.716158,40.723831,40.715387,40.785787,40.785717,40.710412,40.736271,40.704592,40.711576,40.705075,40.711565,40.716092,40.739982,40.852856,40.736401,40.712939,40.71248,40.754391,40.753954,40.77453,40.804559,40.712796,40.749849,40.748355,40.749349,40.749318,40.711834,40.712806,40.712897,40.712517,40.710746,40.819645,40.71475,40.732377,40.804284,40.721757,40.71511,40.715356,40.807191,40.716205,40.760842,40.753938,40.730225,40.714357,40.715167,40.824847,40.751692,40.715109,40.719937,40.716618,40.717499,40.718372,40.718888,40.719832,40.721303,40.722911,40.723896,40.724113,40.725238,40.720057,40.812748,40.78613,40.806036,40.718742,40.74085,40.743298,40.739465,40.847983,40.746041,40.742795,40.714666,40.702411,40.70235,40.731457,40.728833,40.738145,40.748684,40.748507,40.751987,40.762839,40.770381,40.727097,40.701307,40.706124,40.87126,40.872594,40.867338,40.87303,40.84637,40.84696,40.824297,40.738952,40.859226,40.820071,40.769445,40.802588,40.771372,40.773715,40.828677,40.758977,40.799707,40.80413,40.801921,40.803133,40.805621,40.835708,40.780558,40.781265,40.781936,40.782175,40.782666,40.808183,40.711826,40.814478,40.867205,40.805463,40.720478,40.720176,40.719714,40.72917,40.73038,40.728828,40.732971,40.74341,40.763247,40.796609,40.707656,40.756564,40.787059,40.829744,40.721035,40.714603,40.724254,40.724319,40.72227,40.76512,40.817272,40.744858,40.73277,40.793412,40.715059,40.714045,40.714224,40.715355,40.755914,40.72603,40.726599,40.725698,40.729474,40.719979,40.735243,40.735219,40.735292,40.737023,40.736535,40.736122,40.73534,40.77878,40.72534,40.704695,40.704919,40.715575,40.717298,40.729689,40.806938,40.731315,40.788757,40.702335,40.755803,40.728344,40.673137,40.751418,40.76269,40.740063,40.739523,40.739295,40.738986,40.739758,40.776788,40.715851,40.683453,40.681366,40.675268,40.682418,40.758381,40.690594,40.66346,40.657674,40.661051,40.770753,40.667505,40.712529,40.779897,40.77208,40.595548,40.736722,40.73523,40.730966,40.73836,40.730117,40.729499,40.701915,40.730193,40.740388,40.728112,40.735169,40.749151,40.737039,40.7333,40.746639,40.744249,40.751882,40.698413,40.69664,40.701272,40.69747,40.702293,40.701854,40.69799,40.794781,40.792085,40.792357,40.692406,40.704591,40.753635,40.710069,40.71031,40.733135,40.733143,40.733068,40.732938,40.732701,40.733203,40.720689,40.720412,40.719988,40.719841,40.742502,40.742364,40.744148,40.749228,40.747887,40.732226,40.757266,40.721815,40.722012,40.72248,40.751632,40.750333,40.694407,40.740883,40.736171,40.747127,40.745794,40.744152,40.743599,40.765644,40.582137,40.5814,40.580754,40.585826,40.5844,40.58415,40.583412,40.582825,40.582479,40.585105,40.670613,40.691011,40.685918,40.688249,40.768029,40.602281,40.665379,40.665627,40.758219,40.758155,40.749844,40.749547,40.749687,40.754243,40.741628,40.701651,40.751914,40.574036,40.587445,40.586439,40.533819,40.535174,40.53514,40.531521,40.557382,40.560272,40.620135,40.618744,40.613891,40.637872,40.614615,40.640999,40.62005569,40.588496,40.584516,40.593686,40.564469,40.637596,40.585877,40.643368,40.57669,40.575019,40.628859,40.627186,40.628358,40.579313,40.642303,40.642709,40.642324,40.505646,40.642843,40.643799,40.643449,40.643343,40.637121,40.603832,40.603828,40.517368,40.518652],\"legendgroup\":\"#824100\",\"lon\":[-73.86422392,-73.87712839,-73.887565,-73.805549,-73.868549,-73.880659,-73.880423,-73.880472,-73.880171,-73.922314,-73.922447,-73.869764,-73.869863,-73.880035,-73.880055,-73.887069,-73.872741,-73.907652,-73.90791,-73.88546,-73.895513,-73.895652,-73.892702,-73.898206,-73.893566,-73.898056,-73.877453,-73.888487,-73.860526,-73.828285,-73.915529,-73.902175,-73.91266,-73.905898,-73.914009,-73.897174,-73.893726,-73.881414,-73.89014,-73.876238,-73.882534,-73.917594,-73.885886,-73.882622,-73.90691,-73.90485,-73.921933,-73.923062,-73.90062,-73.925664,-73.91288322,-73.93189254,-73.923392,-73.923947,-73.87752267,-73.890242,-73.864356,-73.872355,-73.868519,-73.866996,-73.794774,-73.793396,-73.792261,-73.792558,-73.797323,-73.842668,-73.843231,-73.850766,-73.845791,-73.824697,-73.822954,-73.88992,-73.876389,-73.877694,-73.903612,-73.890736,-73.87052,-73.881691,-73.840474,-73.840908,-73.850613,-73.904143,-73.878003,-73.870418,-73.870322,-73.872564,-73.888776,-73.898453,-73.916308,-73.896967,-73.898571,-73.899257,-73.914339,-73.914342,-73.91533212,-73.899006,-73.898324,-73.896655,-73.896375,-73.897777,-73.892278,-73.86232,-73.91403138,-73.871488,-73.869326,-73.918886,-73.87943,-73.928171,-73.971342,-73.971889,-74.022532,-73.9994,-73.990234,-73.990675,-73.943717,-73.90247,-73.961527,-73.990337,-73.990218,-73.995481,-73.995212,-73.876233,-73.996136,-73.989791,-73.978653,-73.972638,-73.96952,-73.958798,-73.976238,-73.961975,-73.976557,-73.974621,-73.9732,-74.030067,-73.87967557,-73.885742,-73.895627,-73.995146,-73.888573,-73.984796,-73.984332,-73.994834,-73.957375,-73.990256,-73.944616,-73.946587,-73.930703,-73.953668,-73.954114,-73.953298,-73.955283,-73.952488,-73.950305,-73.952215,-73.955512,-73.943326,-73.960546,-73.985247,-73.96598,-73.971887,-73.979168,-73.96879,-73.965908,-73.965524,-73.887172,-74.031909,-73.946325,-73.980144,-73.978903,-73.99734,-73.963187,-73.962214,-73.976666,-73.979593,-73.948972,-74.008353,-73.930741,-74.040033,-73.976199,-73.995307,-73.89384,-73.934855,-73.938974,-73.884372,-73.947172,-73.948025,-74.006771,-73.950166,-73.887691,-73.886769,-73.965902,-73.966559,-73.877867,-73.943264,-73.925222,-73.986553,-73.990641,-73.989752,-73.964596,-73.966797,-74.005701,-74.000488,-74.001448,-74.003755,-74.001359,-73.993763,-73.945623,-74.000816,-74.003619,-74.004472,-74.006131,-74.004185,-73.990843,-74.005513,-74.002467,-74.002555,-73.980677,-74.001773,-73.951092,-73.950922,-73.996979,-73.975508,-74.016957,-74.016051,-74.017115,-74.015853,-74.000134,-73.978053,-73.938098,-74.005572,-74.007262,-74.007642,-73.983402,-73.984092,-73.943837,-73.952985,-74.004816,-74.000856,-74.002007,-74.007351,-74.006981,-74.007124,-74.004808,-74.007269,-74.007573,-73.993819,-73.936417,-74.000096,-74.010735,-73.931744,-73.996052,-74.002359,-74.002985,-73.934751,-73.975494,-73.969307,-73.986947,-74.002246,-74.003085,-74.002599,-73.935623,-73.975975,-74.011382,-73.981432,-73.975256,-73.974858,-73.974674,-73.974598,-73.974488,-73.974323,-73.973828,-73.973184,-73.973016,-73.972364,-73.981636,-73.939317,-73.943294,-73.934206,-74.013092,-74.008056,-74.007034,-74.008162,-73.929251,-74.006109,-74.008033,-74.002176,-74.012879,-74.014393,-74.010973,-74.011899,-74.010417,-74.008825,-74.009283,-74.008443,-74.001011,-73.995824,-74.011512,-74.011998,-74.004217,-73.930765,-73.930199,-73.929011,-73.918427,-73.940825,-73.940028,-73.942288,-74.002882,-73.934552,-73.952107,-73.949898,-73.938468,-73.982072,-73.981957,-73.948059,-73.991396,-73.962203,-73.958298,-73.960854,-73.958336,-73.958455,-73.939122,-73.972924,-73.975927,-73.97542,-73.972256,-73.973215,-73.95205,-74.007142,-73.943498,-73.929121,-73.946284,-74.016223,-74.013949,-74.012943,-74.011317,-74.011005,-74.011903,-74.010875,-74.009,-74.000042,-73.931602,-74.015976,-73.965043,-73.982257,-73.936431,-73.991596,-73.990111,-73.982088,-73.997828,-73.997287,-73.958509,-73.948248,-73.973764,-73.97406,-73.937115,-74.002355,-74.003135,-74.003285,-74.002982,-73.986712,-73.983353,-73.982985,-73.980843,-74.005489,-74.010272,-73.991012,-73.991603,-73.991614,-73.990324,-73.989754,-73.98963,-73.990127,-73.981788,-74.002324,-74.006729,-74.007084,-74.011301,-74.011001,-73.99662,-73.945301,-74.000988,-73.977788,-74.014384,-73.92631,-73.815159,-73.85461,-73.833843,-73.753297,-73.734291,-73.734881,-73.735873,-73.737665,-73.73546,-73.92753,-73.836995,-73.79213,-73.787854,-73.786905,-73.785392,-73.831008,-73.803822,-73.741329,-73.748388,-73.746639,-73.77174,-73.807496,-73.799377,-73.922391,-73.769438,-73.762266,-73.770538,-73.772083,-73.772458,-73.764991,-73.7727,-73.772888,-73.783477,-73.885302,-73.841879,-73.835592,-73.843435,-73.840066,-73.837856,-73.841976,-73.844583,-73.844068,-73.837459,-73.857672,-73.860344,-73.841922,-73.856664,-73.854765,-73.853145,-73.853295,-73.779207,-73.774357,-73.777013,-73.794745,-73.881944,-73.947615,-73.911456,-73.911063,-73.871233,-73.871427,-73.870885,-73.870916,-73.871081,-73.871822,-73.877521,-73.876474,-73.884693,-73.882971,-73.810261,-73.808518,-73.809333,-73.803658,-73.809765,-73.86515,-73.770978,-73.845511,-73.84608,-73.847477,-73.843676,-73.8441,-73.822116,-73.849318,-73.814014,-73.852214,-73.846729,-73.844476,-73.850355,-73.941159,-73.820127,-73.823377,-73.824936,-73.807265,-73.811254,-73.812472,-73.815484,-73.817858,-73.819097,-73.809223,-73.846257,-73.774207,-73.769315,-73.773574,-73.936159,-73.751564,-73.824555,-73.826703,-73.900278,-73.919785,-73.91475,-73.91514,-73.91427,-73.889365,-73.777362,-73.78315,-73.83732,-74.116627,-74.100364,-74.100257,-74.210241,-74.210125,-74.208524,-74.207153,-74.10392,-74.10104,-74.118801,-74.118278,-74.113523,-74.118791,-74.07412,-74.135418,-74.16311549,-74.138918,-74.125035,-74.135646,-74.097531,-74.074802,-74.100975,-74.086066,-74.098663,-74.098706,-74.118013,-74.091985,-74.099058,-74.077688,-74.076549,-74.075724,-74.075489,-74.235477,-74.11032,-74.108845,-74.11046,-74.108641,-74.119287,-74.158697,-74.16125,-74.190913,-74.18731],\"marker\":{\"color\":\"#FFA15A\",\"opacity\":1},\"mode\":\"markers\",\"name\":\"#824100\",\"selected\":{\"marker\":{\"opacity\":1,\"size\":10}},\"showlegend\":true,\"subplot\":\"mapbox\",\"type\":\"scattermapbox\",\"unselected\":{\"marker\":{\"opacity\":0.8,\"size\":5}}}],                        {\"clickmode\":\"event+select\",\"hovermode\":\"closest\",\"legend\":{\"title\":{\"text\":\"color\"},\"tracegroupgap\":0},\"mapbox\":{\"accesstoken\":\"pk.eyJ1Ijoibmd1eWVuZHVjaHV5MjcxMTk3IiwiYSI6ImNrdGlrdXR6NTEydGQyb3FmMm40M3ZzY3IifQ.2Su0FgZih2OeDc7Z4xla8g\",\"bearing\":20,\"center\":{\"lat\":40.73,\"lon\":-73.99},\"domain\":{\"x\":[0.0,1.0],\"y\":[0.0,1.0]},\"pitch\":20,\"style\":\"basic\",\"zoom\":11},\"showlegend\":false,\"template\":{\"data\":{\"bar\":[{\"error_x\":{\"color\":\"#2a3f5f\"},\"error_y\":{\"color\":\"#2a3f5f\"},\"marker\":{\"line\":{\"color\":\"#E5ECF6\",\"width\":0.5},\"pattern\":{\"fillmode\":\"overlay\",\"size\":10,\"solidity\":0.2}},\"type\":\"bar\"}],\"barpolar\":[{\"marker\":{\"line\":{\"color\":\"#E5ECF6\",\"width\":0.5},\"pattern\":{\"fillmode\":\"overlay\",\"size\":10,\"solidity\":0.2}},\"type\":\"barpolar\"}],\"carpet\":[{\"aaxis\":{\"endlinecolor\":\"#2a3f5f\",\"gridcolor\":\"white\",\"linecolor\":\"white\",\"minorgridcolor\":\"white\",\"startlinecolor\":\"#2a3f5f\"},\"baxis\":{\"endlinecolor\":\"#2a3f5f\",\"gridcolor\":\"white\",\"linecolor\":\"white\",\"minorgridcolor\":\"white\",\"startlinecolor\":\"#2a3f5f\"},\"type\":\"carpet\"}],\"choropleth\":[{\"colorbar\":{\"outlinewidth\":0,\"ticks\":\"\"},\"type\":\"choropleth\"}],\"contour\":[{\"colorbar\":{\"outlinewidth\":0,\"ticks\":\"\"},\"colorscale\":[[0.0,\"#0d0887\"],[0.1111111111111111,\"#46039f\"],[0.2222222222222222,\"#7201a8\"],[0.3333333333333333,\"#9c179e\"],[0.4444444444444444,\"#bd3786\"],[0.5555555555555556,\"#d8576b\"],[0.6666666666666666,\"#ed7953\"],[0.7777777777777778,\"#fb9f3a\"],[0.8888888888888888,\"#fdca26\"],[1.0,\"#f0f921\"]],\"type\":\"contour\"}],\"contourcarpet\":[{\"colorbar\":{\"outlinewidth\":0,\"ticks\":\"\"},\"type\":\"contourcarpet\"}],\"heatmap\":[{\"colorbar\":{\"outlinewidth\":0,\"ticks\":\"\"},\"colorscale\":[[0.0,\"#0d0887\"],[0.1111111111111111,\"#46039f\"],[0.2222222222222222,\"#7201a8\"],[0.3333333333333333,\"#9c179e\"],[0.4444444444444444,\"#bd3786\"],[0.5555555555555556,\"#d8576b\"],[0.6666666666666666,\"#ed7953\"],[0.7777777777777778,\"#fb9f3a\"],[0.8888888888888888,\"#fdca26\"],[1.0,\"#f0f921\"]],\"type\":\"heatmap\"}],\"heatmapgl\":[{\"colorbar\":{\"outlinewidth\":0,\"ticks\":\"\"},\"colorscale\":[[0.0,\"#0d0887\"],[0.1111111111111111,\"#46039f\"],[0.2222222222222222,\"#7201a8\"],[0.3333333333333333,\"#9c179e\"],[0.4444444444444444,\"#bd3786\"],[0.5555555555555556,\"#d8576b\"],[0.6666666666666666,\"#ed7953\"],[0.7777777777777778,\"#fb9f3a\"],[0.8888888888888888,\"#fdca26\"],[1.0,\"#f0f921\"]],\"type\":\"heatmapgl\"}],\"histogram\":[{\"marker\":{\"pattern\":{\"fillmode\":\"overlay\",\"size\":10,\"solidity\":0.2}},\"type\":\"histogram\"}],\"histogram2d\":[{\"colorbar\":{\"outlinewidth\":0,\"ticks\":\"\"},\"colorscale\":[[0.0,\"#0d0887\"],[0.1111111111111111,\"#46039f\"],[0.2222222222222222,\"#7201a8\"],[0.3333333333333333,\"#9c179e\"],[0.4444444444444444,\"#bd3786\"],[0.5555555555555556,\"#d8576b\"],[0.6666666666666666,\"#ed7953\"],[0.7777777777777778,\"#fb9f3a\"],[0.8888888888888888,\"#fdca26\"],[1.0,\"#f0f921\"]],\"type\":\"histogram2d\"}],\"histogram2dcontour\":[{\"colorbar\":{\"outlinewidth\":0,\"ticks\":\"\"},\"colorscale\":[[0.0,\"#0d0887\"],[0.1111111111111111,\"#46039f\"],[0.2222222222222222,\"#7201a8\"],[0.3333333333333333,\"#9c179e\"],[0.4444444444444444,\"#bd3786\"],[0.5555555555555556,\"#d8576b\"],[0.6666666666666666,\"#ed7953\"],[0.7777777777777778,\"#fb9f3a\"],[0.8888888888888888,\"#fdca26\"],[1.0,\"#f0f921\"]],\"type\":\"histogram2dcontour\"}],\"mesh3d\":[{\"colorbar\":{\"outlinewidth\":0,\"ticks\":\"\"},\"type\":\"mesh3d\"}],\"parcoords\":[{\"line\":{\"colorbar\":{\"outlinewidth\":0,\"ticks\":\"\"}},\"type\":\"parcoords\"}],\"pie\":[{\"automargin\":true,\"type\":\"pie\"}],\"scatter\":[{\"marker\":{\"colorbar\":{\"outlinewidth\":0,\"ticks\":\"\"}},\"type\":\"scatter\"}],\"scatter3d\":[{\"line\":{\"colorbar\":{\"outlinewidth\":0,\"ticks\":\"\"}},\"marker\":{\"colorbar\":{\"outlinewidth\":0,\"ticks\":\"\"}},\"type\":\"scatter3d\"}],\"scattercarpet\":[{\"marker\":{\"colorbar\":{\"outlinewidth\":0,\"ticks\":\"\"}},\"type\":\"scattercarpet\"}],\"scattergeo\":[{\"marker\":{\"colorbar\":{\"outlinewidth\":0,\"ticks\":\"\"}},\"type\":\"scattergeo\"}],\"scattergl\":[{\"marker\":{\"colorbar\":{\"outlinewidth\":0,\"ticks\":\"\"}},\"type\":\"scattergl\"}],\"scattermapbox\":[{\"marker\":{\"colorbar\":{\"outlinewidth\":0,\"ticks\":\"\"}},\"type\":\"scattermapbox\"}],\"scatterpolar\":[{\"marker\":{\"colorbar\":{\"outlinewidth\":0,\"ticks\":\"\"}},\"type\":\"scatterpolar\"}],\"scatterpolargl\":[{\"marker\":{\"colorbar\":{\"outlinewidth\":0,\"ticks\":\"\"}},\"type\":\"scatterpolargl\"}],\"scatterternary\":[{\"marker\":{\"colorbar\":{\"outlinewidth\":0,\"ticks\":\"\"}},\"type\":\"scatterternary\"}],\"surface\":[{\"colorbar\":{\"outlinewidth\":0,\"ticks\":\"\"},\"colorscale\":[[0.0,\"#0d0887\"],[0.1111111111111111,\"#46039f\"],[0.2222222222222222,\"#7201a8\"],[0.3333333333333333,\"#9c179e\"],[0.4444444444444444,\"#bd3786\"],[0.5555555555555556,\"#d8576b\"],[0.6666666666666666,\"#ed7953\"],[0.7777777777777778,\"#fb9f3a\"],[0.8888888888888888,\"#fdca26\"],[1.0,\"#f0f921\"]],\"type\":\"surface\"}],\"table\":[{\"cells\":{\"fill\":{\"color\":\"#EBF0F8\"},\"line\":{\"color\":\"white\"}},\"header\":{\"fill\":{\"color\":\"#C8D4E3\"},\"line\":{\"color\":\"white\"}},\"type\":\"table\"}]},\"layout\":{\"annotationdefaults\":{\"arrowcolor\":\"#2a3f5f\",\"arrowhead\":0,\"arrowwidth\":1},\"autotypenumbers\":\"strict\",\"coloraxis\":{\"colorbar\":{\"outlinewidth\":0,\"ticks\":\"\"}},\"colorscale\":{\"diverging\":[[0,\"#8e0152\"],[0.1,\"#c51b7d\"],[0.2,\"#de77ae\"],[0.3,\"#f1b6da\"],[0.4,\"#fde0ef\"],[0.5,\"#f7f7f7\"],[0.6,\"#e6f5d0\"],[0.7,\"#b8e186\"],[0.8,\"#7fbc41\"],[0.9,\"#4d9221\"],[1,\"#276419\"]],\"sequential\":[[0.0,\"#0d0887\"],[0.1111111111111111,\"#46039f\"],[0.2222222222222222,\"#7201a8\"],[0.3333333333333333,\"#9c179e\"],[0.4444444444444444,\"#bd3786\"],[0.5555555555555556,\"#d8576b\"],[0.6666666666666666,\"#ed7953\"],[0.7777777777777778,\"#fb9f3a\"],[0.8888888888888888,\"#fdca26\"],[1.0,\"#f0f921\"]],\"sequentialminus\":[[0.0,\"#0d0887\"],[0.1111111111111111,\"#46039f\"],[0.2222222222222222,\"#7201a8\"],[0.3333333333333333,\"#9c179e\"],[0.4444444444444444,\"#bd3786\"],[0.5555555555555556,\"#d8576b\"],[0.6666666666666666,\"#ed7953\"],[0.7777777777777778,\"#fb9f3a\"],[0.8888888888888888,\"#fdca26\"],[1.0,\"#f0f921\"]]},\"colorway\":[\"#636efa\",\"#EF553B\",\"#00cc96\",\"#ab63fa\",\"#FFA15A\",\"#19d3f3\",\"#FF6692\",\"#B6E880\",\"#FF97FF\",\"#FECB52\"],\"font\":{\"color\":\"#2a3f5f\"},\"geo\":{\"bgcolor\":\"white\",\"lakecolor\":\"white\",\"landcolor\":\"#E5ECF6\",\"showlakes\":true,\"showland\":true,\"subunitcolor\":\"white\"},\"hoverlabel\":{\"align\":\"left\"},\"hovermode\":\"closest\",\"mapbox\":{\"style\":\"light\"},\"paper_bgcolor\":\"white\",\"plot_bgcolor\":\"#E5ECF6\",\"polar\":{\"angularaxis\":{\"gridcolor\":\"white\",\"linecolor\":\"white\",\"ticks\":\"\"},\"bgcolor\":\"#E5ECF6\",\"radialaxis\":{\"gridcolor\":\"white\",\"linecolor\":\"white\",\"ticks\":\"\"}},\"scene\":{\"xaxis\":{\"backgroundcolor\":\"#E5ECF6\",\"gridcolor\":\"white\",\"gridwidth\":2,\"linecolor\":\"white\",\"showbackground\":true,\"ticks\":\"\",\"zerolinecolor\":\"white\"},\"yaxis\":{\"backgroundcolor\":\"#E5ECF6\",\"gridcolor\":\"white\",\"gridwidth\":2,\"linecolor\":\"white\",\"showbackground\":true,\"ticks\":\"\",\"zerolinecolor\":\"white\"},\"zaxis\":{\"backgroundcolor\":\"#E5ECF6\",\"gridcolor\":\"white\",\"gridwidth\":2,\"linecolor\":\"white\",\"showbackground\":true,\"ticks\":\"\",\"zerolinecolor\":\"white\"}},\"shapedefaults\":{\"line\":{\"color\":\"#2a3f5f\"}},\"ternary\":{\"aaxis\":{\"gridcolor\":\"white\",\"linecolor\":\"white\",\"ticks\":\"\"},\"baxis\":{\"gridcolor\":\"white\",\"linecolor\":\"white\",\"ticks\":\"\"},\"bgcolor\":\"#E5ECF6\",\"caxis\":{\"gridcolor\":\"white\",\"linecolor\":\"white\",\"ticks\":\"\"}},\"title\":{\"x\":0.05},\"xaxis\":{\"automargin\":true,\"gridcolor\":\"white\",\"linecolor\":\"white\",\"ticks\":\"\",\"title\":{\"standoff\":15},\"zerolinecolor\":\"white\",\"zerolinewidth\":2},\"yaxis\":{\"automargin\":true,\"gridcolor\":\"white\",\"linecolor\":\"white\",\"ticks\":\"\",\"title\":{\"standoff\":15},\"zerolinecolor\":\"white\",\"zerolinewidth\":2}}},\"title\":{\"font\":{\"color\":\"#A45D5D\",\"size\":30},\"text\":\"Where to recycle?\",\"x\":0.5}},                        {\"responsive\": true}                    ).then(function(){\n",
       "                            \n",
       "var gd = document.getElementById('44786d52-d755-411d-8491-2e33a3c69100');\n",
       "var x = new MutationObserver(function (mutations, observer) {{\n",
       "        var display = window.getComputedStyle(gd).display;\n",
       "        if (!display || display === 'none') {{\n",
       "            console.log([gd, 'removed!']);\n",
       "            Plotly.purge(gd);\n",
       "            observer.disconnect();\n",
       "        }}\n",
       "}});\n",
       "\n",
       "// Listen for the removal of the full notebook cells\n",
       "var notebookContainer = gd.closest('#notebook-container');\n",
       "if (notebookContainer) {{\n",
       "    x.observe(notebookContainer, {childList: true});\n",
       "}}\n",
       "\n",
       "// Listen for the clearing of the current output cell\n",
       "var outputEl = gd.closest('.output');\n",
       "if (outputEl) {{\n",
       "    x.observe(outputEl, {childList: true});\n",
       "}}\n",
       "\n",
       "                        })                };                });            </script>        </div>"
      ]
     },
     "metadata": {},
     "output_type": "display_data"
    }
   ],
   "source": [
    "MAPBOX_ACCESS_TOKEN = \"pk.eyJ1Ijoibmd1eWVuZHVjaHV5MjcxMTk3IiwiYSI6ImNrdGlrdXR6NTEydGQyb3FmMm40M3ZzY3IifQ.2Su0FgZih2OeDc7Z4xla8g\"\n",
    "px.set_mapbox_access_token(token=MAPBOX_ACCESS_TOKEN)\n",
    "fig = px.scatter_mapbox(data_frame=df, \n",
    "                          lat= \"latitude\", \n",
    "                          lon= \"longitude\", \n",
    "                          color= \"color\", \n",
    "                          hover_data= [\"boro\", \"type\"], \n",
    "                          opacity=1, \n",
    "                          zoom= 11, \n",
    "                          center= {\"lat\": 40.73, \n",
    "                                   \"lon\": -73.99}, \n",
    "                        mapbox_style=\"basic\", \n",
    "                        title= \"Where to recycle?\")\n",
    "\n",
    "fig.update_traces(selected_marker= {\"opacity\": 1, \n",
    "                                    \"size\": 10}, \n",
    "                  unselected_marker= {\"opacity\": 0.8})\n",
    "\n",
    "fig.update_layout(showlegend= False, \n",
    "                  clickmode= \"event+select\", \n",
    "                  hovermode= \"closest\",\n",
    "                  title_font= {\"color\": \"#A45D5D\", \"size\": 30},\n",
    "                  title= {\"x\": 0.5},\n",
    "                  mapbox= {\"bearing\": 20, \n",
    "                           \"pitch\": 20})\n",
    "fig.show()"
   ]
  },
  {
   "cell_type": "code",
   "execution_count": null,
   "id": "baf19c6c",
   "metadata": {},
   "outputs": [],
   "source": []
  }
 ],
 "metadata": {
  "kernelspec": {
   "display_name": "Python 3 (ipykernel)",
   "language": "python",
   "name": "python3"
  },
  "language_info": {
   "codemirror_mode": {
    "name": "ipython",
    "version": 3
   },
   "file_extension": ".py",
   "mimetype": "text/x-python",
   "name": "python",
   "nbconvert_exporter": "python",
   "pygments_lexer": "ipython3",
   "version": "3.8.6"
  },
  "varInspector": {
   "cols": {
    "lenName": 16,
    "lenType": 16,
    "lenVar": 40
   },
   "kernels_config": {
    "python": {
     "delete_cmd_postfix": "",
     "delete_cmd_prefix": "del ",
     "library": "var_list.py",
     "varRefreshCmd": "print(var_dic_list())"
    },
    "r": {
     "delete_cmd_postfix": ") ",
     "delete_cmd_prefix": "rm(",
     "library": "var_list.r",
     "varRefreshCmd": "cat(var_dic_list()) "
    }
   },
   "types_to_exclude": [
    "module",
    "function",
    "builtin_function_or_method",
    "instance",
    "_Feature"
   ],
   "window_display": false
  }
 },
 "nbformat": 4,
 "nbformat_minor": 5
}
