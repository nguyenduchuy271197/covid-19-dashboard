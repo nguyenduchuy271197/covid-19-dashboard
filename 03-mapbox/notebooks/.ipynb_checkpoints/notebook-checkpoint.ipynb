{
 "cells": [
  {
   "cell_type": "code",
   "execution_count": 3,
   "id": "a1854e22",
   "metadata": {},
   "outputs": [],
   "source": [
    "import pandas as pd\n",
    "import plotly.express as px\n",
    "import dash\n",
    "import dash_bootstrap_components as dbc\n",
    "import dash_html_components as html\n",
    "import plotly.express as px"
   ]
  },
  {
   "cell_type": "code",
   "execution_count": null,
   "id": "e4be930a",
   "metadata": {},
   "outputs": [],
   "source": [
    "MAPBOX_TOKEN = \"pk.eyJ1Ijoibmd1eWVuZHVjaHV5MjcxMTk3IiwiYSI6ImNrdGlrdXR6NTEydGQyb3FmMm40M3ZzY3IifQ.2Su0FgZih2OeDc7Z4xla8g\""
   ]
  },
  {
   "cell_type": "code",
   "execution_count": 9,
   "id": "f9b0e098",
   "metadata": {},
   "outputs": [
    {
     "data": {
      "text/html": [
       "<div>\n",
       "<style scoped>\n",
       "    .dataframe tbody tr th:only-of-type {\n",
       "        vertical-align: middle;\n",
       "    }\n",
       "\n",
       "    .dataframe tbody tr th {\n",
       "        vertical-align: top;\n",
       "    }\n",
       "\n",
       "    .dataframe thead th {\n",
       "        text-align: right;\n",
       "    }\n",
       "</style>\n",
       "<table border=\"1\" class=\"dataframe\">\n",
       "  <thead>\n",
       "    <tr style=\"text-align: right;\">\n",
       "      <th></th>\n",
       "      <th>name_location</th>\n",
       "      <th>website</th>\n",
       "      <th>boro</th>\n",
       "      <th>address_area</th>\n",
       "      <th>latitude</th>\n",
       "      <th>longitude</th>\n",
       "      <th>type</th>\n",
       "    </tr>\n",
       "  </thead>\n",
       "  <tbody>\n",
       "    <tr>\n",
       "      <th>0</th>\n",
       "      <td>Mary Mitchell Center</td>\n",
       "      <td>http://themarymitchellfyc.org/</td>\n",
       "      <td>Bronx</td>\n",
       "      <td>2007 Mapes Ave, Bronx 10460</td>\n",
       "      <td>40.844772</td>\n",
       "      <td>-73.887226</td>\n",
       "      <td>compost</td>\n",
       "    </tr>\n",
       "    <tr>\n",
       "      <th>1</th>\n",
       "      <td>Bronx Borough Hall Greenmarket</td>\n",
       "      <td>http://www.grownyc.org/compost/locations</td>\n",
       "      <td>Bronx</td>\n",
       "      <td>Grand Concourse and 161 St, Bronx, NY, 10451</td>\n",
       "      <td>40.826920</td>\n",
       "      <td>-73.922504</td>\n",
       "      <td>compost</td>\n",
       "    </tr>\n",
       "    <tr>\n",
       "      <th>2</th>\n",
       "      <td>Compost drop off BronxWorks</td>\n",
       "      <td>http://www.grownyc.org/compost/locations</td>\n",
       "      <td>Bronx</td>\n",
       "      <td>1130 Grand Concourse</td>\n",
       "      <td>40.832640</td>\n",
       "      <td>-73.918774</td>\n",
       "      <td>compost</td>\n",
       "    </tr>\n",
       "    <tr>\n",
       "      <th>3</th>\n",
       "      <td>Learn it, Grow it, Eat it Youthmarket</td>\n",
       "      <td>http://www.grownyc.org/compost/locations</td>\n",
       "      <td>Bronx</td>\n",
       "      <td>McKinley Sq. at 169th St. &amp; Boston Road</td>\n",
       "      <td>40.831202</td>\n",
       "      <td>-73.900413</td>\n",
       "      <td>compost</td>\n",
       "    </tr>\n",
       "    <tr>\n",
       "      <th>4</th>\n",
       "      <td>Parkchester Greenmarket</td>\n",
       "      <td>http://www.grownyc.org/compost/locations</td>\n",
       "      <td>Bronx</td>\n",
       "      <td>White Plains Rd &amp; Westchester Ave, Bronx, NY 1...</td>\n",
       "      <td>40.833022</td>\n",
       "      <td>-73.862728</td>\n",
       "      <td>compost</td>\n",
       "    </tr>\n",
       "  </tbody>\n",
       "</table>\n",
       "</div>"
      ],
      "text/plain": [
       "                           name_location  \\\n",
       "0                  Mary Mitchell Center    \n",
       "1         Bronx Borough Hall Greenmarket   \n",
       "2           Compost drop off BronxWorks    \n",
       "3  Learn it, Grow it, Eat it Youthmarket   \n",
       "4                Parkchester Greenmarket   \n",
       "\n",
       "                                    website   boro  \\\n",
       "0            http://themarymitchellfyc.org/  Bronx   \n",
       "1  http://www.grownyc.org/compost/locations  Bronx   \n",
       "2  http://www.grownyc.org/compost/locations  Bronx   \n",
       "3  http://www.grownyc.org/compost/locations  Bronx   \n",
       "4  http://www.grownyc.org/compost/locations  Bronx   \n",
       "\n",
       "                                        address_area   latitude  longitude  \\\n",
       "0                        2007 Mapes Ave, Bronx 10460  40.844772 -73.887226   \n",
       "1       Grand Concourse and 161 St, Bronx, NY, 10451  40.826920 -73.922504   \n",
       "2                               1130 Grand Concourse  40.832640 -73.918774   \n",
       "3            McKinley Sq. at 169th St. & Boston Road  40.831202 -73.900413   \n",
       "4  White Plains Rd & Westchester Ave, Bronx, NY 1...  40.833022 -73.862728   \n",
       "\n",
       "      type  \n",
       "0  compost  \n",
       "1  compost  \n",
       "2  compost  \n",
       "3  compost  \n",
       "4  compost  "
      ]
     },
     "execution_count": 9,
     "metadata": {},
     "output_type": "execute_result"
    }
   ],
   "source": [
    "df = pd.read_csv(\"../data/recycling.csv\")\n",
    "df.head()"
   ]
  },
  {
   "cell_type": "code",
   "execution_count": 13,
   "id": "7e2b2d1c",
   "metadata": {},
   "outputs": [],
   "source": [
    "color_dict = {\"compost\": \"#A45D5D\", \n",
    "              \"electronics\": \"#00A19D\", \n",
    "              \"hazardous waste recycling\": \"#FEC260\", \n",
    "              \"plastic bag recycling\": \"#2D46B9\", \n",
    "              \"public recycling bin\": \"#334756\"}\n",
    "df['color'] = df[\"type\"].map(color_dict)"
   ]
  },
  {
   "cell_type": "code",
   "execution_count": 15,
   "id": "2a187f2f",
   "metadata": {},
   "outputs": [],
   "source": [
    "px.scatter_mapbox(data_frame=df, lat= \"latitude\", lon= \"longitude\")\n"
   ]
  },
  {
   "cell_type": "code",
   "execution_count": null,
   "id": "c8ec4bc3",
   "metadata": {},
   "outputs": [],
   "source": []
  }
 ],
 "metadata": {
  "kernelspec": {
   "display_name": "Python 3 (ipykernel)",
   "language": "python",
   "name": "python3"
  },
  "language_info": {
   "codemirror_mode": {
    "name": "ipython",
    "version": 3
   },
   "file_extension": ".py",
   "mimetype": "text/x-python",
   "name": "python",
   "nbconvert_exporter": "python",
   "pygments_lexer": "ipython3",
   "version": "3.8.6"
  },
  "varInspector": {
   "cols": {
    "lenName": 16,
    "lenType": 16,
    "lenVar": 40
   },
   "kernels_config": {
    "python": {
     "delete_cmd_postfix": "",
     "delete_cmd_prefix": "del ",
     "library": "var_list.py",
     "varRefreshCmd": "print(var_dic_list())"
    },
    "r": {
     "delete_cmd_postfix": ") ",
     "delete_cmd_prefix": "rm(",
     "library": "var_list.r",
     "varRefreshCmd": "cat(var_dic_list()) "
    }
   },
   "types_to_exclude": [
    "module",
    "function",
    "builtin_function_or_method",
    "instance",
    "_Feature"
   ],
   "window_display": false
  }
 },
 "nbformat": 4,
 "nbformat_minor": 5
}
