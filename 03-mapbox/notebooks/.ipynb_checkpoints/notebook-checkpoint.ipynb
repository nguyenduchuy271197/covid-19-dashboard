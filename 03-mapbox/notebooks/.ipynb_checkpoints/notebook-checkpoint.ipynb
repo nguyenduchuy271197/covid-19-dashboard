{
 "cells": [
  {
   "cell_type": "code",
   "execution_count": 102,
   "id": "a1854e22",
   "metadata": {},
   "outputs": [
    {
     "data": {
      "text/plain": [
       "Templates configuration\n",
       "-----------------------\n",
       "    Default template: 'plotly'\n",
       "    Available templates:\n",
       "        ['ggplot2', 'seaborn', 'simple_white', 'plotly',\n",
       "         'plotly_white', 'plotly_dark', 'presentation', 'xgridoff',\n",
       "         'ygridoff', 'gridon', 'none']"
      ]
     },
     "execution_count": 102,
     "metadata": {},
     "output_type": "execute_result"
    }
   ],
   "source": [
    "import pandas as pd\n",
    "import plotly.express as px\n",
    "import dash\n",
    "import dash_bootstrap_components as dbc\n",
    "import dash_core_components as dcc\n",
    "import dash_html_components as html\n",
    "import plotly.express as px\n",
    "import plotly.io as io\n",
    "io.templates"
   ]
  },
  {
   "cell_type": "code",
   "execution_count": 16,
   "id": "f34e1f69",
   "metadata": {},
   "outputs": [],
   "source": [
    "MAPBOX_TOKEN = \"pk.eyJ1Ijoibmd1eWVuZHVjaHV5MjcxMTk3IiwiYSI6ImNrdGlrdXR6NTEydGQyb3FmMm40M3ZzY3IifQ.2Su0FgZih2OeDc7Z4xla8g\"\n",
    "px.set_mapbox_access_token(MAPBOX_TOKEN)"
   ]
  },
  {
   "cell_type": "code",
   "execution_count": 9,
   "id": "be373211",
   "metadata": {},
   "outputs": [
    {
     "data": {
      "text/html": [
       "<div>\n",
       "<style scoped>\n",
       "    .dataframe tbody tr th:only-of-type {\n",
       "        vertical-align: middle;\n",
       "    }\n",
       "\n",
       "    .dataframe tbody tr th {\n",
       "        vertical-align: top;\n",
       "    }\n",
       "\n",
       "    .dataframe thead th {\n",
       "        text-align: right;\n",
       "    }\n",
       "</style>\n",
       "<table border=\"1\" class=\"dataframe\">\n",
       "  <thead>\n",
       "    <tr style=\"text-align: right;\">\n",
       "      <th></th>\n",
       "      <th>name_location</th>\n",
       "      <th>website</th>\n",
       "      <th>boro</th>\n",
       "      <th>address_area</th>\n",
       "      <th>latitude</th>\n",
       "      <th>longitude</th>\n",
       "      <th>type</th>\n",
       "    </tr>\n",
       "  </thead>\n",
       "  <tbody>\n",
       "    <tr>\n",
       "      <th>0</th>\n",
       "      <td>Mary Mitchell Center</td>\n",
       "      <td>http://themarymitchellfyc.org/</td>\n",
       "      <td>Bronx</td>\n",
       "      <td>2007 Mapes Ave, Bronx 10460</td>\n",
       "      <td>40.844772</td>\n",
       "      <td>-73.887226</td>\n",
       "      <td>compost</td>\n",
       "    </tr>\n",
       "    <tr>\n",
       "      <th>1</th>\n",
       "      <td>Bronx Borough Hall Greenmarket</td>\n",
       "      <td>http://www.grownyc.org/compost/locations</td>\n",
       "      <td>Bronx</td>\n",
       "      <td>Grand Concourse and 161 St, Bronx, NY, 10451</td>\n",
       "      <td>40.826920</td>\n",
       "      <td>-73.922504</td>\n",
       "      <td>compost</td>\n",
       "    </tr>\n",
       "    <tr>\n",
       "      <th>2</th>\n",
       "      <td>Compost drop off BronxWorks</td>\n",
       "      <td>http://www.grownyc.org/compost/locations</td>\n",
       "      <td>Bronx</td>\n",
       "      <td>1130 Grand Concourse</td>\n",
       "      <td>40.832640</td>\n",
       "      <td>-73.918774</td>\n",
       "      <td>compost</td>\n",
       "    </tr>\n",
       "    <tr>\n",
       "      <th>3</th>\n",
       "      <td>Learn it, Grow it, Eat it Youthmarket</td>\n",
       "      <td>http://www.grownyc.org/compost/locations</td>\n",
       "      <td>Bronx</td>\n",
       "      <td>McKinley Sq. at 169th St. &amp; Boston Road</td>\n",
       "      <td>40.831202</td>\n",
       "      <td>-73.900413</td>\n",
       "      <td>compost</td>\n",
       "    </tr>\n",
       "    <tr>\n",
       "      <th>4</th>\n",
       "      <td>Parkchester Greenmarket</td>\n",
       "      <td>http://www.grownyc.org/compost/locations</td>\n",
       "      <td>Bronx</td>\n",
       "      <td>White Plains Rd &amp; Westchester Ave, Bronx, NY 1...</td>\n",
       "      <td>40.833022</td>\n",
       "      <td>-73.862728</td>\n",
       "      <td>compost</td>\n",
       "    </tr>\n",
       "  </tbody>\n",
       "</table>\n",
       "</div>"
      ],
      "text/plain": [
       "                           name_location  \\\n",
       "0                  Mary Mitchell Center    \n",
       "1         Bronx Borough Hall Greenmarket   \n",
       "2           Compost drop off BronxWorks    \n",
       "3  Learn it, Grow it, Eat it Youthmarket   \n",
       "4                Parkchester Greenmarket   \n",
       "\n",
       "                                    website   boro  \\\n",
       "0            http://themarymitchellfyc.org/  Bronx   \n",
       "1  http://www.grownyc.org/compost/locations  Bronx   \n",
       "2  http://www.grownyc.org/compost/locations  Bronx   \n",
       "3  http://www.grownyc.org/compost/locations  Bronx   \n",
       "4  http://www.grownyc.org/compost/locations  Bronx   \n",
       "\n",
       "                                        address_area   latitude  longitude  \\\n",
       "0                        2007 Mapes Ave, Bronx 10460  40.844772 -73.887226   \n",
       "1       Grand Concourse and 161 St, Bronx, NY, 10451  40.826920 -73.922504   \n",
       "2                               1130 Grand Concourse  40.832640 -73.918774   \n",
       "3            McKinley Sq. at 169th St. & Boston Road  40.831202 -73.900413   \n",
       "4  White Plains Rd & Westchester Ave, Bronx, NY 1...  40.833022 -73.862728   \n",
       "\n",
       "      type  \n",
       "0  compost  \n",
       "1  compost  \n",
       "2  compost  \n",
       "3  compost  \n",
       "4  compost  "
      ]
     },
     "execution_count": 9,
     "metadata": {},
     "output_type": "execute_result"
    }
   ],
   "source": [
    "df = pd.read_csv(\"../data/recycling.csv\")\n",
    "df.head()"
   ]
  },
  {
   "cell_type": "code",
   "execution_count": 13,
   "id": "3bf15e41",
   "metadata": {},
   "outputs": [],
   "source": [
    "color_dict = {\"compost\": \"#A45D5D\", \n",
    "              \"electronics\": \"#00A19D\", \n",
    "              \"hazardous waste recycling\": \"#FEC260\", \n",
    "              \"plastic bag recycling\": \"#2D46B9\", \n",
    "              \"public recycling bin\": \"#334756\"}\n",
    "df['color'] = df[\"type\"].map(color_dict)"
   ]
  },
  {
   "cell_type": "code",
   "execution_count": 92,
   "id": "282d18ce",
   "metadata": {},
   "outputs": [
    {
     "data": {
      "application/vnd.plotly.v1+json": {
       "config": {
        "plotlyServerURL": "https://plot.ly"
       },
       "data": [
        {
         "customdata": [
          [
           "Bronx"
          ],
          [
           "Bronx"
          ],
          [
           "Bronx"
          ],
          [
           "Bronx"
          ],
          [
           "Bronx"
          ],
          [
           "Bronx"
          ],
          [
           "Bronx"
          ],
          [
           "Bronx"
          ],
          [
           "Bronx"
          ],
          [
           "Bronx"
          ],
          [
           "Bronx"
          ],
          [
           "Bronx"
          ],
          [
           "Bronx"
          ],
          [
           "Bronx"
          ],
          [
           "Bronx"
          ],
          [
           "Bronx"
          ],
          [
           "Bronx"
          ],
          [
           "Bronx"
          ],
          [
           "Bronx"
          ],
          [
           "Bronx"
          ],
          [
           "Bronx"
          ],
          [
           "Bronx"
          ],
          [
           "Bronx"
          ],
          [
           "Bronx"
          ],
          [
           "Brooklyn"
          ],
          [
           "Brooklyn"
          ],
          [
           "Brooklyn"
          ],
          [
           "Brooklyn"
          ],
          [
           "Brooklyn"
          ],
          [
           "Brooklyn"
          ],
          [
           "Brooklyn"
          ],
          [
           "Brooklyn"
          ],
          [
           "Brooklyn"
          ],
          [
           "Brooklyn"
          ],
          [
           "Brooklyn"
          ],
          [
           "Brooklyn"
          ],
          [
           "Brooklyn"
          ],
          [
           "Brooklyn"
          ],
          [
           "Brooklyn"
          ],
          [
           "Brooklyn"
          ],
          [
           "Brooklyn"
          ],
          [
           "Brooklyn"
          ],
          [
           "Brooklyn"
          ],
          [
           "Brooklyn"
          ],
          [
           "Brooklyn"
          ],
          [
           "Brooklyn"
          ],
          [
           "Brooklyn"
          ],
          [
           "Manhattan"
          ],
          [
           "Manhattan"
          ],
          [
           "Manhattan"
          ],
          [
           "Manhattan"
          ],
          [
           "Manhattan"
          ],
          [
           "Manhattan"
          ],
          [
           "Manhattan"
          ],
          [
           "Manhattan"
          ],
          [
           "Manhattan"
          ],
          [
           "Manhattan"
          ],
          [
           "Manhattan"
          ],
          [
           "Manhattan"
          ],
          [
           "Manhattan"
          ],
          [
           "Manhattan"
          ],
          [
           "Manhattan"
          ],
          [
           "Manhattan"
          ],
          [
           "Manhattan"
          ],
          [
           "Manhattan"
          ],
          [
           "Manhattan"
          ],
          [
           "Manhattan"
          ],
          [
           "Manhattan"
          ],
          [
           "Manhattan"
          ],
          [
           "Manhattan"
          ],
          [
           "Manhattan"
          ],
          [
           "Manhattan"
          ],
          [
           "Manhattan"
          ],
          [
           "Manhattan"
          ],
          [
           "Manhattan"
          ],
          [
           "Manhattan"
          ],
          [
           "Manhattan"
          ],
          [
           "Manhattan"
          ],
          [
           "Manhattan"
          ],
          [
           "Manhattan"
          ],
          [
           "Manhattan"
          ],
          [
           "Manhattan"
          ],
          [
           "Manhattan"
          ],
          [
           "Manhattan"
          ],
          [
           "Manhattan"
          ],
          [
           "Manhattan"
          ],
          [
           "Manhattan"
          ],
          [
           "Manhattan"
          ],
          [
           "Manhattan"
          ],
          [
           "Manhattan"
          ],
          [
           "Manhattan"
          ],
          [
           "Manhattan"
          ],
          [
           "Manhattan"
          ],
          [
           "Manhattan"
          ],
          [
           "Manhattan"
          ],
          [
           "Manhattan"
          ],
          [
           "Manhattan"
          ],
          [
           "Manhattan"
          ],
          [
           "Manhattan"
          ],
          [
           "Manhattan"
          ],
          [
           "Manhattan"
          ],
          [
           "Manhattan"
          ],
          [
           "Manhattan"
          ],
          [
           "Manhattan"
          ],
          [
           "Manhattan"
          ],
          [
           "Manhattan"
          ],
          [
           "Manhattan"
          ],
          [
           "Manhattan"
          ],
          [
           "Manhattan"
          ],
          [
           "Manhattan"
          ],
          [
           "Manhattan"
          ],
          [
           "Manhattan"
          ],
          [
           "Manhattan"
          ],
          [
           "Manhattan"
          ],
          [
           "Manhattan"
          ],
          [
           "Manhattan"
          ],
          [
           "Manhattan"
          ],
          [
           "Queens"
          ],
          [
           "Queens"
          ],
          [
           "Queens"
          ],
          [
           "Queens"
          ],
          [
           "Queens"
          ],
          [
           "Queens"
          ],
          [
           "Queens"
          ],
          [
           "Queens"
          ],
          [
           "Queens"
          ],
          [
           "Queens"
          ],
          [
           "Queens"
          ],
          [
           "Queens"
          ],
          [
           "Queens"
          ],
          [
           "Queens"
          ],
          [
           "Queens"
          ],
          [
           "Queens"
          ],
          [
           "Queens"
          ],
          [
           "Queens"
          ],
          [
           "Queens"
          ],
          [
           "Queens"
          ],
          [
           "Queens"
          ],
          [
           "Queens"
          ],
          [
           "Queens"
          ],
          [
           "Queens"
          ],
          [
           "Queens"
          ],
          [
           "Staten Island"
          ],
          [
           "Staten Island"
          ],
          [
           "Staten Island"
          ],
          [
           "Staten Island"
          ]
         ],
         "hovertemplate": "<b>%{hovertext}</b><br><br>color=#A45D5D<br>latitude=%{lat}<br>longitude=%{lon}<br>boro=%{customdata[0]}<extra></extra>",
         "hovertext": [
          "compost",
          "compost",
          "compost",
          "compost",
          "compost",
          "compost",
          "compost",
          "compost",
          "compost",
          "compost",
          "compost",
          "compost",
          "compost",
          "compost",
          "compost",
          "compost",
          "compost",
          "compost",
          "compost",
          "compost",
          "compost",
          "compost",
          "compost",
          "compost",
          "compost",
          "compost",
          "compost",
          "compost",
          "compost",
          "compost",
          "compost",
          "compost",
          "compost",
          "compost",
          "compost",
          "compost",
          "compost",
          "compost",
          "compost",
          "compost",
          "compost",
          "compost",
          "compost",
          "compost",
          "compost",
          "compost",
          "compost",
          "compost",
          "compost",
          "compost",
          "compost",
          "compost",
          "compost",
          "compost",
          "compost",
          "compost",
          "compost",
          "compost",
          "compost",
          "compost",
          "compost",
          "compost",
          "compost",
          "compost",
          "compost",
          "compost",
          "compost",
          "compost",
          "compost",
          "compost",
          "compost",
          "compost",
          "compost",
          "compost",
          "compost",
          "compost",
          "compost",
          "compost",
          "compost",
          "compost",
          "compost",
          "compost",
          "compost",
          "compost",
          "compost",
          "compost",
          "compost",
          "compost",
          "compost",
          "compost",
          "compost",
          "compost",
          "compost",
          "compost",
          "compost",
          "compost",
          "compost",
          "compost",
          "compost",
          "compost",
          "compost",
          "compost",
          "compost",
          "compost",
          "compost",
          "compost",
          "compost",
          "compost",
          "compost",
          "compost",
          "compost",
          "compost",
          "compost",
          "compost",
          "compost",
          "compost",
          "compost",
          "compost",
          "compost",
          "compost",
          "compost",
          "compost",
          "compost",
          "compost",
          "compost",
          "compost",
          "compost",
          "compost",
          "compost",
          "compost",
          "compost",
          "compost",
          "compost",
          "compost",
          "compost",
          "compost",
          "compost",
          "compost",
          "compost",
          "compost",
          "compost",
          "compost",
          "compost",
          "compost",
          "compost",
          "compost"
         ],
         "lat": [
          40.844772,
          40.8269197,
          40.8326398,
          40.8312021,
          40.833022,
          40.8641072,
          40.8745635,
          40.839961,
          40.820403,
          40.818032,
          40.82127,
          40.846452,
          40.8534,
          40.80766,
          40.81622,
          40.82805,
          40.81844,
          40.862707,
          40.86115,
          40.87094,
          40.80948,
          40.881233,
          40.82135,
          40.829353,
          40.648502,
          40.6722226,
          40.673815,
          40.6937566,
          40.680852,
          40.6408302,
          40.69132,
          40.6726424,
          40.720471,
          40.725018,
          40.633663,
          40.66809,
          40.66496,
          40.65507,
          40.683282,
          40.678196,
          40.650381,
          40.697523,
          40.644516,
          40.680355,
          40.676782,
          40.6929796,
          40.678708,
          40.753588,
          40.79667,
          40.761706,
          40.8461084,
          40.7819529,
          40.7742982,
          40.7941768,
          40.7375462,
          40.704594,
          40.8067454,
          40.76911,
          40.7810344,
          40.8421716,
          40.8690103,
          40.7891821,
          40.7260554,
          40.7736069,
          40.737098,
          40.7670054,
          40.8051411,
          40.81428,
          40.808388,
          40.721086,
          40.857341,
          40.729165,
          40.824415,
          40.6894501,
          40.6894506,
          40.749509,
          40.755588,
          40.835828,
          40.731506,
          40.790645,
          40.800146,
          40.7162918,
          40.800867,
          40.7984,
          40.82099,
          40.798786,
          40.82404,
          40.83404,
          40.78579,
          40.86532,
          40.85295,
          40.7529921,
          40.742827,
          40.7489842,
          40.756032,
          40.7202214,
          40.7298117,
          40.738228,
          40.7634686,
          40.725357,
          40.7452994,
          40.733512,
          40.7140565,
          40.7159955,
          40.7255273,
          40.71102,
          40.724479,
          40.732811,
          40.724502,
          40.7231069,
          40.833952,
          40.728081,
          40.804574,
          40.799721,
          40.721531,
          40.794912,
          40.811641,
          40.748406,
          40.7427437,
          40.774513,
          40.767066,
          40.7222304,
          40.7532152,
          40.7584821,
          40.7769984,
          40.7675822,
          40.7468806,
          40.595401,
          40.7562501,
          40.7497177,
          40.74983,
          40.7295998,
          40.7373468,
          40.75197,
          40.752149,
          40.768942,
          40.591961,
          40.754084,
          40.7096804,
          40.7132717,
          40.738397,
          40.717411,
          40.641672,
          40.6415864,
          40.5834232,
          40.630312
         ],
         "legendgroup": "#A45D5D",
         "lon": [
          -73.887226,
          -73.9225039,
          -73.9187735,
          -73.9004133,
          -73.8627284,
          -73.8950656,
          -73.8916183,
          -73.916663,
          -73.895686,
          -73.888644,
          -73.91537,
          -73.894096,
          -73.9077,
          -73.9193,
          -73.9176,
          -73.9257,
          -73.9272,
          -73.901042,
          -73.8908,
          -73.883947,
          -73.918294,
          -73.887583,
          -73.924049,
          -73.903424,
          -73.976416,
          -74.0109856,
          -73.9949411,
          -73.9904735,
          -73.9955995,
          -73.9652999,
          -73.9735,
          -73.9704304,
          -73.952713,
          -73.94472,
          -73.885955,
          -73.865533,
          -73.886675,
          -73.96169,
          -73.935667,
          -73.967427,
          -73.963432,
          -73.913913,
          -73.920387,
          -73.882995,
          -73.932943,
          -73.9081621,
          -73.911357,
          -73.983233,
          -73.931728,
          -73.950244,
          -73.9381243,
          -73.9754869,
          -73.9512624,
          -73.9684124,
          -74.0048128,
          -74.0142515,
          -73.9649594,
          -73.98855,
          -73.9463184,
          -73.942289,
          -73.9203259,
          -73.9527316,
          -73.9835429,
          -73.9815795,
          -73.9903523,
          -73.9578326,
          -73.9391249,
          -73.942834,
          -73.943251,
          -73.991718,
          -73.922111,
          -73.983435,
          -73.94918,
          -74.016792,
          -74.0167913,
          -73.998096,
          -73.999721,
          -73.938621,
          -73.983427,
          -73.97599,
          -73.94233,
          -74.0109403,
          -73.958284,
          -73.9526,
          -73.9543,
          -73.941698,
          -73.9446,
          -73.9452,
          -73.9508,
          -73.928,
          -73.9376,
          -73.9698797,
          -74.0078384,
          -74.0071142,
          -74.006046,
          -74.0128434,
          -74.0110087,
          -74.0104549,
          -74.0002584,
          -73.978278,
          -73.9984832,
          -74.002956,
          -73.9902176,
          -73.986664,
          -74.0040577,
          -73.97905,
          -73.979718,
          -74.000091,
          -73.97874,
          -73.988458,
          -73.941736,
          -73.979214,
          -73.955533,
          -73.962101,
          -73.982075,
          -73.943148,
          -73.950521,
          -73.721002,
          -73.9541298,
          -73.912463,
          -73.921406,
          -73.8467632,
          -73.8896812,
          -73.9186052,
          -73.9096802,
          -73.9359557,
          -73.9208078,
          -73.776541,
          -73.8258451,
          -73.8626075,
          -73.896438,
          -73.8616452,
          -73.877195,
          -73.830325,
          -73.925454,
          -73.929913,
          -73.788284,
          -73.94267,
          -73.8190304,
          -73.8299268,
          -73.877742,
          -73.857513,
          -74.101624,
          -74.0779094,
          -74.1629698,
          -74.115754
         ],
         "marker": {
          "color": "#636efa",
          "opacity": 1
         },
         "mode": "markers",
         "name": "#A45D5D",
         "selected": {
          "marker": {
           "opacity": 1,
           "size": 10
          }
         },
         "showlegend": true,
         "subplot": "mapbox",
         "type": "scattermapbox",
         "unselected": {
          "marker": {
           "opacity": 0.6
          }
         }
        },
        {
         "customdata": [
          [
           "Bronx"
          ],
          [
           "Bronx"
          ],
          [
           "Bronx"
          ],
          [
           "Bronx"
          ],
          [
           "Bronx"
          ],
          [
           "Bronx"
          ],
          [
           "Bronx"
          ],
          [
           "Bronx"
          ],
          [
           "Bronx"
          ],
          [
           "Bronx"
          ],
          [
           "Brooklyn"
          ],
          [
           "Brooklyn"
          ],
          [
           "Brooklyn"
          ],
          [
           "Brooklyn"
          ],
          [
           "Brooklyn"
          ],
          [
           "Brooklyn"
          ],
          [
           "Brooklyn"
          ],
          [
           "Brooklyn"
          ],
          [
           "Brooklyn"
          ],
          [
           "Brooklyn"
          ],
          [
           "Brooklyn"
          ],
          [
           "Brooklyn"
          ],
          [
           "Brooklyn"
          ],
          [
           "Brooklyn"
          ],
          [
           "Brooklyn"
          ],
          [
           "Brooklyn"
          ],
          [
           "Brooklyn"
          ],
          [
           "Brooklyn"
          ],
          [
           "Brooklyn"
          ],
          [
           "Brooklyn"
          ],
          [
           "Brooklyn"
          ],
          [
           "Brooklyn"
          ],
          [
           "Manhattan"
          ],
          [
           "Manhattan"
          ],
          [
           "Manhattan"
          ],
          [
           "Manhattan"
          ],
          [
           "Manhattan"
          ],
          [
           "Manhattan"
          ],
          [
           "Manhattan"
          ],
          [
           "Manhattan"
          ],
          [
           "Manhattan"
          ],
          [
           "Manhattan"
          ],
          [
           "Manhattan"
          ],
          [
           "Manhattan"
          ],
          [
           "Manhattan"
          ],
          [
           "Manhattan"
          ],
          [
           "Manhattan"
          ],
          [
           "Manhattan"
          ],
          [
           "Manhattan"
          ],
          [
           "Manhattan"
          ],
          [
           "Manhattan"
          ],
          [
           "Manhattan"
          ],
          [
           "Manhattan"
          ],
          [
           "Manhattan"
          ],
          [
           "Manhattan"
          ],
          [
           "Manhattan"
          ],
          [
           "Manhattan"
          ],
          [
           "Manhattan"
          ],
          [
           "Manhattan"
          ],
          [
           "Manhattan"
          ],
          [
           "Manhattan"
          ],
          [
           "Manhattan"
          ],
          [
           "Manhattan"
          ],
          [
           "Manhattan"
          ],
          [
           "Manhattan"
          ],
          [
           "Manhattan"
          ],
          [
           "Manhattan"
          ],
          [
           "Manhattan"
          ],
          [
           "Manhattan"
          ],
          [
           "Queens"
          ],
          [
           "Queens"
          ],
          [
           "Queens"
          ],
          [
           "Queens"
          ],
          [
           "Queens"
          ],
          [
           "Queens"
          ],
          [
           "Queens"
          ],
          [
           "Queens"
          ],
          [
           "Queens"
          ],
          [
           "Queens"
          ],
          [
           "Queens"
          ],
          [
           "Queens"
          ],
          [
           "Queens"
          ],
          [
           "Queens"
          ],
          [
           "Queens"
          ],
          [
           "Queens"
          ],
          [
           "Queens"
          ],
          [
           "Queens"
          ],
          [
           "Queens"
          ],
          [
           "Queens"
          ],
          [
           "Staten Island"
          ],
          [
           "Staten Island"
          ],
          [
           "Staten Island"
          ],
          [
           "Staten Island"
          ]
         ],
         "hovertemplate": "<b>%{hovertext}</b><br><br>color=#00A19D<br>latitude=%{lat}<br>longitude=%{lon}<br>boro=%{customdata[0]}<extra></extra>",
         "hovertext": [
          "electronics",
          "electronics",
          "electronics",
          "electronics",
          "electronics",
          "electronics",
          "electronics",
          "electronics",
          "electronics",
          "electronics",
          "electronics",
          "electronics",
          "electronics",
          "electronics",
          "electronics",
          "electronics",
          "electronics",
          "electronics",
          "electronics",
          "electronics",
          "electronics",
          "electronics",
          "electronics",
          "electronics",
          "electronics",
          "electronics",
          "electronics",
          "electronics",
          "electronics",
          "electronics",
          "electronics",
          "electronics",
          "electronics",
          "electronics",
          "electronics",
          "electronics",
          "electronics",
          "electronics",
          "electronics",
          "electronics",
          "electronics",
          "electronics",
          "electronics",
          "electronics",
          "electronics",
          "electronics",
          "electronics",
          "electronics",
          "electronics",
          "electronics",
          "electronics",
          "electronics",
          "electronics",
          "electronics",
          "electronics",
          "electronics",
          "electronics",
          "electronics",
          "electronics",
          "electronics",
          "electronics",
          "electronics",
          "electronics",
          "electronics",
          "electronics",
          "electronics",
          "electronics",
          "electronics",
          "electronics",
          "electronics",
          "electronics",
          "electronics",
          "electronics",
          "electronics",
          "electronics",
          "electronics",
          "electronics",
          "electronics",
          "electronics",
          "electronics",
          "electronics",
          "electronics",
          "electronics",
          "electronics",
          "electronics",
          "electronics",
          "electronics",
          "electronics",
          "electronics",
          "electronics",
          "electronics",
          "electronics",
          "electronics"
         ],
         "lat": [
          40.8306088,
          40.860358,
          40.8114884,
          40.845553,
          40.8608912,
          40.8219403,
          40.8518616,
          40.8677019,
          40.8810804,
          40.816877,
          40.7180048,
          40.6855509,
          40.592733,
          40.6863101,
          40.6362001,
          40.7326092,
          40.651344,
          40.6098192,
          40.6838452,
          40.5936458,
          40.6467058,
          40.6295254,
          40.6118064,
          40.5990083,
          40.5908736,
          40.6741737,
          40.6539242,
          40.7226339,
          40.6166088,
          40.681119,
          40.6887457,
          40.678631,
          40.7326047,
          40.743678,
          40.738365,
          40.8056313,
          40.794759,
          40.762665,
          40.7798872,
          40.7700779,
          40.7344091,
          40.7544351,
          40.7423606,
          40.725747,
          40.8083328,
          40.7539257,
          40.7495369,
          40.7478754,
          40.7848159,
          40.7331767,
          40.7604408,
          40.852244,
          40.7519146,
          40.7530426,
          40.7430749,
          40.7354498,
          40.7407266,
          40.7509006,
          40.7311383,
          40.7604799,
          40.732951,
          40.7444737,
          40.778473,
          40.7793,
          40.783755,
          40.812497,
          40.7382752,
          40.801328,
          40.848289,
          40.70127,
          40.7566145,
          40.746743,
          40.7575281,
          40.7534523,
          40.7353074,
          40.6897907,
          40.720443,
          40.7821272,
          40.7590732,
          40.7702468,
          40.7538623,
          40.7411879,
          40.7158271,
          40.7333304,
          40.7116062,
          40.6989379,
          40.748528,
          40.7415286,
          40.7581531,
          40.5769947,
          40.623861,
          40.5838147,
          40.5742785
         ],
         "legendgroup": "#00A19D",
         "lon": [
          -73.891455,
          -73.9030775,
          -73.9257636,
          -73.901079,
          -73.8913166,
          -73.9301166,
          -73.8674386,
          -73.8286649,
          -73.9023443,
          -73.918804,
          -73.9575848,
          -73.960619,
          -73.940786,
          -73.9838984,
          -74.0260663,
          -73.9549618,
          -73.873167,
          -73.9216133,
          -73.9754325,
          -73.9989895,
          -73.9578905,
          -73.928339,
          -73.9630824,
          -73.9852812,
          -73.9503307,
          -73.9868727,
          -73.8732584,
          -73.9393371,
          -74.0300263,
          -73.956988,
          -73.9842131,
          -73.987452,
          -73.9903344,
          -73.999235,
          -73.9824462,
          -73.9413695,
          -73.972784,
          -73.995377,
          -73.9557037,
          -73.981592,
          -73.9904346,
          -73.9796913,
          -73.9923849,
          -73.9959279,
          -73.945866,
          -73.9854091,
          -73.988499,
          -73.9837462,
          -73.9788032,
          -73.9995147,
          -73.9710375,
          -73.934254,
          -73.9825561,
          -73.9924445,
          -73.9765721,
          -73.9915753,
          -73.9948313,
          -73.973911,
          -73.9923455,
          -73.98709,
          -73.998643,
          -73.9921732,
          -73.980571,
          -73.950294,
          -73.979007,
          -73.938164,
          -73.9822849,
          -73.937068,
          -73.931997,
          -73.805563,
          -73.9212251,
          -73.9026954,
          -73.8356912,
          -73.9121271,
          -73.8747611,
          -73.841335,
          -73.844168,
          -73.8347154,
          -73.772986,
          -73.9179077,
          -73.9089981,
          -73.9070126,
          -73.9018412,
          -73.8635717,
          -73.8581226,
          -73.8150529,
          -73.873001,
          -73.9337864,
          -73.919959,
          -74.1674401,
          -74.1391954,
          -74.0962032,
          -74.1694432
         ],
         "marker": {
          "color": "#EF553B",
          "opacity": 1
         },
         "mode": "markers",
         "name": "#00A19D",
         "selected": {
          "marker": {
           "opacity": 1,
           "size": 10
          }
         },
         "showlegend": true,
         "subplot": "mapbox",
         "type": "scattermapbox",
         "unselected": {
          "marker": {
           "opacity": 0.6
          }
         }
        },
        {
         "customdata": [
          [
           "Bronx"
          ],
          [
           "Brooklyn"
          ],
          [
           "Manhattan"
          ],
          [
           "Queens"
          ],
          [
           "Staten Island"
          ]
         ],
         "hovertemplate": "<b>%{hovertext}</b><br><br>color=#FEC260<br>latitude=%{lat}<br>longitude=%{lon}<br>boro=%{customdata[0]}<extra></extra>",
         "hovertext": [
          "hazardous waste recycling",
          "hazardous waste recycling",
          "hazardous waste recycling",
          "hazardous waste recycling",
          "hazardous waste recycling"
         ],
         "lat": [
          40.80306136,
          40.73565554,
          40.70990701,
          40.77100135,
          40.57012962
         ],
         "legendgroup": "#FEC260",
         "lon": [
          -73.87485887,
          -73.94613805,
          -73.99232338,
          -73.84714946,
          -74.19481927
         ],
         "marker": {
          "color": "#00cc96",
          "opacity": 1
         },
         "mode": "markers",
         "name": "#FEC260",
         "selected": {
          "marker": {
           "opacity": 1,
           "size": 10
          }
         },
         "showlegend": true,
         "subplot": "mapbox",
         "type": "scattermapbox",
         "unselected": {
          "marker": {
           "opacity": 0.6
          }
         }
        },
        {
         "customdata": [
          [
           "Manhattan"
          ],
          [
           "Manhattan"
          ]
         ],
         "hovertemplate": "<b>%{hovertext}</b><br><br>color=#2D46B9<br>latitude=%{lat}<br>longitude=%{lon}<br>boro=%{customdata[0]}<extra></extra>",
         "hovertext": [
          "plastic bag recycling",
          "plastic bag recycling"
         ],
         "lat": [
          40.795386,
          40.7862449
         ],
         "legendgroup": "#2D46B9",
         "lon": [
          -73.9310222,
          -73.978733
         ],
         "marker": {
          "color": "#ab63fa",
          "opacity": 1
         },
         "mode": "markers",
         "name": "#2D46B9",
         "selected": {
          "marker": {
           "opacity": 1,
           "size": 10
          }
         },
         "showlegend": true,
         "subplot": "mapbox",
         "type": "scattermapbox",
         "unselected": {
          "marker": {
           "opacity": 0.6
          }
         }
        },
        {
         "customdata": [
          [
           "Bronx"
          ],
          [
           "Bronx"
          ],
          [
           "Bronx"
          ],
          [
           "Bronx"
          ],
          [
           "Bronx"
          ],
          [
           "Bronx"
          ],
          [
           "Bronx"
          ],
          [
           "Bronx"
          ],
          [
           "Bronx"
          ],
          [
           "Bronx"
          ],
          [
           "Bronx"
          ],
          [
           "Bronx"
          ],
          [
           "Bronx"
          ],
          [
           "Bronx"
          ],
          [
           "Bronx"
          ],
          [
           "Bronx"
          ],
          [
           "Bronx"
          ],
          [
           "Bronx"
          ],
          [
           "Bronx"
          ],
          [
           "Bronx"
          ],
          [
           "Bronx"
          ],
          [
           "Bronx"
          ],
          [
           "Bronx"
          ],
          [
           "Bronx"
          ],
          [
           "Bronx"
          ],
          [
           "Bronx"
          ],
          [
           "Bronx"
          ],
          [
           "Bronx"
          ],
          [
           "Bronx"
          ],
          [
           "Bronx"
          ],
          [
           "Bronx"
          ],
          [
           "Bronx"
          ],
          [
           "Bronx"
          ],
          [
           "Bronx"
          ],
          [
           "Bronx"
          ],
          [
           "Bronx"
          ],
          [
           "Bronx"
          ],
          [
           "Bronx"
          ],
          [
           "Bronx"
          ],
          [
           "Bronx"
          ],
          [
           "Bronx"
          ],
          [
           "Bronx"
          ],
          [
           "Bronx"
          ],
          [
           "Bronx"
          ],
          [
           "Bronx"
          ],
          [
           "Bronx"
          ],
          [
           "Bronx"
          ],
          [
           "Bronx"
          ],
          [
           "Bronx"
          ],
          [
           "Bronx"
          ],
          [
           "Bronx"
          ],
          [
           "Bronx"
          ],
          [
           "Bronx"
          ],
          [
           "Bronx"
          ],
          [
           "Bronx"
          ],
          [
           "Bronx"
          ],
          [
           "Bronx"
          ],
          [
           "Bronx"
          ],
          [
           "Bronx"
          ],
          [
           "Bronx"
          ],
          [
           "Bronx"
          ],
          [
           "Bronx"
          ],
          [
           "Bronx"
          ],
          [
           "Bronx"
          ],
          [
           "Bronx"
          ],
          [
           "Bronx"
          ],
          [
           "Bronx"
          ],
          [
           "Bronx"
          ],
          [
           "Bronx"
          ],
          [
           "Bronx"
          ],
          [
           "Bronx"
          ],
          [
           "Bronx"
          ],
          [
           "Bronx"
          ],
          [
           "Bronx"
          ],
          [
           "Bronx"
          ],
          [
           "Bronx"
          ],
          [
           "Bronx"
          ],
          [
           "Bronx"
          ],
          [
           "Bronx"
          ],
          [
           "Bronx"
          ],
          [
           "Bronx"
          ],
          [
           "Bronx"
          ],
          [
           "Bronx"
          ],
          [
           "Bronx"
          ],
          [
           "Bronx"
          ],
          [
           "Bronx"
          ],
          [
           "Bronx"
          ],
          [
           "Bronx"
          ],
          [
           "Bronx"
          ],
          [
           "Bronx"
          ],
          [
           "Bronx"
          ],
          [
           "Bronx"
          ],
          [
           "Bronx"
          ],
          [
           "Bronx"
          ],
          [
           "Bronx"
          ],
          [
           "Bronx"
          ],
          [
           "Bronx"
          ],
          [
           "Bronx"
          ],
          [
           "Bronx"
          ],
          [
           "Bronx"
          ],
          [
           "Bronx"
          ],
          [
           "Bronx"
          ],
          [
           "Bronx"
          ],
          [
           "Bronx"
          ],
          [
           "Bronx"
          ],
          [
           "Bronx"
          ],
          [
           "Bronx"
          ],
          [
           "Brooklyn"
          ],
          [
           "Brooklyn"
          ],
          [
           "Brooklyn"
          ],
          [
           "Brooklyn"
          ],
          [
           "Brooklyn"
          ],
          [
           "Brooklyn"
          ],
          [
           "Brooklyn"
          ],
          [
           "Brooklyn"
          ],
          [
           "Brooklyn"
          ],
          [
           "Brooklyn"
          ],
          [
           "Brooklyn"
          ],
          [
           "Brooklyn"
          ],
          [
           "Brooklyn"
          ],
          [
           "Brooklyn"
          ],
          [
           "Brooklyn"
          ],
          [
           "Brooklyn"
          ],
          [
           "Brooklyn"
          ],
          [
           "Brooklyn"
          ],
          [
           "Brooklyn"
          ],
          [
           "Brooklyn"
          ],
          [
           "Brooklyn"
          ],
          [
           "Brooklyn"
          ],
          [
           "Brooklyn"
          ],
          [
           "Brooklyn"
          ],
          [
           "Brooklyn"
          ],
          [
           "Brooklyn"
          ],
          [
           "Brooklyn"
          ],
          [
           "Brooklyn"
          ],
          [
           "Brooklyn"
          ],
          [
           "Brooklyn"
          ],
          [
           "Brooklyn"
          ],
          [
           "Brooklyn"
          ],
          [
           "Brooklyn"
          ],
          [
           "Brooklyn"
          ],
          [
           "Brooklyn"
          ],
          [
           "Brooklyn"
          ],
          [
           "Brooklyn"
          ],
          [
           "Brooklyn"
          ],
          [
           "Brooklyn"
          ],
          [
           "Brooklyn"
          ],
          [
           "Brooklyn"
          ],
          [
           "Brooklyn"
          ],
          [
           "Brooklyn"
          ],
          [
           "Brooklyn"
          ],
          [
           "Brooklyn"
          ],
          [
           "Brooklyn"
          ],
          [
           "Brooklyn"
          ],
          [
           "Brooklyn"
          ],
          [
           "Brooklyn"
          ],
          [
           "Brooklyn"
          ],
          [
           "Brooklyn"
          ],
          [
           "Brooklyn"
          ],
          [
           "Brooklyn"
          ],
          [
           "Brooklyn"
          ],
          [
           "Brooklyn"
          ],
          [
           "Brooklyn"
          ],
          [
           "Brooklyn"
          ],
          [
           "Brooklyn"
          ],
          [
           "Brooklyn"
          ],
          [
           "Brooklyn"
          ],
          [
           "Brooklyn"
          ],
          [
           "Brooklyn"
          ],
          [
           "Brooklyn"
          ],
          [
           "Brooklyn"
          ],
          [
           "Brooklyn"
          ],
          [
           "Brooklyn"
          ],
          [
           "Brooklyn"
          ],
          [
           "Brooklyn"
          ],
          [
           "Brooklyn"
          ],
          [
           "Brooklyn"
          ],
          [
           "Brooklyn"
          ],
          [
           "Brooklyn"
          ],
          [
           "Brooklyn"
          ],
          [
           "Brooklyn"
          ],
          [
           "Brooklyn"
          ],
          [
           "Brooklyn"
          ],
          [
           "Brooklyn"
          ],
          [
           "Brooklyn"
          ],
          [
           "Brooklyn"
          ],
          [
           "Brooklyn"
          ],
          [
           "Brooklyn"
          ],
          [
           "Brooklyn"
          ],
          [
           "Brooklyn"
          ],
          [
           "Brooklyn"
          ],
          [
           "Brooklyn"
          ],
          [
           "Brooklyn"
          ],
          [
           "Brooklyn"
          ],
          [
           "Brooklyn"
          ],
          [
           "Brooklyn"
          ],
          [
           "Brooklyn"
          ],
          [
           "Brooklyn"
          ],
          [
           "Brooklyn"
          ],
          [
           "Brooklyn"
          ],
          [
           "Manhattan"
          ],
          [
           "Manhattan"
          ],
          [
           "Manhattan"
          ],
          [
           "Manhattan"
          ],
          [
           "Manhattan"
          ],
          [
           "Manhattan"
          ],
          [
           "Manhattan"
          ],
          [
           "Manhattan"
          ],
          [
           "Manhattan"
          ],
          [
           "Manhattan"
          ],
          [
           "Manhattan"
          ],
          [
           "Manhattan"
          ],
          [
           "Manhattan"
          ],
          [
           "Manhattan"
          ],
          [
           "Manhattan"
          ],
          [
           "Manhattan"
          ],
          [
           "Manhattan"
          ],
          [
           "Manhattan"
          ],
          [
           "Manhattan"
          ],
          [
           "Manhattan"
          ],
          [
           "Manhattan"
          ],
          [
           "Manhattan"
          ],
          [
           "Manhattan"
          ],
          [
           "Manhattan"
          ],
          [
           "Manhattan"
          ],
          [
           "Manhattan"
          ],
          [
           "Manhattan"
          ],
          [
           "Manhattan"
          ],
          [
           "Manhattan"
          ],
          [
           "Manhattan"
          ],
          [
           "Manhattan"
          ],
          [
           "Manhattan"
          ],
          [
           "Manhattan"
          ],
          [
           "Manhattan"
          ],
          [
           "Manhattan"
          ],
          [
           "Manhattan"
          ],
          [
           "Manhattan"
          ],
          [
           "Manhattan"
          ],
          [
           "Manhattan"
          ],
          [
           "Manhattan"
          ],
          [
           "Manhattan"
          ],
          [
           "Manhattan"
          ],
          [
           "Manhattan"
          ],
          [
           "Manhattan"
          ],
          [
           "Manhattan"
          ],
          [
           "Manhattan"
          ],
          [
           "Manhattan"
          ],
          [
           "Manhattan"
          ],
          [
           "Manhattan"
          ],
          [
           "Manhattan"
          ],
          [
           "Manhattan"
          ],
          [
           "Manhattan"
          ],
          [
           "Manhattan"
          ],
          [
           "Manhattan"
          ],
          [
           "Manhattan"
          ],
          [
           "Manhattan"
          ],
          [
           "Manhattan"
          ],
          [
           "Manhattan"
          ],
          [
           "Manhattan"
          ],
          [
           "Manhattan"
          ],
          [
           "Manhattan"
          ],
          [
           "Manhattan"
          ],
          [
           "Manhattan"
          ],
          [
           "Manhattan"
          ],
          [
           "Manhattan"
          ],
          [
           "Manhattan"
          ],
          [
           "Manhattan"
          ],
          [
           "Manhattan"
          ],
          [
           "Manhattan"
          ],
          [
           "Manhattan"
          ],
          [
           "Manhattan"
          ],
          [
           "Manhattan"
          ],
          [
           "Manhattan"
          ],
          [
           "Manhattan"
          ],
          [
           "Manhattan"
          ],
          [
           "Manhattan"
          ],
          [
           "Manhattan"
          ],
          [
           "Manhattan"
          ],
          [
           "Manhattan"
          ],
          [
           "Manhattan"
          ],
          [
           "Manhattan"
          ],
          [
           "Manhattan"
          ],
          [
           "Manhattan"
          ],
          [
           "Manhattan"
          ],
          [
           "Manhattan"
          ],
          [
           "Manhattan"
          ],
          [
           "Manhattan"
          ],
          [
           "Manhattan"
          ],
          [
           "Manhattan"
          ],
          [
           "Manhattan"
          ],
          [
           "Manhattan"
          ],
          [
           "Manhattan"
          ],
          [
           "Manhattan"
          ],
          [
           "Manhattan"
          ],
          [
           "Manhattan"
          ],
          [
           "Manhattan"
          ],
          [
           "Manhattan"
          ],
          [
           "Manhattan"
          ],
          [
           "Manhattan"
          ],
          [
           "Manhattan"
          ],
          [
           "Manhattan"
          ],
          [
           "Manhattan"
          ],
          [
           "Manhattan"
          ],
          [
           "Manhattan"
          ],
          [
           "Manhattan"
          ],
          [
           "Manhattan"
          ],
          [
           "Manhattan"
          ],
          [
           "Manhattan"
          ],
          [
           "Manhattan"
          ],
          [
           "Manhattan"
          ],
          [
           "Manhattan"
          ],
          [
           "Manhattan"
          ],
          [
           "Manhattan"
          ],
          [
           "Manhattan"
          ],
          [
           "Manhattan"
          ],
          [
           "Manhattan"
          ],
          [
           "Manhattan"
          ],
          [
           "Manhattan"
          ],
          [
           "Manhattan"
          ],
          [
           "Manhattan"
          ],
          [
           "Manhattan"
          ],
          [
           "Manhattan"
          ],
          [
           "Manhattan"
          ],
          [
           "Manhattan"
          ],
          [
           "Manhattan"
          ],
          [
           "Manhattan"
          ],
          [
           "Manhattan"
          ],
          [
           "Manhattan"
          ],
          [
           "Manhattan"
          ],
          [
           "Manhattan"
          ],
          [
           "Manhattan"
          ],
          [
           "Manhattan"
          ],
          [
           "Manhattan"
          ],
          [
           "Manhattan"
          ],
          [
           "Manhattan"
          ],
          [
           "Manhattan"
          ],
          [
           "Manhattan"
          ],
          [
           "Manhattan"
          ],
          [
           "Manhattan"
          ],
          [
           "Manhattan"
          ],
          [
           "Manhattan"
          ],
          [
           "Manhattan"
          ],
          [
           "Manhattan"
          ],
          [
           "Manhattan"
          ],
          [
           "Manhattan"
          ],
          [
           "Manhattan"
          ],
          [
           "Manhattan"
          ],
          [
           "Manhattan"
          ],
          [
           "Manhattan"
          ],
          [
           "Manhattan"
          ],
          [
           "Manhattan"
          ],
          [
           "Manhattan"
          ],
          [
           "Manhattan"
          ],
          [
           "Manhattan"
          ],
          [
           "Manhattan"
          ],
          [
           "Manhattan"
          ],
          [
           "Manhattan"
          ],
          [
           "Manhattan"
          ],
          [
           "Manhattan"
          ],
          [
           "Manhattan"
          ],
          [
           "Manhattan"
          ],
          [
           "Manhattan"
          ],
          [
           "Manhattan"
          ],
          [
           "Manhattan"
          ],
          [
           "Manhattan"
          ],
          [
           "Manhattan"
          ],
          [
           "Manhattan"
          ],
          [
           "Manhattan"
          ],
          [
           "Manhattan"
          ],
          [
           "Manhattan"
          ],
          [
           "Manhattan"
          ],
          [
           "Manhattan"
          ],
          [
           "Manhattan"
          ],
          [
           "Manhattan"
          ],
          [
           "Manhattan"
          ],
          [
           "Manhattan"
          ],
          [
           "Manhattan"
          ],
          [
           "Manhattan"
          ],
          [
           "Manhattan"
          ],
          [
           "Manhattan"
          ],
          [
           "Manhattan"
          ],
          [
           "Manhattan"
          ],
          [
           "Manhattan"
          ],
          [
           "Queens"
          ],
          [
           "Queens"
          ],
          [
           "Queens"
          ],
          [
           "Queens"
          ],
          [
           "Queens"
          ],
          [
           "Queens"
          ],
          [
           "Queens"
          ],
          [
           "Queens"
          ],
          [
           "Queens"
          ],
          [
           "Queens"
          ],
          [
           "Queens"
          ],
          [
           "Queens"
          ],
          [
           "Queens"
          ],
          [
           "Queens"
          ],
          [
           "Queens"
          ],
          [
           "Queens"
          ],
          [
           "Queens"
          ],
          [
           "Queens"
          ],
          [
           "Queens"
          ],
          [
           "Queens"
          ],
          [
           "Queens"
          ],
          [
           "Queens"
          ],
          [
           "Queens"
          ],
          [
           "Queens"
          ],
          [
           "Queens"
          ],
          [
           "Queens"
          ],
          [
           "Queens"
          ],
          [
           "Queens"
          ],
          [
           "Queens"
          ],
          [
           "Queens"
          ],
          [
           "Queens"
          ],
          [
           "Queens"
          ],
          [
           "Queens"
          ],
          [
           "Queens"
          ],
          [
           "Queens"
          ],
          [
           "Queens"
          ],
          [
           "Queens"
          ],
          [
           "Queens"
          ],
          [
           "Queens"
          ],
          [
           "Queens"
          ],
          [
           "Queens"
          ],
          [
           "Queens"
          ],
          [
           "Queens"
          ],
          [
           "Queens"
          ],
          [
           "Queens"
          ],
          [
           "Queens"
          ],
          [
           "Queens"
          ],
          [
           "Queens"
          ],
          [
           "Queens"
          ],
          [
           "Queens"
          ],
          [
           "Queens"
          ],
          [
           "Queens"
          ],
          [
           "Queens"
          ],
          [
           "Queens"
          ],
          [
           "Queens"
          ],
          [
           "Queens"
          ],
          [
           "Queens"
          ],
          [
           "Queens"
          ],
          [
           "Queens"
          ],
          [
           "Queens"
          ],
          [
           "Queens"
          ],
          [
           "Queens"
          ],
          [
           "Queens"
          ],
          [
           "Queens"
          ],
          [
           "Queens"
          ],
          [
           "Queens"
          ],
          [
           "Queens"
          ],
          [
           "Queens"
          ],
          [
           "Queens"
          ],
          [
           "Queens"
          ],
          [
           "Queens"
          ],
          [
           "Queens"
          ],
          [
           "Queens"
          ],
          [
           "Queens"
          ],
          [
           "Queens"
          ],
          [
           "Queens"
          ],
          [
           "Queens"
          ],
          [
           "Queens"
          ],
          [
           "Queens"
          ],
          [
           "Queens"
          ],
          [
           "Queens"
          ],
          [
           "Queens"
          ],
          [
           "Queens"
          ],
          [
           "Queens"
          ],
          [
           "Queens"
          ],
          [
           "Queens"
          ],
          [
           "Queens"
          ],
          [
           "Queens"
          ],
          [
           "Queens"
          ],
          [
           "Queens"
          ],
          [
           "Queens"
          ],
          [
           "Queens"
          ],
          [
           "Queens"
          ],
          [
           "Queens"
          ],
          [
           "Queens"
          ],
          [
           "Queens"
          ],
          [
           "Queens"
          ],
          [
           "Queens"
          ],
          [
           "Queens"
          ],
          [
           "Queens"
          ],
          [
           "Queens"
          ],
          [
           "Queens"
          ],
          [
           "Queens"
          ],
          [
           "Queens"
          ],
          [
           "Queens"
          ],
          [
           "Queens"
          ],
          [
           "Queens"
          ],
          [
           "Queens"
          ],
          [
           "Queens"
          ],
          [
           "Queens"
          ],
          [
           "Queens"
          ],
          [
           "Queens"
          ],
          [
           "Queens"
          ],
          [
           "Queens"
          ],
          [
           "Queens"
          ],
          [
           "Queens"
          ],
          [
           "Staten Island"
          ],
          [
           "Staten Island"
          ],
          [
           "Staten Island"
          ],
          [
           "Staten Island"
          ],
          [
           "Staten Island"
          ],
          [
           "Staten Island"
          ],
          [
           "Staten Island"
          ],
          [
           "Staten Island"
          ],
          [
           "Staten Island"
          ],
          [
           "Staten Island"
          ],
          [
           "Staten Island"
          ],
          [
           "Staten Island"
          ],
          [
           "Staten Island"
          ],
          [
           "Staten Island"
          ],
          [
           "Staten Island"
          ],
          [
           "Staten Island"
          ],
          [
           "Staten Island"
          ],
          [
           "Staten Island"
          ],
          [
           "Staten Island"
          ],
          [
           "Staten Island"
          ],
          [
           "Staten Island"
          ],
          [
           "Staten Island"
          ],
          [
           "Staten Island"
          ],
          [
           "Staten Island"
          ],
          [
           "Staten Island"
          ],
          [
           "Staten Island"
          ],
          [
           "Staten Island"
          ],
          [
           "Staten Island"
          ],
          [
           "Staten Island"
          ],
          [
           "Staten Island"
          ],
          [
           "Staten Island"
          ],
          [
           "Staten Island"
          ],
          [
           "Staten Island"
          ],
          [
           "Staten Island"
          ],
          [
           "Staten Island"
          ],
          [
           "Staten Island"
          ],
          [
           "Staten Island"
          ],
          [
           "Staten Island"
          ],
          [
           "Staten Island"
          ],
          [
           "Staten Island"
          ],
          [
           "Staten Island"
          ],
          [
           "Staten Island"
          ]
         ],
         "hovertemplate": "<b>%{hovertext}</b><br><br>color=#334756<br>latitude=%{lat}<br>longitude=%{lon}<br>boro=%{customdata[0]}<extra></extra>",
         "hovertext": [
          "public recycling bin",
          "public recycling bin",
          "public recycling bin",
          "public recycling bin",
          "public recycling bin",
          "public recycling bin",
          "public recycling bin",
          "public recycling bin",
          "public recycling bin",
          "public recycling bin",
          "public recycling bin",
          "public recycling bin",
          "public recycling bin",
          "public recycling bin",
          "public recycling bin",
          "public recycling bin",
          "public recycling bin",
          "public recycling bin",
          "public recycling bin",
          "public recycling bin",
          "public recycling bin",
          "public recycling bin",
          "public recycling bin",
          "public recycling bin",
          "public recycling bin",
          "public recycling bin",
          "public recycling bin",
          "public recycling bin",
          "public recycling bin",
          "public recycling bin",
          "public recycling bin",
          "public recycling bin",
          "public recycling bin",
          "public recycling bin",
          "public recycling bin",
          "public recycling bin",
          "public recycling bin",
          "public recycling bin",
          "public recycling bin",
          "public recycling bin",
          "public recycling bin",
          "public recycling bin",
          "public recycling bin",
          "public recycling bin",
          "public recycling bin",
          "public recycling bin",
          "public recycling bin",
          "public recycling bin",
          "public recycling bin",
          "public recycling bin",
          "public recycling bin",
          "public recycling bin",
          "public recycling bin",
          "public recycling bin",
          "public recycling bin",
          "public recycling bin",
          "public recycling bin",
          "public recycling bin",
          "public recycling bin",
          "public recycling bin",
          "public recycling bin",
          "public recycling bin",
          "public recycling bin",
          "public recycling bin",
          "public recycling bin",
          "public recycling bin",
          "public recycling bin",
          "public recycling bin",
          "public recycling bin",
          "public recycling bin",
          "public recycling bin",
          "public recycling bin",
          "public recycling bin",
          "public recycling bin",
          "public recycling bin",
          "public recycling bin",
          "public recycling bin",
          "public recycling bin",
          "public recycling bin",
          "public recycling bin",
          "public recycling bin",
          "public recycling bin",
          "public recycling bin",
          "public recycling bin",
          "public recycling bin",
          "public recycling bin",
          "public recycling bin",
          "public recycling bin",
          "public recycling bin",
          "public recycling bin",
          "public recycling bin",
          "public recycling bin",
          "public recycling bin",
          "public recycling bin",
          "public recycling bin",
          "public recycling bin",
          "public recycling bin",
          "public recycling bin",
          "public recycling bin",
          "public recycling bin",
          "public recycling bin",
          "public recycling bin",
          "public recycling bin",
          "public recycling bin",
          "public recycling bin",
          "public recycling bin",
          "public recycling bin",
          "public recycling bin",
          "public recycling bin",
          "public recycling bin",
          "public recycling bin",
          "public recycling bin",
          "public recycling bin",
          "public recycling bin",
          "public recycling bin",
          "public recycling bin",
          "public recycling bin",
          "public recycling bin",
          "public recycling bin",
          "public recycling bin",
          "public recycling bin",
          "public recycling bin",
          "public recycling bin",
          "public recycling bin",
          "public recycling bin",
          "public recycling bin",
          "public recycling bin",
          "public recycling bin",
          "public recycling bin",
          "public recycling bin",
          "public recycling bin",
          "public recycling bin",
          "public recycling bin",
          "public recycling bin",
          "public recycling bin",
          "public recycling bin",
          "public recycling bin",
          "public recycling bin",
          "public recycling bin",
          "public recycling bin",
          "public recycling bin",
          "public recycling bin",
          "public recycling bin",
          "public recycling bin",
          "public recycling bin",
          "public recycling bin",
          "public recycling bin",
          "public recycling bin",
          "public recycling bin",
          "public recycling bin",
          "public recycling bin",
          "public recycling bin",
          "public recycling bin",
          "public recycling bin",
          "public recycling bin",
          "public recycling bin",
          "public recycling bin",
          "public recycling bin",
          "public recycling bin",
          "public recycling bin",
          "public recycling bin",
          "public recycling bin",
          "public recycling bin",
          "public recycling bin",
          "public recycling bin",
          "public recycling bin",
          "public recycling bin",
          "public recycling bin",
          "public recycling bin",
          "public recycling bin",
          "public recycling bin",
          "public recycling bin",
          "public recycling bin",
          "public recycling bin",
          "public recycling bin",
          "public recycling bin",
          "public recycling bin",
          "public recycling bin",
          "public recycling bin",
          "public recycling bin",
          "public recycling bin",
          "public recycling bin",
          "public recycling bin",
          "public recycling bin",
          "public recycling bin",
          "public recycling bin",
          "public recycling bin",
          "public recycling bin",
          "public recycling bin",
          "public recycling bin",
          "public recycling bin",
          "public recycling bin",
          "public recycling bin",
          "public recycling bin",
          "public recycling bin",
          "public recycling bin",
          "public recycling bin",
          "public recycling bin",
          "public recycling bin",
          "public recycling bin",
          "public recycling bin",
          "public recycling bin",
          "public recycling bin",
          "public recycling bin",
          "public recycling bin",
          "public recycling bin",
          "public recycling bin",
          "public recycling bin",
          "public recycling bin",
          "public recycling bin",
          "public recycling bin",
          "public recycling bin",
          "public recycling bin",
          "public recycling bin",
          "public recycling bin",
          "public recycling bin",
          "public recycling bin",
          "public recycling bin",
          "public recycling bin",
          "public recycling bin",
          "public recycling bin",
          "public recycling bin",
          "public recycling bin",
          "public recycling bin",
          "public recycling bin",
          "public recycling bin",
          "public recycling bin",
          "public recycling bin",
          "public recycling bin",
          "public recycling bin",
          "public recycling bin",
          "public recycling bin",
          "public recycling bin",
          "public recycling bin",
          "public recycling bin",
          "public recycling bin",
          "public recycling bin",
          "public recycling bin",
          "public recycling bin",
          "public recycling bin",
          "public recycling bin",
          "public recycling bin",
          "public recycling bin",
          "public recycling bin",
          "public recycling bin",
          "public recycling bin",
          "public recycling bin",
          "public recycling bin",
          "public recycling bin",
          "public recycling bin",
          "public recycling bin",
          "public recycling bin",
          "public recycling bin",
          "public recycling bin",
          "public recycling bin",
          "public recycling bin",
          "public recycling bin",
          "public recycling bin",
          "public recycling bin",
          "public recycling bin",
          "public recycling bin",
          "public recycling bin",
          "public recycling bin",
          "public recycling bin",
          "public recycling bin",
          "public recycling bin",
          "public recycling bin",
          "public recycling bin",
          "public recycling bin",
          "public recycling bin",
          "public recycling bin",
          "public recycling bin",
          "public recycling bin",
          "public recycling bin",
          "public recycling bin",
          "public recycling bin",
          "public recycling bin",
          "public recycling bin",
          "public recycling bin",
          "public recycling bin",
          "public recycling bin",
          "public recycling bin",
          "public recycling bin",
          "public recycling bin",
          "public recycling bin",
          "public recycling bin",
          "public recycling bin",
          "public recycling bin",
          "public recycling bin",
          "public recycling bin",
          "public recycling bin",
          "public recycling bin",
          "public recycling bin",
          "public recycling bin",
          "public recycling bin",
          "public recycling bin",
          "public recycling bin",
          "public recycling bin",
          "public recycling bin",
          "public recycling bin",
          "public recycling bin",
          "public recycling bin",
          "public recycling bin",
          "public recycling bin",
          "public recycling bin",
          "public recycling bin",
          "public recycling bin",
          "public recycling bin",
          "public recycling bin",
          "public recycling bin",
          "public recycling bin",
          "public recycling bin",
          "public recycling bin",
          "public recycling bin",
          "public recycling bin",
          "public recycling bin",
          "public recycling bin",
          "public recycling bin",
          "public recycling bin",
          "public recycling bin",
          "public recycling bin",
          "public recycling bin",
          "public recycling bin",
          "public recycling bin",
          "public recycling bin",
          "public recycling bin",
          "public recycling bin",
          "public recycling bin",
          "public recycling bin",
          "public recycling bin",
          "public recycling bin",
          "public recycling bin",
          "public recycling bin",
          "public recycling bin",
          "public recycling bin",
          "public recycling bin",
          "public recycling bin",
          "public recycling bin",
          "public recycling bin",
          "public recycling bin",
          "public recycling bin",
          "public recycling bin",
          "public recycling bin",
          "public recycling bin",
          "public recycling bin",
          "public recycling bin",
          "public recycling bin",
          "public recycling bin",
          "public recycling bin",
          "public recycling bin",
          "public recycling bin",
          "public recycling bin",
          "public recycling bin",
          "public recycling bin",
          "public recycling bin",
          "public recycling bin",
          "public recycling bin",
          "public recycling bin",
          "public recycling bin",
          "public recycling bin",
          "public recycling bin",
          "public recycling bin",
          "public recycling bin",
          "public recycling bin",
          "public recycling bin",
          "public recycling bin",
          "public recycling bin",
          "public recycling bin",
          "public recycling bin",
          "public recycling bin",
          "public recycling bin",
          "public recycling bin",
          "public recycling bin",
          "public recycling bin",
          "public recycling bin",
          "public recycling bin",
          "public recycling bin",
          "public recycling bin",
          "public recycling bin",
          "public recycling bin",
          "public recycling bin",
          "public recycling bin",
          "public recycling bin",
          "public recycling bin",
          "public recycling bin",
          "public recycling bin",
          "public recycling bin",
          "public recycling bin",
          "public recycling bin",
          "public recycling bin",
          "public recycling bin",
          "public recycling bin",
          "public recycling bin",
          "public recycling bin",
          "public recycling bin",
          "public recycling bin",
          "public recycling bin",
          "public recycling bin",
          "public recycling bin",
          "public recycling bin",
          "public recycling bin",
          "public recycling bin",
          "public recycling bin",
          "public recycling bin",
          "public recycling bin",
          "public recycling bin",
          "public recycling bin",
          "public recycling bin",
          "public recycling bin",
          "public recycling bin",
          "public recycling bin",
          "public recycling bin",
          "public recycling bin",
          "public recycling bin",
          "public recycling bin",
          "public recycling bin",
          "public recycling bin",
          "public recycling bin",
          "public recycling bin",
          "public recycling bin",
          "public recycling bin",
          "public recycling bin",
          "public recycling bin",
          "public recycling bin",
          "public recycling bin",
          "public recycling bin",
          "public recycling bin",
          "public recycling bin",
          "public recycling bin",
          "public recycling bin",
          "public recycling bin",
          "public recycling bin",
          "public recycling bin",
          "public recycling bin",
          "public recycling bin",
          "public recycling bin",
          "public recycling bin",
          "public recycling bin",
          "public recycling bin",
          "public recycling bin",
          "public recycling bin",
          "public recycling bin",
          "public recycling bin",
          "public recycling bin",
          "public recycling bin",
          "public recycling bin",
          "public recycling bin",
          "public recycling bin",
          "public recycling bin",
          "public recycling bin",
          "public recycling bin",
          "public recycling bin",
          "public recycling bin",
          "public recycling bin",
          "public recycling bin",
          "public recycling bin",
          "public recycling bin",
          "public recycling bin",
          "public recycling bin",
          "public recycling bin",
          "public recycling bin",
          "public recycling bin",
          "public recycling bin",
          "public recycling bin",
          "public recycling bin",
          "public recycling bin",
          "public recycling bin",
          "public recycling bin",
          "public recycling bin",
          "public recycling bin",
          "public recycling bin",
          "public recycling bin",
          "public recycling bin",
          "public recycling bin",
          "public recycling bin",
          "public recycling bin",
          "public recycling bin",
          "public recycling bin",
          "public recycling bin",
          "public recycling bin",
          "public recycling bin",
          "public recycling bin",
          "public recycling bin",
          "public recycling bin",
          "public recycling bin",
          "public recycling bin",
          "public recycling bin",
          "public recycling bin",
          "public recycling bin",
          "public recycling bin",
          "public recycling bin",
          "public recycling bin",
          "public recycling bin",
          "public recycling bin",
          "public recycling bin",
          "public recycling bin",
          "public recycling bin",
          "public recycling bin",
          "public recycling bin",
          "public recycling bin",
          "public recycling bin",
          "public recycling bin",
          "public recycling bin",
          "public recycling bin",
          "public recycling bin",
          "public recycling bin",
          "public recycling bin",
          "public recycling bin",
          "public recycling bin",
          "public recycling bin",
          "public recycling bin",
          "public recycling bin",
          "public recycling bin",
          "public recycling bin",
          "public recycling bin",
          "public recycling bin",
          "public recycling bin",
          "public recycling bin",
          "public recycling bin",
          "public recycling bin",
          "public recycling bin",
          "public recycling bin",
          "public recycling bin",
          "public recycling bin",
          "public recycling bin",
          "public recycling bin",
          "public recycling bin",
          "public recycling bin",
          "public recycling bin",
          "public recycling bin",
          "public recycling bin",
          "public recycling bin",
          "public recycling bin",
          "public recycling bin",
          "public recycling bin",
          "public recycling bin",
          "public recycling bin",
          "public recycling bin",
          "public recycling bin",
          "public recycling bin",
          "public recycling bin"
         ],
         "lat": [
          40.89084899,
          40.84889079,
          40.85557,
          40.871864,
          40.851889,
          40.861526,
          40.860755,
          40.859644,
          40.862602,
          40.826939,
          40.826627,
          40.854322,
          40.854445,
          40.850017,
          40.84976,
          40.819933,
          40.871706,
          40.911295,
          40.911236,
          40.825217,
          40.840115,
          40.835226,
          40.84133,
          40.840876,
          40.838351,
          40.841123,
          40.83377,
          40.841444,
          40.875553,
          40.833109,
          40.85042,
          40.849292,
          40.822893,
          40.813663,
          40.82201,
          40.862402,
          40.861948,
          40.861379,
          40.861267,
          40.869996,
          40.847026,
          40.816171,
          40.814213,
          40.817471,
          40.81484,
          40.858005,
          40.829632,
          40.827502,
          40.877667,
          40.835694,
          40.82297053,
          40.8229924,
          40.834258,
          40.831466,
          40.84155572,
          40.822711,
          40.889428,
          40.836706,
          40.90208,
          40.884079,
          40.866292,
          40.867984,
          40.868802,
          40.869068,
          40.872275,
          40.840504,
          40.840626,
          40.82366,
          40.838797,
          40.851723,
          40.849069,
          40.850274,
          40.841884,
          40.842795,
          40.903281,
          40.861953,
          40.873199,
          40.883881,
          40.885219,
          40.888353,
          40.865657,
          40.906878,
          40.819113,
          40.819274,
          40.817335,
          40.816505,
          40.835694,
          40.886538,
          40.887313,
          40.866089,
          40.865469,
          40.864779,
          40.811712,
          40.811588,
          40.80531601,
          40.887317,
          40.888933,
          40.888224,
          40.890172,
          40.888255,
          40.889096,
          40.833505,
          40.82057088,
          40.860641,
          40.828933,
          40.844147,
          40.895803,
          40.677973,
          40.57519,
          40.575239,
          40.629573,
          40.596833,
          40.68463,
          40.696536,
          40.673811,
          40.656762,
          40.722315,
          40.697327,
          40.695873,
          40.680946,
          40.681307,
          40.679442,
          40.68829,
          40.694143,
          40.697793,
          40.685861,
          40.610033,
          40.65021,
          40.687093,
          40.682556,
          40.687072,
          40.687208,
          40.689818,
          40.613322,
          40.67073271,
          40.672659,
          40.66101,
          40.700784,
          40.674221,
          40.67269,
          40.673262,
          40.578225,
          40.603519,
          40.695719,
          40.577672,
          40.577211,
          40.604085,
          40.721612,
          40.721535,
          40.72173,
          40.721933,
          40.720622,
          40.721653,
          40.719973,
          40.721075,
          40.724446,
          40.715086,
          40.692165,
          40.67207,
          40.693222,
          40.693473,
          40.693127,
          40.693456,
          40.720628,
          40.6659,
          40.639285,
          40.577492,
          40.668797,
          40.676639,
          40.696389,
          40.660478,
          40.655183,
          40.664608,
          40.66132,
          40.693761,
          40.677265,
          40.604374,
          40.617506,
          40.697746,
          40.701079,
          40.667491,
          40.673754,
          40.713316,
          40.650143,
          40.705616,
          40.706315,
          40.648468,
          40.709648,
          40.666548,
          40.665324,
          40.676766,
          40.688204,
          40.674329,
          40.695221,
          40.684658,
          40.70238,
          40.702631,
          40.702573,
          40.68293,
          40.683557,
          40.712187,
          40.715827,
          40.715923,
          40.71045,
          40.716396,
          40.718605,
          40.807945,
          40.716941,
          40.713608,
          40.714023,
          40.714399,
          40.716827,
          40.750901,
          40.71368,
          40.716458,
          40.716158,
          40.723831,
          40.715387,
          40.785787,
          40.785717,
          40.710412,
          40.736271,
          40.704592,
          40.711576,
          40.705075,
          40.711565,
          40.716092,
          40.739982,
          40.852856,
          40.736401,
          40.712939,
          40.71248,
          40.754391,
          40.753954,
          40.77453,
          40.804559,
          40.712796,
          40.749849,
          40.748355,
          40.749349,
          40.749318,
          40.711834,
          40.712806,
          40.712897,
          40.712517,
          40.710746,
          40.819645,
          40.71475,
          40.732377,
          40.804284,
          40.721757,
          40.71511,
          40.715356,
          40.807191,
          40.716205,
          40.760842,
          40.753938,
          40.730225,
          40.714357,
          40.715167,
          40.824847,
          40.751692,
          40.715109,
          40.719937,
          40.716618,
          40.717499,
          40.718372,
          40.718888,
          40.719832,
          40.721303,
          40.722911,
          40.723896,
          40.724113,
          40.725238,
          40.720057,
          40.812748,
          40.78613,
          40.806036,
          40.718742,
          40.74085,
          40.743298,
          40.739465,
          40.847983,
          40.746041,
          40.742795,
          40.714666,
          40.702411,
          40.70235,
          40.731457,
          40.728833,
          40.738145,
          40.748684,
          40.748507,
          40.751987,
          40.762839,
          40.770381,
          40.727097,
          40.701307,
          40.706124,
          40.87126,
          40.872594,
          40.867338,
          40.87303,
          40.84637,
          40.84696,
          40.824297,
          40.738952,
          40.859226,
          40.820071,
          40.769445,
          40.802588,
          40.771372,
          40.773715,
          40.828677,
          40.758977,
          40.799707,
          40.80413,
          40.801921,
          40.803133,
          40.805621,
          40.835708,
          40.780558,
          40.781265,
          40.781936,
          40.782175,
          40.782666,
          40.808183,
          40.711826,
          40.814478,
          40.867205,
          40.805463,
          40.720478,
          40.720176,
          40.719714,
          40.72917,
          40.73038,
          40.728828,
          40.732971,
          40.74341,
          40.763247,
          40.796609,
          40.707656,
          40.756564,
          40.787059,
          40.829744,
          40.721035,
          40.714603,
          40.724254,
          40.724319,
          40.72227,
          40.76512,
          40.817272,
          40.744858,
          40.73277,
          40.793412,
          40.715059,
          40.714045,
          40.714224,
          40.715355,
          40.755914,
          40.72603,
          40.726599,
          40.725698,
          40.729474,
          40.719979,
          40.735243,
          40.735219,
          40.735292,
          40.737023,
          40.736535,
          40.736122,
          40.73534,
          40.77878,
          40.72534,
          40.704695,
          40.704919,
          40.715575,
          40.717298,
          40.729689,
          40.806938,
          40.731315,
          40.788757,
          40.702335,
          40.755803,
          40.728344,
          40.673137,
          40.751418,
          40.76269,
          40.740063,
          40.739523,
          40.739295,
          40.738986,
          40.739758,
          40.776788,
          40.715851,
          40.683453,
          40.681366,
          40.675268,
          40.682418,
          40.758381,
          40.690594,
          40.66346,
          40.657674,
          40.661051,
          40.770753,
          40.667505,
          40.712529,
          40.779897,
          40.77208,
          40.595548,
          40.736722,
          40.73523,
          40.730966,
          40.73836,
          40.730117,
          40.729499,
          40.701915,
          40.730193,
          40.740388,
          40.728112,
          40.735169,
          40.749151,
          40.737039,
          40.7333,
          40.746639,
          40.744249,
          40.751882,
          40.698413,
          40.69664,
          40.701272,
          40.69747,
          40.702293,
          40.701854,
          40.69799,
          40.794781,
          40.792085,
          40.792357,
          40.692406,
          40.704591,
          40.753635,
          40.710069,
          40.71031,
          40.733135,
          40.733143,
          40.733068,
          40.732938,
          40.732701,
          40.733203,
          40.720689,
          40.720412,
          40.719988,
          40.719841,
          40.742502,
          40.742364,
          40.744148,
          40.749228,
          40.747887,
          40.732226,
          40.757266,
          40.721815,
          40.722012,
          40.72248,
          40.751632,
          40.750333,
          40.694407,
          40.740883,
          40.736171,
          40.747127,
          40.745794,
          40.744152,
          40.743599,
          40.765644,
          40.582137,
          40.5814,
          40.580754,
          40.585826,
          40.5844,
          40.58415,
          40.583412,
          40.582825,
          40.582479,
          40.585105,
          40.670613,
          40.691011,
          40.685918,
          40.688249,
          40.768029,
          40.602281,
          40.665379,
          40.665627,
          40.758219,
          40.758155,
          40.749844,
          40.749547,
          40.749687,
          40.754243,
          40.741628,
          40.701651,
          40.751914,
          40.574036,
          40.587445,
          40.586439,
          40.533819,
          40.535174,
          40.53514,
          40.531521,
          40.557382,
          40.560272,
          40.620135,
          40.618744,
          40.613891,
          40.637872,
          40.614615,
          40.640999,
          40.62005569,
          40.588496,
          40.584516,
          40.593686,
          40.564469,
          40.637596,
          40.585877,
          40.643368,
          40.57669,
          40.575019,
          40.628859,
          40.627186,
          40.628358,
          40.579313,
          40.642303,
          40.642709,
          40.642324,
          40.505646,
          40.642843,
          40.643799,
          40.643449,
          40.643343,
          40.637121,
          40.603832,
          40.603828,
          40.517368,
          40.518652
         ],
         "legendgroup": "#334756",
         "lon": [
          -73.86422392,
          -73.87712839,
          -73.887565,
          -73.805549,
          -73.868549,
          -73.880659,
          -73.880423,
          -73.880472,
          -73.880171,
          -73.922314,
          -73.922447,
          -73.869764,
          -73.869863,
          -73.880035,
          -73.880055,
          -73.887069,
          -73.872741,
          -73.907652,
          -73.90791,
          -73.88546,
          -73.895513,
          -73.895652,
          -73.892702,
          -73.898206,
          -73.893566,
          -73.898056,
          -73.877453,
          -73.888487,
          -73.860526,
          -73.828285,
          -73.915529,
          -73.902175,
          -73.91266,
          -73.905898,
          -73.914009,
          -73.897174,
          -73.893726,
          -73.881414,
          -73.89014,
          -73.876238,
          -73.882534,
          -73.917594,
          -73.885886,
          -73.882622,
          -73.90691,
          -73.90485,
          -73.921933,
          -73.923062,
          -73.90062,
          -73.925664,
          -73.91288322,
          -73.93189254,
          -73.923392,
          -73.923947,
          -73.87752267,
          -73.890242,
          -73.864356,
          -73.872355,
          -73.868519,
          -73.866996,
          -73.794774,
          -73.793396,
          -73.792261,
          -73.792558,
          -73.797323,
          -73.842668,
          -73.843231,
          -73.850766,
          -73.845791,
          -73.824697,
          -73.822954,
          -73.88992,
          -73.876389,
          -73.877694,
          -73.903612,
          -73.890736,
          -73.87052,
          -73.881691,
          -73.840474,
          -73.840908,
          -73.850613,
          -73.904143,
          -73.878003,
          -73.870418,
          -73.870322,
          -73.872564,
          -73.888776,
          -73.898453,
          -73.916308,
          -73.896967,
          -73.898571,
          -73.899257,
          -73.914339,
          -73.914342,
          -73.91533212,
          -73.899006,
          -73.898324,
          -73.896655,
          -73.896375,
          -73.897777,
          -73.892278,
          -73.86232,
          -73.91403138,
          -73.871488,
          -73.869326,
          -73.918886,
          -73.87943,
          -73.928171,
          -73.971342,
          -73.971889,
          -74.022532,
          -73.9994,
          -73.990234,
          -73.990675,
          -73.943717,
          -73.90247,
          -73.961527,
          -73.990337,
          -73.990218,
          -73.995481,
          -73.995212,
          -73.876233,
          -73.996136,
          -73.989791,
          -73.978653,
          -73.972638,
          -73.96952,
          -73.958798,
          -73.976238,
          -73.961975,
          -73.976557,
          -73.974621,
          -73.9732,
          -74.030067,
          -73.87967557,
          -73.885742,
          -73.895627,
          -73.995146,
          -73.888573,
          -73.984796,
          -73.984332,
          -73.994834,
          -73.957375,
          -73.990256,
          -73.944616,
          -73.946587,
          -73.930703,
          -73.953668,
          -73.954114,
          -73.953298,
          -73.955283,
          -73.952488,
          -73.950305,
          -73.952215,
          -73.955512,
          -73.943326,
          -73.960546,
          -73.985247,
          -73.96598,
          -73.971887,
          -73.979168,
          -73.96879,
          -73.965908,
          -73.965524,
          -73.887172,
          -74.031909,
          -73.946325,
          -73.980144,
          -73.978903,
          -73.99734,
          -73.963187,
          -73.962214,
          -73.976666,
          -73.979593,
          -73.948972,
          -74.008353,
          -73.930741,
          -74.040033,
          -73.976199,
          -73.995307,
          -73.89384,
          -73.934855,
          -73.938974,
          -73.884372,
          -73.947172,
          -73.948025,
          -74.006771,
          -73.950166,
          -73.887691,
          -73.886769,
          -73.965902,
          -73.966559,
          -73.877867,
          -73.943264,
          -73.925222,
          -73.986553,
          -73.990641,
          -73.989752,
          -73.964596,
          -73.966797,
          -74.005701,
          -74.000488,
          -74.001448,
          -74.003755,
          -74.001359,
          -73.993763,
          -73.945623,
          -74.000816,
          -74.003619,
          -74.004472,
          -74.006131,
          -74.004185,
          -73.990843,
          -74.005513,
          -74.002467,
          -74.002555,
          -73.980677,
          -74.001773,
          -73.951092,
          -73.950922,
          -73.996979,
          -73.975508,
          -74.016957,
          -74.016051,
          -74.017115,
          -74.015853,
          -74.000134,
          -73.978053,
          -73.938098,
          -74.005572,
          -74.007262,
          -74.007642,
          -73.983402,
          -73.984092,
          -73.943837,
          -73.952985,
          -74.004816,
          -74.000856,
          -74.002007,
          -74.007351,
          -74.006981,
          -74.007124,
          -74.004808,
          -74.007269,
          -74.007573,
          -73.993819,
          -73.936417,
          -74.000096,
          -74.010735,
          -73.931744,
          -73.996052,
          -74.002359,
          -74.002985,
          -73.934751,
          -73.975494,
          -73.969307,
          -73.986947,
          -74.002246,
          -74.003085,
          -74.002599,
          -73.935623,
          -73.975975,
          -74.011382,
          -73.981432,
          -73.975256,
          -73.974858,
          -73.974674,
          -73.974598,
          -73.974488,
          -73.974323,
          -73.973828,
          -73.973184,
          -73.973016,
          -73.972364,
          -73.981636,
          -73.939317,
          -73.943294,
          -73.934206,
          -74.013092,
          -74.008056,
          -74.007034,
          -74.008162,
          -73.929251,
          -74.006109,
          -74.008033,
          -74.002176,
          -74.012879,
          -74.014393,
          -74.010973,
          -74.011899,
          -74.010417,
          -74.008825,
          -74.009283,
          -74.008443,
          -74.001011,
          -73.995824,
          -74.011512,
          -74.011998,
          -74.004217,
          -73.930765,
          -73.930199,
          -73.929011,
          -73.918427,
          -73.940825,
          -73.940028,
          -73.942288,
          -74.002882,
          -73.934552,
          -73.952107,
          -73.949898,
          -73.938468,
          -73.982072,
          -73.981957,
          -73.948059,
          -73.991396,
          -73.962203,
          -73.958298,
          -73.960854,
          -73.958336,
          -73.958455,
          -73.939122,
          -73.972924,
          -73.975927,
          -73.97542,
          -73.972256,
          -73.973215,
          -73.95205,
          -74.007142,
          -73.943498,
          -73.929121,
          -73.946284,
          -74.016223,
          -74.013949,
          -74.012943,
          -74.011317,
          -74.011005,
          -74.011903,
          -74.010875,
          -74.009,
          -74.000042,
          -73.931602,
          -74.015976,
          -73.965043,
          -73.982257,
          -73.936431,
          -73.991596,
          -73.990111,
          -73.982088,
          -73.997828,
          -73.997287,
          -73.958509,
          -73.948248,
          -73.973764,
          -73.97406,
          -73.937115,
          -74.002355,
          -74.003135,
          -74.003285,
          -74.002982,
          -73.986712,
          -73.983353,
          -73.982985,
          -73.980843,
          -74.005489,
          -74.010272,
          -73.991012,
          -73.991603,
          -73.991614,
          -73.990324,
          -73.989754,
          -73.98963,
          -73.990127,
          -73.981788,
          -74.002324,
          -74.006729,
          -74.007084,
          -74.011301,
          -74.011001,
          -73.99662,
          -73.945301,
          -74.000988,
          -73.977788,
          -74.014384,
          -73.92631,
          -73.815159,
          -73.85461,
          -73.833843,
          -73.753297,
          -73.734291,
          -73.734881,
          -73.735873,
          -73.737665,
          -73.73546,
          -73.92753,
          -73.836995,
          -73.79213,
          -73.787854,
          -73.786905,
          -73.785392,
          -73.831008,
          -73.803822,
          -73.741329,
          -73.748388,
          -73.746639,
          -73.77174,
          -73.807496,
          -73.799377,
          -73.922391,
          -73.769438,
          -73.762266,
          -73.770538,
          -73.772083,
          -73.772458,
          -73.764991,
          -73.7727,
          -73.772888,
          -73.783477,
          -73.885302,
          -73.841879,
          -73.835592,
          -73.843435,
          -73.840066,
          -73.837856,
          -73.841976,
          -73.844583,
          -73.844068,
          -73.837459,
          -73.857672,
          -73.860344,
          -73.841922,
          -73.856664,
          -73.854765,
          -73.853145,
          -73.853295,
          -73.779207,
          -73.774357,
          -73.777013,
          -73.794745,
          -73.881944,
          -73.947615,
          -73.911456,
          -73.911063,
          -73.871233,
          -73.871427,
          -73.870885,
          -73.870916,
          -73.871081,
          -73.871822,
          -73.877521,
          -73.876474,
          -73.884693,
          -73.882971,
          -73.810261,
          -73.808518,
          -73.809333,
          -73.803658,
          -73.809765,
          -73.86515,
          -73.770978,
          -73.845511,
          -73.84608,
          -73.847477,
          -73.843676,
          -73.8441,
          -73.822116,
          -73.849318,
          -73.814014,
          -73.852214,
          -73.846729,
          -73.844476,
          -73.850355,
          -73.941159,
          -73.820127,
          -73.823377,
          -73.824936,
          -73.807265,
          -73.811254,
          -73.812472,
          -73.815484,
          -73.817858,
          -73.819097,
          -73.809223,
          -73.846257,
          -73.774207,
          -73.769315,
          -73.773574,
          -73.936159,
          -73.751564,
          -73.824555,
          -73.826703,
          -73.900278,
          -73.919785,
          -73.91475,
          -73.91514,
          -73.91427,
          -73.889365,
          -73.777362,
          -73.78315,
          -73.83732,
          -74.116627,
          -74.100364,
          -74.100257,
          -74.210241,
          -74.210125,
          -74.208524,
          -74.207153,
          -74.10392,
          -74.10104,
          -74.118801,
          -74.118278,
          -74.113523,
          -74.118791,
          -74.07412,
          -74.135418,
          -74.16311549,
          -74.138918,
          -74.125035,
          -74.135646,
          -74.097531,
          -74.074802,
          -74.100975,
          -74.086066,
          -74.098663,
          -74.098706,
          -74.118013,
          -74.091985,
          -74.099058,
          -74.077688,
          -74.076549,
          -74.075724,
          -74.075489,
          -74.235477,
          -74.11032,
          -74.108845,
          -74.11046,
          -74.108641,
          -74.119287,
          -74.158697,
          -74.16125,
          -74.190913,
          -74.18731
         ],
         "marker": {
          "color": "#FFA15A",
          "opacity": 1
         },
         "mode": "markers",
         "name": "#334756",
         "selected": {
          "marker": {
           "opacity": 1,
           "size": 10
          }
         },
         "showlegend": true,
         "subplot": "mapbox",
         "type": "scattermapbox",
         "unselected": {
          "marker": {
           "opacity": 0.6
          }
         }
        }
       ],
       "layout": {
        "clickmode": "event+select",
        "height": 600,
        "legend": {
         "title": {
          "text": "color"
         },
         "tracegroupgap": 0
        },
        "mapbox": {
         "accesstoken": "pk.eyJ1Ijoibmd1eWVuZHVjaHV5MjcxMTk3IiwiYSI6ImNrdGlrdXR6NTEydGQyb3FmMm40M3ZzY3IifQ.2Su0FgZih2OeDc7Z4xla8g",
         "bearing": 20,
         "center": {
          "lat": 40.74,
          "lon": -73.9
         },
         "domain": {
          "x": [
           0,
           1
          ],
          "y": [
           0,
           1
          ]
         },
         "pitch": 40,
         "zoom": 10.5
        },
        "margin": {
         "b": 0,
         "l": 0,
         "r": 0,
         "t": 0
        },
        "showlegend": false,
        "template": {
         "data": {
          "bar": [
           {
            "error_x": {
             "color": "#f2f5fa"
            },
            "error_y": {
             "color": "#f2f5fa"
            },
            "marker": {
             "line": {
              "color": "rgb(17,17,17)",
              "width": 0.5
             },
             "pattern": {
              "fillmode": "overlay",
              "size": 10,
              "solidity": 0.2
             }
            },
            "type": "bar"
           }
          ],
          "barpolar": [
           {
            "marker": {
             "line": {
              "color": "rgb(17,17,17)",
              "width": 0.5
             },
             "pattern": {
              "fillmode": "overlay",
              "size": 10,
              "solidity": 0.2
             }
            },
            "type": "barpolar"
           }
          ],
          "carpet": [
           {
            "aaxis": {
             "endlinecolor": "#A2B1C6",
             "gridcolor": "#506784",
             "linecolor": "#506784",
             "minorgridcolor": "#506784",
             "startlinecolor": "#A2B1C6"
            },
            "baxis": {
             "endlinecolor": "#A2B1C6",
             "gridcolor": "#506784",
             "linecolor": "#506784",
             "minorgridcolor": "#506784",
             "startlinecolor": "#A2B1C6"
            },
            "type": "carpet"
           }
          ],
          "choropleth": [
           {
            "colorbar": {
             "outlinewidth": 0,
             "ticks": ""
            },
            "type": "choropleth"
           }
          ],
          "contour": [
           {
            "colorbar": {
             "outlinewidth": 0,
             "ticks": ""
            },
            "colorscale": [
             [
              0,
              "#0d0887"
             ],
             [
              0.1111111111111111,
              "#46039f"
             ],
             [
              0.2222222222222222,
              "#7201a8"
             ],
             [
              0.3333333333333333,
              "#9c179e"
             ],
             [
              0.4444444444444444,
              "#bd3786"
             ],
             [
              0.5555555555555556,
              "#d8576b"
             ],
             [
              0.6666666666666666,
              "#ed7953"
             ],
             [
              0.7777777777777778,
              "#fb9f3a"
             ],
             [
              0.8888888888888888,
              "#fdca26"
             ],
             [
              1,
              "#f0f921"
             ]
            ],
            "type": "contour"
           }
          ],
          "contourcarpet": [
           {
            "colorbar": {
             "outlinewidth": 0,
             "ticks": ""
            },
            "type": "contourcarpet"
           }
          ],
          "heatmap": [
           {
            "colorbar": {
             "outlinewidth": 0,
             "ticks": ""
            },
            "colorscale": [
             [
              0,
              "#0d0887"
             ],
             [
              0.1111111111111111,
              "#46039f"
             ],
             [
              0.2222222222222222,
              "#7201a8"
             ],
             [
              0.3333333333333333,
              "#9c179e"
             ],
             [
              0.4444444444444444,
              "#bd3786"
             ],
             [
              0.5555555555555556,
              "#d8576b"
             ],
             [
              0.6666666666666666,
              "#ed7953"
             ],
             [
              0.7777777777777778,
              "#fb9f3a"
             ],
             [
              0.8888888888888888,
              "#fdca26"
             ],
             [
              1,
              "#f0f921"
             ]
            ],
            "type": "heatmap"
           }
          ],
          "heatmapgl": [
           {
            "colorbar": {
             "outlinewidth": 0,
             "ticks": ""
            },
            "colorscale": [
             [
              0,
              "#0d0887"
             ],
             [
              0.1111111111111111,
              "#46039f"
             ],
             [
              0.2222222222222222,
              "#7201a8"
             ],
             [
              0.3333333333333333,
              "#9c179e"
             ],
             [
              0.4444444444444444,
              "#bd3786"
             ],
             [
              0.5555555555555556,
              "#d8576b"
             ],
             [
              0.6666666666666666,
              "#ed7953"
             ],
             [
              0.7777777777777778,
              "#fb9f3a"
             ],
             [
              0.8888888888888888,
              "#fdca26"
             ],
             [
              1,
              "#f0f921"
             ]
            ],
            "type": "heatmapgl"
           }
          ],
          "histogram": [
           {
            "marker": {
             "pattern": {
              "fillmode": "overlay",
              "size": 10,
              "solidity": 0.2
             }
            },
            "type": "histogram"
           }
          ],
          "histogram2d": [
           {
            "colorbar": {
             "outlinewidth": 0,
             "ticks": ""
            },
            "colorscale": [
             [
              0,
              "#0d0887"
             ],
             [
              0.1111111111111111,
              "#46039f"
             ],
             [
              0.2222222222222222,
              "#7201a8"
             ],
             [
              0.3333333333333333,
              "#9c179e"
             ],
             [
              0.4444444444444444,
              "#bd3786"
             ],
             [
              0.5555555555555556,
              "#d8576b"
             ],
             [
              0.6666666666666666,
              "#ed7953"
             ],
             [
              0.7777777777777778,
              "#fb9f3a"
             ],
             [
              0.8888888888888888,
              "#fdca26"
             ],
             [
              1,
              "#f0f921"
             ]
            ],
            "type": "histogram2d"
           }
          ],
          "histogram2dcontour": [
           {
            "colorbar": {
             "outlinewidth": 0,
             "ticks": ""
            },
            "colorscale": [
             [
              0,
              "#0d0887"
             ],
             [
              0.1111111111111111,
              "#46039f"
             ],
             [
              0.2222222222222222,
              "#7201a8"
             ],
             [
              0.3333333333333333,
              "#9c179e"
             ],
             [
              0.4444444444444444,
              "#bd3786"
             ],
             [
              0.5555555555555556,
              "#d8576b"
             ],
             [
              0.6666666666666666,
              "#ed7953"
             ],
             [
              0.7777777777777778,
              "#fb9f3a"
             ],
             [
              0.8888888888888888,
              "#fdca26"
             ],
             [
              1,
              "#f0f921"
             ]
            ],
            "type": "histogram2dcontour"
           }
          ],
          "mesh3d": [
           {
            "colorbar": {
             "outlinewidth": 0,
             "ticks": ""
            },
            "type": "mesh3d"
           }
          ],
          "parcoords": [
           {
            "line": {
             "colorbar": {
              "outlinewidth": 0,
              "ticks": ""
             }
            },
            "type": "parcoords"
           }
          ],
          "pie": [
           {
            "automargin": true,
            "type": "pie"
           }
          ],
          "scatter": [
           {
            "marker": {
             "line": {
              "color": "#283442"
             }
            },
            "type": "scatter"
           }
          ],
          "scatter3d": [
           {
            "line": {
             "colorbar": {
              "outlinewidth": 0,
              "ticks": ""
             }
            },
            "marker": {
             "colorbar": {
              "outlinewidth": 0,
              "ticks": ""
             }
            },
            "type": "scatter3d"
           }
          ],
          "scattercarpet": [
           {
            "marker": {
             "colorbar": {
              "outlinewidth": 0,
              "ticks": ""
             }
            },
            "type": "scattercarpet"
           }
          ],
          "scattergeo": [
           {
            "marker": {
             "colorbar": {
              "outlinewidth": 0,
              "ticks": ""
             }
            },
            "type": "scattergeo"
           }
          ],
          "scattergl": [
           {
            "marker": {
             "line": {
              "color": "#283442"
             }
            },
            "type": "scattergl"
           }
          ],
          "scattermapbox": [
           {
            "marker": {
             "colorbar": {
              "outlinewidth": 0,
              "ticks": ""
             }
            },
            "type": "scattermapbox"
           }
          ],
          "scatterpolar": [
           {
            "marker": {
             "colorbar": {
              "outlinewidth": 0,
              "ticks": ""
             }
            },
            "type": "scatterpolar"
           }
          ],
          "scatterpolargl": [
           {
            "marker": {
             "colorbar": {
              "outlinewidth": 0,
              "ticks": ""
             }
            },
            "type": "scatterpolargl"
           }
          ],
          "scatterternary": [
           {
            "marker": {
             "colorbar": {
              "outlinewidth": 0,
              "ticks": ""
             }
            },
            "type": "scatterternary"
           }
          ],
          "surface": [
           {
            "colorbar": {
             "outlinewidth": 0,
             "ticks": ""
            },
            "colorscale": [
             [
              0,
              "#0d0887"
             ],
             [
              0.1111111111111111,
              "#46039f"
             ],
             [
              0.2222222222222222,
              "#7201a8"
             ],
             [
              0.3333333333333333,
              "#9c179e"
             ],
             [
              0.4444444444444444,
              "#bd3786"
             ],
             [
              0.5555555555555556,
              "#d8576b"
             ],
             [
              0.6666666666666666,
              "#ed7953"
             ],
             [
              0.7777777777777778,
              "#fb9f3a"
             ],
             [
              0.8888888888888888,
              "#fdca26"
             ],
             [
              1,
              "#f0f921"
             ]
            ],
            "type": "surface"
           }
          ],
          "table": [
           {
            "cells": {
             "fill": {
              "color": "#506784"
             },
             "line": {
              "color": "rgb(17,17,17)"
             }
            },
            "header": {
             "fill": {
              "color": "#2a3f5f"
             },
             "line": {
              "color": "rgb(17,17,17)"
             }
            },
            "type": "table"
           }
          ]
         },
         "layout": {
          "annotationdefaults": {
           "arrowcolor": "#f2f5fa",
           "arrowhead": 0,
           "arrowwidth": 1
          },
          "autotypenumbers": "strict",
          "coloraxis": {
           "colorbar": {
            "outlinewidth": 0,
            "ticks": ""
           }
          },
          "colorscale": {
           "diverging": [
            [
             0,
             "#8e0152"
            ],
            [
             0.1,
             "#c51b7d"
            ],
            [
             0.2,
             "#de77ae"
            ],
            [
             0.3,
             "#f1b6da"
            ],
            [
             0.4,
             "#fde0ef"
            ],
            [
             0.5,
             "#f7f7f7"
            ],
            [
             0.6,
             "#e6f5d0"
            ],
            [
             0.7,
             "#b8e186"
            ],
            [
             0.8,
             "#7fbc41"
            ],
            [
             0.9,
             "#4d9221"
            ],
            [
             1,
             "#276419"
            ]
           ],
           "sequential": [
            [
             0,
             "#0d0887"
            ],
            [
             0.1111111111111111,
             "#46039f"
            ],
            [
             0.2222222222222222,
             "#7201a8"
            ],
            [
             0.3333333333333333,
             "#9c179e"
            ],
            [
             0.4444444444444444,
             "#bd3786"
            ],
            [
             0.5555555555555556,
             "#d8576b"
            ],
            [
             0.6666666666666666,
             "#ed7953"
            ],
            [
             0.7777777777777778,
             "#fb9f3a"
            ],
            [
             0.8888888888888888,
             "#fdca26"
            ],
            [
             1,
             "#f0f921"
            ]
           ],
           "sequentialminus": [
            [
             0,
             "#0d0887"
            ],
            [
             0.1111111111111111,
             "#46039f"
            ],
            [
             0.2222222222222222,
             "#7201a8"
            ],
            [
             0.3333333333333333,
             "#9c179e"
            ],
            [
             0.4444444444444444,
             "#bd3786"
            ],
            [
             0.5555555555555556,
             "#d8576b"
            ],
            [
             0.6666666666666666,
             "#ed7953"
            ],
            [
             0.7777777777777778,
             "#fb9f3a"
            ],
            [
             0.8888888888888888,
             "#fdca26"
            ],
            [
             1,
             "#f0f921"
            ]
           ]
          },
          "colorway": [
           "#636efa",
           "#EF553B",
           "#00cc96",
           "#ab63fa",
           "#FFA15A",
           "#19d3f3",
           "#FF6692",
           "#B6E880",
           "#FF97FF",
           "#FECB52"
          ],
          "font": {
           "color": "#f2f5fa"
          },
          "geo": {
           "bgcolor": "rgb(17,17,17)",
           "lakecolor": "rgb(17,17,17)",
           "landcolor": "rgb(17,17,17)",
           "showlakes": true,
           "showland": true,
           "subunitcolor": "#506784"
          },
          "hoverlabel": {
           "align": "left"
          },
          "hovermode": "closest",
          "mapbox": {
           "style": "dark"
          },
          "paper_bgcolor": "rgb(17,17,17)",
          "plot_bgcolor": "rgb(17,17,17)",
          "polar": {
           "angularaxis": {
            "gridcolor": "#506784",
            "linecolor": "#506784",
            "ticks": ""
           },
           "bgcolor": "rgb(17,17,17)",
           "radialaxis": {
            "gridcolor": "#506784",
            "linecolor": "#506784",
            "ticks": ""
           }
          },
          "scene": {
           "xaxis": {
            "backgroundcolor": "rgb(17,17,17)",
            "gridcolor": "#506784",
            "gridwidth": 2,
            "linecolor": "#506784",
            "showbackground": true,
            "ticks": "",
            "zerolinecolor": "#C8D4E3"
           },
           "yaxis": {
            "backgroundcolor": "rgb(17,17,17)",
            "gridcolor": "#506784",
            "gridwidth": 2,
            "linecolor": "#506784",
            "showbackground": true,
            "ticks": "",
            "zerolinecolor": "#C8D4E3"
           },
           "zaxis": {
            "backgroundcolor": "rgb(17,17,17)",
            "gridcolor": "#506784",
            "gridwidth": 2,
            "linecolor": "#506784",
            "showbackground": true,
            "ticks": "",
            "zerolinecolor": "#C8D4E3"
           }
          },
          "shapedefaults": {
           "line": {
            "color": "#f2f5fa"
           }
          },
          "sliderdefaults": {
           "bgcolor": "#C8D4E3",
           "bordercolor": "rgb(17,17,17)",
           "borderwidth": 1,
           "tickwidth": 0
          },
          "ternary": {
           "aaxis": {
            "gridcolor": "#506784",
            "linecolor": "#506784",
            "ticks": ""
           },
           "baxis": {
            "gridcolor": "#506784",
            "linecolor": "#506784",
            "ticks": ""
           },
           "bgcolor": "rgb(17,17,17)",
           "caxis": {
            "gridcolor": "#506784",
            "linecolor": "#506784",
            "ticks": ""
           }
          },
          "title": {
           "x": 0.05
          },
          "updatemenudefaults": {
           "bgcolor": "#506784",
           "borderwidth": 0
          },
          "xaxis": {
           "automargin": true,
           "gridcolor": "#283442",
           "linecolor": "#506784",
           "ticks": "",
           "title": {
            "standoff": 15
           },
           "zerolinecolor": "#283442",
           "zerolinewidth": 2
          },
          "yaxis": {
           "automargin": true,
           "gridcolor": "#283442",
           "linecolor": "#506784",
           "ticks": "",
           "title": {
            "standoff": 15
           },
           "zerolinecolor": "#283442",
           "zerolinewidth": 2
          }
         }
        }
       }
      },
      "text/html": [
       "<div>                            <div id=\"ecf185bd-201e-44cf-98d0-c73412cacd8b\" class=\"plotly-graph-div\" style=\"height:600px; width:100%;\"></div>            <script type=\"text/javascript\">                require([\"plotly\"], function(Plotly) {                    window.PLOTLYENV=window.PLOTLYENV || {};                                    if (document.getElementById(\"ecf185bd-201e-44cf-98d0-c73412cacd8b\")) {                    Plotly.newPlot(                        \"ecf185bd-201e-44cf-98d0-c73412cacd8b\",                        [{\"customdata\":[[\"Bronx\"],[\"Bronx\"],[\"Bronx\"],[\"Bronx\"],[\"Bronx\"],[\"Bronx\"],[\"Bronx\"],[\"Bronx\"],[\"Bronx\"],[\"Bronx\"],[\"Bronx\"],[\"Bronx\"],[\"Bronx\"],[\"Bronx\"],[\"Bronx\"],[\"Bronx\"],[\"Bronx\"],[\"Bronx\"],[\"Bronx\"],[\"Bronx\"],[\"Bronx\"],[\"Bronx\"],[\"Bronx\"],[\"Bronx\"],[\"Brooklyn\"],[\"Brooklyn\"],[\"Brooklyn\"],[\"Brooklyn\"],[\"Brooklyn\"],[\"Brooklyn\"],[\"Brooklyn\"],[\"Brooklyn\"],[\"Brooklyn\"],[\"Brooklyn\"],[\"Brooklyn\"],[\"Brooklyn\"],[\"Brooklyn\"],[\"Brooklyn\"],[\"Brooklyn\"],[\"Brooklyn\"],[\"Brooklyn\"],[\"Brooklyn\"],[\"Brooklyn\"],[\"Brooklyn\"],[\"Brooklyn\"],[\"Brooklyn\"],[\"Brooklyn\"],[\"Manhattan\"],[\"Manhattan\"],[\"Manhattan\"],[\"Manhattan\"],[\"Manhattan\"],[\"Manhattan\"],[\"Manhattan\"],[\"Manhattan\"],[\"Manhattan\"],[\"Manhattan\"],[\"Manhattan\"],[\"Manhattan\"],[\"Manhattan\"],[\"Manhattan\"],[\"Manhattan\"],[\"Manhattan\"],[\"Manhattan\"],[\"Manhattan\"],[\"Manhattan\"],[\"Manhattan\"],[\"Manhattan\"],[\"Manhattan\"],[\"Manhattan\"],[\"Manhattan\"],[\"Manhattan\"],[\"Manhattan\"],[\"Manhattan\"],[\"Manhattan\"],[\"Manhattan\"],[\"Manhattan\"],[\"Manhattan\"],[\"Manhattan\"],[\"Manhattan\"],[\"Manhattan\"],[\"Manhattan\"],[\"Manhattan\"],[\"Manhattan\"],[\"Manhattan\"],[\"Manhattan\"],[\"Manhattan\"],[\"Manhattan\"],[\"Manhattan\"],[\"Manhattan\"],[\"Manhattan\"],[\"Manhattan\"],[\"Manhattan\"],[\"Manhattan\"],[\"Manhattan\"],[\"Manhattan\"],[\"Manhattan\"],[\"Manhattan\"],[\"Manhattan\"],[\"Manhattan\"],[\"Manhattan\"],[\"Manhattan\"],[\"Manhattan\"],[\"Manhattan\"],[\"Manhattan\"],[\"Manhattan\"],[\"Manhattan\"],[\"Manhattan\"],[\"Manhattan\"],[\"Manhattan\"],[\"Manhattan\"],[\"Manhattan\"],[\"Manhattan\"],[\"Manhattan\"],[\"Manhattan\"],[\"Manhattan\"],[\"Manhattan\"],[\"Queens\"],[\"Queens\"],[\"Queens\"],[\"Queens\"],[\"Queens\"],[\"Queens\"],[\"Queens\"],[\"Queens\"],[\"Queens\"],[\"Queens\"],[\"Queens\"],[\"Queens\"],[\"Queens\"],[\"Queens\"],[\"Queens\"],[\"Queens\"],[\"Queens\"],[\"Queens\"],[\"Queens\"],[\"Queens\"],[\"Queens\"],[\"Queens\"],[\"Queens\"],[\"Queens\"],[\"Queens\"],[\"Staten Island\"],[\"Staten Island\"],[\"Staten Island\"],[\"Staten Island\"]],\"hovertemplate\":\"<b>%{hovertext}</b><br><br>color=#A45D5D<br>latitude=%{lat}<br>longitude=%{lon}<br>boro=%{customdata[0]}<extra></extra>\",\"hovertext\":[\"compost\",\"compost\",\"compost\",\"compost\",\"compost\",\"compost\",\"compost\",\"compost\",\"compost\",\"compost\",\"compost\",\"compost\",\"compost\",\"compost\",\"compost\",\"compost\",\"compost\",\"compost\",\"compost\",\"compost\",\"compost\",\"compost\",\"compost\",\"compost\",\"compost\",\"compost\",\"compost\",\"compost\",\"compost\",\"compost\",\"compost\",\"compost\",\"compost\",\"compost\",\"compost\",\"compost\",\"compost\",\"compost\",\"compost\",\"compost\",\"compost\",\"compost\",\"compost\",\"compost\",\"compost\",\"compost\",\"compost\",\"compost\",\"compost\",\"compost\",\"compost\",\"compost\",\"compost\",\"compost\",\"compost\",\"compost\",\"compost\",\"compost\",\"compost\",\"compost\",\"compost\",\"compost\",\"compost\",\"compost\",\"compost\",\"compost\",\"compost\",\"compost\",\"compost\",\"compost\",\"compost\",\"compost\",\"compost\",\"compost\",\"compost\",\"compost\",\"compost\",\"compost\",\"compost\",\"compost\",\"compost\",\"compost\",\"compost\",\"compost\",\"compost\",\"compost\",\"compost\",\"compost\",\"compost\",\"compost\",\"compost\",\"compost\",\"compost\",\"compost\",\"compost\",\"compost\",\"compost\",\"compost\",\"compost\",\"compost\",\"compost\",\"compost\",\"compost\",\"compost\",\"compost\",\"compost\",\"compost\",\"compost\",\"compost\",\"compost\",\"compost\",\"compost\",\"compost\",\"compost\",\"compost\",\"compost\",\"compost\",\"compost\",\"compost\",\"compost\",\"compost\",\"compost\",\"compost\",\"compost\",\"compost\",\"compost\",\"compost\",\"compost\",\"compost\",\"compost\",\"compost\",\"compost\",\"compost\",\"compost\",\"compost\",\"compost\",\"compost\",\"compost\",\"compost\",\"compost\",\"compost\",\"compost\",\"compost\",\"compost\",\"compost\",\"compost\"],\"lat\":[40.844772,40.8269197,40.8326398,40.8312021,40.833022,40.8641072,40.8745635,40.839961,40.820403,40.818032,40.82127,40.846452,40.8534,40.80766,40.81622,40.82805,40.81844,40.862707,40.86115,40.87094,40.80948,40.881233,40.82135,40.829353,40.648502,40.6722226,40.673815,40.6937566,40.680852,40.6408302,40.69132,40.6726424,40.720471,40.725018,40.633663,40.66809,40.66496,40.65507,40.683282,40.678196,40.650381,40.697523,40.644516,40.680355,40.676782,40.6929796,40.678708,40.753588,40.79667,40.761706,40.8461084,40.7819529,40.7742982,40.7941768,40.7375462,40.704594,40.8067454,40.76911,40.7810344,40.8421716,40.8690103,40.7891821,40.7260554,40.7736069,40.737098,40.7670054,40.8051411,40.81428,40.808388,40.721086,40.857341,40.729165,40.824415,40.6894501,40.6894506,40.749509,40.755588,40.835828,40.731506,40.790645,40.800146,40.7162918,40.800867,40.7984,40.82099,40.798786,40.82404,40.83404,40.78579,40.86532,40.85295,40.7529921,40.742827,40.7489842,40.756032,40.7202214,40.7298117,40.738228,40.7634686,40.725357,40.7452994,40.733512,40.7140565,40.7159955,40.7255273,40.71102,40.724479,40.732811,40.724502,40.7231069,40.833952,40.728081,40.804574,40.799721,40.721531,40.794912,40.811641,40.748406,40.7427437,40.774513,40.767066,40.7222304,40.7532152,40.7584821,40.7769984,40.7675822,40.7468806,40.595401,40.7562501,40.7497177,40.74983,40.7295998,40.7373468,40.75197,40.752149,40.768942,40.591961,40.754084,40.7096804,40.7132717,40.738397,40.717411,40.641672,40.6415864,40.5834232,40.630312],\"legendgroup\":\"#A45D5D\",\"lon\":[-73.887226,-73.9225039,-73.9187735,-73.9004133,-73.8627284,-73.8950656,-73.8916183,-73.916663,-73.895686,-73.888644,-73.91537,-73.894096,-73.9077,-73.9193,-73.9176,-73.9257,-73.9272,-73.901042,-73.8908,-73.883947,-73.918294,-73.887583,-73.924049,-73.903424,-73.976416,-74.0109856,-73.9949411,-73.9904735,-73.9955995,-73.9652999,-73.9735,-73.9704304,-73.952713,-73.94472,-73.885955,-73.865533,-73.886675,-73.96169,-73.935667,-73.967427,-73.963432,-73.913913,-73.920387,-73.882995,-73.932943,-73.9081621,-73.911357,-73.983233,-73.931728,-73.950244,-73.9381243,-73.9754869,-73.9512624,-73.9684124,-74.0048128,-74.0142515,-73.9649594,-73.98855,-73.9463184,-73.942289,-73.9203259,-73.9527316,-73.9835429,-73.9815795,-73.9903523,-73.9578326,-73.9391249,-73.942834,-73.943251,-73.991718,-73.922111,-73.983435,-73.94918,-74.016792,-74.0167913,-73.998096,-73.999721,-73.938621,-73.983427,-73.97599,-73.94233,-74.0109403,-73.958284,-73.9526,-73.9543,-73.941698,-73.9446,-73.9452,-73.9508,-73.928,-73.9376,-73.9698797,-74.0078384,-74.0071142,-74.006046,-74.0128434,-74.0110087,-74.0104549,-74.0002584,-73.978278,-73.9984832,-74.002956,-73.9902176,-73.986664,-74.0040577,-73.97905,-73.979718,-74.000091,-73.97874,-73.988458,-73.941736,-73.979214,-73.955533,-73.962101,-73.982075,-73.943148,-73.950521,-73.721002,-73.9541298,-73.912463,-73.921406,-73.8467632,-73.8896812,-73.9186052,-73.9096802,-73.9359557,-73.9208078,-73.776541,-73.8258451,-73.8626075,-73.896438,-73.8616452,-73.877195,-73.830325,-73.925454,-73.929913,-73.788284,-73.94267,-73.8190304,-73.8299268,-73.877742,-73.857513,-74.101624,-74.0779094,-74.1629698,-74.115754],\"marker\":{\"color\":\"#636efa\",\"opacity\":1},\"mode\":\"markers\",\"name\":\"#A45D5D\",\"selected\":{\"marker\":{\"opacity\":1,\"size\":10}},\"showlegend\":true,\"subplot\":\"mapbox\",\"type\":\"scattermapbox\",\"unselected\":{\"marker\":{\"opacity\":0.6}}},{\"customdata\":[[\"Bronx\"],[\"Bronx\"],[\"Bronx\"],[\"Bronx\"],[\"Bronx\"],[\"Bronx\"],[\"Bronx\"],[\"Bronx\"],[\"Bronx\"],[\"Bronx\"],[\"Brooklyn\"],[\"Brooklyn\"],[\"Brooklyn\"],[\"Brooklyn\"],[\"Brooklyn\"],[\"Brooklyn\"],[\"Brooklyn\"],[\"Brooklyn\"],[\"Brooklyn\"],[\"Brooklyn\"],[\"Brooklyn\"],[\"Brooklyn\"],[\"Brooklyn\"],[\"Brooklyn\"],[\"Brooklyn\"],[\"Brooklyn\"],[\"Brooklyn\"],[\"Brooklyn\"],[\"Brooklyn\"],[\"Brooklyn\"],[\"Brooklyn\"],[\"Brooklyn\"],[\"Manhattan\"],[\"Manhattan\"],[\"Manhattan\"],[\"Manhattan\"],[\"Manhattan\"],[\"Manhattan\"],[\"Manhattan\"],[\"Manhattan\"],[\"Manhattan\"],[\"Manhattan\"],[\"Manhattan\"],[\"Manhattan\"],[\"Manhattan\"],[\"Manhattan\"],[\"Manhattan\"],[\"Manhattan\"],[\"Manhattan\"],[\"Manhattan\"],[\"Manhattan\"],[\"Manhattan\"],[\"Manhattan\"],[\"Manhattan\"],[\"Manhattan\"],[\"Manhattan\"],[\"Manhattan\"],[\"Manhattan\"],[\"Manhattan\"],[\"Manhattan\"],[\"Manhattan\"],[\"Manhattan\"],[\"Manhattan\"],[\"Manhattan\"],[\"Manhattan\"],[\"Manhattan\"],[\"Manhattan\"],[\"Manhattan\"],[\"Manhattan\"],[\"Queens\"],[\"Queens\"],[\"Queens\"],[\"Queens\"],[\"Queens\"],[\"Queens\"],[\"Queens\"],[\"Queens\"],[\"Queens\"],[\"Queens\"],[\"Queens\"],[\"Queens\"],[\"Queens\"],[\"Queens\"],[\"Queens\"],[\"Queens\"],[\"Queens\"],[\"Queens\"],[\"Queens\"],[\"Queens\"],[\"Staten Island\"],[\"Staten Island\"],[\"Staten Island\"],[\"Staten Island\"]],\"hovertemplate\":\"<b>%{hovertext}</b><br><br>color=#00A19D<br>latitude=%{lat}<br>longitude=%{lon}<br>boro=%{customdata[0]}<extra></extra>\",\"hovertext\":[\"electronics\",\"electronics\",\"electronics\",\"electronics\",\"electronics\",\"electronics\",\"electronics\",\"electronics\",\"electronics\",\"electronics\",\"electronics\",\"electronics\",\"electronics\",\"electronics\",\"electronics\",\"electronics\",\"electronics\",\"electronics\",\"electronics\",\"electronics\",\"electronics\",\"electronics\",\"electronics\",\"electronics\",\"electronics\",\"electronics\",\"electronics\",\"electronics\",\"electronics\",\"electronics\",\"electronics\",\"electronics\",\"electronics\",\"electronics\",\"electronics\",\"electronics\",\"electronics\",\"electronics\",\"electronics\",\"electronics\",\"electronics\",\"electronics\",\"electronics\",\"electronics\",\"electronics\",\"electronics\",\"electronics\",\"electronics\",\"electronics\",\"electronics\",\"electronics\",\"electronics\",\"electronics\",\"electronics\",\"electronics\",\"electronics\",\"electronics\",\"electronics\",\"electronics\",\"electronics\",\"electronics\",\"electronics\",\"electronics\",\"electronics\",\"electronics\",\"electronics\",\"electronics\",\"electronics\",\"electronics\",\"electronics\",\"electronics\",\"electronics\",\"electronics\",\"electronics\",\"electronics\",\"electronics\",\"electronics\",\"electronics\",\"electronics\",\"electronics\",\"electronics\",\"electronics\",\"electronics\",\"electronics\",\"electronics\",\"electronics\",\"electronics\",\"electronics\",\"electronics\",\"electronics\",\"electronics\",\"electronics\",\"electronics\"],\"lat\":[40.8306088,40.860358,40.8114884,40.845553,40.8608912,40.8219403,40.8518616,40.8677019,40.8810804,40.816877,40.7180048,40.6855509,40.592733,40.6863101,40.6362001,40.7326092,40.651344,40.6098192,40.6838452,40.5936458,40.6467058,40.6295254,40.6118064,40.5990083,40.5908736,40.6741737,40.6539242,40.7226339,40.6166088,40.681119,40.6887457,40.678631,40.7326047,40.743678,40.738365,40.8056313,40.794759,40.762665,40.7798872,40.7700779,40.7344091,40.7544351,40.7423606,40.725747,40.8083328,40.7539257,40.7495369,40.7478754,40.7848159,40.7331767,40.7604408,40.852244,40.7519146,40.7530426,40.7430749,40.7354498,40.7407266,40.7509006,40.7311383,40.7604799,40.732951,40.7444737,40.778473,40.7793,40.783755,40.812497,40.7382752,40.801328,40.848289,40.70127,40.7566145,40.746743,40.7575281,40.7534523,40.7353074,40.6897907,40.720443,40.7821272,40.7590732,40.7702468,40.7538623,40.7411879,40.7158271,40.7333304,40.7116062,40.6989379,40.748528,40.7415286,40.7581531,40.5769947,40.623861,40.5838147,40.5742785],\"legendgroup\":\"#00A19D\",\"lon\":[-73.891455,-73.9030775,-73.9257636,-73.901079,-73.8913166,-73.9301166,-73.8674386,-73.8286649,-73.9023443,-73.918804,-73.9575848,-73.960619,-73.940786,-73.9838984,-74.0260663,-73.9549618,-73.873167,-73.9216133,-73.9754325,-73.9989895,-73.9578905,-73.928339,-73.9630824,-73.9852812,-73.9503307,-73.9868727,-73.8732584,-73.9393371,-74.0300263,-73.956988,-73.9842131,-73.987452,-73.9903344,-73.999235,-73.9824462,-73.9413695,-73.972784,-73.995377,-73.9557037,-73.981592,-73.9904346,-73.9796913,-73.9923849,-73.9959279,-73.945866,-73.9854091,-73.988499,-73.9837462,-73.9788032,-73.9995147,-73.9710375,-73.934254,-73.9825561,-73.9924445,-73.9765721,-73.9915753,-73.9948313,-73.973911,-73.9923455,-73.98709,-73.998643,-73.9921732,-73.980571,-73.950294,-73.979007,-73.938164,-73.9822849,-73.937068,-73.931997,-73.805563,-73.9212251,-73.9026954,-73.8356912,-73.9121271,-73.8747611,-73.841335,-73.844168,-73.8347154,-73.772986,-73.9179077,-73.9089981,-73.9070126,-73.9018412,-73.8635717,-73.8581226,-73.8150529,-73.873001,-73.9337864,-73.919959,-74.1674401,-74.1391954,-74.0962032,-74.1694432],\"marker\":{\"color\":\"#EF553B\",\"opacity\":1},\"mode\":\"markers\",\"name\":\"#00A19D\",\"selected\":{\"marker\":{\"opacity\":1,\"size\":10}},\"showlegend\":true,\"subplot\":\"mapbox\",\"type\":\"scattermapbox\",\"unselected\":{\"marker\":{\"opacity\":0.6}}},{\"customdata\":[[\"Bronx\"],[\"Brooklyn\"],[\"Manhattan\"],[\"Queens\"],[\"Staten Island\"]],\"hovertemplate\":\"<b>%{hovertext}</b><br><br>color=#FEC260<br>latitude=%{lat}<br>longitude=%{lon}<br>boro=%{customdata[0]}<extra></extra>\",\"hovertext\":[\"hazardous waste recycling\",\"hazardous waste recycling\",\"hazardous waste recycling\",\"hazardous waste recycling\",\"hazardous waste recycling\"],\"lat\":[40.80306136,40.73565554,40.70990701,40.77100135,40.57012962],\"legendgroup\":\"#FEC260\",\"lon\":[-73.87485887,-73.94613805,-73.99232338,-73.84714946,-74.19481927],\"marker\":{\"color\":\"#00cc96\",\"opacity\":1},\"mode\":\"markers\",\"name\":\"#FEC260\",\"selected\":{\"marker\":{\"opacity\":1,\"size\":10}},\"showlegend\":true,\"subplot\":\"mapbox\",\"type\":\"scattermapbox\",\"unselected\":{\"marker\":{\"opacity\":0.6}}},{\"customdata\":[[\"Manhattan\"],[\"Manhattan\"]],\"hovertemplate\":\"<b>%{hovertext}</b><br><br>color=#2D46B9<br>latitude=%{lat}<br>longitude=%{lon}<br>boro=%{customdata[0]}<extra></extra>\",\"hovertext\":[\"plastic bag recycling\",\"plastic bag recycling\"],\"lat\":[40.795386,40.7862449],\"legendgroup\":\"#2D46B9\",\"lon\":[-73.9310222,-73.978733],\"marker\":{\"color\":\"#ab63fa\",\"opacity\":1},\"mode\":\"markers\",\"name\":\"#2D46B9\",\"selected\":{\"marker\":{\"opacity\":1,\"size\":10}},\"showlegend\":true,\"subplot\":\"mapbox\",\"type\":\"scattermapbox\",\"unselected\":{\"marker\":{\"opacity\":0.6}}},{\"customdata\":[[\"Bronx\"],[\"Bronx\"],[\"Bronx\"],[\"Bronx\"],[\"Bronx\"],[\"Bronx\"],[\"Bronx\"],[\"Bronx\"],[\"Bronx\"],[\"Bronx\"],[\"Bronx\"],[\"Bronx\"],[\"Bronx\"],[\"Bronx\"],[\"Bronx\"],[\"Bronx\"],[\"Bronx\"],[\"Bronx\"],[\"Bronx\"],[\"Bronx\"],[\"Bronx\"],[\"Bronx\"],[\"Bronx\"],[\"Bronx\"],[\"Bronx\"],[\"Bronx\"],[\"Bronx\"],[\"Bronx\"],[\"Bronx\"],[\"Bronx\"],[\"Bronx\"],[\"Bronx\"],[\"Bronx\"],[\"Bronx\"],[\"Bronx\"],[\"Bronx\"],[\"Bronx\"],[\"Bronx\"],[\"Bronx\"],[\"Bronx\"],[\"Bronx\"],[\"Bronx\"],[\"Bronx\"],[\"Bronx\"],[\"Bronx\"],[\"Bronx\"],[\"Bronx\"],[\"Bronx\"],[\"Bronx\"],[\"Bronx\"],[\"Bronx\"],[\"Bronx\"],[\"Bronx\"],[\"Bronx\"],[\"Bronx\"],[\"Bronx\"],[\"Bronx\"],[\"Bronx\"],[\"Bronx\"],[\"Bronx\"],[\"Bronx\"],[\"Bronx\"],[\"Bronx\"],[\"Bronx\"],[\"Bronx\"],[\"Bronx\"],[\"Bronx\"],[\"Bronx\"],[\"Bronx\"],[\"Bronx\"],[\"Bronx\"],[\"Bronx\"],[\"Bronx\"],[\"Bronx\"],[\"Bronx\"],[\"Bronx\"],[\"Bronx\"],[\"Bronx\"],[\"Bronx\"],[\"Bronx\"],[\"Bronx\"],[\"Bronx\"],[\"Bronx\"],[\"Bronx\"],[\"Bronx\"],[\"Bronx\"],[\"Bronx\"],[\"Bronx\"],[\"Bronx\"],[\"Bronx\"],[\"Bronx\"],[\"Bronx\"],[\"Bronx\"],[\"Bronx\"],[\"Bronx\"],[\"Bronx\"],[\"Bronx\"],[\"Bronx\"],[\"Bronx\"],[\"Bronx\"],[\"Bronx\"],[\"Bronx\"],[\"Bronx\"],[\"Bronx\"],[\"Bronx\"],[\"Bronx\"],[\"Bronx\"],[\"Brooklyn\"],[\"Brooklyn\"],[\"Brooklyn\"],[\"Brooklyn\"],[\"Brooklyn\"],[\"Brooklyn\"],[\"Brooklyn\"],[\"Brooklyn\"],[\"Brooklyn\"],[\"Brooklyn\"],[\"Brooklyn\"],[\"Brooklyn\"],[\"Brooklyn\"],[\"Brooklyn\"],[\"Brooklyn\"],[\"Brooklyn\"],[\"Brooklyn\"],[\"Brooklyn\"],[\"Brooklyn\"],[\"Brooklyn\"],[\"Brooklyn\"],[\"Brooklyn\"],[\"Brooklyn\"],[\"Brooklyn\"],[\"Brooklyn\"],[\"Brooklyn\"],[\"Brooklyn\"],[\"Brooklyn\"],[\"Brooklyn\"],[\"Brooklyn\"],[\"Brooklyn\"],[\"Brooklyn\"],[\"Brooklyn\"],[\"Brooklyn\"],[\"Brooklyn\"],[\"Brooklyn\"],[\"Brooklyn\"],[\"Brooklyn\"],[\"Brooklyn\"],[\"Brooklyn\"],[\"Brooklyn\"],[\"Brooklyn\"],[\"Brooklyn\"],[\"Brooklyn\"],[\"Brooklyn\"],[\"Brooklyn\"],[\"Brooklyn\"],[\"Brooklyn\"],[\"Brooklyn\"],[\"Brooklyn\"],[\"Brooklyn\"],[\"Brooklyn\"],[\"Brooklyn\"],[\"Brooklyn\"],[\"Brooklyn\"],[\"Brooklyn\"],[\"Brooklyn\"],[\"Brooklyn\"],[\"Brooklyn\"],[\"Brooklyn\"],[\"Brooklyn\"],[\"Brooklyn\"],[\"Brooklyn\"],[\"Brooklyn\"],[\"Brooklyn\"],[\"Brooklyn\"],[\"Brooklyn\"],[\"Brooklyn\"],[\"Brooklyn\"],[\"Brooklyn\"],[\"Brooklyn\"],[\"Brooklyn\"],[\"Brooklyn\"],[\"Brooklyn\"],[\"Brooklyn\"],[\"Brooklyn\"],[\"Brooklyn\"],[\"Brooklyn\"],[\"Brooklyn\"],[\"Brooklyn\"],[\"Brooklyn\"],[\"Brooklyn\"],[\"Brooklyn\"],[\"Brooklyn\"],[\"Brooklyn\"],[\"Brooklyn\"],[\"Brooklyn\"],[\"Brooklyn\"],[\"Brooklyn\"],[\"Brooklyn\"],[\"Brooklyn\"],[\"Brooklyn\"],[\"Brooklyn\"],[\"Manhattan\"],[\"Manhattan\"],[\"Manhattan\"],[\"Manhattan\"],[\"Manhattan\"],[\"Manhattan\"],[\"Manhattan\"],[\"Manhattan\"],[\"Manhattan\"],[\"Manhattan\"],[\"Manhattan\"],[\"Manhattan\"],[\"Manhattan\"],[\"Manhattan\"],[\"Manhattan\"],[\"Manhattan\"],[\"Manhattan\"],[\"Manhattan\"],[\"Manhattan\"],[\"Manhattan\"],[\"Manhattan\"],[\"Manhattan\"],[\"Manhattan\"],[\"Manhattan\"],[\"Manhattan\"],[\"Manhattan\"],[\"Manhattan\"],[\"Manhattan\"],[\"Manhattan\"],[\"Manhattan\"],[\"Manhattan\"],[\"Manhattan\"],[\"Manhattan\"],[\"Manhattan\"],[\"Manhattan\"],[\"Manhattan\"],[\"Manhattan\"],[\"Manhattan\"],[\"Manhattan\"],[\"Manhattan\"],[\"Manhattan\"],[\"Manhattan\"],[\"Manhattan\"],[\"Manhattan\"],[\"Manhattan\"],[\"Manhattan\"],[\"Manhattan\"],[\"Manhattan\"],[\"Manhattan\"],[\"Manhattan\"],[\"Manhattan\"],[\"Manhattan\"],[\"Manhattan\"],[\"Manhattan\"],[\"Manhattan\"],[\"Manhattan\"],[\"Manhattan\"],[\"Manhattan\"],[\"Manhattan\"],[\"Manhattan\"],[\"Manhattan\"],[\"Manhattan\"],[\"Manhattan\"],[\"Manhattan\"],[\"Manhattan\"],[\"Manhattan\"],[\"Manhattan\"],[\"Manhattan\"],[\"Manhattan\"],[\"Manhattan\"],[\"Manhattan\"],[\"Manhattan\"],[\"Manhattan\"],[\"Manhattan\"],[\"Manhattan\"],[\"Manhattan\"],[\"Manhattan\"],[\"Manhattan\"],[\"Manhattan\"],[\"Manhattan\"],[\"Manhattan\"],[\"Manhattan\"],[\"Manhattan\"],[\"Manhattan\"],[\"Manhattan\"],[\"Manhattan\"],[\"Manhattan\"],[\"Manhattan\"],[\"Manhattan\"],[\"Manhattan\"],[\"Manhattan\"],[\"Manhattan\"],[\"Manhattan\"],[\"Manhattan\"],[\"Manhattan\"],[\"Manhattan\"],[\"Manhattan\"],[\"Manhattan\"],[\"Manhattan\"],[\"Manhattan\"],[\"Manhattan\"],[\"Manhattan\"],[\"Manhattan\"],[\"Manhattan\"],[\"Manhattan\"],[\"Manhattan\"],[\"Manhattan\"],[\"Manhattan\"],[\"Manhattan\"],[\"Manhattan\"],[\"Manhattan\"],[\"Manhattan\"],[\"Manhattan\"],[\"Manhattan\"],[\"Manhattan\"],[\"Manhattan\"],[\"Manhattan\"],[\"Manhattan\"],[\"Manhattan\"],[\"Manhattan\"],[\"Manhattan\"],[\"Manhattan\"],[\"Manhattan\"],[\"Manhattan\"],[\"Manhattan\"],[\"Manhattan\"],[\"Manhattan\"],[\"Manhattan\"],[\"Manhattan\"],[\"Manhattan\"],[\"Manhattan\"],[\"Manhattan\"],[\"Manhattan\"],[\"Manhattan\"],[\"Manhattan\"],[\"Manhattan\"],[\"Manhattan\"],[\"Manhattan\"],[\"Manhattan\"],[\"Manhattan\"],[\"Manhattan\"],[\"Manhattan\"],[\"Manhattan\"],[\"Manhattan\"],[\"Manhattan\"],[\"Manhattan\"],[\"Manhattan\"],[\"Manhattan\"],[\"Manhattan\"],[\"Manhattan\"],[\"Manhattan\"],[\"Manhattan\"],[\"Manhattan\"],[\"Manhattan\"],[\"Manhattan\"],[\"Manhattan\"],[\"Manhattan\"],[\"Manhattan\"],[\"Manhattan\"],[\"Manhattan\"],[\"Manhattan\"],[\"Manhattan\"],[\"Manhattan\"],[\"Manhattan\"],[\"Manhattan\"],[\"Manhattan\"],[\"Manhattan\"],[\"Manhattan\"],[\"Manhattan\"],[\"Manhattan\"],[\"Manhattan\"],[\"Manhattan\"],[\"Manhattan\"],[\"Manhattan\"],[\"Manhattan\"],[\"Manhattan\"],[\"Manhattan\"],[\"Manhattan\"],[\"Manhattan\"],[\"Manhattan\"],[\"Manhattan\"],[\"Manhattan\"],[\"Manhattan\"],[\"Queens\"],[\"Queens\"],[\"Queens\"],[\"Queens\"],[\"Queens\"],[\"Queens\"],[\"Queens\"],[\"Queens\"],[\"Queens\"],[\"Queens\"],[\"Queens\"],[\"Queens\"],[\"Queens\"],[\"Queens\"],[\"Queens\"],[\"Queens\"],[\"Queens\"],[\"Queens\"],[\"Queens\"],[\"Queens\"],[\"Queens\"],[\"Queens\"],[\"Queens\"],[\"Queens\"],[\"Queens\"],[\"Queens\"],[\"Queens\"],[\"Queens\"],[\"Queens\"],[\"Queens\"],[\"Queens\"],[\"Queens\"],[\"Queens\"],[\"Queens\"],[\"Queens\"],[\"Queens\"],[\"Queens\"],[\"Queens\"],[\"Queens\"],[\"Queens\"],[\"Queens\"],[\"Queens\"],[\"Queens\"],[\"Queens\"],[\"Queens\"],[\"Queens\"],[\"Queens\"],[\"Queens\"],[\"Queens\"],[\"Queens\"],[\"Queens\"],[\"Queens\"],[\"Queens\"],[\"Queens\"],[\"Queens\"],[\"Queens\"],[\"Queens\"],[\"Queens\"],[\"Queens\"],[\"Queens\"],[\"Queens\"],[\"Queens\"],[\"Queens\"],[\"Queens\"],[\"Queens\"],[\"Queens\"],[\"Queens\"],[\"Queens\"],[\"Queens\"],[\"Queens\"],[\"Queens\"],[\"Queens\"],[\"Queens\"],[\"Queens\"],[\"Queens\"],[\"Queens\"],[\"Queens\"],[\"Queens\"],[\"Queens\"],[\"Queens\"],[\"Queens\"],[\"Queens\"],[\"Queens\"],[\"Queens\"],[\"Queens\"],[\"Queens\"],[\"Queens\"],[\"Queens\"],[\"Queens\"],[\"Queens\"],[\"Queens\"],[\"Queens\"],[\"Queens\"],[\"Queens\"],[\"Queens\"],[\"Queens\"],[\"Queens\"],[\"Queens\"],[\"Queens\"],[\"Queens\"],[\"Queens\"],[\"Queens\"],[\"Queens\"],[\"Queens\"],[\"Queens\"],[\"Queens\"],[\"Queens\"],[\"Queens\"],[\"Queens\"],[\"Queens\"],[\"Queens\"],[\"Queens\"],[\"Queens\"],[\"Queens\"],[\"Queens\"],[\"Queens\"],[\"Staten Island\"],[\"Staten Island\"],[\"Staten Island\"],[\"Staten Island\"],[\"Staten Island\"],[\"Staten Island\"],[\"Staten Island\"],[\"Staten Island\"],[\"Staten Island\"],[\"Staten Island\"],[\"Staten Island\"],[\"Staten Island\"],[\"Staten Island\"],[\"Staten Island\"],[\"Staten Island\"],[\"Staten Island\"],[\"Staten Island\"],[\"Staten Island\"],[\"Staten Island\"],[\"Staten Island\"],[\"Staten Island\"],[\"Staten Island\"],[\"Staten Island\"],[\"Staten Island\"],[\"Staten Island\"],[\"Staten Island\"],[\"Staten Island\"],[\"Staten Island\"],[\"Staten Island\"],[\"Staten Island\"],[\"Staten Island\"],[\"Staten Island\"],[\"Staten Island\"],[\"Staten Island\"],[\"Staten Island\"],[\"Staten Island\"],[\"Staten Island\"],[\"Staten Island\"],[\"Staten Island\"],[\"Staten Island\"],[\"Staten Island\"],[\"Staten Island\"]],\"hovertemplate\":\"<b>%{hovertext}</b><br><br>color=#334756<br>latitude=%{lat}<br>longitude=%{lon}<br>boro=%{customdata[0]}<extra></extra>\",\"hovertext\":[\"public recycling bin\",\"public recycling bin\",\"public recycling bin\",\"public recycling bin\",\"public recycling bin\",\"public recycling bin\",\"public recycling bin\",\"public recycling bin\",\"public recycling bin\",\"public recycling bin\",\"public recycling bin\",\"public recycling bin\",\"public recycling bin\",\"public recycling bin\",\"public recycling bin\",\"public recycling bin\",\"public recycling bin\",\"public recycling bin\",\"public recycling bin\",\"public recycling bin\",\"public recycling bin\",\"public recycling bin\",\"public recycling bin\",\"public recycling bin\",\"public recycling bin\",\"public recycling bin\",\"public recycling bin\",\"public recycling bin\",\"public recycling bin\",\"public recycling bin\",\"public recycling bin\",\"public recycling bin\",\"public recycling bin\",\"public recycling bin\",\"public recycling bin\",\"public recycling bin\",\"public recycling bin\",\"public recycling bin\",\"public recycling bin\",\"public recycling bin\",\"public recycling bin\",\"public recycling bin\",\"public recycling bin\",\"public recycling bin\",\"public recycling bin\",\"public recycling bin\",\"public recycling bin\",\"public recycling bin\",\"public recycling bin\",\"public recycling bin\",\"public recycling bin\",\"public recycling bin\",\"public recycling bin\",\"public recycling bin\",\"public recycling bin\",\"public recycling bin\",\"public recycling bin\",\"public recycling bin\",\"public recycling bin\",\"public recycling bin\",\"public recycling bin\",\"public recycling bin\",\"public recycling bin\",\"public recycling bin\",\"public recycling bin\",\"public recycling bin\",\"public recycling bin\",\"public recycling bin\",\"public recycling bin\",\"public recycling bin\",\"public recycling bin\",\"public recycling bin\",\"public recycling bin\",\"public recycling bin\",\"public recycling bin\",\"public recycling bin\",\"public recycling bin\",\"public recycling bin\",\"public recycling bin\",\"public recycling bin\",\"public recycling bin\",\"public recycling bin\",\"public recycling bin\",\"public recycling bin\",\"public recycling bin\",\"public recycling bin\",\"public recycling bin\",\"public recycling bin\",\"public recycling bin\",\"public recycling bin\",\"public recycling bin\",\"public recycling bin\",\"public recycling bin\",\"public recycling bin\",\"public recycling bin\",\"public recycling bin\",\"public recycling bin\",\"public recycling bin\",\"public recycling bin\",\"public recycling bin\",\"public recycling bin\",\"public recycling bin\",\"public recycling bin\",\"public recycling bin\",\"public recycling bin\",\"public recycling bin\",\"public recycling bin\",\"public recycling bin\",\"public recycling bin\",\"public recycling bin\",\"public recycling bin\",\"public recycling bin\",\"public recycling bin\",\"public recycling bin\",\"public recycling bin\",\"public recycling bin\",\"public recycling bin\",\"public recycling bin\",\"public recycling bin\",\"public recycling bin\",\"public recycling bin\",\"public recycling bin\",\"public recycling bin\",\"public recycling bin\",\"public recycling bin\",\"public recycling bin\",\"public recycling bin\",\"public recycling bin\",\"public recycling bin\",\"public recycling bin\",\"public recycling bin\",\"public recycling bin\",\"public recycling bin\",\"public recycling bin\",\"public recycling bin\",\"public recycling bin\",\"public recycling bin\",\"public recycling bin\",\"public recycling bin\",\"public recycling bin\",\"public recycling bin\",\"public recycling bin\",\"public recycling bin\",\"public recycling bin\",\"public recycling bin\",\"public recycling bin\",\"public recycling bin\",\"public recycling bin\",\"public recycling bin\",\"public recycling bin\",\"public recycling bin\",\"public recycling bin\",\"public recycling bin\",\"public recycling bin\",\"public recycling bin\",\"public recycling bin\",\"public recycling bin\",\"public recycling bin\",\"public recycling bin\",\"public recycling bin\",\"public recycling bin\",\"public recycling bin\",\"public recycling bin\",\"public recycling bin\",\"public recycling bin\",\"public recycling bin\",\"public recycling bin\",\"public recycling bin\",\"public recycling bin\",\"public recycling bin\",\"public recycling bin\",\"public recycling bin\",\"public recycling bin\",\"public recycling bin\",\"public recycling bin\",\"public recycling bin\",\"public recycling bin\",\"public recycling bin\",\"public recycling bin\",\"public recycling bin\",\"public recycling bin\",\"public recycling bin\",\"public recycling bin\",\"public recycling bin\",\"public recycling bin\",\"public recycling bin\",\"public recycling bin\",\"public recycling bin\",\"public recycling bin\",\"public recycling bin\",\"public recycling bin\",\"public recycling bin\",\"public recycling bin\",\"public recycling bin\",\"public recycling bin\",\"public recycling bin\",\"public recycling bin\",\"public recycling bin\",\"public recycling bin\",\"public recycling bin\",\"public recycling bin\",\"public recycling bin\",\"public recycling bin\",\"public recycling bin\",\"public recycling bin\",\"public recycling bin\",\"public recycling bin\",\"public recycling bin\",\"public recycling bin\",\"public recycling bin\",\"public recycling bin\",\"public recycling bin\",\"public recycling bin\",\"public recycling bin\",\"public recycling bin\",\"public recycling bin\",\"public recycling bin\",\"public recycling bin\",\"public recycling bin\",\"public recycling bin\",\"public recycling bin\",\"public recycling bin\",\"public recycling bin\",\"public recycling bin\",\"public recycling bin\",\"public recycling bin\",\"public recycling bin\",\"public recycling bin\",\"public recycling bin\",\"public recycling bin\",\"public recycling bin\",\"public recycling bin\",\"public recycling bin\",\"public recycling bin\",\"public recycling bin\",\"public recycling bin\",\"public recycling bin\",\"public recycling bin\",\"public recycling bin\",\"public recycling bin\",\"public recycling bin\",\"public recycling bin\",\"public recycling bin\",\"public recycling bin\",\"public recycling bin\",\"public recycling bin\",\"public recycling bin\",\"public recycling bin\",\"public recycling bin\",\"public recycling bin\",\"public recycling bin\",\"public recycling bin\",\"public recycling bin\",\"public recycling bin\",\"public recycling bin\",\"public recycling bin\",\"public recycling bin\",\"public recycling bin\",\"public recycling bin\",\"public recycling bin\",\"public recycling bin\",\"public recycling bin\",\"public recycling bin\",\"public recycling bin\",\"public recycling bin\",\"public recycling bin\",\"public recycling bin\",\"public recycling bin\",\"public recycling bin\",\"public recycling bin\",\"public recycling bin\",\"public recycling bin\",\"public recycling bin\",\"public recycling bin\",\"public recycling bin\",\"public recycling bin\",\"public recycling bin\",\"public recycling bin\",\"public recycling bin\",\"public recycling bin\",\"public recycling bin\",\"public recycling bin\",\"public recycling bin\",\"public recycling bin\",\"public recycling bin\",\"public recycling bin\",\"public recycling bin\",\"public recycling bin\",\"public recycling bin\",\"public recycling bin\",\"public recycling bin\",\"public recycling bin\",\"public recycling bin\",\"public recycling bin\",\"public recycling bin\",\"public recycling bin\",\"public recycling bin\",\"public recycling bin\",\"public recycling bin\",\"public recycling bin\",\"public recycling bin\",\"public recycling bin\",\"public recycling bin\",\"public recycling bin\",\"public recycling bin\",\"public recycling bin\",\"public recycling bin\",\"public recycling bin\",\"public recycling bin\",\"public recycling bin\",\"public recycling bin\",\"public recycling bin\",\"public recycling bin\",\"public recycling bin\",\"public recycling bin\",\"public recycling bin\",\"public recycling bin\",\"public recycling bin\",\"public recycling bin\",\"public recycling bin\",\"public recycling bin\",\"public recycling bin\",\"public recycling bin\",\"public recycling bin\",\"public recycling bin\",\"public recycling bin\",\"public recycling bin\",\"public recycling bin\",\"public recycling bin\",\"public recycling bin\",\"public recycling bin\",\"public recycling bin\",\"public recycling bin\",\"public recycling bin\",\"public recycling bin\",\"public recycling bin\",\"public recycling bin\",\"public recycling bin\",\"public recycling bin\",\"public recycling bin\",\"public recycling bin\",\"public recycling bin\",\"public recycling bin\",\"public recycling bin\",\"public recycling bin\",\"public recycling bin\",\"public recycling bin\",\"public recycling bin\",\"public recycling bin\",\"public recycling bin\",\"public recycling bin\",\"public recycling bin\",\"public recycling bin\",\"public recycling bin\",\"public recycling bin\",\"public recycling bin\",\"public recycling bin\",\"public recycling bin\",\"public recycling bin\",\"public recycling bin\",\"public recycling bin\",\"public recycling bin\",\"public recycling bin\",\"public recycling bin\",\"public recycling bin\",\"public recycling bin\",\"public recycling bin\",\"public recycling bin\",\"public recycling bin\",\"public recycling bin\",\"public recycling bin\",\"public recycling bin\",\"public recycling bin\",\"public recycling bin\",\"public recycling bin\",\"public recycling bin\",\"public recycling bin\",\"public recycling bin\",\"public recycling bin\",\"public recycling bin\",\"public recycling bin\",\"public recycling bin\",\"public recycling bin\",\"public recycling bin\",\"public recycling bin\",\"public recycling bin\",\"public recycling bin\",\"public recycling bin\",\"public recycling bin\",\"public recycling bin\",\"public recycling bin\",\"public recycling bin\",\"public recycling bin\",\"public recycling bin\",\"public recycling bin\",\"public recycling bin\",\"public recycling bin\",\"public recycling bin\",\"public recycling bin\",\"public recycling bin\",\"public recycling bin\",\"public recycling bin\",\"public recycling bin\",\"public recycling bin\",\"public recycling bin\",\"public recycling bin\",\"public recycling bin\",\"public recycling bin\",\"public recycling bin\",\"public recycling bin\",\"public recycling bin\",\"public recycling bin\",\"public recycling bin\",\"public recycling bin\",\"public recycling bin\",\"public recycling bin\",\"public recycling bin\",\"public recycling bin\",\"public recycling bin\",\"public recycling bin\",\"public recycling bin\",\"public recycling bin\",\"public recycling bin\",\"public recycling bin\",\"public recycling bin\",\"public recycling bin\",\"public recycling bin\",\"public recycling bin\",\"public recycling bin\",\"public recycling bin\",\"public recycling bin\",\"public recycling bin\",\"public recycling bin\",\"public recycling bin\",\"public recycling bin\",\"public recycling bin\",\"public recycling bin\",\"public recycling bin\",\"public recycling bin\",\"public recycling bin\",\"public recycling bin\",\"public recycling bin\",\"public recycling bin\",\"public recycling bin\",\"public recycling bin\",\"public recycling bin\",\"public recycling bin\",\"public recycling bin\",\"public recycling bin\",\"public recycling bin\",\"public recycling bin\",\"public recycling bin\",\"public recycling bin\",\"public recycling bin\",\"public recycling bin\",\"public recycling bin\",\"public recycling bin\",\"public recycling bin\",\"public recycling bin\",\"public recycling bin\",\"public recycling bin\",\"public recycling bin\",\"public recycling bin\",\"public recycling bin\",\"public recycling bin\",\"public recycling bin\",\"public recycling bin\",\"public recycling bin\",\"public recycling bin\",\"public recycling bin\",\"public recycling bin\",\"public recycling bin\",\"public recycling bin\",\"public recycling bin\",\"public recycling bin\",\"public recycling bin\",\"public recycling bin\",\"public recycling bin\",\"public recycling bin\",\"public recycling bin\",\"public recycling bin\",\"public recycling bin\",\"public recycling bin\",\"public recycling bin\",\"public recycling bin\",\"public recycling bin\",\"public recycling bin\",\"public recycling bin\",\"public recycling bin\",\"public recycling bin\",\"public recycling bin\",\"public recycling bin\",\"public recycling bin\",\"public recycling bin\",\"public recycling bin\",\"public recycling bin\",\"public recycling bin\",\"public recycling bin\",\"public recycling bin\",\"public recycling bin\",\"public recycling bin\",\"public recycling bin\",\"public recycling bin\",\"public recycling bin\",\"public recycling bin\",\"public recycling bin\",\"public recycling bin\",\"public recycling bin\",\"public recycling bin\",\"public recycling bin\",\"public recycling bin\",\"public recycling bin\",\"public recycling bin\",\"public recycling bin\",\"public recycling bin\",\"public recycling bin\",\"public recycling bin\",\"public recycling bin\",\"public recycling bin\",\"public recycling bin\",\"public recycling bin\",\"public recycling bin\",\"public recycling bin\",\"public recycling bin\",\"public recycling bin\",\"public recycling bin\",\"public recycling bin\",\"public recycling bin\",\"public recycling bin\",\"public recycling bin\",\"public recycling bin\",\"public recycling bin\",\"public recycling bin\",\"public recycling bin\",\"public recycling bin\",\"public recycling bin\",\"public recycling bin\",\"public recycling bin\",\"public recycling bin\",\"public recycling bin\",\"public recycling bin\"],\"lat\":[40.89084899,40.84889079,40.85557,40.871864,40.851889,40.861526,40.860755,40.859644,40.862602,40.826939,40.826627,40.854322,40.854445,40.850017,40.84976,40.819933,40.871706,40.911295,40.911236,40.825217,40.840115,40.835226,40.84133,40.840876,40.838351,40.841123,40.83377,40.841444,40.875553,40.833109,40.85042,40.849292,40.822893,40.813663,40.82201,40.862402,40.861948,40.861379,40.861267,40.869996,40.847026,40.816171,40.814213,40.817471,40.81484,40.858005,40.829632,40.827502,40.877667,40.835694,40.82297053,40.8229924,40.834258,40.831466,40.84155572,40.822711,40.889428,40.836706,40.90208,40.884079,40.866292,40.867984,40.868802,40.869068,40.872275,40.840504,40.840626,40.82366,40.838797,40.851723,40.849069,40.850274,40.841884,40.842795,40.903281,40.861953,40.873199,40.883881,40.885219,40.888353,40.865657,40.906878,40.819113,40.819274,40.817335,40.816505,40.835694,40.886538,40.887313,40.866089,40.865469,40.864779,40.811712,40.811588,40.80531601,40.887317,40.888933,40.888224,40.890172,40.888255,40.889096,40.833505,40.82057088,40.860641,40.828933,40.844147,40.895803,40.677973,40.57519,40.575239,40.629573,40.596833,40.68463,40.696536,40.673811,40.656762,40.722315,40.697327,40.695873,40.680946,40.681307,40.679442,40.68829,40.694143,40.697793,40.685861,40.610033,40.65021,40.687093,40.682556,40.687072,40.687208,40.689818,40.613322,40.67073271,40.672659,40.66101,40.700784,40.674221,40.67269,40.673262,40.578225,40.603519,40.695719,40.577672,40.577211,40.604085,40.721612,40.721535,40.72173,40.721933,40.720622,40.721653,40.719973,40.721075,40.724446,40.715086,40.692165,40.67207,40.693222,40.693473,40.693127,40.693456,40.720628,40.6659,40.639285,40.577492,40.668797,40.676639,40.696389,40.660478,40.655183,40.664608,40.66132,40.693761,40.677265,40.604374,40.617506,40.697746,40.701079,40.667491,40.673754,40.713316,40.650143,40.705616,40.706315,40.648468,40.709648,40.666548,40.665324,40.676766,40.688204,40.674329,40.695221,40.684658,40.70238,40.702631,40.702573,40.68293,40.683557,40.712187,40.715827,40.715923,40.71045,40.716396,40.718605,40.807945,40.716941,40.713608,40.714023,40.714399,40.716827,40.750901,40.71368,40.716458,40.716158,40.723831,40.715387,40.785787,40.785717,40.710412,40.736271,40.704592,40.711576,40.705075,40.711565,40.716092,40.739982,40.852856,40.736401,40.712939,40.71248,40.754391,40.753954,40.77453,40.804559,40.712796,40.749849,40.748355,40.749349,40.749318,40.711834,40.712806,40.712897,40.712517,40.710746,40.819645,40.71475,40.732377,40.804284,40.721757,40.71511,40.715356,40.807191,40.716205,40.760842,40.753938,40.730225,40.714357,40.715167,40.824847,40.751692,40.715109,40.719937,40.716618,40.717499,40.718372,40.718888,40.719832,40.721303,40.722911,40.723896,40.724113,40.725238,40.720057,40.812748,40.78613,40.806036,40.718742,40.74085,40.743298,40.739465,40.847983,40.746041,40.742795,40.714666,40.702411,40.70235,40.731457,40.728833,40.738145,40.748684,40.748507,40.751987,40.762839,40.770381,40.727097,40.701307,40.706124,40.87126,40.872594,40.867338,40.87303,40.84637,40.84696,40.824297,40.738952,40.859226,40.820071,40.769445,40.802588,40.771372,40.773715,40.828677,40.758977,40.799707,40.80413,40.801921,40.803133,40.805621,40.835708,40.780558,40.781265,40.781936,40.782175,40.782666,40.808183,40.711826,40.814478,40.867205,40.805463,40.720478,40.720176,40.719714,40.72917,40.73038,40.728828,40.732971,40.74341,40.763247,40.796609,40.707656,40.756564,40.787059,40.829744,40.721035,40.714603,40.724254,40.724319,40.72227,40.76512,40.817272,40.744858,40.73277,40.793412,40.715059,40.714045,40.714224,40.715355,40.755914,40.72603,40.726599,40.725698,40.729474,40.719979,40.735243,40.735219,40.735292,40.737023,40.736535,40.736122,40.73534,40.77878,40.72534,40.704695,40.704919,40.715575,40.717298,40.729689,40.806938,40.731315,40.788757,40.702335,40.755803,40.728344,40.673137,40.751418,40.76269,40.740063,40.739523,40.739295,40.738986,40.739758,40.776788,40.715851,40.683453,40.681366,40.675268,40.682418,40.758381,40.690594,40.66346,40.657674,40.661051,40.770753,40.667505,40.712529,40.779897,40.77208,40.595548,40.736722,40.73523,40.730966,40.73836,40.730117,40.729499,40.701915,40.730193,40.740388,40.728112,40.735169,40.749151,40.737039,40.7333,40.746639,40.744249,40.751882,40.698413,40.69664,40.701272,40.69747,40.702293,40.701854,40.69799,40.794781,40.792085,40.792357,40.692406,40.704591,40.753635,40.710069,40.71031,40.733135,40.733143,40.733068,40.732938,40.732701,40.733203,40.720689,40.720412,40.719988,40.719841,40.742502,40.742364,40.744148,40.749228,40.747887,40.732226,40.757266,40.721815,40.722012,40.72248,40.751632,40.750333,40.694407,40.740883,40.736171,40.747127,40.745794,40.744152,40.743599,40.765644,40.582137,40.5814,40.580754,40.585826,40.5844,40.58415,40.583412,40.582825,40.582479,40.585105,40.670613,40.691011,40.685918,40.688249,40.768029,40.602281,40.665379,40.665627,40.758219,40.758155,40.749844,40.749547,40.749687,40.754243,40.741628,40.701651,40.751914,40.574036,40.587445,40.586439,40.533819,40.535174,40.53514,40.531521,40.557382,40.560272,40.620135,40.618744,40.613891,40.637872,40.614615,40.640999,40.62005569,40.588496,40.584516,40.593686,40.564469,40.637596,40.585877,40.643368,40.57669,40.575019,40.628859,40.627186,40.628358,40.579313,40.642303,40.642709,40.642324,40.505646,40.642843,40.643799,40.643449,40.643343,40.637121,40.603832,40.603828,40.517368,40.518652],\"legendgroup\":\"#334756\",\"lon\":[-73.86422392,-73.87712839,-73.887565,-73.805549,-73.868549,-73.880659,-73.880423,-73.880472,-73.880171,-73.922314,-73.922447,-73.869764,-73.869863,-73.880035,-73.880055,-73.887069,-73.872741,-73.907652,-73.90791,-73.88546,-73.895513,-73.895652,-73.892702,-73.898206,-73.893566,-73.898056,-73.877453,-73.888487,-73.860526,-73.828285,-73.915529,-73.902175,-73.91266,-73.905898,-73.914009,-73.897174,-73.893726,-73.881414,-73.89014,-73.876238,-73.882534,-73.917594,-73.885886,-73.882622,-73.90691,-73.90485,-73.921933,-73.923062,-73.90062,-73.925664,-73.91288322,-73.93189254,-73.923392,-73.923947,-73.87752267,-73.890242,-73.864356,-73.872355,-73.868519,-73.866996,-73.794774,-73.793396,-73.792261,-73.792558,-73.797323,-73.842668,-73.843231,-73.850766,-73.845791,-73.824697,-73.822954,-73.88992,-73.876389,-73.877694,-73.903612,-73.890736,-73.87052,-73.881691,-73.840474,-73.840908,-73.850613,-73.904143,-73.878003,-73.870418,-73.870322,-73.872564,-73.888776,-73.898453,-73.916308,-73.896967,-73.898571,-73.899257,-73.914339,-73.914342,-73.91533212,-73.899006,-73.898324,-73.896655,-73.896375,-73.897777,-73.892278,-73.86232,-73.91403138,-73.871488,-73.869326,-73.918886,-73.87943,-73.928171,-73.971342,-73.971889,-74.022532,-73.9994,-73.990234,-73.990675,-73.943717,-73.90247,-73.961527,-73.990337,-73.990218,-73.995481,-73.995212,-73.876233,-73.996136,-73.989791,-73.978653,-73.972638,-73.96952,-73.958798,-73.976238,-73.961975,-73.976557,-73.974621,-73.9732,-74.030067,-73.87967557,-73.885742,-73.895627,-73.995146,-73.888573,-73.984796,-73.984332,-73.994834,-73.957375,-73.990256,-73.944616,-73.946587,-73.930703,-73.953668,-73.954114,-73.953298,-73.955283,-73.952488,-73.950305,-73.952215,-73.955512,-73.943326,-73.960546,-73.985247,-73.96598,-73.971887,-73.979168,-73.96879,-73.965908,-73.965524,-73.887172,-74.031909,-73.946325,-73.980144,-73.978903,-73.99734,-73.963187,-73.962214,-73.976666,-73.979593,-73.948972,-74.008353,-73.930741,-74.040033,-73.976199,-73.995307,-73.89384,-73.934855,-73.938974,-73.884372,-73.947172,-73.948025,-74.006771,-73.950166,-73.887691,-73.886769,-73.965902,-73.966559,-73.877867,-73.943264,-73.925222,-73.986553,-73.990641,-73.989752,-73.964596,-73.966797,-74.005701,-74.000488,-74.001448,-74.003755,-74.001359,-73.993763,-73.945623,-74.000816,-74.003619,-74.004472,-74.006131,-74.004185,-73.990843,-74.005513,-74.002467,-74.002555,-73.980677,-74.001773,-73.951092,-73.950922,-73.996979,-73.975508,-74.016957,-74.016051,-74.017115,-74.015853,-74.000134,-73.978053,-73.938098,-74.005572,-74.007262,-74.007642,-73.983402,-73.984092,-73.943837,-73.952985,-74.004816,-74.000856,-74.002007,-74.007351,-74.006981,-74.007124,-74.004808,-74.007269,-74.007573,-73.993819,-73.936417,-74.000096,-74.010735,-73.931744,-73.996052,-74.002359,-74.002985,-73.934751,-73.975494,-73.969307,-73.986947,-74.002246,-74.003085,-74.002599,-73.935623,-73.975975,-74.011382,-73.981432,-73.975256,-73.974858,-73.974674,-73.974598,-73.974488,-73.974323,-73.973828,-73.973184,-73.973016,-73.972364,-73.981636,-73.939317,-73.943294,-73.934206,-74.013092,-74.008056,-74.007034,-74.008162,-73.929251,-74.006109,-74.008033,-74.002176,-74.012879,-74.014393,-74.010973,-74.011899,-74.010417,-74.008825,-74.009283,-74.008443,-74.001011,-73.995824,-74.011512,-74.011998,-74.004217,-73.930765,-73.930199,-73.929011,-73.918427,-73.940825,-73.940028,-73.942288,-74.002882,-73.934552,-73.952107,-73.949898,-73.938468,-73.982072,-73.981957,-73.948059,-73.991396,-73.962203,-73.958298,-73.960854,-73.958336,-73.958455,-73.939122,-73.972924,-73.975927,-73.97542,-73.972256,-73.973215,-73.95205,-74.007142,-73.943498,-73.929121,-73.946284,-74.016223,-74.013949,-74.012943,-74.011317,-74.011005,-74.011903,-74.010875,-74.009,-74.000042,-73.931602,-74.015976,-73.965043,-73.982257,-73.936431,-73.991596,-73.990111,-73.982088,-73.997828,-73.997287,-73.958509,-73.948248,-73.973764,-73.97406,-73.937115,-74.002355,-74.003135,-74.003285,-74.002982,-73.986712,-73.983353,-73.982985,-73.980843,-74.005489,-74.010272,-73.991012,-73.991603,-73.991614,-73.990324,-73.989754,-73.98963,-73.990127,-73.981788,-74.002324,-74.006729,-74.007084,-74.011301,-74.011001,-73.99662,-73.945301,-74.000988,-73.977788,-74.014384,-73.92631,-73.815159,-73.85461,-73.833843,-73.753297,-73.734291,-73.734881,-73.735873,-73.737665,-73.73546,-73.92753,-73.836995,-73.79213,-73.787854,-73.786905,-73.785392,-73.831008,-73.803822,-73.741329,-73.748388,-73.746639,-73.77174,-73.807496,-73.799377,-73.922391,-73.769438,-73.762266,-73.770538,-73.772083,-73.772458,-73.764991,-73.7727,-73.772888,-73.783477,-73.885302,-73.841879,-73.835592,-73.843435,-73.840066,-73.837856,-73.841976,-73.844583,-73.844068,-73.837459,-73.857672,-73.860344,-73.841922,-73.856664,-73.854765,-73.853145,-73.853295,-73.779207,-73.774357,-73.777013,-73.794745,-73.881944,-73.947615,-73.911456,-73.911063,-73.871233,-73.871427,-73.870885,-73.870916,-73.871081,-73.871822,-73.877521,-73.876474,-73.884693,-73.882971,-73.810261,-73.808518,-73.809333,-73.803658,-73.809765,-73.86515,-73.770978,-73.845511,-73.84608,-73.847477,-73.843676,-73.8441,-73.822116,-73.849318,-73.814014,-73.852214,-73.846729,-73.844476,-73.850355,-73.941159,-73.820127,-73.823377,-73.824936,-73.807265,-73.811254,-73.812472,-73.815484,-73.817858,-73.819097,-73.809223,-73.846257,-73.774207,-73.769315,-73.773574,-73.936159,-73.751564,-73.824555,-73.826703,-73.900278,-73.919785,-73.91475,-73.91514,-73.91427,-73.889365,-73.777362,-73.78315,-73.83732,-74.116627,-74.100364,-74.100257,-74.210241,-74.210125,-74.208524,-74.207153,-74.10392,-74.10104,-74.118801,-74.118278,-74.113523,-74.118791,-74.07412,-74.135418,-74.16311549,-74.138918,-74.125035,-74.135646,-74.097531,-74.074802,-74.100975,-74.086066,-74.098663,-74.098706,-74.118013,-74.091985,-74.099058,-74.077688,-74.076549,-74.075724,-74.075489,-74.235477,-74.11032,-74.108845,-74.11046,-74.108641,-74.119287,-74.158697,-74.16125,-74.190913,-74.18731],\"marker\":{\"color\":\"#FFA15A\",\"opacity\":1},\"mode\":\"markers\",\"name\":\"#334756\",\"selected\":{\"marker\":{\"opacity\":1,\"size\":10}},\"showlegend\":true,\"subplot\":\"mapbox\",\"type\":\"scattermapbox\",\"unselected\":{\"marker\":{\"opacity\":0.6}}}],                        {\"clickmode\":\"event+select\",\"height\":600,\"legend\":{\"title\":{\"text\":\"color\"},\"tracegroupgap\":0},\"mapbox\":{\"accesstoken\":\"pk.eyJ1Ijoibmd1eWVuZHVjaHV5MjcxMTk3IiwiYSI6ImNrdGlrdXR6NTEydGQyb3FmMm40M3ZzY3IifQ.2Su0FgZih2OeDc7Z4xla8g\",\"bearing\":20,\"center\":{\"lat\":40.74,\"lon\":-73.9},\"domain\":{\"x\":[0.0,1.0],\"y\":[0.0,1.0]},\"pitch\":40,\"zoom\":10.5},\"margin\":{\"b\":0,\"l\":0,\"r\":0,\"t\":0},\"showlegend\":false,\"template\":{\"data\":{\"bar\":[{\"error_x\":{\"color\":\"#f2f5fa\"},\"error_y\":{\"color\":\"#f2f5fa\"},\"marker\":{\"line\":{\"color\":\"rgb(17,17,17)\",\"width\":0.5},\"pattern\":{\"fillmode\":\"overlay\",\"size\":10,\"solidity\":0.2}},\"type\":\"bar\"}],\"barpolar\":[{\"marker\":{\"line\":{\"color\":\"rgb(17,17,17)\",\"width\":0.5},\"pattern\":{\"fillmode\":\"overlay\",\"size\":10,\"solidity\":0.2}},\"type\":\"barpolar\"}],\"carpet\":[{\"aaxis\":{\"endlinecolor\":\"#A2B1C6\",\"gridcolor\":\"#506784\",\"linecolor\":\"#506784\",\"minorgridcolor\":\"#506784\",\"startlinecolor\":\"#A2B1C6\"},\"baxis\":{\"endlinecolor\":\"#A2B1C6\",\"gridcolor\":\"#506784\",\"linecolor\":\"#506784\",\"minorgridcolor\":\"#506784\",\"startlinecolor\":\"#A2B1C6\"},\"type\":\"carpet\"}],\"choropleth\":[{\"colorbar\":{\"outlinewidth\":0,\"ticks\":\"\"},\"type\":\"choropleth\"}],\"contour\":[{\"colorbar\":{\"outlinewidth\":0,\"ticks\":\"\"},\"colorscale\":[[0.0,\"#0d0887\"],[0.1111111111111111,\"#46039f\"],[0.2222222222222222,\"#7201a8\"],[0.3333333333333333,\"#9c179e\"],[0.4444444444444444,\"#bd3786\"],[0.5555555555555556,\"#d8576b\"],[0.6666666666666666,\"#ed7953\"],[0.7777777777777778,\"#fb9f3a\"],[0.8888888888888888,\"#fdca26\"],[1.0,\"#f0f921\"]],\"type\":\"contour\"}],\"contourcarpet\":[{\"colorbar\":{\"outlinewidth\":0,\"ticks\":\"\"},\"type\":\"contourcarpet\"}],\"heatmap\":[{\"colorbar\":{\"outlinewidth\":0,\"ticks\":\"\"},\"colorscale\":[[0.0,\"#0d0887\"],[0.1111111111111111,\"#46039f\"],[0.2222222222222222,\"#7201a8\"],[0.3333333333333333,\"#9c179e\"],[0.4444444444444444,\"#bd3786\"],[0.5555555555555556,\"#d8576b\"],[0.6666666666666666,\"#ed7953\"],[0.7777777777777778,\"#fb9f3a\"],[0.8888888888888888,\"#fdca26\"],[1.0,\"#f0f921\"]],\"type\":\"heatmap\"}],\"heatmapgl\":[{\"colorbar\":{\"outlinewidth\":0,\"ticks\":\"\"},\"colorscale\":[[0.0,\"#0d0887\"],[0.1111111111111111,\"#46039f\"],[0.2222222222222222,\"#7201a8\"],[0.3333333333333333,\"#9c179e\"],[0.4444444444444444,\"#bd3786\"],[0.5555555555555556,\"#d8576b\"],[0.6666666666666666,\"#ed7953\"],[0.7777777777777778,\"#fb9f3a\"],[0.8888888888888888,\"#fdca26\"],[1.0,\"#f0f921\"]],\"type\":\"heatmapgl\"}],\"histogram\":[{\"marker\":{\"pattern\":{\"fillmode\":\"overlay\",\"size\":10,\"solidity\":0.2}},\"type\":\"histogram\"}],\"histogram2d\":[{\"colorbar\":{\"outlinewidth\":0,\"ticks\":\"\"},\"colorscale\":[[0.0,\"#0d0887\"],[0.1111111111111111,\"#46039f\"],[0.2222222222222222,\"#7201a8\"],[0.3333333333333333,\"#9c179e\"],[0.4444444444444444,\"#bd3786\"],[0.5555555555555556,\"#d8576b\"],[0.6666666666666666,\"#ed7953\"],[0.7777777777777778,\"#fb9f3a\"],[0.8888888888888888,\"#fdca26\"],[1.0,\"#f0f921\"]],\"type\":\"histogram2d\"}],\"histogram2dcontour\":[{\"colorbar\":{\"outlinewidth\":0,\"ticks\":\"\"},\"colorscale\":[[0.0,\"#0d0887\"],[0.1111111111111111,\"#46039f\"],[0.2222222222222222,\"#7201a8\"],[0.3333333333333333,\"#9c179e\"],[0.4444444444444444,\"#bd3786\"],[0.5555555555555556,\"#d8576b\"],[0.6666666666666666,\"#ed7953\"],[0.7777777777777778,\"#fb9f3a\"],[0.8888888888888888,\"#fdca26\"],[1.0,\"#f0f921\"]],\"type\":\"histogram2dcontour\"}],\"mesh3d\":[{\"colorbar\":{\"outlinewidth\":0,\"ticks\":\"\"},\"type\":\"mesh3d\"}],\"parcoords\":[{\"line\":{\"colorbar\":{\"outlinewidth\":0,\"ticks\":\"\"}},\"type\":\"parcoords\"}],\"pie\":[{\"automargin\":true,\"type\":\"pie\"}],\"scatter\":[{\"marker\":{\"line\":{\"color\":\"#283442\"}},\"type\":\"scatter\"}],\"scatter3d\":[{\"line\":{\"colorbar\":{\"outlinewidth\":0,\"ticks\":\"\"}},\"marker\":{\"colorbar\":{\"outlinewidth\":0,\"ticks\":\"\"}},\"type\":\"scatter3d\"}],\"scattercarpet\":[{\"marker\":{\"colorbar\":{\"outlinewidth\":0,\"ticks\":\"\"}},\"type\":\"scattercarpet\"}],\"scattergeo\":[{\"marker\":{\"colorbar\":{\"outlinewidth\":0,\"ticks\":\"\"}},\"type\":\"scattergeo\"}],\"scattergl\":[{\"marker\":{\"line\":{\"color\":\"#283442\"}},\"type\":\"scattergl\"}],\"scattermapbox\":[{\"marker\":{\"colorbar\":{\"outlinewidth\":0,\"ticks\":\"\"}},\"type\":\"scattermapbox\"}],\"scatterpolar\":[{\"marker\":{\"colorbar\":{\"outlinewidth\":0,\"ticks\":\"\"}},\"type\":\"scatterpolar\"}],\"scatterpolargl\":[{\"marker\":{\"colorbar\":{\"outlinewidth\":0,\"ticks\":\"\"}},\"type\":\"scatterpolargl\"}],\"scatterternary\":[{\"marker\":{\"colorbar\":{\"outlinewidth\":0,\"ticks\":\"\"}},\"type\":\"scatterternary\"}],\"surface\":[{\"colorbar\":{\"outlinewidth\":0,\"ticks\":\"\"},\"colorscale\":[[0.0,\"#0d0887\"],[0.1111111111111111,\"#46039f\"],[0.2222222222222222,\"#7201a8\"],[0.3333333333333333,\"#9c179e\"],[0.4444444444444444,\"#bd3786\"],[0.5555555555555556,\"#d8576b\"],[0.6666666666666666,\"#ed7953\"],[0.7777777777777778,\"#fb9f3a\"],[0.8888888888888888,\"#fdca26\"],[1.0,\"#f0f921\"]],\"type\":\"surface\"}],\"table\":[{\"cells\":{\"fill\":{\"color\":\"#506784\"},\"line\":{\"color\":\"rgb(17,17,17)\"}},\"header\":{\"fill\":{\"color\":\"#2a3f5f\"},\"line\":{\"color\":\"rgb(17,17,17)\"}},\"type\":\"table\"}]},\"layout\":{\"annotationdefaults\":{\"arrowcolor\":\"#f2f5fa\",\"arrowhead\":0,\"arrowwidth\":1},\"autotypenumbers\":\"strict\",\"coloraxis\":{\"colorbar\":{\"outlinewidth\":0,\"ticks\":\"\"}},\"colorscale\":{\"diverging\":[[0,\"#8e0152\"],[0.1,\"#c51b7d\"],[0.2,\"#de77ae\"],[0.3,\"#f1b6da\"],[0.4,\"#fde0ef\"],[0.5,\"#f7f7f7\"],[0.6,\"#e6f5d0\"],[0.7,\"#b8e186\"],[0.8,\"#7fbc41\"],[0.9,\"#4d9221\"],[1,\"#276419\"]],\"sequential\":[[0.0,\"#0d0887\"],[0.1111111111111111,\"#46039f\"],[0.2222222222222222,\"#7201a8\"],[0.3333333333333333,\"#9c179e\"],[0.4444444444444444,\"#bd3786\"],[0.5555555555555556,\"#d8576b\"],[0.6666666666666666,\"#ed7953\"],[0.7777777777777778,\"#fb9f3a\"],[0.8888888888888888,\"#fdca26\"],[1.0,\"#f0f921\"]],\"sequentialminus\":[[0.0,\"#0d0887\"],[0.1111111111111111,\"#46039f\"],[0.2222222222222222,\"#7201a8\"],[0.3333333333333333,\"#9c179e\"],[0.4444444444444444,\"#bd3786\"],[0.5555555555555556,\"#d8576b\"],[0.6666666666666666,\"#ed7953\"],[0.7777777777777778,\"#fb9f3a\"],[0.8888888888888888,\"#fdca26\"],[1.0,\"#f0f921\"]]},\"colorway\":[\"#636efa\",\"#EF553B\",\"#00cc96\",\"#ab63fa\",\"#FFA15A\",\"#19d3f3\",\"#FF6692\",\"#B6E880\",\"#FF97FF\",\"#FECB52\"],\"font\":{\"color\":\"#f2f5fa\"},\"geo\":{\"bgcolor\":\"rgb(17,17,17)\",\"lakecolor\":\"rgb(17,17,17)\",\"landcolor\":\"rgb(17,17,17)\",\"showlakes\":true,\"showland\":true,\"subunitcolor\":\"#506784\"},\"hoverlabel\":{\"align\":\"left\"},\"hovermode\":\"closest\",\"mapbox\":{\"style\":\"dark\"},\"paper_bgcolor\":\"rgb(17,17,17)\",\"plot_bgcolor\":\"rgb(17,17,17)\",\"polar\":{\"angularaxis\":{\"gridcolor\":\"#506784\",\"linecolor\":\"#506784\",\"ticks\":\"\"},\"bgcolor\":\"rgb(17,17,17)\",\"radialaxis\":{\"gridcolor\":\"#506784\",\"linecolor\":\"#506784\",\"ticks\":\"\"}},\"scene\":{\"xaxis\":{\"backgroundcolor\":\"rgb(17,17,17)\",\"gridcolor\":\"#506784\",\"gridwidth\":2,\"linecolor\":\"#506784\",\"showbackground\":true,\"ticks\":\"\",\"zerolinecolor\":\"#C8D4E3\"},\"yaxis\":{\"backgroundcolor\":\"rgb(17,17,17)\",\"gridcolor\":\"#506784\",\"gridwidth\":2,\"linecolor\":\"#506784\",\"showbackground\":true,\"ticks\":\"\",\"zerolinecolor\":\"#C8D4E3\"},\"zaxis\":{\"backgroundcolor\":\"rgb(17,17,17)\",\"gridcolor\":\"#506784\",\"gridwidth\":2,\"linecolor\":\"#506784\",\"showbackground\":true,\"ticks\":\"\",\"zerolinecolor\":\"#C8D4E3\"}},\"shapedefaults\":{\"line\":{\"color\":\"#f2f5fa\"}},\"sliderdefaults\":{\"bgcolor\":\"#C8D4E3\",\"bordercolor\":\"rgb(17,17,17)\",\"borderwidth\":1,\"tickwidth\":0},\"ternary\":{\"aaxis\":{\"gridcolor\":\"#506784\",\"linecolor\":\"#506784\",\"ticks\":\"\"},\"baxis\":{\"gridcolor\":\"#506784\",\"linecolor\":\"#506784\",\"ticks\":\"\"},\"bgcolor\":\"rgb(17,17,17)\",\"caxis\":{\"gridcolor\":\"#506784\",\"linecolor\":\"#506784\",\"ticks\":\"\"}},\"title\":{\"x\":0.05},\"updatemenudefaults\":{\"bgcolor\":\"#506784\",\"borderwidth\":0},\"xaxis\":{\"automargin\":true,\"gridcolor\":\"#283442\",\"linecolor\":\"#506784\",\"ticks\":\"\",\"title\":{\"standoff\":15},\"zerolinecolor\":\"#283442\",\"zerolinewidth\":2},\"yaxis\":{\"automargin\":true,\"gridcolor\":\"#283442\",\"linecolor\":\"#506784\",\"ticks\":\"\",\"title\":{\"standoff\":15},\"zerolinecolor\":\"#283442\",\"zerolinewidth\":2}}}},                        {\"responsive\": true}                    ).then(function(){\n",
       "                            \n",
       "var gd = document.getElementById('ecf185bd-201e-44cf-98d0-c73412cacd8b');\n",
       "var x = new MutationObserver(function (mutations, observer) {{\n",
       "        var display = window.getComputedStyle(gd).display;\n",
       "        if (!display || display === 'none') {{\n",
       "            console.log([gd, 'removed!']);\n",
       "            Plotly.purge(gd);\n",
       "            observer.disconnect();\n",
       "        }}\n",
       "}});\n",
       "\n",
       "// Listen for the removal of the full notebook cells\n",
       "var notebookContainer = gd.closest('#notebook-container');\n",
       "if (notebookContainer) {{\n",
       "    x.observe(notebookContainer, {childList: true});\n",
       "}}\n",
       "\n",
       "// Listen for the clearing of the current output cell\n",
       "var outputEl = gd.closest('.output');\n",
       "if (outputEl) {{\n",
       "    x.observe(outputEl, {childList: true});\n",
       "}}\n",
       "\n",
       "                        })                };                });            </script>        </div>"
      ]
     },
     "metadata": {},
     "output_type": "display_data"
    }
   ],
   "source": [
    "fig = px.scatter_mapbox(data_frame=df, \n",
    "                  lat= \"latitude\", \n",
    "                  lon= \"longitude\", \n",
    "                  color= \"color\", \n",
    "                  hover_name= \"type\", \n",
    "                  hover_data= [\"boro\"], \n",
    "                  opacity=1, \n",
    "                  zoom=10.5, \n",
    "                  center= dict(lat= 40.74,lon= -73.9), \n",
    "                  mapbox_style=None, \n",
    "                  template=\"plotly_dark\", height=600)\n",
    "\n",
    "fig.update_traces(selected_marker= dict(opacity= 1, size= 10), unselected_marker= dict(opacity= 0.6))\n",
    "\n",
    "fig.update_layout(margin= dict(t=0, l=0, b=0, r=0), \n",
    "                  showlegend= False, \n",
    "                  mapbox=dict(bearing=20,pitch=40), clickmode= \"event+select\")\n",
    "\n",
    "fig.show()"
   ]
  },
  {
   "cell_type": "code",
   "execution_count": 100,
   "id": "40664297",
   "metadata": {},
   "outputs": [
    {
     "name": "stdout",
     "output_type": "stream",
     "text": [
      "Dash is running on http://127.0.0.1:8050/\n",
      "\n",
      "Dash is running on http://127.0.0.1:8050/\n",
      "\n",
      " * Serving Flask app '__main__' (lazy loading)\n",
      " * Environment: production\n",
      "\u001b[31m   WARNING: This is a development server. Do not use it in a production deployment.\u001b[0m\n",
      "\u001b[2m   Use a production WSGI server instead.\u001b[0m\n",
      " * Debug mode: off\n"
     ]
    },
    {
     "name": "stderr",
     "output_type": "stream",
     "text": [
      " * Running on http://127.0.0.1:8050/ (Press CTRL+C to quit)\n",
      "127.0.0.1 - - [14/Sep/2021 20:09:57] \"GET / HTTP/1.1\" 200 -\n",
      "127.0.0.1 - - [14/Sep/2021 20:09:57] \"GET /_dash-component-suites/dash_bootstrap_components/_components/dash_bootstrap_components.v0_13_0m1630990074.min.js HTTP/1.1\" 200 -\n",
      "127.0.0.1 - - [14/Sep/2021 20:09:57] \"GET /_dash-layout HTTP/1.1\" 200 -\n",
      "127.0.0.1 - - [14/Sep/2021 20:09:57] \"GET /_dash-dependencies HTTP/1.1\" 200 -\n",
      "127.0.0.1 - - [14/Sep/2021 20:09:57] \"GET /_favicon.ico?v=1.19.0 HTTP/1.1\" 200 -\n"
     ]
    }
   ],
   "source": [
    "app = dash.Dash(\n",
    "    external_stylesheets=[dbc.themes.BOOTSTRAP]\n",
    ")\n",
    "\n",
    "row = dbc.Row([\n",
    "    dbc.Col([\n",
    "        html.Div(),\n",
    "        html.Div(),\n",
    "        html.Div()\n",
    "    ]),\n",
    "    dbc.Col(dcc.Graph(figure=fig))\n",
    "])\n",
    "\n",
    "\n",
    "app.layout = dbc.Alert(\n",
    "    \"Hello, Bootstrap!\"\n",
    ")\n",
    "\n",
    "if __name__ == \"__main__\":\n",
    "    app.run_server()"
   ]
  },
  {
   "cell_type": "code",
   "execution_count": 99,
   "id": "23599023",
   "metadata": {},
   "outputs": [
    {
     "data": {
      "text/plain": [
       "'https://stackpath.bootstrapcdn.com/bootstrap/4.5.2/css/bootstrap.min.css'"
      ]
     },
     "execution_count": 99,
     "metadata": {},
     "output_type": "execute_result"
    }
   ],
   "source": [
    "dbc.themes.BOOTSTRAP"
   ]
  },
  {
   "cell_type": "code",
   "execution_count": null,
   "id": "b373c06a",
   "metadata": {},
   "outputs": [],
   "source": []
  }
 ],
 "metadata": {
  "kernelspec": {
   "display_name": "Python 3 (ipykernel)",
   "language": "python",
   "name": "python3"
  },
  "language_info": {
   "codemirror_mode": {
    "name": "ipython",
    "version": 3
   },
   "file_extension": ".py",
   "mimetype": "text/x-python",
   "name": "python",
   "nbconvert_exporter": "python",
   "pygments_lexer": "ipython3",
   "version": "3.8.6"
  },
  "varInspector": {
   "cols": {
    "lenName": 16,
    "lenType": 16,
    "lenVar": 40
   },
   "kernels_config": {
    "python": {
     "delete_cmd_postfix": "",
     "delete_cmd_prefix": "del ",
     "library": "var_list.py",
     "varRefreshCmd": "print(var_dic_list())"
    },
    "r": {
     "delete_cmd_postfix": ") ",
     "delete_cmd_prefix": "rm(",
     "library": "var_list.r",
     "varRefreshCmd": "cat(var_dic_list()) "
    }
   },
   "types_to_exclude": [
    "module",
    "function",
    "builtin_function_or_method",
    "instance",
    "_Feature"
   ],
   "window_display": false
  }
 },
 "nbformat": 4,
 "nbformat_minor": 5
}
