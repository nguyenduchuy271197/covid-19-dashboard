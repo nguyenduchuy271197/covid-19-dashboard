{
 "cells": [
  {
   "cell_type": "code",
   "execution_count": 1,
   "id": "0a7b3324",
   "metadata": {},
   "outputs": [],
   "source": [
    "import pandas as pd\n",
    "import plotly.express as px"
   ]
  },
  {
   "cell_type": "code",
   "execution_count": 2,
   "id": "4022cfea",
   "metadata": {
    "scrolled": false
   },
   "outputs": [
    {
     "data": {
      "text/html": [
       "<div>\n",
       "<style scoped>\n",
       "    .dataframe tbody tr th:only-of-type {\n",
       "        vertical-align: middle;\n",
       "    }\n",
       "\n",
       "    .dataframe tbody tr th {\n",
       "        vertical-align: top;\n",
       "    }\n",
       "\n",
       "    .dataframe thead th {\n",
       "        text-align: right;\n",
       "    }\n",
       "</style>\n",
       "<table border=\"1\" class=\"dataframe\">\n",
       "  <thead>\n",
       "    <tr style=\"text-align: right;\">\n",
       "      <th></th>\n",
       "      <th>Date and Time of initial call</th>\n",
       "      <th>Date and time of Ranger response</th>\n",
       "      <th>Borough</th>\n",
       "      <th>Property</th>\n",
       "      <th>Location</th>\n",
       "      <th>Species Description</th>\n",
       "      <th>Call Source</th>\n",
       "      <th>Species Status</th>\n",
       "      <th>Animal Condition</th>\n",
       "      <th>Duration of Response</th>\n",
       "      <th>...</th>\n",
       "      <th>311SR Number</th>\n",
       "      <th>Final Ranger Action</th>\n",
       "      <th># of Animals</th>\n",
       "      <th>PEP Response</th>\n",
       "      <th>Animal Monitored</th>\n",
       "      <th>Rehabilitator</th>\n",
       "      <th>Hours spent monitoring</th>\n",
       "      <th>Police Response</th>\n",
       "      <th>ESU Response</th>\n",
       "      <th>ACC Intake Number</th>\n",
       "    </tr>\n",
       "  </thead>\n",
       "  <tbody>\n",
       "    <tr>\n",
       "      <th>0</th>\n",
       "      <td>11/9/2018 9:00</td>\n",
       "      <td>11/9/2018 10:15</td>\n",
       "      <td>Brooklyn</td>\n",
       "      <td>Bushwick Inlet</td>\n",
       "      <td>Bushwick Inlet Park</td>\n",
       "      <td>Chinese Silky Chicken</td>\n",
       "      <td>Employee</td>\n",
       "      <td>Exotic</td>\n",
       "      <td>Healthy</td>\n",
       "      <td>1.25</td>\n",
       "      <td>...</td>\n",
       "      <td>1-1-1642034010</td>\n",
       "      <td>Animal Care Center</td>\n",
       "      <td>1.0</td>\n",
       "      <td>False</td>\n",
       "      <td>False</td>\n",
       "      <td>NaN</td>\n",
       "      <td>NaN</td>\n",
       "      <td>False</td>\n",
       "      <td>False</td>\n",
       "      <td>46854</td>\n",
       "    </tr>\n",
       "    <tr>\n",
       "      <th>1</th>\n",
       "      <td>11/30/2018 11:00</td>\n",
       "      <td>11/30/2018 13:45</td>\n",
       "      <td>Manhattan</td>\n",
       "      <td>Inwood Hill Park</td>\n",
       "      <td>M &amp; O HQ District 12</td>\n",
       "      <td>Chicken</td>\n",
       "      <td>Employee</td>\n",
       "      <td>Domestic</td>\n",
       "      <td>Healthy</td>\n",
       "      <td>1.00</td>\n",
       "      <td>...</td>\n",
       "      <td>1-1-1647471950</td>\n",
       "      <td>Animal Care Center</td>\n",
       "      <td>1.0</td>\n",
       "      <td>False</td>\n",
       "      <td>False</td>\n",
       "      <td>NaN</td>\n",
       "      <td>NaN</td>\n",
       "      <td>False</td>\n",
       "      <td>False</td>\n",
       "      <td>48438</td>\n",
       "    </tr>\n",
       "    <tr>\n",
       "      <th>2</th>\n",
       "      <td>11/10/2018 15:00</td>\n",
       "      <td>11/10/2018 15:10</td>\n",
       "      <td>Manhattan</td>\n",
       "      <td>Inwood Hill Park</td>\n",
       "      <td>Dykman Ball Fields</td>\n",
       "      <td>Chicken</td>\n",
       "      <td>Employee</td>\n",
       "      <td>Domestic</td>\n",
       "      <td>Healthy</td>\n",
       "      <td>1.50</td>\n",
       "      <td>...</td>\n",
       "      <td>1-1-1642034151</td>\n",
       "      <td>Animal Care Center</td>\n",
       "      <td>1.0</td>\n",
       "      <td>False</td>\n",
       "      <td>False</td>\n",
       "      <td>NaN</td>\n",
       "      <td>NaN</td>\n",
       "      <td>False</td>\n",
       "      <td>False</td>\n",
       "      <td>46961</td>\n",
       "    </tr>\n",
       "    <tr>\n",
       "      <th>3</th>\n",
       "      <td>9/4/2018 14:30</td>\n",
       "      <td>9/4/2018 15:50</td>\n",
       "      <td>Staten Island</td>\n",
       "      <td>Ocean Breeze Track &amp; Field Athletic Complex</td>\n",
       "      <td>Father Capodanno and Seaview</td>\n",
       "      <td>Rock Dove</td>\n",
       "      <td>Employee</td>\n",
       "      <td>Native</td>\n",
       "      <td>Healthy</td>\n",
       "      <td>2.50</td>\n",
       "      <td>...</td>\n",
       "      <td>1-1-1613258011</td>\n",
       "      <td>Animal Care Center</td>\n",
       "      <td>1.0</td>\n",
       "      <td>True</td>\n",
       "      <td>False</td>\n",
       "      <td>NaN</td>\n",
       "      <td>NaN</td>\n",
       "      <td>False</td>\n",
       "      <td>False</td>\n",
       "      <td>40608</td>\n",
       "    </tr>\n",
       "    <tr>\n",
       "      <th>4</th>\n",
       "      <td>6/9/2019 9:30</td>\n",
       "      <td>6/9/2019 10:00</td>\n",
       "      <td>Brooklyn</td>\n",
       "      <td>Parade Ground</td>\n",
       "      <td>Prospect Park Parade Grounds near Tennis Center</td>\n",
       "      <td>Chicken</td>\n",
       "      <td>Central</td>\n",
       "      <td>Domestic</td>\n",
       "      <td>Healthy</td>\n",
       "      <td>3.00</td>\n",
       "      <td>...</td>\n",
       "      <td>1-1-1730643971</td>\n",
       "      <td>Animal Care Center</td>\n",
       "      <td>1.0</td>\n",
       "      <td>False</td>\n",
       "      <td>False</td>\n",
       "      <td>NaN</td>\n",
       "      <td>NaN</td>\n",
       "      <td>False</td>\n",
       "      <td>False</td>\n",
       "      <td>65352</td>\n",
       "    </tr>\n",
       "  </tbody>\n",
       "</table>\n",
       "<p>5 rows × 22 columns</p>\n",
       "</div>"
      ],
      "text/plain": [
       "  Date and Time of initial call Date and time of Ranger response  \\\n",
       "0                11/9/2018 9:00                  11/9/2018 10:15   \n",
       "1              11/30/2018 11:00                 11/30/2018 13:45   \n",
       "2              11/10/2018 15:00                 11/10/2018 15:10   \n",
       "3                9/4/2018 14:30                   9/4/2018 15:50   \n",
       "4                 6/9/2019 9:30                   6/9/2019 10:00   \n",
       "\n",
       "         Borough                                     Property  \\\n",
       "0       Brooklyn                               Bushwick Inlet   \n",
       "1      Manhattan                             Inwood Hill Park   \n",
       "2      Manhattan                             Inwood Hill Park   \n",
       "3  Staten Island  Ocean Breeze Track & Field Athletic Complex   \n",
       "4       Brooklyn                                Parade Ground   \n",
       "\n",
       "                                          Location    Species Description  \\\n",
       "0                              Bushwick Inlet Park  Chinese Silky Chicken   \n",
       "1                             M & O HQ District 12                Chicken   \n",
       "2                               Dykman Ball Fields                Chicken   \n",
       "3                     Father Capodanno and Seaview              Rock Dove   \n",
       "4  Prospect Park Parade Grounds near Tennis Center                Chicken   \n",
       "\n",
       "  Call Source Species Status Animal Condition  Duration of Response  ...  \\\n",
       "0    Employee         Exotic          Healthy                  1.25  ...   \n",
       "1    Employee       Domestic          Healthy                  1.00  ...   \n",
       "2    Employee       Domestic          Healthy                  1.50  ...   \n",
       "3    Employee         Native          Healthy                  2.50  ...   \n",
       "4     Central       Domestic          Healthy                  3.00  ...   \n",
       "\n",
       "     311SR Number Final Ranger Action # of Animals PEP Response  \\\n",
       "0  1-1-1642034010  Animal Care Center          1.0        False   \n",
       "1  1-1-1647471950  Animal Care Center          1.0        False   \n",
       "2  1-1-1642034151  Animal Care Center          1.0        False   \n",
       "3  1-1-1613258011  Animal Care Center          1.0         True   \n",
       "4  1-1-1730643971  Animal Care Center          1.0        False   \n",
       "\n",
       "   Animal Monitored Rehabilitator  Hours spent monitoring Police Response  \\\n",
       "0             False           NaN                     NaN           False   \n",
       "1             False           NaN                     NaN           False   \n",
       "2             False           NaN                     NaN           False   \n",
       "3             False           NaN                     NaN           False   \n",
       "4             False           NaN                     NaN           False   \n",
       "\n",
       "   ESU Response ACC Intake Number  \n",
       "0         False             46854  \n",
       "1         False             48438  \n",
       "2         False             46961  \n",
       "3         False             40608  \n",
       "4         False             65352  \n",
       "\n",
       "[5 rows x 22 columns]"
      ]
     },
     "execution_count": 2,
     "metadata": {},
     "output_type": "execute_result"
    }
   ],
   "source": [
    "df = pd.read_csv(\"../data/Urban_Park_Ranger_Animal_Condition_Response.csv\")\n",
    "df.head()"
   ]
  },
  {
   "cell_type": "code",
   "execution_count": 3,
   "id": "f3bcefe6",
   "metadata": {},
   "outputs": [
    {
     "data": {
      "text/plain": [
       "(982, 22)"
      ]
     },
     "execution_count": 3,
     "metadata": {},
     "output_type": "execute_result"
    }
   ],
   "source": [
    "df.shape"
   ]
  },
  {
   "cell_type": "code",
   "execution_count": 4,
   "id": "a9738197",
   "metadata": {},
   "outputs": [],
   "source": [
    "# Drop rows w/ no animals found or calls w/ varied age groups\n",
    "df = df[(df['# of Animals']>0) & (df['Age']!='Multiple')]\n",
    "\n",
    "# Extract month from time call made to Ranger\n",
    "df['Month of Initial Call'] = pd.to_datetime(df['Date and Time of initial call'])\n",
    "df['Month of Initial Call'] = df['Month of Initial Call'].dt.strftime('%m')\n",
    "\n",
    "# Copy columns to new columns with clearer names\n",
    "df['Amount of Animals'] = df['# of Animals']\n",
    "df['Time Spent on Site (hours)'] = df['Duration of Response']"
   ]
  },
  {
   "cell_type": "code",
   "execution_count": 5,
   "id": "21ad48c7",
   "metadata": {},
   "outputs": [
    {
     "data": {
      "text/plain": [
       "array(['Healthy', 'Injured', 'No data', 'Unhealthy', 'Dead on arrival'],\n",
       "      dtype=object)"
      ]
     },
     "execution_count": 5,
     "metadata": {},
     "output_type": "execute_result"
    }
   ],
   "source": [
    "df[\"Animal Condition\"].unique()"
   ]
  },
  {
   "cell_type": "code",
   "execution_count": null,
   "id": "52281a39",
   "metadata": {},
   "outputs": [],
   "source": [
    "# X-axis\n",
    "df[\"Month of Initial Call\"]\n",
    "df[\"Animal Condition\"]\n",
    "\n",
    "# Y-axis\n",
    "df[\"Amount of Animals\"]\n",
    "df['Time Spent on Site (hours)']"
   ]
  },
  {
   "cell_type": "code",
   "execution_count": null,
   "id": "46b611a7",
   "metadata": {},
   "outputs": [],
   "source": []
  }
 ],
 "metadata": {
  "kernelspec": {
   "display_name": "Python 3 (ipykernel)",
   "language": "python",
   "name": "python3"
  },
  "language_info": {
   "codemirror_mode": {
    "name": "ipython",
    "version": 3
   },
   "file_extension": ".py",
   "mimetype": "text/x-python",
   "name": "python",
   "nbconvert_exporter": "python",
   "pygments_lexer": "ipython3",
   "version": "3.8.6"
  },
  "varInspector": {
   "cols": {
    "lenName": 16,
    "lenType": 16,
    "lenVar": 40
   },
   "kernels_config": {
    "python": {
     "delete_cmd_postfix": "",
     "delete_cmd_prefix": "del ",
     "library": "var_list.py",
     "varRefreshCmd": "print(var_dic_list())"
    },
    "r": {
     "delete_cmd_postfix": ") ",
     "delete_cmd_prefix": "rm(",
     "library": "var_list.r",
     "varRefreshCmd": "cat(var_dic_list()) "
    }
   },
   "types_to_exclude": [
    "module",
    "function",
    "builtin_function_or_method",
    "instance",
    "_Feature"
   ],
   "window_display": false
  }
 },
 "nbformat": 4,
 "nbformat_minor": 5
}
